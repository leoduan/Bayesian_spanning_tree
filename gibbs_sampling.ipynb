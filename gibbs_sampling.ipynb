{
 "cells": [
  {
   "cell_type": "code",
   "execution_count": 1,
   "metadata": {
    "colab": {},
    "colab_type": "code",
    "id": "9_Z5moYIXkn5"
   },
   "outputs": [],
   "source": [
    "import numpy as np\n",
    "import matplotlib.pyplot as plt\n",
    "%matplotlib inline\n",
    "\n",
    "# from pylab import rcParams\n",
    "# rcParams['figure.figsize'] = 10, 8\n",
    "# rcParams['figure.dpi'] = 300\n",
    "\n",
    "\n",
    "from sklearn import cluster, datasets, mixture\n",
    "from sklearn.preprocessing import StandardScaler"
   ]
  },
  {
   "cell_type": "code",
   "execution_count": null,
   "metadata": {},
   "outputs": [],
   "source": []
  },
  {
   "cell_type": "code",
   "execution_count": 2,
   "metadata": {},
   "outputs": [],
   "source": [
    "import numba\n",
    "from numba import jit"
   ]
  },
  {
   "cell_type": "code",
   "execution_count": null,
   "metadata": {},
   "outputs": [],
   "source": []
  },
  {
   "cell_type": "code",
   "execution_count": null,
   "metadata": {},
   "outputs": [],
   "source": []
  },
  {
   "cell_type": "code",
   "execution_count": 4,
   "metadata": {},
   "outputs": [],
   "source": [
    "import sklearn\n",
    "Y = sklearn.datasets.make_moons(n_samples=200, shuffle=True, noise=None, random_state=None)[0]\n",
    "Y = Y[np.argsort(Y[:,0]),]\n",
    "Y += np.random.normal(0,0.1, Y.shape)"
   ]
  },
  {
   "cell_type": "code",
   "execution_count": null,
   "metadata": {},
   "outputs": [],
   "source": []
  },
  {
   "cell_type": "code",
   "execution_count": null,
   "metadata": {},
   "outputs": [],
   "source": []
  },
  {
   "cell_type": "code",
   "execution_count": 4,
   "metadata": {},
   "outputs": [],
   "source": [
    "p = Y.shape[0]\n",
    "n = Y.shape[1]"
   ]
  },
  {
   "cell_type": "code",
   "execution_count": 5,
   "metadata": {},
   "outputs": [
    {
     "data": {
      "text/plain": [
       "<matplotlib.collections.PathCollection at 0x7f8fc5107410>"
      ]
     },
     "execution_count": 5,
     "metadata": {},
     "output_type": "execute_result"
    },
    {
     "data": {
      "image/png": "[encoded data removed]",
      "text/plain": [
       "<Figure size 432x288 with 1 Axes>"
      ]
     },
     "metadata": {
      "needs_background": "light"
     },
     "output_type": "display_data"
    }
   ],
   "source": [
    "plt.scatter(Y[:,0],Y[:,1])"
   ]
  },
  {
   "cell_type": "code",
   "execution_count": 6,
   "metadata": {},
   "outputs": [],
   "source": [
    "D = np.zeros([p,p])"
   ]
  },
  {
   "cell_type": "code",
   "execution_count": null,
   "metadata": {},
   "outputs": [],
   "source": []
  },
  {
   "cell_type": "code",
   "execution_count": 7,
   "metadata": {},
   "outputs": [],
   "source": [
    "for i in range(p):\n",
    "    for j in range(i):\n",
    "        D[i,j] = np.sqrt(np.sum((Y[i]-Y[j])**2))\n",
    "        D[j,i] = D[i,j]"
   ]
  },
  {
   "cell_type": "code",
   "execution_count": null,
   "metadata": {},
   "outputs": [],
   "source": []
  },
  {
   "cell_type": "code",
   "execution_count": 8,
   "metadata": {},
   "outputs": [],
   "source": [
    "@jit(nopython=True)\n",
    "def find_min_idx(x):\n",
    "    k = x.argmin()\n",
    "    ncol = x.shape[1]\n",
    "    return int(k/ncol), k%ncol"
   ]
  },
  {
   "cell_type": "code",
   "execution_count": 9,
   "metadata": {},
   "outputs": [],
   "source": [
    "# @jit(nopython=True)\n",
    "def FindMST(A):\n",
    "    \n",
    "\n",
    "    p = A.shape[0]\n",
    "    MST = np.zeros((p,p))\n",
    "\n",
    "    Xl = list()\n",
    "    Vl = list(range(p))\n",
    "    Xl.append(0)\n",
    "    Vl.remove(0)\n",
    "\n",
    "    i = 0\n",
    "    while len(Vl)>0:\n",
    "        idx0, idx1 = find_min_idx(A[Xl][:,Vl])\n",
    "\n",
    "        MST[Xl[idx0],Vl[idx1]]=1\n",
    "\n",
    "        Xl.append(Vl[idx1])\n",
    "        Vl.remove(Vl[idx1])\n",
    "\n",
    "        i+=1\n",
    "    \n",
    "    return MST + MST.T"
   ]
  },
  {
   "cell_type": "code",
   "execution_count": 10,
   "metadata": {},
   "outputs": [],
   "source": [
    "MST = FindMST(D)\n",
    "mst0 = MST.copy()"
   ]
  },
  {
   "cell_type": "code",
   "execution_count": 11,
   "metadata": {},
   "outputs": [],
   "source": [
    "def getB(A):\n",
    "    p = A.shape[0]\n",
    "\n",
    "    B = np.zeros([p,p-1])\n",
    "\n",
    "    idx = 0\n",
    "    for i in range(p):\n",
    "        for j in range(i):\n",
    "            if A[i,j]==1:\n",
    "                B[i,idx]=1\n",
    "                B[j,idx]=-1\n",
    "                idx+=1\n",
    "    return B"
   ]
  },
  {
   "cell_type": "code",
   "execution_count": 12,
   "metadata": {},
   "outputs": [],
   "source": [
    "@jit(nopython=True)\n",
    "def getA(B):\n",
    "    A = - B@B.T\n",
    "    np.fill_diagonal(A,0)\n",
    "    return A"
   ]
  },
  {
   "cell_type": "code",
   "execution_count": 13,
   "metadata": {},
   "outputs": [],
   "source": [
    "A = MST\n",
    "B = getB(A)"
   ]
  },
  {
   "cell_type": "code",
   "execution_count": 14,
   "metadata": {},
   "outputs": [],
   "source": [
    "B2Inv = np.linalg.inv(B.T@B)"
   ]
  },
  {
   "cell_type": "code",
   "execution_count": 15,
   "metadata": {},
   "outputs": [
    {
     "data": {
      "text/plain": [
       "array([[ 1.980e+00, -9.900e-01, -1.930e+00, ...,  4.000e-02, -1.000e-02,\n",
       "         1.000e-02],\n",
       "       [-9.900e-01,  9.950e-01,  9.650e-01, ..., -2.000e-02,  5.000e-03,\n",
       "        -5.000e-03],\n",
       "       [-1.930e+00,  9.650e-01,  6.755e+00, ..., -1.400e-01,  3.500e-02,\n",
       "        -3.500e-02],\n",
       "       ...,\n",
       "       [ 4.000e-02, -2.000e-02, -1.400e-01, ...,  3.920e+00, -9.800e-01,\n",
       "        -2.000e-02],\n",
       "       [-1.000e-02,  5.000e-03,  3.500e-02, ..., -9.800e-01,  9.950e-01,\n",
       "         5.000e-03],\n",
       "       [ 1.000e-02, -5.000e-03, -3.500e-02, ..., -2.000e-02,  5.000e-03,\n",
       "         9.950e-01]])"
      ]
     },
     "execution_count": 15,
     "metadata": {},
     "output_type": "execute_result"
    }
   ],
   "source": [
    "B2Inv"
   ]
  },
  {
   "cell_type": "code",
   "execution_count": 16,
   "metadata": {},
   "outputs": [],
   "source": [
    "full_edge_idx = np.arange(p-1)\n",
    "full_node_idx = np.arange(p)"
   ]
  },
  {
   "cell_type": "code",
   "execution_count": null,
   "metadata": {},
   "outputs": [],
   "source": []
  },
  {
   "cell_type": "code",
   "execution_count": 17,
   "metadata": {},
   "outputs": [],
   "source": [
    "@jit(nopython=True)\n",
    "def getSubInverse(B2Inv, k):\n",
    "        \n",
    "    sel = full_edge_idx==k\n",
    "    sel_not = full_edge_idx!=k\n",
    "    \n",
    "    M11 = B2Inv[sel_not,][:,sel_not]\n",
    "    M12 = B2Inv[sel_not,][:,sel]\n",
    "    M22 = B2Inv[sel,][:,sel]\n",
    "\n",
    "    return M11 - M12@M12.T/M22[0,0]    "
   ]
  },
  {
   "cell_type": "code",
   "execution_count": 18,
   "metadata": {},
   "outputs": [],
   "source": [
    "# np.sum((getSubInverse(B2Inv,10) - getSubInverse2(B2Inv,10)  )**2)"
   ]
  },
  {
   "cell_type": "code",
   "execution_count": null,
   "metadata": {},
   "outputs": [],
   "source": []
  },
  {
   "cell_type": "code",
   "execution_count": 19,
   "metadata": {},
   "outputs": [],
   "source": [
    "s1 = 0.01\n",
    "s0 = 1"
   ]
  },
  {
   "cell_type": "code",
   "execution_count": 20,
   "metadata": {},
   "outputs": [],
   "source": [
    "kappa =100"
   ]
  },
  {
   "cell_type": "code",
   "execution_count": 21,
   "metadata": {},
   "outputs": [],
   "source": [
    "sigma = np.ones(p) * s0\n",
    "\n",
    "slab_indicator = np.random.uniform(0,1,p)<0.1\n",
    "\n",
    "sigma[slab_indicator]= s1\n",
    "\n",
    "w = 1-1/p"
   ]
  },
  {
   "cell_type": "code",
   "execution_count": 22,
   "metadata": {},
   "outputs": [],
   "source": [
    "EdgeD = -np.diag(B.T@D@B)/2"
   ]
  },
  {
   "cell_type": "code",
   "execution_count": 23,
   "metadata": {},
   "outputs": [],
   "source": [
    "@jit(nopython=True)\n",
    "def updateSlab(EdgeD,s0,s1, w):\n",
    "\n",
    "    D2A= EdgeD**2\n",
    "    \n",
    "    slab_indicator = np.zeros(p-1)\n",
    "    sigma = np.zeros(p-1)\n",
    "\n",
    "    for i in range(p):\n",
    "        choice1 = -(D2A[i]/2/s1) - n/2.0 * np.log(s1) + np.log(w)\n",
    "        choice0 = -(D2A[i]/2/s0) - n/2.0 * np.log(s0) + np.log(1-w)\n",
    "\n",
    "        slab_indicator[i] = np.argmax(np.array([choice1,choice0])+np.random.gumbel(0,1,2))==1\n",
    "        if(slab_indicator[i]):\n",
    "            sigma[i]=s0\n",
    "        else:\n",
    "            sigma[i]=s1\n",
    "\n",
    "    return slab_indicator, sigma"
   ]
  },
  {
   "cell_type": "code",
   "execution_count": 24,
   "metadata": {},
   "outputs": [],
   "source": [
    "@jit(nopython=True)\n",
    "def updateS1S0(EdgeD,slab_indicator,kappa):\n",
    "\n",
    "\n",
    "    a_ig_s1 = (p-1)*n/2 + 2\n",
    "    b_ig_s1 = np.sum((EdgeD**2)/((1-slab_indicator)+ slab_indicator*kappa))/2.0+ 1\n",
    "\n",
    "    s1 = 1/np.random.gamma(a_ig_s1, scale= 1.0/b_ig_s1)\n",
    "    \n",
    "    kappa = 0.5\n",
    "    \n",
    "    while(kappa<1):\n",
    "\n",
    "        lam =100\n",
    "        a_ig_kappa = np.sum(slab_indicator)*n/2 +2\n",
    "        b_ig_kappa = np.sum(slab_indicator * EdgeD**2)/2/s1 + lam\n",
    "\n",
    "        kappa = 1/np.random.gamma(a_ig_kappa,scale=1/b_ig_kappa)\n",
    "    \n",
    "    s0 = kappa*s1\n",
    "    return [s1,s0]"
   ]
  },
  {
   "cell_type": "code",
   "execution_count": null,
   "metadata": {},
   "outputs": [],
   "source": []
  },
  {
   "cell_type": "code",
   "execution_count": 25,
   "metadata": {},
   "outputs": [
    {
     "data": {
      "text/plain": [
       "array([[0.        , 0.01942695, 0.01608083, ..., 3.06379096, 2.96580942,\n",
       "        3.11766687],\n",
       "       [0.01942695, 0.        , 0.03550724, ..., 3.04565164, 2.94799782,\n",
       "        3.09998399],\n",
       "       [0.01608083, 0.03550724, 0.        , ..., 3.07887981, 2.98063763,\n",
       "        3.13239155],\n",
       "       ...,\n",
       "       [3.06379096, 3.04565164, 3.07887981, ..., 0.        , 0.16580386,\n",
       "        0.1951118 ],\n",
       "       [2.96580942, 2.94799782, 2.98063763, ..., 0.16580386, 0.        ,\n",
       "        0.15975038],\n",
       "       [3.11766687, 3.09998399, 3.13239155, ..., 0.1951118 , 0.15975038,\n",
       "        0.        ]])"
      ]
     },
     "execution_count": 25,
     "metadata": {},
     "output_type": "execute_result"
    }
   ],
   "source": [
    "D"
   ]
  },
  {
   "cell_type": "code",
   "execution_count": 26,
   "metadata": {},
   "outputs": [],
   "source": [
    "# @jit(nopython=True)\n",
    "# def compLogP(D, sigma):\n",
    "#     logP =-(D**2/sigma).T/sigma\n",
    "#     logP = (logP - np.log(sigma)).T- np.log(sigma)\n",
    "#     return logP"
   ]
  },
  {
   "cell_type": "code",
   "execution_count": null,
   "metadata": {},
   "outputs": [],
   "source": []
  },
  {
   "cell_type": "code",
   "execution_count": 27,
   "metadata": {},
   "outputs": [],
   "source": [
    "@jit(nopython=True)\n",
    "\n",
    "def findRowColIdx(idx,m1,m2):\n",
    "    r = int(idx / m2)\n",
    "    return (r,     idx - r*m2)"
   ]
  },
  {
   "cell_type": "code",
   "execution_count": null,
   "metadata": {},
   "outputs": [],
   "source": []
  },
  {
   "cell_type": "code",
   "execution_count": null,
   "metadata": {},
   "outputs": [],
   "source": []
  },
  {
   "cell_type": "code",
   "execution_count": 28,
   "metadata": {},
   "outputs": [],
   "source": [
    "@jit(nopython=True)\n",
    "\n",
    "def updateB(B, sigma, B2Inv):\n",
    "\n",
    "    full_edge_idx = np.arange(p-1)\n",
    "    full_node_idx = np.arange(p)\n",
    "\n",
    "    D2= D**2\n",
    "    \n",
    "    for k in range(p-1):\n",
    "\n",
    "\n",
    "        # quick way to compute P_s and update B2inv\n",
    "\n",
    "        sel = full_edge_idx==k\n",
    "        sel_not = full_edge_idx!=k\n",
    "        B_not_s = B[:, sel_not]\n",
    "\n",
    "        B_not_s2_inv =  getSubInverse(B2Inv,k)\n",
    "        \n",
    "        \n",
    "#         B_not_s2_inv_B_not_s = B_not_s2_inv@B_not_s.T    # complexity O(p^3)\n",
    "#         P_s = np.eye(p) - B_not_s @ B_not_s2_inv_B_not_s # complexity O(p^3)\n",
    "#         beta_k = P_s@(B[:,sel])\n",
    "        \n",
    "        beta_k =  B[:,sel] -  B_not_s@(B_not_s2_inv@ (B_not_s.T@B[:,sel])) #complexity O(p^2)\n",
    "\n",
    "#         beta_k = NulSpaceB(B,k)\n",
    "#         beta_k = np.round(beta_k.flatten(),2)\n",
    "\n",
    "        beta_k = beta_k.flatten()\n",
    "        mid_point =  (np.max(beta_k)+np.min(beta_k))/2\n",
    "    \n",
    "        subgraph0 = beta_k> mid_point\n",
    "        subgraph1 = beta_k<= mid_point\n",
    "        \n",
    "#         beta_k = np.floor(beta_k.flatten()* 1E10)\n",
    "\n",
    "#         unique_values = np.unique(beta_k) #list(set(beta_k))\n",
    "\n",
    "#         if len(unique_values)!=2:\n",
    "#             print(unique_values)\n",
    "#             print(\"error\")\n",
    "\n",
    "#         subgraph0 = beta_k==unique_values[0]\n",
    "#         subgraph1 = beta_k==unique_values[1]\n",
    "\n",
    "        subgraph0_node_idx = full_node_idx[subgraph0]\n",
    "        subgraph1_node_idx = full_node_idx[subgraph1]\n",
    "\n",
    "        logp_choices =  -D2[subgraph0_node_idx,:][:,subgraph1_node_idx]/sigma[k]/2.0\n",
    "\n",
    "        m1,m2 = logp_choices.shape\n",
    "        logp_gumbel = logp_choices + np.random.gumbel(0,1, logp_choices.shape)\n",
    "        idx = np.argmax(logp_gumbel)\n",
    "\n",
    "        r_idx, c_idx = findRowColIdx(idx,m1,m2)\n",
    "        \n",
    "        \n",
    "        B_k_vec = (B[:,k]).copy()\n",
    "        \n",
    "\n",
    "        new_idx0= subgraph0_node_idx[r_idx]\n",
    "        new_idx1= subgraph1_node_idx[c_idx]\n",
    "\n",
    "        B[:,k] = 0\n",
    "        B[new_idx0,k]=1\n",
    "        B[new_idx1,k]= - 1\n",
    "        \n",
    "        if np.sum(np.abs(B[:,k]- B_k_vec))>0:\n",
    "        \n",
    "\n",
    "            # update B2Inv\n",
    "            B_s_star = B[:,sel]\n",
    "#             M22_star = 1/(B_s_star.T@P_s@B_s_star) # complexity: O(p^3)\n",
    "            b = B_not_s.T@B_s_star # complexity: O(p^2)\n",
    "            B_invB_b = B_not_s2_inv@b # complexity: O(p^2)\n",
    "            M22_star = 1./(2.0 -  b.T@(B_invB_b))\n",
    "    \n",
    "\n",
    "\n",
    "#             M12_star= - B_not_s2_inv_B_not_s@B_s_star * M22_star\n",
    "            M12_star= - B_invB_b * M22_star\n",
    "\n",
    "\n",
    "\n",
    "            M11_star = B_not_s2_inv+M12_star@M12_star.T/M22_star\n",
    "\n",
    "            temp = B2Inv[sel_not]\n",
    "            temp[:,sel_not] = M11_star\n",
    "            temp[:,sel] = M12_star\n",
    "            B2Inv[sel_not] = temp\n",
    "\n",
    "\n",
    "            temp = B2Inv[sel]\n",
    "            temp[:,sel_not] = M12_star.T\n",
    "            temp[:,sel]=M22_star\n",
    "            B2Inv[sel]= temp\n",
    "\n",
    "    return [B,B2Inv]"
   ]
  },
  {
   "cell_type": "code",
   "execution_count": 29,
   "metadata": {},
   "outputs": [],
   "source": [
    "import copy"
   ]
  },
  {
   "cell_type": "code",
   "execution_count": 30,
   "metadata": {},
   "outputs": [],
   "source": [
    "A_trace = list()"
   ]
  },
  {
   "cell_type": "code",
   "execution_count": 31,
   "metadata": {},
   "outputs": [],
   "source": [
    "# logP =  compLogP(D,sigma)\n",
    "\n",
    "slab_indicator, sigma = updateSlab(EdgeD,s0,s1,w)\n",
    "\n",
    "# B, B2Inv = updateB(B, logP, B2Inv)"
   ]
  },
  {
   "cell_type": "code",
   "execution_count": 32,
   "metadata": {},
   "outputs": [],
   "source": [
    "import time\n",
    "\n"
   ]
  },
  {
   "cell_type": "code",
   "execution_count": 33,
   "metadata": {},
   "outputs": [
    {
     "data": {
      "text/plain": [
       "0.0"
      ]
     },
     "execution_count": 33,
     "metadata": {},
     "output_type": "execute_result"
    }
   ],
   "source": [
    "np.sum(slab_indicator)"
   ]
  },
  {
   "cell_type": "code",
   "execution_count": 34,
   "metadata": {},
   "outputs": [],
   "source": [
    "EdgeD = -np.diag(B.T@D@B)/2"
   ]
  },
  {
   "cell_type": "code",
   "execution_count": 36,
   "metadata": {},
   "outputs": [
    {
     "name": "stdout",
     "output_type": "stream",
     "text": [
      "99\n",
      "199\n",
      "299\n",
      "399\n",
      "499\n",
      "599\n",
      "699\n",
      "799\n",
      "899\n",
      "999\n",
      "Elapsed (with compilation) = 99.57546496391296\n"
     ]
    }
   ],
   "source": [
    "\n",
    "start = time.time()\n",
    "\n",
    "\n",
    "for k in range(1000):\n",
    "    \n",
    "    \n",
    "    slab_indicator, sigma = updateSlab(EdgeD,s0,s1,w)\n",
    "    \n",
    "    B, B2Inv = updateB(B, sigma, B2Inv)\n",
    "    EdgeD = -np.diag(B.T@D@B)/2\n",
    "    A = getA(B)\n",
    "    \n",
    "    s1,s0 = updateS1S0(EdgeD,slab_indicator,s1/s0)\n",
    "\n",
    "    A_trace.append(A.copy())\n",
    "    \n",
    "    if (k+1) % 100==0:\n",
    "        print(k)\n",
    "        \n",
    "end = time.time()\n",
    "print(\"Elapsed (with compilation) = %s\" % (end - start))\n",
    "\n",
    "    \n",
    "#     print(np.abs(A-mst0).sum())"
   ]
  },
  {
   "cell_type": "code",
   "execution_count": 38,
   "metadata": {},
   "outputs": [
    {
     "data": {
      "text/plain": [
       "0.022379345787326747"
      ]
     },
     "execution_count": 38,
     "metadata": {},
     "output_type": "execute_result"
    }
   ],
   "source": [
    "s1/s0"
   ]
  },
  {
   "cell_type": "code",
   "execution_count": 39,
   "metadata": {},
   "outputs": [],
   "source": [
    "mst_trace_arr = np.array(A_trace)"
   ]
  },
  {
   "cell_type": "code",
   "execution_count": null,
   "metadata": {},
   "outputs": [],
   "source": []
  },
  {
   "cell_type": "code",
   "execution_count": 40,
   "metadata": {},
   "outputs": [],
   "source": [
    "mean_mst = mst_trace_arr.mean(0)"
   ]
  },
  {
   "cell_type": "code",
   "execution_count": null,
   "metadata": {},
   "outputs": [],
   "source": [
    "# plt.plot(mst_trace_arr[:100,96,97])"
   ]
  },
  {
   "cell_type": "code",
   "execution_count": 41,
   "metadata": {},
   "outputs": [
    {
     "data": {
      "text/plain": [
       "<matplotlib.colorbar.Colorbar at 0x7f8faa755a90>"
      ]
     },
     "execution_count": 41,
     "metadata": {},
     "output_type": "execute_result"
    },
    {
     "data": {
      "image/png": "[encoded data removed]",
      "text/plain": [
       "<Figure size 432x288 with 2 Axes>"
      ]
     },
     "metadata": {
      "needs_background": "light"
     },
     "output_type": "display_data"
    }
   ],
   "source": [
    "plt.imshow(mean_mst, vmin=0,cmap='jet')\n",
    "plt.colorbar()"
   ]
  },
  {
   "cell_type": "code",
   "execution_count": 42,
   "metadata": {
    "scrolled": true
   },
   "outputs": [],
   "source": [
    "import igraph"
   ]
  },
  {
   "cell_type": "code",
   "execution_count": 43,
   "metadata": {},
   "outputs": [],
   "source": [
    "from pylab import rcParams\n",
    "rcParams['figure.figsize'] = 10, 8\n",
    "rcParams['figure.dpi'] = 300"
   ]
  },
  {
   "cell_type": "code",
   "execution_count": 44,
   "metadata": {},
   "outputs": [],
   "source": [
    "c_vec = ['lightblue']*50\n",
    "# c_vec[3] = 'red'\n",
    "# c_vec[2] = 'yellow'\n",
    "# c_vec[4] = 'purple'\n"
   ]
  },
  {
   "cell_type": "code",
   "execution_count": 45,
   "metadata": {},
   "outputs": [
    {
     "data": {
      "text/plain": [
       "array([0., 0., 0., 0., 0., 0., 0., 0., 0., 0., 0., 0., 0., 0., 0., 0., 0.,\n",
       "       0., 0., 0., 0., 0., 0., 0., 0., 0., 0., 0., 0., 0., 0., 0., 0., 0.,\n",
       "       0., 0., 0., 0., 0., 0., 0., 0., 0., 0., 0., 0., 0., 0., 0., 0., 0.,\n",
       "       0., 0., 0., 0., 0., 0., 0., 0., 0., 0., 0., 0., 0., 0., 0., 0., 0.,\n",
       "       0., 0., 0., 0., 0., 0., 0., 0., 0., 0., 0., 0., 0., 0., 0., 0., 0.,\n",
       "       0., 0., 0., 0., 0., 0., 0., 0., 0., 0., 0., 0., 0., 0., 0., 0., 0.,\n",
       "       0., 0., 0., 0., 0., 0., 0., 0., 0., 0., 0., 0., 0., 0., 0., 0., 0.,\n",
       "       0., 0., 0., 0., 0., 0., 0., 0., 0., 0., 0., 0., 0., 0., 0., 0., 0.,\n",
       "       0., 0., 0., 0., 0., 0., 0., 0., 0., 0., 0., 0., 0., 0., 0., 1., 0.,\n",
       "       0., 0., 0., 0., 0., 0., 0., 0., 0., 0., 0., 0., 0., 0., 0., 0., 0.,\n",
       "       0., 0., 0., 0., 0., 0., 0., 0., 0., 0., 0., 0., 0., 0., 0., 0., 0.,\n",
       "       0., 0., 0., 0., 0., 0., 0., 0., 0., 0., 0., 0.])"
      ]
     },
     "execution_count": 45,
     "metadata": {},
     "output_type": "execute_result"
    }
   ],
   "source": [
    "slab_indicator"
   ]
  },
  {
   "cell_type": "code",
   "execution_count": 46,
   "metadata": {},
   "outputs": [
    {
     "data": {
      "image/svg+xml": [
       "<?xml version=\"1.0\" encoding=\"UTF-8\"?>\n",
       "<svg xmlns=\"http://www.w3.org/2000/svg\" xmlns:xlink=\"http://www.w3.org/1999/xlink\" width=\"600pt\" height=\"600pt\" viewBox=\"0 0 600 600\" version=\"1.1\">\n",
       "<g id=\"surface2\">\n",
       "<rect x=\"0\" y=\"0\" width=\"600\" height=\"600\" style=\"fill:rgb(100%,100%,100%);fill-opacity:1;stroke:none;\"/>\n",
       "<path style=\"fill:none;stroke-width:1;stroke-linecap:butt;stroke-linejoin:miter;stroke:rgb(26.666667%,26.666667%,26.666667%);stroke-opacity:1;stroke-miterlimit:10;\" d=\"M 555.710938 216.152344 L 558.066406 213.738281 \"/>\n",
       "<path style=\"fill:none;stroke-width:1;stroke-linecap:butt;stroke-linejoin:miter;stroke:rgb(26.666667%,26.666667%,26.666667%);stroke-opacity:1;stroke-miterlimit:10;\" d=\"M 529.03125 281.125 L 537.597656 257.199219 \"/>\n",
       "<path style=\"fill:none;stroke-width:1;stroke-linecap:butt;stroke-linejoin:miter;stroke:rgb(26.666667%,26.666667%,26.666667%);stroke-opacity:1;stroke-miterlimit:10;\" d=\"M 580 270.441406 L 540.773438 275.792969 \"/>\n",
       "<path style=\"fill:none;stroke-width:1;stroke-linecap:butt;stroke-linejoin:miter;stroke:rgb(26.666667%,26.666667%,26.666667%);stroke-opacity:1;stroke-miterlimit:10;\" d=\"M 537.597656 257.199219 L 540.65625 247.292969 \"/>\n",
       "<path style=\"fill:none;stroke-width:1;stroke-linecap:butt;stroke-linejoin:miter;stroke:rgb(26.666667%,26.666667%,26.666667%);stroke-opacity:1;stroke-miterlimit:10;\" d=\"M 552.886719 219.121094 L 542.554688 263.457031 \"/>\n",
       "<path style=\"fill:none;stroke-width:1;stroke-linecap:butt;stroke-linejoin:miter;stroke:rgb(26.666667%,26.666667%,26.666667%);stroke-opacity:1;stroke-miterlimit:10;\" d=\"M 558.066406 213.738281 L 542.554688 263.457031 \"/>\n",
       "<path style=\"fill:none;stroke-width:1;stroke-linecap:butt;stroke-linejoin:miter;stroke:rgb(26.666667%,26.666667%,26.666667%);stroke-opacity:1;stroke-miterlimit:10;\" d=\"M 570.65625 305.769531 L 542.554688 263.457031 \"/>\n",
       "<path style=\"fill:none;stroke-width:1;stroke-linecap:butt;stroke-linejoin:miter;stroke:rgb(26.666667%,26.666667%,26.666667%);stroke-opacity:1;stroke-miterlimit:10;\" d=\"M 537.597656 257.199219 L 528.175781 313.9375 \"/>\n",
       "<path style=\"fill:none;stroke-width:1;stroke-linecap:butt;stroke-linejoin:miter;stroke:rgb(26.666667%,26.666667%,26.666667%);stroke-opacity:1;stroke-miterlimit:10;\" d=\"M 552.886719 219.121094 L 557.269531 305.984375 \"/>\n",
       "<path style=\"fill:none;stroke-width:1;stroke-linecap:butt;stroke-linejoin:miter;stroke:rgb(26.666667%,26.666667%,26.666667%);stroke-opacity:1;stroke-miterlimit:10;\" d=\"M 540.773438 275.792969 L 557.269531 305.984375 \"/>\n",
       "<path style=\"fill:none;stroke-width:1;stroke-linecap:butt;stroke-linejoin:miter;stroke:rgb(26.666667%,26.666667%,26.666667%);stroke-opacity:1;stroke-miterlimit:10;\" d=\"M 563.378906 333.042969 L 554.058594 329.945312 \"/>\n",
       "<path style=\"fill:none;stroke-width:1;stroke-linecap:butt;stroke-linejoin:miter;stroke:rgb(26.666667%,26.666667%,26.666667%);stroke-opacity:1;stroke-miterlimit:10;\" d=\"M 528.175781 313.9375 L 554.058594 329.945312 \"/>\n",
       "<path style=\"fill:none;stroke-width:1;stroke-linecap:butt;stroke-linejoin:miter;stroke:rgb(26.666667%,26.666667%,26.666667%);stroke-opacity:1;stroke-miterlimit:10;\" d=\"M 557.269531 305.984375 L 554.058594 329.945312 \"/>\n",
       "<path style=\"fill:none;stroke-width:1;stroke-linecap:butt;stroke-linejoin:miter;stroke:rgb(26.666667%,26.666667%,26.666667%);stroke-opacity:1;stroke-miterlimit:10;\" d=\"M 528.175781 313.9375 L 538.417969 378.261719 \"/>\n",
       "<path style=\"fill:none;stroke-width:1;stroke-linecap:butt;stroke-linejoin:miter;stroke:rgb(26.666667%,26.666667%,26.666667%);stroke-opacity:1;stroke-miterlimit:10;\" d=\"M 563.378906 333.042969 L 532.460938 325.285156 \"/>\n",
       "<path style=\"fill:none;stroke-width:1;stroke-linecap:butt;stroke-linejoin:miter;stroke:rgb(26.666667%,26.666667%,26.666667%);stroke-opacity:1;stroke-miterlimit:10;\" d=\"M 528.175781 313.9375 L 549.578125 369.320312 \"/>\n",
       "<path style=\"fill:none;stroke-width:1;stroke-linecap:butt;stroke-linejoin:miter;stroke:rgb(26.666667%,26.666667%,26.666667%);stroke-opacity:1;stroke-miterlimit:10;\" d=\"M 538.417969 378.261719 L 511.652344 383.335938 \"/>\n",
       "<path style=\"fill:none;stroke-width:1;stroke-linecap:butt;stroke-linejoin:miter;stroke:rgb(26.666667%,26.666667%,26.666667%);stroke-opacity:1;stroke-miterlimit:10;\" d=\"M 504.289062 381.5 L 511.652344 383.335938 \"/>\n",
       "<path style=\"fill:none;stroke-width:1;stroke-linecap:butt;stroke-linejoin:miter;stroke:rgb(26.666667%,26.666667%,26.666667%);stroke-opacity:1;stroke-miterlimit:10;\" d=\"M 504.289062 381.5 L 505.410156 413.757812 \"/>\n",
       "<path style=\"fill:none;stroke-width:1;stroke-linecap:butt;stroke-linejoin:miter;stroke:rgb(26.666667%,26.666667%,26.666667%);stroke-opacity:1;stroke-miterlimit:10;\" d=\"M 515.9375 347.429688 L 539.347656 386.898438 \"/>\n",
       "<path style=\"fill:none;stroke-width:1;stroke-linecap:butt;stroke-linejoin:miter;stroke:rgb(26.666667%,26.666667%,26.666667%);stroke-opacity:1;stroke-miterlimit:10;\" d=\"M 504.289062 381.5 L 531.945312 421.082031 \"/>\n",
       "<path style=\"fill:none;stroke-width:1;stroke-linecap:butt;stroke-linejoin:miter;stroke:rgb(26.666667%,26.666667%,26.666667%);stroke-opacity:1;stroke-miterlimit:10;\" d=\"M 515.9375 347.429688 L 515.800781 437.367188 \"/>\n",
       "<path style=\"fill:none;stroke-width:1;stroke-linecap:butt;stroke-linejoin:miter;stroke:rgb(26.666667%,26.666667%,26.666667%);stroke-opacity:1;stroke-miterlimit:10;\" d=\"M 511.652344 383.335938 L 515.800781 437.367188 \"/>\n",
       "<path style=\"fill:none;stroke-width:1;stroke-linecap:butt;stroke-linejoin:miter;stroke:rgb(26.666667%,26.666667%,26.666667%);stroke-opacity:1;stroke-miterlimit:10;\" d=\"M 505.410156 413.757812 L 495.527344 371.554688 \"/>\n",
       "<path style=\"fill:none;stroke-width:1;stroke-linecap:butt;stroke-linejoin:miter;stroke:rgb(26.666667%,26.666667%,26.666667%);stroke-opacity:1;stroke-miterlimit:10;\" d=\"M 511.652344 383.335938 L 496.773438 446.585938 \"/>\n",
       "<path style=\"fill:none;stroke-width:1;stroke-linecap:butt;stroke-linejoin:miter;stroke:rgb(26.666667%,26.666667%,26.666667%);stroke-opacity:1;stroke-miterlimit:10;\" d=\"M 496.929688 486.308594 L 494.5 488.203125 \"/>\n",
       "<path style=\"fill:none;stroke-width:1;stroke-linecap:butt;stroke-linejoin:miter;stroke:rgb(26.666667%,26.666667%,26.666667%);stroke-opacity:1;stroke-miterlimit:10;\" d=\"M 494.5 488.203125 L 470.722656 498.628906 \"/>\n",
       "<path style=\"fill:none;stroke-width:1;stroke-linecap:butt;stroke-linejoin:miter;stroke:rgb(26.666667%,26.666667%,26.666667%);stroke-opacity:1;stroke-miterlimit:10;\" d=\"M 495.527344 371.554688 L 475.640625 450.007812 \"/>\n",
       "<path style=\"fill:none;stroke-width:1;stroke-linecap:butt;stroke-linejoin:miter;stroke:rgb(26.666667%,26.666667%,26.666667%);stroke-opacity:1;stroke-miterlimit:10;\" d=\"M 496.929688 486.308594 L 475.640625 450.007812 \"/>\n",
       "<path style=\"fill:none;stroke-width:1;stroke-linecap:butt;stroke-linejoin:miter;stroke:rgb(26.666667%,26.666667%,26.666667%);stroke-opacity:1;stroke-miterlimit:10;\" d=\"M 496.773438 446.585938 L 480.695312 436.507812 \"/>\n",
       "<path style=\"fill:none;stroke-width:1;stroke-linecap:butt;stroke-linejoin:miter;stroke:rgb(26.666667%,26.666667%,26.666667%);stroke-opacity:1;stroke-miterlimit:10;\" d=\"M 481.191406 475.65625 L 480.695312 436.507812 \"/>\n",
       "<path style=\"fill:none;stroke-width:1;stroke-linecap:butt;stroke-linejoin:miter;stroke:rgb(26.666667%,26.666667%,26.666667%);stroke-opacity:1;stroke-miterlimit:10;\" d=\"M 515.800781 437.367188 L 500.972656 460.746094 \"/>\n",
       "<path style=\"fill:none;stroke-width:1;stroke-linecap:butt;stroke-linejoin:miter;stroke:rgb(26.666667%,26.666667%,26.666667%);stroke-opacity:1;stroke-miterlimit:10;\" d=\"M 453.78125 396.503906 L 459.230469 402.457031 \"/>\n",
       "<path style=\"fill:none;stroke-width:1;stroke-linecap:butt;stroke-linejoin:miter;stroke:rgb(26.666667%,26.666667%,26.666667%);stroke-opacity:1;stroke-miterlimit:10;\" d=\"M 500.972656 460.746094 L 459.230469 402.457031 \"/>\n",
       "<path style=\"fill:none;stroke-width:1;stroke-linecap:butt;stroke-linejoin:miter;stroke:rgb(26.666667%,26.666667%,26.666667%);stroke-opacity:1;stroke-miterlimit:10;\" d=\"M 480.695312 436.507812 L 435.601562 452.242188 \"/>\n",
       "<path style=\"fill:none;stroke-width:1;stroke-linecap:butt;stroke-linejoin:miter;stroke:rgb(26.666667%,26.666667%,26.666667%);stroke-opacity:1;stroke-miterlimit:10;\" d=\"M 459.230469 402.457031 L 461.667969 517.59375 \"/>\n",
       "<path style=\"fill:none;stroke-width:1;stroke-linecap:butt;stroke-linejoin:miter;stroke:rgb(26.666667%,26.666667%,26.666667%);stroke-opacity:1;stroke-miterlimit:10;\" d=\"M 461.667969 517.59375 L 431.121094 519.304688 \"/>\n",
       "<path style=\"fill:none;stroke-width:1;stroke-linecap:butt;stroke-linejoin:miter;stroke:rgb(26.666667%,26.666667%,26.666667%);stroke-opacity:1;stroke-miterlimit:10;\" d=\"M 435.601562 452.242188 L 411.671875 456.878906 \"/>\n",
       "<path style=\"fill:none;stroke-width:1;stroke-linecap:butt;stroke-linejoin:miter;stroke:rgb(26.666667%,26.666667%,26.666667%);stroke-opacity:1;stroke-miterlimit:10;\" d=\"M 413.328125 483.816406 L 411.671875 456.878906 \"/>\n",
       "<path style=\"fill:none;stroke-width:1;stroke-linecap:butt;stroke-linejoin:miter;stroke:rgb(26.666667%,26.666667%,26.666667%);stroke-opacity:1;stroke-miterlimit:10;\" d=\"M 494.5 488.203125 L 478.804688 502.152344 \"/>\n",
       "<path style=\"fill:none;stroke-width:1;stroke-linecap:butt;stroke-linejoin:miter;stroke:rgb(26.666667%,26.666667%,26.666667%);stroke-opacity:1;stroke-miterlimit:10;\" d=\"M 453.78125 396.503906 L 393.761719 485.421875 \"/>\n",
       "<path style=\"fill:none;stroke-width:1;stroke-linecap:butt;stroke-linejoin:miter;stroke:rgb(26.666667%,26.666667%,26.666667%);stroke-opacity:1;stroke-miterlimit:10;\" d=\"M 431.082031 471.898438 L 405.273438 512.804688 \"/>\n",
       "<path style=\"fill:none;stroke-width:1;stroke-linecap:butt;stroke-linejoin:miter;stroke:rgb(26.666667%,26.666667%,26.666667%);stroke-opacity:1;stroke-miterlimit:10;\" d=\"M 431.082031 471.898438 L 414.261719 470.253906 \"/>\n",
       "<path style=\"fill:none;stroke-width:1;stroke-linecap:butt;stroke-linejoin:miter;stroke:rgb(26.666667%,26.666667%,26.666667%);stroke-opacity:1;stroke-miterlimit:10;\" d=\"M 405.273438 512.804688 L 381.976562 525.980469 \"/>\n",
       "<path style=\"fill:none;stroke-width:1;stroke-linecap:butt;stroke-linejoin:miter;stroke:rgb(26.666667%,26.666667%,26.666667%);stroke-opacity:1;stroke-miterlimit:10;\" d=\"M 381.976562 525.980469 L 387.261719 580 \"/>\n",
       "<path style=\"fill:none;stroke-width:1;stroke-linecap:butt;stroke-linejoin:miter;stroke:rgb(26.666667%,26.666667%,26.666667%);stroke-opacity:1;stroke-miterlimit:10;\" d=\"M 393.761719 485.421875 L 378.46875 484.972656 \"/>\n",
       "<path style=\"fill:none;stroke-width:1;stroke-linecap:butt;stroke-linejoin:miter;stroke:rgb(26.666667%,26.666667%,26.666667%);stroke-opacity:1;stroke-miterlimit:10;\" d=\"M 382.570312 486.234375 L 378.46875 484.972656 \"/>\n",
       "<path style=\"fill:none;stroke-width:1;stroke-linecap:butt;stroke-linejoin:miter;stroke:rgb(26.666667%,26.666667%,26.666667%);stroke-opacity:1;stroke-miterlimit:10;\" d=\"M 381.976562 525.980469 L 378.46875 484.972656 \"/>\n",
       "<path style=\"fill:none;stroke-width:1;stroke-linecap:butt;stroke-linejoin:miter;stroke:rgb(26.666667%,26.666667%,26.666667%);stroke-opacity:1;stroke-miterlimit:10;\" d=\"M 354.457031 306.519531 L 362.144531 342.203125 \"/>\n",
       "<path style=\"fill:none;stroke-width:1;stroke-linecap:butt;stroke-linejoin:miter;stroke:rgb(26.666667%,26.666667%,26.666667%);stroke-opacity:1;stroke-miterlimit:10;\" d=\"M 362.144531 342.203125 L 380.996094 331.101562 \"/>\n",
       "<path style=\"fill:none;stroke-width:1;stroke-linecap:butt;stroke-linejoin:miter;stroke:rgb(26.666667%,26.666667%,26.666667%);stroke-opacity:1;stroke-miterlimit:10;\" d=\"M 353.316406 297.703125 L 380.996094 331.101562 \"/>\n",
       "<path style=\"fill:none;stroke-width:1;stroke-linecap:butt;stroke-linejoin:miter;stroke:rgb(26.666667%,26.666667%,26.666667%);stroke-opacity:1;stroke-miterlimit:10;\" d=\"M 380.996094 331.101562 L 379.675781 329.261719 \"/>\n",
       "<path style=\"fill:none;stroke-width:1;stroke-linecap:butt;stroke-linejoin:miter;stroke:rgb(26.666667%,26.666667%,26.666667%);stroke-opacity:1;stroke-miterlimit:10;\" d=\"M 387.445312 364.550781 L 372.332031 300.65625 \"/>\n",
       "<path style=\"fill:none;stroke-width:1;stroke-linecap:butt;stroke-linejoin:miter;stroke:rgb(26.666667%,26.666667%,26.666667%);stroke-opacity:1;stroke-miterlimit:10;\" d=\"M 379.675781 329.261719 L 374.355469 337.59375 \"/>\n",
       "<path style=\"fill:none;stroke-width:1;stroke-linecap:butt;stroke-linejoin:miter;stroke:rgb(26.666667%,26.666667%,26.666667%);stroke-opacity:1;stroke-miterlimit:10;\" d=\"M 380.996094 331.101562 L 361.132812 294.914062 \"/>\n",
       "<path style=\"fill:none;stroke-width:1;stroke-linecap:butt;stroke-linejoin:miter;stroke:rgb(26.666667%,26.666667%,26.666667%);stroke-opacity:1;stroke-miterlimit:10;\" d=\"M 372.332031 300.65625 L 361.132812 294.914062 \"/>\n",
       "<path style=\"fill:none;stroke-width:1;stroke-linecap:butt;stroke-linejoin:miter;stroke:rgb(26.666667%,26.666667%,26.666667%);stroke-opacity:1;stroke-miterlimit:10;\" d=\"M 382.570312 486.234375 L 381.84375 525.679688 \"/>\n",
       "<path style=\"fill:none;stroke-width:1;stroke-linecap:butt;stroke-linejoin:miter;stroke:rgb(26.666667%,26.666667%,26.666667%);stroke-opacity:1;stroke-miterlimit:10;\" d=\"M 354.457031 306.519531 L 369.605469 299.085938 \"/>\n",
       "<path style=\"fill:none;stroke-width:1;stroke-linecap:butt;stroke-linejoin:miter;stroke:rgb(26.666667%,26.666667%,26.666667%);stroke-opacity:1;stroke-miterlimit:10;\" d=\"M 383.800781 254.347656 L 413.460938 256.253906 \"/>\n",
       "<path style=\"fill:none;stroke-width:1;stroke-linecap:butt;stroke-linejoin:miter;stroke:rgb(26.666667%,26.666667%,26.666667%);stroke-opacity:1;stroke-miterlimit:10;\" d=\"M 381.976562 525.980469 L 370.460938 484.335938 \"/>\n",
       "<path style=\"fill:none;stroke-width:1;stroke-linecap:butt;stroke-linejoin:miter;stroke:rgb(26.666667%,26.666667%,26.666667%);stroke-opacity:1;stroke-miterlimit:10;\" d=\"M 369.605469 299.085938 L 340.992188 228.328125 \"/>\n",
       "<path style=\"fill:none;stroke-width:1;stroke-linecap:butt;stroke-linejoin:miter;stroke:rgb(26.666667%,26.666667%,26.666667%);stroke-opacity:1;stroke-miterlimit:10;\" d=\"M 364.160156 236.484375 L 340.992188 228.328125 \"/>\n",
       "<path style=\"fill:none;stroke-width:1;stroke-linecap:butt;stroke-linejoin:miter;stroke:rgb(26.666667%,26.666667%,26.666667%);stroke-opacity:1;stroke-miterlimit:10;\" d=\"M 340.992188 228.328125 L 340 190.613281 \"/>\n",
       "<path style=\"fill:none;stroke-width:1;stroke-linecap:butt;stroke-linejoin:miter;stroke:rgb(26.666667%,26.666667%,26.666667%);stroke-opacity:1;stroke-miterlimit:10;\" d=\"M 350.695312 196.589844 L 340 190.613281 \"/>\n",
       "<path style=\"fill:none;stroke-width:1;stroke-linecap:butt;stroke-linejoin:miter;stroke:rgb(26.666667%,26.666667%,26.666667%);stroke-opacity:1;stroke-miterlimit:10;\" d=\"M 370.460938 484.335938 L 346.675781 498.238281 \"/>\n",
       "<path style=\"fill:none;stroke-width:1;stroke-linecap:butt;stroke-linejoin:miter;stroke:rgb(26.666667%,26.666667%,26.666667%);stroke-opacity:1;stroke-miterlimit:10;\" d=\"M 350.695312 196.589844 L 349.695312 250.988281 \"/>\n",
       "<path style=\"fill:none;stroke-width:1;stroke-linecap:butt;stroke-linejoin:miter;stroke:rgb(26.666667%,26.666667%,26.666667%);stroke-opacity:1;stroke-miterlimit:10;\" d=\"M 370.460938 484.335938 L 347.929688 470.535156 \"/>\n",
       "<path style=\"fill:none;stroke-width:1;stroke-linecap:butt;stroke-linejoin:miter;stroke:rgb(26.666667%,26.666667%,26.666667%);stroke-opacity:1;stroke-miterlimit:10;\" d=\"M 383.800781 254.347656 L 353.289062 226.632812 \"/>\n",
       "<path style=\"fill:none;stroke-width:1;stroke-linecap:butt;stroke-linejoin:miter;stroke:rgb(26.666667%,26.666667%,26.666667%);stroke-opacity:1;stroke-miterlimit:10;\" d=\"M 383.800781 254.347656 L 354.464844 226.628906 \"/>\n",
       "<path style=\"fill:none;stroke-width:1;stroke-linecap:butt;stroke-linejoin:miter;stroke:rgb(26.666667%,26.666667%,26.666667%);stroke-opacity:1;stroke-miterlimit:10;\" d=\"M 352.808594 539.960938 L 327.371094 493.320312 \"/>\n",
       "<path style=\"fill:none;stroke-width:1;stroke-linecap:butt;stroke-linejoin:miter;stroke:rgb(26.666667%,26.666667%,26.666667%);stroke-opacity:1;stroke-miterlimit:10;\" d=\"M 340.992188 228.328125 L 334.457031 183.527344 \"/>\n",
       "<path style=\"fill:none;stroke-width:1;stroke-linecap:butt;stroke-linejoin:miter;stroke:rgb(26.666667%,26.666667%,26.666667%);stroke-opacity:1;stroke-miterlimit:10;\" d=\"M 353.289062 226.632812 L 334.457031 183.527344 \"/>\n",
       "<path style=\"fill:none;stroke-width:1;stroke-linecap:butt;stroke-linejoin:miter;stroke:rgb(26.666667%,26.666667%,26.666667%);stroke-opacity:1;stroke-miterlimit:10;\" d=\"M 381.976562 525.980469 L 364.867188 555.816406 \"/>\n",
       "<path style=\"fill:none;stroke-width:1;stroke-linecap:butt;stroke-linejoin:miter;stroke:rgb(26.666667%,26.666667%,26.666667%);stroke-opacity:1;stroke-miterlimit:10;\" d=\"M 385.914062 534.089844 L 364.867188 555.816406 \"/>\n",
       "<path style=\"fill:none;stroke-width:1;stroke-linecap:butt;stroke-linejoin:miter;stroke:rgb(26.666667%,26.666667%,26.666667%);stroke-opacity:1;stroke-miterlimit:10;\" d=\"M 334.457031 183.527344 L 352.957031 162.183594 \"/>\n",
       "<path style=\"fill:none;stroke-width:1;stroke-linecap:butt;stroke-linejoin:miter;stroke:rgb(26.666667%,26.666667%,26.666667%);stroke-opacity:1;stroke-miterlimit:10;\" d=\"M 346.675781 498.238281 L 333.460938 522.5 \"/>\n",
       "<path style=\"fill:none;stroke-width:1;stroke-linecap:butt;stroke-linejoin:miter;stroke:rgb(26.666667%,26.666667%,26.666667%);stroke-opacity:1;stroke-miterlimit:10;\" d=\"M 335.453125 269.078125 L 362.121094 165.164062 \"/>\n",
       "<path style=\"fill:none;stroke-width:1;stroke-linecap:butt;stroke-linejoin:miter;stroke:rgb(26.666667%,26.666667%,26.666667%);stroke-opacity:1;stroke-miterlimit:10;\" d=\"M 350.695312 196.589844 L 362.121094 165.164062 \"/>\n",
       "<path style=\"fill:none;stroke-width:1;stroke-linecap:butt;stroke-linejoin:miter;stroke:rgb(26.666667%,26.666667%,26.666667%);stroke-opacity:1;stroke-miterlimit:10;\" d=\"M 327.339844 181.988281 L 362.121094 165.164062 \"/>\n",
       "<path style=\"fill:none;stroke-width:1;stroke-linecap:butt;stroke-linejoin:miter;stroke:rgb(26.666667%,26.666667%,26.666667%);stroke-opacity:1;stroke-miterlimit:10;\" d=\"M 339.828125 541.78125 L 324.863281 490.71875 \"/>\n",
       "<path style=\"fill:none;stroke-width:1;stroke-linecap:butt;stroke-linejoin:miter;stroke:rgb(26.666667%,26.666667%,26.666667%);stroke-opacity:1;stroke-miterlimit:10;\" d=\"M 347.929688 470.535156 L 324.863281 490.71875 \"/>\n",
       "<path style=\"fill:none;stroke-width:1;stroke-linecap:butt;stroke-linejoin:miter;stroke:rgb(26.666667%,26.666667%,26.666667%);stroke-opacity:1;stroke-miterlimit:10;\" d=\"M 362.121094 165.164062 L 329.804688 127.449219 \"/>\n",
       "<path style=\"fill:none;stroke-width:1;stroke-linecap:butt;stroke-linejoin:miter;stroke:rgb(26.666667%,26.666667%,26.666667%);stroke-opacity:1;stroke-miterlimit:10;\" d=\"M 360.066406 223.847656 L 315.917969 178.488281 \"/>\n",
       "<path style=\"fill:none;stroke-width:1;stroke-linecap:butt;stroke-linejoin:miter;stroke:rgb(26.666667%,26.666667%,26.666667%);stroke-opacity:1;stroke-miterlimit:10;\" d=\"M 340.992188 228.328125 L 315.917969 178.488281 \"/>\n",
       "<path style=\"fill:none;stroke-width:1;stroke-linecap:butt;stroke-linejoin:miter;stroke:rgb(26.666667%,26.666667%,26.666667%);stroke-opacity:1;stroke-miterlimit:10;\" d=\"M 334.457031 183.527344 L 348.105469 116.226562 \"/>\n",
       "<path style=\"fill:none;stroke-width:1;stroke-linecap:butt;stroke-linejoin:miter;stroke:rgb(26.666667%,26.666667%,26.666667%);stroke-opacity:1;stroke-miterlimit:10;\" d=\"M 346.675781 498.238281 L 305.621094 463.003906 \"/>\n",
       "<path style=\"fill:none;stroke-width:1;stroke-linecap:butt;stroke-linejoin:miter;stroke:rgb(26.666667%,26.666667%,26.666667%);stroke-opacity:1;stroke-miterlimit:10;\" d=\"M 305.621094 463.003906 L 296.0625 479.089844 \"/>\n",
       "<path style=\"fill:none;stroke-width:1;stroke-linecap:butt;stroke-linejoin:miter;stroke:rgb(26.666667%,26.666667%,26.666667%);stroke-opacity:1;stroke-miterlimit:10;\" d=\"M 327.339844 181.988281 L 291.515625 161.871094 \"/>\n",
       "<path style=\"fill:none;stroke-width:1;stroke-linecap:butt;stroke-linejoin:miter;stroke:rgb(26.666667%,26.666667%,26.666667%);stroke-opacity:1;stroke-miterlimit:10;\" d=\"M 304.203125 486.898438 L 290.300781 531.152344 \"/>\n",
       "<path style=\"fill:none;stroke-width:1;stroke-linecap:butt;stroke-linejoin:miter;stroke:rgb(26.666667%,26.666667%,26.666667%);stroke-opacity:1;stroke-miterlimit:10;\" d=\"M 340 190.613281 L 303.53125 138.457031 \"/>\n",
       "<path style=\"fill:none;stroke-width:1;stroke-linecap:butt;stroke-linejoin:miter;stroke:rgb(26.666667%,26.666667%,26.666667%);stroke-opacity:1;stroke-miterlimit:10;\" d=\"M 304.203125 486.898438 L 289.871094 474.226562 \"/>\n",
       "<path style=\"fill:none;stroke-width:1;stroke-linecap:butt;stroke-linejoin:miter;stroke:rgb(26.666667%,26.666667%,26.666667%);stroke-opacity:1;stroke-miterlimit:10;\" d=\"M 327.339844 181.988281 L 296.160156 134.152344 \"/>\n",
       "<path style=\"fill:none;stroke-width:1;stroke-linecap:butt;stroke-linejoin:miter;stroke:rgb(26.666667%,26.666667%,26.666667%);stroke-opacity:1;stroke-miterlimit:10;\" d=\"M 296.0625 479.089844 L 282.070312 477.210938 \"/>\n",
       "<path style=\"fill:none;stroke-width:1;stroke-linecap:butt;stroke-linejoin:miter;stroke:rgb(26.666667%,26.666667%,26.666667%);stroke-opacity:1;stroke-miterlimit:10;\" d=\"M 289.871094 474.226562 L 282.070312 477.210938 \"/>\n",
       "<path style=\"fill:none;stroke-width:1;stroke-linecap:butt;stroke-linejoin:miter;stroke:rgb(26.666667%,26.666667%,26.666667%);stroke-opacity:1;stroke-miterlimit:10;\" d=\"M 274.4375 123.664062 L 269.101562 136.507812 \"/>\n",
       "<path style=\"fill:none;stroke-width:1;stroke-linecap:butt;stroke-linejoin:miter;stroke:rgb(26.666667%,26.666667%,26.666667%);stroke-opacity:1;stroke-miterlimit:10;\" d=\"M 327.371094 493.320312 L 267.59375 437.515625 \"/>\n",
       "<path style=\"fill:none;stroke-width:1;stroke-linecap:butt;stroke-linejoin:miter;stroke:rgb(26.666667%,26.666667%,26.666667%);stroke-opacity:1;stroke-miterlimit:10;\" d=\"M 291.515625 161.871094 L 294.8125 106.011719 \"/>\n",
       "<path style=\"fill:none;stroke-width:1;stroke-linecap:butt;stroke-linejoin:miter;stroke:rgb(26.666667%,26.666667%,26.666667%);stroke-opacity:1;stroke-miterlimit:10;\" d=\"M 281.660156 105.175781 L 294.8125 106.011719 \"/>\n",
       "<path style=\"fill:none;stroke-width:1;stroke-linecap:butt;stroke-linejoin:miter;stroke:rgb(26.666667%,26.666667%,26.666667%);stroke-opacity:1;stroke-miterlimit:10;\" d=\"M 307.78125 500.972656 L 298.136719 392.246094 \"/>\n",
       "<path style=\"fill:none;stroke-width:1;stroke-linecap:butt;stroke-linejoin:miter;stroke:rgb(26.666667%,26.666667%,26.666667%);stroke-opacity:1;stroke-miterlimit:10;\" d=\"M 299.78125 101.59375 L 264.328125 88.242188 \"/>\n",
       "<path style=\"fill:none;stroke-width:1;stroke-linecap:butt;stroke-linejoin:miter;stroke:rgb(26.666667%,26.666667%,26.666667%);stroke-opacity:1;stroke-miterlimit:10;\" d=\"M 303.53125 138.457031 L 264.328125 88.242188 \"/>\n",
       "<path style=\"fill:none;stroke-width:1;stroke-linecap:butt;stroke-linejoin:miter;stroke:rgb(26.666667%,26.666667%,26.666667%);stroke-opacity:1;stroke-miterlimit:10;\" d=\"M 287.726562 478.691406 L 276.191406 453.296875 \"/>\n",
       "<path style=\"fill:none;stroke-width:1;stroke-linecap:butt;stroke-linejoin:miter;stroke:rgb(26.666667%,26.666667%,26.666667%);stroke-opacity:1;stroke-miterlimit:10;\" d=\"M 256.207031 434.058594 L 276.191406 453.296875 \"/>\n",
       "<path style=\"fill:none;stroke-width:1;stroke-linecap:butt;stroke-linejoin:miter;stroke:rgb(26.666667%,26.666667%,26.666667%);stroke-opacity:1;stroke-miterlimit:10;\" d=\"M 298.136719 392.246094 L 259.476562 443.679688 \"/>\n",
       "<path style=\"fill:none;stroke-width:1;stroke-linecap:butt;stroke-linejoin:miter;stroke:rgb(26.666667%,26.666667%,26.666667%);stroke-opacity:1;stroke-miterlimit:10;\" d=\"M 276.191406 453.296875 L 259.476562 443.679688 \"/>\n",
       "<path style=\"fill:none;stroke-width:1;stroke-linecap:butt;stroke-linejoin:miter;stroke:rgb(26.666667%,26.666667%,26.666667%);stroke-opacity:1;stroke-miterlimit:10;\" d=\"M 269.101562 136.507812 L 255.640625 72.585938 \"/>\n",
       "<path style=\"fill:none;stroke-width:1;stroke-linecap:butt;stroke-linejoin:miter;stroke:rgb(26.666667%,26.666667%,26.666667%);stroke-opacity:1;stroke-miterlimit:10;\" d=\"M 282.070312 477.210938 L 288.082031 431.164062 \"/>\n",
       "<path style=\"fill:none;stroke-width:1;stroke-linecap:butt;stroke-linejoin:miter;stroke:rgb(26.666667%,26.666667%,26.666667%);stroke-opacity:1;stroke-miterlimit:10;\" d=\"M 305.871094 444.589844 L 288.082031 431.164062 \"/>\n",
       "<path style=\"fill:none;stroke-width:1;stroke-linecap:butt;stroke-linejoin:miter;stroke:rgb(26.666667%,26.666667%,26.666667%);stroke-opacity:1;stroke-miterlimit:10;\" d=\"M 298.136719 392.246094 L 288.082031 431.164062 \"/>\n",
       "<path style=\"fill:none;stroke-width:1;stroke-linecap:butt;stroke-linejoin:miter;stroke:rgb(26.666667%,26.666667%,26.666667%);stroke-opacity:1;stroke-miterlimit:10;\" d=\"M 267.59375 437.515625 L 242.109375 391.574219 \"/>\n",
       "<path style=\"fill:none;stroke-width:1;stroke-linecap:butt;stroke-linejoin:miter;stroke:rgb(26.666667%,26.666667%,26.666667%);stroke-opacity:1;stroke-miterlimit:10;\" d=\"M 256.207031 434.058594 L 242.109375 391.574219 \"/>\n",
       "<path style=\"fill:none;stroke-width:1;stroke-linecap:butt;stroke-linejoin:miter;stroke:rgb(26.666667%,26.666667%,26.666667%);stroke-opacity:1;stroke-miterlimit:10;\" d=\"M 243.171875 407.070312 L 242.109375 391.574219 \"/>\n",
       "<path style=\"fill:none;stroke-width:1;stroke-linecap:butt;stroke-linejoin:miter;stroke:rgb(26.666667%,26.666667%,26.666667%);stroke-opacity:1;stroke-miterlimit:10;\" d=\"M 281.660156 105.175781 L 258.984375 46.007812 \"/>\n",
       "<path style=\"fill:none;stroke-width:1;stroke-linecap:butt;stroke-linejoin:miter;stroke:rgb(26.666667%,26.666667%,26.666667%);stroke-opacity:1;stroke-miterlimit:10;\" d=\"M 260.390625 47.488281 L 258.984375 46.007812 \"/>\n",
       "<path style=\"fill:none;stroke-width:1;stroke-linecap:butt;stroke-linejoin:miter;stroke:rgb(26.666667%,26.666667%,26.666667%);stroke-opacity:1;stroke-miterlimit:10;\" d=\"M 261.105469 33.199219 L 258.984375 46.007812 \"/>\n",
       "<path style=\"fill:none;stroke-width:1;stroke-linecap:butt;stroke-linejoin:miter;stroke:rgb(26.666667%,26.666667%,26.666667%);stroke-opacity:1;stroke-miterlimit:10;\" d=\"M 255.640625 72.585938 L 258.984375 46.007812 \"/>\n",
       "<path style=\"fill:none;stroke-width:1;stroke-linecap:butt;stroke-linejoin:miter;stroke:rgb(26.666667%,26.666667%,26.666667%);stroke-opacity:1;stroke-miterlimit:10;\" d=\"M 288.082031 431.164062 L 240.375 438.480469 \"/>\n",
       "<path style=\"fill:none;stroke-width:1;stroke-linecap:butt;stroke-linejoin:miter;stroke:rgb(26.666667%,26.666667%,26.666667%);stroke-opacity:1;stroke-miterlimit:10;\" d=\"M 259.476562 443.679688 L 253.960938 415.933594 \"/>\n",
       "<path style=\"fill:none;stroke-width:1;stroke-linecap:butt;stroke-linejoin:miter;stroke:rgb(26.666667%,26.666667%,26.666667%);stroke-opacity:1;stroke-miterlimit:10;\" d=\"M 271.078125 141.367188 L 228.378906 102.128906 \"/>\n",
       "<path style=\"fill:none;stroke-width:1;stroke-linecap:butt;stroke-linejoin:miter;stroke:rgb(26.666667%,26.666667%,26.666667%);stroke-opacity:1;stroke-miterlimit:10;\" d=\"M 240.375 438.480469 L 220.328125 403.371094 \"/>\n",
       "<path style=\"fill:none;stroke-width:1;stroke-linecap:butt;stroke-linejoin:miter;stroke:rgb(26.666667%,26.666667%,26.666667%);stroke-opacity:1;stroke-miterlimit:10;\" d=\"M 258.984375 46.007812 L 260.792969 38.972656 \"/>\n",
       "<path style=\"fill:none;stroke-width:1;stroke-linecap:butt;stroke-linejoin:miter;stroke:rgb(26.666667%,26.666667%,26.666667%);stroke-opacity:1;stroke-miterlimit:10;\" d=\"M 243.171875 407.070312 L 228.644531 380.714844 \"/>\n",
       "<path style=\"fill:none;stroke-width:1;stroke-linecap:butt;stroke-linejoin:miter;stroke:rgb(26.666667%,26.666667%,26.666667%);stroke-opacity:1;stroke-miterlimit:10;\" d=\"M 215.082031 369.703125 L 207.746094 347.789062 \"/>\n",
       "<path style=\"fill:none;stroke-width:1;stroke-linecap:butt;stroke-linejoin:miter;stroke:rgb(26.666667%,26.666667%,26.666667%);stroke-opacity:1;stroke-miterlimit:10;\" d=\"M 228.644531 380.714844 L 207.746094 347.789062 \"/>\n",
       "<path style=\"fill:none;stroke-width:1;stroke-linecap:butt;stroke-linejoin:miter;stroke:rgb(26.666667%,26.666667%,26.666667%);stroke-opacity:1;stroke-miterlimit:10;\" d=\"M 211.335938 329.597656 L 255.132812 361.488281 \"/>\n",
       "<path style=\"fill:none;stroke-width:1;stroke-linecap:butt;stroke-linejoin:miter;stroke:rgb(26.666667%,26.666667%,26.666667%);stroke-opacity:1;stroke-miterlimit:10;\" d=\"M 215.082031 369.703125 L 239.035156 324.167969 \"/>\n",
       "<path style=\"fill:none;stroke-width:1;stroke-linecap:butt;stroke-linejoin:miter;stroke:rgb(26.666667%,26.666667%,26.666667%);stroke-opacity:1;stroke-miterlimit:10;\" d=\"M 207.746094 347.789062 L 192.523438 352.371094 \"/>\n",
       "<path style=\"fill:none;stroke-width:1;stroke-linecap:butt;stroke-linejoin:miter;stroke:rgb(26.666667%,26.666667%,26.666667%);stroke-opacity:1;stroke-miterlimit:10;\" d=\"M 253.960938 415.933594 L 251.425781 332.390625 \"/>\n",
       "<path style=\"fill:none;stroke-width:1;stroke-linecap:butt;stroke-linejoin:miter;stroke:rgb(26.666667%,26.666667%,26.666667%);stroke-opacity:1;stroke-miterlimit:10;\" d=\"M 248.347656 357.3125 L 251.425781 332.390625 \"/>\n",
       "<path style=\"fill:none;stroke-width:1;stroke-linecap:butt;stroke-linejoin:miter;stroke:rgb(26.666667%,26.666667%,26.666667%);stroke-opacity:1;stroke-miterlimit:10;\" d=\"M 215.082031 369.703125 L 230.863281 350.914062 \"/>\n",
       "<path style=\"fill:none;stroke-width:1;stroke-linecap:butt;stroke-linejoin:miter;stroke:rgb(26.666667%,26.666667%,26.666667%);stroke-opacity:1;stroke-miterlimit:10;\" d=\"M 211.335938 329.597656 L 230.863281 350.914062 \"/>\n",
       "<path style=\"fill:none;stroke-width:1;stroke-linecap:butt;stroke-linejoin:miter;stroke:rgb(26.666667%,26.666667%,26.666667%);stroke-opacity:1;stroke-miterlimit:10;\" d=\"M 215.082031 369.703125 L 221.996094 266.164062 \"/>\n",
       "<path style=\"fill:none;stroke-width:1;stroke-linecap:butt;stroke-linejoin:miter;stroke:rgb(26.666667%,26.666667%,26.666667%);stroke-opacity:1;stroke-miterlimit:10;\" d=\"M 207.746094 347.789062 L 217.539062 290.734375 \"/>\n",
       "<path style=\"fill:none;stroke-width:1;stroke-linecap:butt;stroke-linejoin:miter;stroke:rgb(26.666667%,26.666667%,26.666667%);stroke-opacity:1;stroke-miterlimit:10;\" d=\"M 220.433594 275.507812 L 226.6875 250.742188 \"/>\n",
       "<path style=\"fill:none;stroke-width:1;stroke-linecap:butt;stroke-linejoin:miter;stroke:rgb(26.666667%,26.666667%,26.666667%);stroke-opacity:1;stroke-miterlimit:10;\" d=\"M 228.378906 102.128906 L 187.15625 102.027344 \"/>\n",
       "<path style=\"fill:none;stroke-width:1;stroke-linecap:butt;stroke-linejoin:miter;stroke:rgb(26.666667%,26.666667%,26.666667%);stroke-opacity:1;stroke-miterlimit:10;\" d=\"M 221.996094 266.164062 L 225.042969 262.871094 \"/>\n",
       "<path style=\"fill:none;stroke-width:1;stroke-linecap:butt;stroke-linejoin:miter;stroke:rgb(26.666667%,26.666667%,26.666667%);stroke-opacity:1;stroke-miterlimit:10;\" d=\"M 226.6875 250.742188 L 225.042969 262.871094 \"/>\n",
       "<path style=\"fill:none;stroke-width:1;stroke-linecap:butt;stroke-linejoin:miter;stroke:rgb(26.666667%,26.666667%,26.666667%);stroke-opacity:1;stroke-miterlimit:10;\" d=\"M 204.132812 81.3125 L 213.609375 198.5 \"/>\n",
       "<path style=\"fill:none;stroke-width:1;stroke-linecap:butt;stroke-linejoin:miter;stroke:rgb(26.666667%,26.666667%,26.666667%);stroke-opacity:1;stroke-miterlimit:10;\" d=\"M 213.609375 198.5 L 214.132812 192.140625 \"/>\n",
       "<path style=\"fill:none;stroke-width:1;stroke-linecap:butt;stroke-linejoin:miter;stroke:rgb(26.666667%,26.666667%,26.666667%);stroke-opacity:1;stroke-miterlimit:10;\" d=\"M 228.644531 380.714844 L 211.40625 234.042969 \"/>\n",
       "<path style=\"fill:none;stroke-width:1;stroke-linecap:butt;stroke-linejoin:miter;stroke:rgb(26.666667%,26.666667%,26.666667%);stroke-opacity:1;stroke-miterlimit:10;\" d=\"M 187.65625 245.996094 L 211.40625 234.042969 \"/>\n",
       "<path style=\"fill:none;stroke-width:1;stroke-linecap:butt;stroke-linejoin:miter;stroke:rgb(26.666667%,26.666667%,26.666667%);stroke-opacity:1;stroke-miterlimit:10;\" d=\"M 214.132812 192.140625 L 211.40625 234.042969 \"/>\n",
       "<path style=\"fill:none;stroke-width:1;stroke-linecap:butt;stroke-linejoin:miter;stroke:rgb(26.666667%,26.666667%,26.666667%);stroke-opacity:1;stroke-miterlimit:10;\" d=\"M 213.609375 198.5 L 181.035156 198.160156 \"/>\n",
       "<path style=\"fill:none;stroke-width:1;stroke-linecap:butt;stroke-linejoin:miter;stroke:rgb(26.666667%,26.666667%,26.666667%);stroke-opacity:1;stroke-miterlimit:10;\" d=\"M 187.65625 245.996094 L 162.933594 112.742188 \"/>\n",
       "<path style=\"fill:none;stroke-width:1;stroke-linecap:butt;stroke-linejoin:miter;stroke:rgb(26.666667%,26.666667%,26.666667%);stroke-opacity:1;stroke-miterlimit:10;\" d=\"M 233.882812 48.3125 L 162.933594 112.742188 \"/>\n",
       "<path style=\"fill:none;stroke-width:1;stroke-linecap:butt;stroke-linejoin:miter;stroke:rgb(26.666667%,26.666667%,26.666667%);stroke-opacity:1;stroke-miterlimit:10;\" d=\"M 255.640625 72.585938 L 211.023438 64.210938 \"/>\n",
       "<path style=\"fill:none;stroke-width:1;stroke-linecap:butt;stroke-linejoin:miter;stroke:rgb(26.666667%,26.666667%,26.666667%);stroke-opacity:1;stroke-miterlimit:10;\" d=\"M 204.132812 81.3125 L 211.023438 64.210938 \"/>\n",
       "<path style=\"fill:none;stroke-width:1;stroke-linecap:butt;stroke-linejoin:miter;stroke:rgb(26.666667%,26.666667%,26.666667%);stroke-opacity:1;stroke-miterlimit:10;\" d=\"M 209.429688 58.179688 L 211.023438 64.210938 \"/>\n",
       "<path style=\"fill:none;stroke-width:1;stroke-linecap:butt;stroke-linejoin:miter;stroke:rgb(26.666667%,26.666667%,26.666667%);stroke-opacity:1;stroke-miterlimit:10;\" d=\"M 187.792969 50.265625 L 211.023438 64.210938 \"/>\n",
       "<path style=\"fill:none;stroke-width:1;stroke-linecap:butt;stroke-linejoin:miter;stroke:rgb(26.666667%,26.666667%,26.666667%);stroke-opacity:1;stroke-miterlimit:10;\" d=\"M 224.433594 20 L 199.980469 52.789062 \"/>\n",
       "<path style=\"fill:none;stroke-width:1;stroke-linecap:butt;stroke-linejoin:miter;stroke:rgb(26.666667%,26.666667%,26.666667%);stroke-opacity:1;stroke-miterlimit:10;\" d=\"M 209.429688 58.179688 L 199.980469 52.789062 \"/>\n",
       "<path style=\"fill:none;stroke-width:1;stroke-linecap:butt;stroke-linejoin:miter;stroke:rgb(26.666667%,26.666667%,26.666667%);stroke-opacity:1;stroke-miterlimit:10;\" d=\"M 228.378906 102.128906 L 215.625 114.097656 \"/>\n",
       "<path style=\"fill:none;stroke-width:1;stroke-linecap:butt;stroke-linejoin:miter;stroke:rgb(26.666667%,26.666667%,26.666667%);stroke-opacity:1;stroke-miterlimit:10;\" d=\"M 213.609375 198.5 L 215.625 114.097656 \"/>\n",
       "<path style=\"fill:none;stroke-width:1;stroke-linecap:butt;stroke-linejoin:miter;stroke:rgb(26.666667%,26.666667%,26.666667%);stroke-opacity:1;stroke-miterlimit:10;\" d=\"M 225.113281 81.621094 L 164.960938 71.601562 \"/>\n",
       "<path style=\"fill:none;stroke-width:1;stroke-linecap:butt;stroke-linejoin:miter;stroke:rgb(26.666667%,26.666667%,26.666667%);stroke-opacity:1;stroke-miterlimit:10;\" d=\"M 187.15625 102.027344 L 164.960938 71.601562 \"/>\n",
       "<path style=\"fill:none;stroke-width:1;stroke-linecap:butt;stroke-linejoin:miter;stroke:rgb(26.666667%,26.666667%,26.666667%);stroke-opacity:1;stroke-miterlimit:10;\" d=\"M 162.933594 112.742188 L 174.285156 45.902344 \"/>\n",
       "<path style=\"fill:none;stroke-width:1;stroke-linecap:butt;stroke-linejoin:miter;stroke:rgb(26.666667%,26.666667%,26.666667%);stroke-opacity:1;stroke-miterlimit:10;\" d=\"M 162.933594 112.742188 L 135.734375 74.390625 \"/>\n",
       "<path style=\"fill:none;stroke-width:1;stroke-linecap:butt;stroke-linejoin:miter;stroke:rgb(26.666667%,26.666667%,26.666667%);stroke-opacity:1;stroke-miterlimit:10;\" d=\"M 151.226562 112.371094 L 135.734375 74.390625 \"/>\n",
       "<path style=\"fill:none;stroke-width:1;stroke-linecap:butt;stroke-linejoin:miter;stroke:rgb(26.666667%,26.666667%,26.666667%);stroke-opacity:1;stroke-miterlimit:10;\" d=\"M 154.320312 62.355469 L 127.199219 96.628906 \"/>\n",
       "<path style=\"fill:none;stroke-width:1;stroke-linecap:butt;stroke-linejoin:miter;stroke:rgb(26.666667%,26.666667%,26.666667%);stroke-opacity:1;stroke-miterlimit:10;\" d=\"M 135.734375 74.390625 L 128.726562 79.5625 \"/>\n",
       "<path style=\"fill:none;stroke-width:1;stroke-linecap:butt;stroke-linejoin:miter;stroke:rgb(26.666667%,26.666667%,26.666667%);stroke-opacity:1;stroke-miterlimit:10;\" d=\"M 154.320312 62.355469 L 128.726562 79.5625 \"/>\n",
       "<path style=\"fill:none;stroke-width:1;stroke-linecap:butt;stroke-linejoin:miter;stroke:rgb(26.666667%,26.666667%,26.666667%);stroke-opacity:1;stroke-miterlimit:10;\" d=\"M 151.226562 112.371094 L 130.09375 94.238281 \"/>\n",
       "<path style=\"fill:none;stroke-width:1;stroke-linecap:butt;stroke-linejoin:miter;stroke:rgb(26.666667%,26.666667%,26.666667%);stroke-opacity:1;stroke-miterlimit:10;\" d=\"M 187.792969 50.265625 L 146.699219 28.4375 \"/>\n",
       "<path style=\"fill:none;stroke-width:1;stroke-linecap:butt;stroke-linejoin:miter;stroke:rgb(26.666667%,26.666667%,26.666667%);stroke-opacity:1;stroke-miterlimit:10;\" d=\"M 151.226562 112.371094 L 143.914062 118.261719 \"/>\n",
       "<path style=\"fill:none;stroke-width:1;stroke-linecap:butt;stroke-linejoin:miter;stroke:rgb(26.666667%,26.666667%,26.666667%);stroke-opacity:1;stroke-miterlimit:10;\" d=\"M 148.433594 54.675781 L 143.914062 118.261719 \"/>\n",
       "<path style=\"fill:none;stroke-width:1;stroke-linecap:butt;stroke-linejoin:miter;stroke:rgb(26.666667%,26.666667%,26.666667%);stroke-opacity:1;stroke-miterlimit:10;\" d=\"M 128.726562 79.5625 L 128.730469 49.976562 \"/>\n",
       "<path style=\"fill:none;stroke-width:1;stroke-linecap:butt;stroke-linejoin:miter;stroke:rgb(26.666667%,26.666667%,26.666667%);stroke-opacity:1;stroke-miterlimit:10;\" d=\"M 130.09375 94.238281 L 110.875 131.765625 \"/>\n",
       "<path style=\"fill:none;stroke-width:1;stroke-linecap:butt;stroke-linejoin:miter;stroke:rgb(26.666667%,26.666667%,26.666667%);stroke-opacity:1;stroke-miterlimit:10;\" d=\"M 162.933594 112.742188 L 131.671875 166.363281 \"/>\n",
       "<path style=\"fill:none;stroke-width:1;stroke-linecap:butt;stroke-linejoin:miter;stroke:rgb(26.666667%,26.666667%,26.666667%);stroke-opacity:1;stroke-miterlimit:10;\" d=\"M 127.199219 96.628906 L 107.730469 76.167969 \"/>\n",
       "<path style=\"fill:none;stroke-width:1;stroke-linecap:butt;stroke-linejoin:miter;stroke:rgb(26.666667%,26.666667%,26.666667%);stroke-opacity:1;stroke-miterlimit:10;\" d=\"M 110.875 131.765625 L 99.726562 96.324219 \"/>\n",
       "<path style=\"fill:none;stroke-width:1;stroke-linecap:butt;stroke-linejoin:miter;stroke:rgb(26.666667%,26.666667%,26.666667%);stroke-opacity:1;stroke-miterlimit:10;\" d=\"M 130.09375 94.238281 L 100.566406 121.816406 \"/>\n",
       "<path style=\"fill:none;stroke-width:1;stroke-linecap:butt;stroke-linejoin:miter;stroke:rgb(26.666667%,26.666667%,26.666667%);stroke-opacity:1;stroke-miterlimit:10;\" d=\"M 89.222656 151.898438 L 75.054688 145.40625 \"/>\n",
       "<path style=\"fill:none;stroke-width:1;stroke-linecap:butt;stroke-linejoin:miter;stroke:rgb(26.666667%,26.666667%,26.666667%);stroke-opacity:1;stroke-miterlimit:10;\" d=\"M 100.566406 121.816406 L 103.757812 146.773438 \"/>\n",
       "<path style=\"fill:none;stroke-width:1;stroke-linecap:butt;stroke-linejoin:miter;stroke:rgb(26.666667%,26.666667%,26.666667%);stroke-opacity:1;stroke-miterlimit:10;\" d=\"M 130.09375 94.238281 L 111.460938 170.167969 \"/>\n",
       "<path style=\"fill:none;stroke-width:1;stroke-linecap:butt;stroke-linejoin:miter;stroke:rgb(26.666667%,26.666667%,26.666667%);stroke-opacity:1;stroke-miterlimit:10;\" d=\"M 99.726562 96.324219 L 89.609375 178.210938 \"/>\n",
       "<path style=\"fill:none;stroke-width:1;stroke-linecap:butt;stroke-linejoin:miter;stroke:rgb(26.666667%,26.666667%,26.666667%);stroke-opacity:1;stroke-miterlimit:10;\" d=\"M 75.054688 145.40625 L 89.609375 178.210938 \"/>\n",
       "<path style=\"fill:none;stroke-width:1;stroke-linecap:butt;stroke-linejoin:miter;stroke:rgb(26.666667%,26.666667%,26.666667%);stroke-opacity:1;stroke-miterlimit:10;\" d=\"M 111.460938 170.167969 L 89.292969 207 \"/>\n",
       "<path style=\"fill:none;stroke-width:1;stroke-linecap:butt;stroke-linejoin:miter;stroke:rgb(26.666667%,26.666667%,26.666667%);stroke-opacity:1;stroke-miterlimit:10;\" d=\"M 46.828125 193.675781 L 89.292969 207 \"/>\n",
       "<path style=\"fill:none;stroke-width:1;stroke-linecap:butt;stroke-linejoin:miter;stroke:rgb(26.666667%,26.666667%,26.666667%);stroke-opacity:1;stroke-miterlimit:10;\" d=\"M 20.316406 214.863281 L 53.101562 258.109375 \"/>\n",
       "<path style=\"fill:none;stroke-width:1;stroke-linecap:butt;stroke-linejoin:miter;stroke:rgb(26.666667%,26.666667%,26.666667%);stroke-opacity:1;stroke-miterlimit:10;\" d=\"M 20.316406 214.863281 L 37.46875 190.5 \"/>\n",
       "<path style=\"fill:none;stroke-width:1;stroke-linecap:butt;stroke-linejoin:miter;stroke:rgb(26.666667%,26.666667%,26.666667%);stroke-opacity:1;stroke-miterlimit:10;\" d=\"M 68.601562 259.300781 L 20 273.40625 \"/>\n",
       "<path style=\"fill:none;stroke-width:1;stroke-linecap:butt;stroke-linejoin:miter;stroke:rgb(26.666667%,26.666667%,26.666667%);stroke-opacity:1;stroke-miterlimit:10;\" d=\"M 25.226562 265.769531 L 38.761719 276.53125 \"/>\n",
       "<path style=\"fill:none;stroke-width:1;stroke-linecap:butt;stroke-linejoin:miter;stroke:rgb(26.666667%,26.666667%,26.666667%);stroke-opacity:1;stroke-miterlimit:10;\" d=\"M 25.226562 265.769531 L 30.230469 262.242188 \"/>\n",
       "<path style=\"fill:none;stroke-width:1;stroke-linecap:butt;stroke-linejoin:miter;stroke:rgb(26.666667%,26.666667%,26.666667%);stroke-opacity:1;stroke-miterlimit:10;\" d=\"M 47.414062 269.667969 L 30.230469 262.242188 \"/>\n",
       "<path style=\"fill:none;stroke-width:1;stroke-linecap:butt;stroke-linejoin:miter;stroke:rgb(26.666667%,26.666667%,26.666667%);stroke-opacity:1;stroke-miterlimit:10;\" d=\"M 45.144531 215.035156 L 46.320312 255.785156 \"/>\n",
       "<path style=\"fill:none;stroke-width:1;stroke-linecap:butt;stroke-linejoin:miter;stroke:rgb(26.666667%,26.666667%,26.666667%);stroke-opacity:1;stroke-miterlimit:10;\" d=\"M 53.101562 258.109375 L 46.320312 255.785156 \"/>\n",
       "<path style=\"fill:none;stroke-width:1;stroke-linecap:butt;stroke-linejoin:miter;stroke:rgb(26.666667%,26.666667%,26.666667%);stroke-opacity:1;stroke-miterlimit:10;\" d=\"M 55.117188 289.917969 L 46.320312 255.785156 \"/>\n",
       "<path style=\"fill:none;stroke-width:1;stroke-linecap:butt;stroke-linejoin:miter;stroke:rgb(26.666667%,26.666667%,26.666667%);stroke-opacity:1;stroke-miterlimit:10;\" d=\"M 89.292969 207 L 75.261719 240.457031 \"/>\n",
       "<path style=\"fill:none;stroke-width:1;stroke-linecap:butt;stroke-linejoin:miter;stroke:rgb(26.666667%,26.666667%,26.666667%);stroke-opacity:1;stroke-miterlimit:10;\" d=\"M 53.101562 258.109375 L 75.261719 240.457031 \"/>\n",
       "<path style=\"fill:none;stroke-width:1;stroke-linecap:butt;stroke-linejoin:miter;stroke:rgb(26.666667%,26.666667%,26.666667%);stroke-opacity:1;stroke-miterlimit:10;\" d=\"M 20 273.40625 L 75.261719 240.457031 \"/>\n",
       "<path style=\"fill:none;stroke-width:1;stroke-linecap:butt;stroke-linejoin:miter;stroke:rgb(26.666667%,26.666667%,26.666667%);stroke-opacity:1;stroke-miterlimit:10;\" d=\"M 45.144531 215.035156 L 51.617188 276.28125 \"/>\n",
       "<path style=\"fill:none;stroke-width:1;stroke-linecap:butt;stroke-linejoin:miter;stroke:rgb(26.666667%,26.666667%,26.666667%);stroke-opacity:1;stroke-miterlimit:10;\" d=\"M 47.414062 269.667969 L 51.617188 276.28125 \"/>\n",
       "<path style=\"fill:none;stroke-width:1;stroke-linecap:butt;stroke-linejoin:miter;stroke:rgb(26.666667%,26.666667%,26.666667%);stroke-opacity:1;stroke-miterlimit:10;\" d=\"M 25.226562 265.769531 L 64.945312 343.433594 \"/>\n",
       "<path style=\"fill:none;stroke-width:1;stroke-linecap:butt;stroke-linejoin:miter;stroke:rgb(26.666667%,26.666667%,26.666667%);stroke-opacity:1;stroke-miterlimit:10;\" d=\"M 39.238281 305.386719 L 55.597656 347.371094 \"/>\n",
       "<path style=\"fill:none;stroke-width:1;stroke-linecap:butt;stroke-linejoin:miter;stroke:rgb(26.666667%,26.666667%,26.666667%);stroke-opacity:1;stroke-miterlimit:10;\" d=\"M 64.945312 343.433594 L 55.597656 347.371094 \"/>\n",
       "<path style=\"fill:none;stroke-width:1;stroke-linecap:butt;stroke-linejoin:miter;stroke:rgb(26.666667%,26.666667%,26.666667%);stroke-opacity:1;stroke-miterlimit:10;\" d=\"M 39.238281 305.386719 L 30.410156 341.316406 \"/>\n",
       "<path style=\"fill:none;stroke-width:1;stroke-linecap:butt;stroke-linejoin:miter;stroke:rgb(26.666667%,26.666667%,26.666667%);stroke-opacity:1;stroke-miterlimit:10;\" d=\"M 39.238281 305.386719 L 39.125 388.097656 \"/>\n",
       "<path style=\"fill:none;stroke-width:1;stroke-linecap:butt;stroke-linejoin:miter;stroke:rgb(26.666667%,26.666667%,26.666667%);stroke-opacity:1;stroke-miterlimit:10;\" d=\"M 68.601562 259.300781 L 24.648438 337.589844 \"/>\n",
       "<path style=\"fill:none;stroke-width:1;stroke-linecap:butt;stroke-linejoin:miter;stroke:rgb(26.666667%,26.666667%,26.666667%);stroke-opacity:1;stroke-miterlimit:10;\" d=\"M 51.710938 345.410156 L 24.648438 337.589844 \"/>\n",
       "<path style=\"fill-rule:nonzero;fill:rgb(67.843137%,84.705882%,90.196078%);fill-opacity:1;stroke-width:1;stroke-linecap:butt;stroke-linejoin:miter;stroke:rgb(0%,0%,0%);stroke-opacity:1;stroke-miterlimit:10;\" d=\"M 565.710938 216.152344 C 565.710938 221.675781 561.234375 226.152344 555.710938 226.152344 C 550.191406 226.152344 545.710938 221.675781 545.710938 216.152344 C 545.710938 210.628906 550.191406 206.152344 555.710938 206.152344 C 561.234375 206.152344 565.710938 210.628906 565.710938 216.152344 \"/>\n",
       "<path style=\"fill-rule:nonzero;fill:rgb(67.843137%,84.705882%,90.196078%);fill-opacity:1;stroke-width:1;stroke-linecap:butt;stroke-linejoin:miter;stroke:rgb(0%,0%,0%);stroke-opacity:1;stroke-miterlimit:10;\" d=\"M 562.886719 219.121094 C 562.886719 224.644531 558.410156 229.121094 552.886719 229.121094 C 547.363281 229.121094 542.886719 224.644531 542.886719 219.121094 C 542.886719 213.601562 547.363281 209.121094 552.886719 209.121094 C 558.410156 209.121094 562.886719 213.601562 562.886719 219.121094 \"/>\n",
       "<path style=\"fill-rule:nonzero;fill:rgb(67.843137%,84.705882%,90.196078%);fill-opacity:1;stroke-width:1;stroke-linecap:butt;stroke-linejoin:miter;stroke:rgb(0%,0%,0%);stroke-opacity:1;stroke-miterlimit:10;\" d=\"M 568.066406 213.738281 C 568.066406 219.261719 563.589844 223.738281 558.066406 223.738281 C 552.546875 223.738281 548.066406 219.261719 548.066406 213.738281 C 548.066406 208.214844 552.546875 203.738281 558.066406 203.738281 C 563.589844 203.738281 568.066406 208.214844 568.066406 213.738281 \"/>\n",
       "<path style=\"fill-rule:nonzero;fill:rgb(67.843137%,84.705882%,90.196078%);fill-opacity:1;stroke-width:1;stroke-linecap:butt;stroke-linejoin:miter;stroke:rgb(0%,0%,0%);stroke-opacity:1;stroke-miterlimit:10;\" d=\"M 539.03125 281.125 C 539.03125 286.648438 534.554688 291.125 529.03125 291.125 C 523.507812 291.125 519.03125 286.648438 519.03125 281.125 C 519.03125 275.601562 523.507812 271.125 529.03125 271.125 C 534.554688 271.125 539.03125 275.601562 539.03125 281.125 \"/>\n",
       "<path style=\"fill-rule:nonzero;fill:rgb(67.843137%,84.705882%,90.196078%);fill-opacity:1;stroke-width:1;stroke-linecap:butt;stroke-linejoin:miter;stroke:rgb(0%,0%,0%);stroke-opacity:1;stroke-miterlimit:10;\" d=\"M 547.597656 257.199219 C 547.597656 262.722656 543.121094 267.199219 537.597656 267.199219 C 532.074219 267.199219 527.597656 262.722656 527.597656 257.199219 C 527.597656 251.675781 532.074219 247.199219 537.597656 247.199219 C 543.121094 247.199219 547.597656 251.675781 547.597656 257.199219 \"/>\n",
       "<path style=\"fill-rule:nonzero;fill:rgb(67.843137%,84.705882%,90.196078%);fill-opacity:1;stroke-width:1;stroke-linecap:butt;stroke-linejoin:miter;stroke:rgb(0%,0%,0%);stroke-opacity:1;stroke-miterlimit:10;\" d=\"M 590 270.441406 C 590 275.964844 585.523438 280.441406 580 280.441406 C 574.476562 280.441406 570 275.964844 570 270.441406 C 570 264.921875 574.476562 260.441406 580 260.441406 C 585.523438 260.441406 590 264.921875 590 270.441406 \"/>\n",
       "<path style=\"fill-rule:nonzero;fill:rgb(67.843137%,84.705882%,90.196078%);fill-opacity:1;stroke-width:1;stroke-linecap:butt;stroke-linejoin:miter;stroke:rgb(0%,0%,0%);stroke-opacity:1;stroke-miterlimit:10;\" d=\"M 550.773438 275.792969 C 550.773438 281.316406 546.296875 285.792969 540.773438 285.792969 C 535.25 285.792969 530.773438 281.316406 530.773438 275.792969 C 530.773438 270.269531 535.25 265.792969 540.773438 265.792969 C 546.296875 265.792969 550.773438 270.269531 550.773438 275.792969 \"/>\n",
       "<path style=\"fill-rule:nonzero;fill:rgb(67.843137%,84.705882%,90.196078%);fill-opacity:1;stroke-width:1;stroke-linecap:butt;stroke-linejoin:miter;stroke:rgb(0%,0%,0%);stroke-opacity:1;stroke-miterlimit:10;\" d=\"M 550.65625 247.292969 C 550.65625 252.816406 546.179688 257.292969 540.65625 257.292969 C 535.132812 257.292969 530.65625 252.816406 530.65625 247.292969 C 530.65625 241.773438 535.132812 237.292969 540.65625 237.292969 C 546.179688 237.292969 550.65625 241.773438 550.65625 247.292969 \"/>\n",
       "<path style=\"fill-rule:nonzero;fill:rgb(67.843137%,84.705882%,90.196078%);fill-opacity:1;stroke-width:1;stroke-linecap:butt;stroke-linejoin:miter;stroke:rgb(0%,0%,0%);stroke-opacity:1;stroke-miterlimit:10;\" d=\"M 580.65625 305.769531 C 580.65625 311.292969 576.179688 315.769531 570.65625 315.769531 C 565.132812 315.769531 560.65625 311.292969 560.65625 305.769531 C 560.65625 300.246094 565.132812 295.769531 570.65625 295.769531 C 576.179688 295.769531 580.65625 300.246094 580.65625 305.769531 \"/>\n",
       "<path style=\"fill-rule:nonzero;fill:rgb(67.843137%,84.705882%,90.196078%);fill-opacity:1;stroke-width:1;stroke-linecap:butt;stroke-linejoin:miter;stroke:rgb(0%,0%,0%);stroke-opacity:1;stroke-miterlimit:10;\" d=\"M 573.378906 333.042969 C 573.378906 338.5625 568.898438 343.042969 563.378906 343.042969 C 557.855469 343.042969 553.378906 338.5625 553.378906 333.042969 C 553.378906 327.519531 557.855469 323.042969 563.378906 323.042969 C 568.898438 323.042969 573.378906 327.519531 573.378906 333.042969 \"/>\n",
       "<path style=\"fill-rule:nonzero;fill:rgb(67.843137%,84.705882%,90.196078%);fill-opacity:1;stroke-width:1;stroke-linecap:butt;stroke-linejoin:miter;stroke:rgb(0%,0%,0%);stroke-opacity:1;stroke-miterlimit:10;\" d=\"M 552.554688 263.457031 C 552.554688 268.980469 548.078125 273.457031 542.554688 273.457031 C 537.03125 273.457031 532.554688 268.980469 532.554688 263.457031 C 532.554688 257.933594 537.03125 253.457031 542.554688 253.457031 C 548.078125 253.457031 552.554688 257.933594 552.554688 263.457031 \"/>\n",
       "<path style=\"fill-rule:nonzero;fill:rgb(67.843137%,84.705882%,90.196078%);fill-opacity:1;stroke-width:1;stroke-linecap:butt;stroke-linejoin:miter;stroke:rgb(0%,0%,0%);stroke-opacity:1;stroke-miterlimit:10;\" d=\"M 538.175781 313.9375 C 538.175781 319.460938 533.699219 323.9375 528.175781 323.9375 C 522.652344 323.9375 518.175781 319.460938 518.175781 313.9375 C 518.175781 308.414062 522.652344 303.9375 528.175781 303.9375 C 533.699219 303.9375 538.175781 308.414062 538.175781 313.9375 \"/>\n",
       "<path style=\"fill-rule:nonzero;fill:rgb(67.843137%,84.705882%,90.196078%);fill-opacity:1;stroke-width:1;stroke-linecap:butt;stroke-linejoin:miter;stroke:rgb(0%,0%,0%);stroke-opacity:1;stroke-miterlimit:10;\" d=\"M 525.9375 347.429688 C 525.9375 352.953125 521.460938 357.429688 515.9375 357.429688 C 510.414062 357.429688 505.9375 352.953125 505.9375 347.429688 C 505.9375 341.90625 510.414062 337.429688 515.9375 337.429688 C 521.460938 337.429688 525.9375 341.90625 525.9375 347.429688 \"/>\n",
       "<path style=\"fill-rule:nonzero;fill:rgb(67.843137%,84.705882%,90.196078%);fill-opacity:1;stroke-width:1;stroke-linecap:butt;stroke-linejoin:miter;stroke:rgb(0%,0%,0%);stroke-opacity:1;stroke-miterlimit:10;\" d=\"M 567.269531 305.984375 C 567.269531 311.507812 562.792969 315.984375 557.269531 315.984375 C 551.746094 315.984375 547.269531 311.507812 547.269531 305.984375 C 547.269531 300.460938 551.746094 295.984375 557.269531 295.984375 C 562.792969 295.984375 567.269531 300.460938 567.269531 305.984375 \"/>\n",
       "<path style=\"fill-rule:nonzero;fill:rgb(67.843137%,84.705882%,90.196078%);fill-opacity:1;stroke-width:1;stroke-linecap:butt;stroke-linejoin:miter;stroke:rgb(0%,0%,0%);stroke-opacity:1;stroke-miterlimit:10;\" d=\"M 564.058594 329.945312 C 564.058594 335.46875 559.582031 339.945312 554.058594 339.945312 C 548.535156 339.945312 544.058594 335.46875 544.058594 329.945312 C 544.058594 324.421875 548.535156 319.945312 554.058594 319.945312 C 559.582031 319.945312 564.058594 324.421875 564.058594 329.945312 \"/>\n",
       "<path style=\"fill-rule:nonzero;fill:rgb(67.843137%,84.705882%,90.196078%);fill-opacity:1;stroke-width:1;stroke-linecap:butt;stroke-linejoin:miter;stroke:rgb(0%,0%,0%);stroke-opacity:1;stroke-miterlimit:10;\" d=\"M 548.417969 378.261719 C 548.417969 383.785156 543.941406 388.261719 538.417969 388.261719 C 532.894531 388.261719 528.417969 383.785156 528.417969 378.261719 C 528.417969 372.738281 532.894531 368.261719 538.417969 368.261719 C 543.941406 368.261719 548.417969 372.738281 548.417969 378.261719 \"/>\n",
       "<path style=\"fill-rule:nonzero;fill:rgb(67.843137%,84.705882%,90.196078%);fill-opacity:1;stroke-width:1;stroke-linecap:butt;stroke-linejoin:miter;stroke:rgb(0%,0%,0%);stroke-opacity:1;stroke-miterlimit:10;\" d=\"M 542.460938 325.285156 C 542.460938 330.808594 537.980469 335.285156 532.460938 335.285156 C 526.9375 335.285156 522.460938 330.808594 522.460938 325.285156 C 522.460938 319.761719 526.9375 315.285156 532.460938 315.285156 C 537.980469 315.285156 542.460938 319.761719 542.460938 325.285156 \"/>\n",
       "<path style=\"fill-rule:nonzero;fill:rgb(67.843137%,84.705882%,90.196078%);fill-opacity:1;stroke-width:1;stroke-linecap:butt;stroke-linejoin:miter;stroke:rgb(0%,0%,0%);stroke-opacity:1;stroke-miterlimit:10;\" d=\"M 514.289062 381.5 C 514.289062 387.023438 509.8125 391.5 504.289062 391.5 C 498.765625 391.5 494.289062 387.023438 494.289062 381.5 C 494.289062 375.976562 498.765625 371.5 504.289062 371.5 C 509.8125 371.5 514.289062 375.976562 514.289062 381.5 \"/>\n",
       "<path style=\"fill-rule:nonzero;fill:rgb(67.843137%,84.705882%,90.196078%);fill-opacity:1;stroke-width:1;stroke-linecap:butt;stroke-linejoin:miter;stroke:rgb(0%,0%,0%);stroke-opacity:1;stroke-miterlimit:10;\" d=\"M 559.578125 369.320312 C 559.578125 374.84375 555.101562 379.320312 549.578125 379.320312 C 544.054688 379.320312 539.578125 374.84375 539.578125 369.320312 C 539.578125 363.796875 544.054688 359.320312 549.578125 359.320312 C 555.101562 359.320312 559.578125 363.796875 559.578125 369.320312 \"/>\n",
       "<path style=\"fill-rule:nonzero;fill:rgb(67.843137%,84.705882%,90.196078%);fill-opacity:1;stroke-width:1;stroke-linecap:butt;stroke-linejoin:miter;stroke:rgb(0%,0%,0%);stroke-opacity:1;stroke-miterlimit:10;\" d=\"M 521.652344 383.335938 C 521.652344 388.859375 517.175781 393.335938 511.652344 393.335938 C 506.132812 393.335938 501.652344 388.859375 501.652344 383.335938 C 501.652344 377.8125 506.132812 373.335938 511.652344 373.335938 C 517.175781 373.335938 521.652344 377.8125 521.652344 383.335938 \"/>\n",
       "<path style=\"fill-rule:nonzero;fill:rgb(67.843137%,84.705882%,90.196078%);fill-opacity:1;stroke-width:1;stroke-linecap:butt;stroke-linejoin:miter;stroke:rgb(0%,0%,0%);stroke-opacity:1;stroke-miterlimit:10;\" d=\"M 515.410156 413.757812 C 515.410156 419.277344 510.933594 423.757812 505.410156 423.757812 C 499.886719 423.757812 495.410156 419.277344 495.410156 413.757812 C 495.410156 408.234375 499.886719 403.757812 505.410156 403.757812 C 510.933594 403.757812 515.410156 408.234375 515.410156 413.757812 \"/>\n",
       "<path style=\"fill-rule:nonzero;fill:rgb(67.843137%,84.705882%,90.196078%);fill-opacity:1;stroke-width:1;stroke-linecap:butt;stroke-linejoin:miter;stroke:rgb(0%,0%,0%);stroke-opacity:1;stroke-miterlimit:10;\" d=\"M 549.347656 386.898438 C 549.347656 392.421875 544.871094 396.898438 539.347656 396.898438 C 533.828125 396.898438 529.347656 392.421875 529.347656 386.898438 C 529.347656 381.375 533.828125 376.898438 539.347656 376.898438 C 544.871094 376.898438 549.347656 381.375 549.347656 386.898438 \"/>\n",
       "<path style=\"fill-rule:nonzero;fill:rgb(67.843137%,84.705882%,90.196078%);fill-opacity:1;stroke-width:1;stroke-linecap:butt;stroke-linejoin:miter;stroke:rgb(0%,0%,0%);stroke-opacity:1;stroke-miterlimit:10;\" d=\"M 541.945312 421.082031 C 541.945312 426.601562 537.46875 431.082031 531.945312 431.082031 C 526.421875 431.082031 521.945312 426.601562 521.945312 421.082031 C 521.945312 415.558594 526.421875 411.082031 531.945312 411.082031 C 537.46875 411.082031 541.945312 415.558594 541.945312 421.082031 \"/>\n",
       "<path style=\"fill-rule:nonzero;fill:rgb(67.843137%,84.705882%,90.196078%);fill-opacity:1;stroke-width:1;stroke-linecap:butt;stroke-linejoin:miter;stroke:rgb(0%,0%,0%);stroke-opacity:1;stroke-miterlimit:10;\" d=\"M 525.800781 437.367188 C 525.800781 442.890625 521.324219 447.367188 515.800781 447.367188 C 510.277344 447.367188 505.800781 442.890625 505.800781 437.367188 C 505.800781 431.847656 510.277344 427.367188 515.800781 427.367188 C 521.324219 427.367188 525.800781 431.847656 525.800781 437.367188 \"/>\n",
       "<path style=\"fill-rule:nonzero;fill:rgb(67.843137%,84.705882%,90.196078%);fill-opacity:1;stroke-width:1;stroke-linecap:butt;stroke-linejoin:miter;stroke:rgb(0%,0%,0%);stroke-opacity:1;stroke-miterlimit:10;\" d=\"M 505.527344 371.554688 C 505.527344 377.078125 501.050781 381.554688 495.527344 381.554688 C 490.003906 381.554688 485.527344 377.078125 485.527344 371.554688 C 485.527344 366.03125 490.003906 361.554688 495.527344 361.554688 C 501.050781 361.554688 505.527344 366.03125 505.527344 371.554688 \"/>\n",
       "<path style=\"fill-rule:nonzero;fill:rgb(67.843137%,84.705882%,90.196078%);fill-opacity:1;stroke-width:1;stroke-linecap:butt;stroke-linejoin:miter;stroke:rgb(0%,0%,0%);stroke-opacity:1;stroke-miterlimit:10;\" d=\"M 463.78125 396.503906 C 463.78125 402.027344 459.304688 406.503906 453.78125 406.503906 C 448.257812 406.503906 443.78125 402.027344 443.78125 396.503906 C 443.78125 390.980469 448.257812 386.503906 453.78125 386.503906 C 459.304688 386.503906 463.78125 390.980469 463.78125 396.503906 \"/>\n",
       "<path style=\"fill-rule:nonzero;fill:rgb(67.843137%,84.705882%,90.196078%);fill-opacity:1;stroke-width:1;stroke-linecap:butt;stroke-linejoin:miter;stroke:rgb(0%,0%,0%);stroke-opacity:1;stroke-miterlimit:10;\" d=\"M 506.773438 446.585938 C 506.773438 452.109375 502.296875 456.585938 496.773438 456.585938 C 491.25 456.585938 486.773438 452.109375 486.773438 446.585938 C 486.773438 441.0625 491.25 436.585938 496.773438 436.585938 C 502.296875 436.585938 506.773438 441.0625 506.773438 446.585938 \"/>\n",
       "<path style=\"fill-rule:nonzero;fill:rgb(67.843137%,84.705882%,90.196078%);fill-opacity:1;stroke-width:1;stroke-linecap:butt;stroke-linejoin:miter;stroke:rgb(0%,0%,0%);stroke-opacity:1;stroke-miterlimit:10;\" d=\"M 491.191406 475.65625 C 491.191406 481.179688 486.714844 485.65625 481.191406 485.65625 C 475.667969 485.65625 471.191406 481.179688 471.191406 475.65625 C 471.191406 470.132812 475.667969 465.65625 481.191406 465.65625 C 486.714844 465.65625 491.191406 470.132812 491.191406 475.65625 \"/>\n",
       "<path style=\"fill-rule:nonzero;fill:rgb(67.843137%,84.705882%,90.196078%);fill-opacity:1;stroke-width:1;stroke-linecap:butt;stroke-linejoin:miter;stroke:rgb(0%,0%,0%);stroke-opacity:1;stroke-miterlimit:10;\" d=\"M 506.929688 486.308594 C 506.929688 491.832031 502.453125 496.308594 496.929688 496.308594 C 491.40625 496.308594 486.929688 491.832031 486.929688 486.308594 C 486.929688 480.789062 491.40625 476.308594 496.929688 476.308594 C 502.453125 476.308594 506.929688 480.789062 506.929688 486.308594 \"/>\n",
       "<path style=\"fill-rule:nonzero;fill:rgb(67.843137%,84.705882%,90.196078%);fill-opacity:1;stroke-width:1;stroke-linecap:butt;stroke-linejoin:miter;stroke:rgb(0%,0%,0%);stroke-opacity:1;stroke-miterlimit:10;\" d=\"M 504.5 488.203125 C 504.5 493.726562 500.019531 498.203125 494.5 498.203125 C 488.976562 498.203125 484.5 493.726562 484.5 488.203125 C 484.5 482.679688 488.976562 478.203125 494.5 478.203125 C 500.019531 478.203125 504.5 482.679688 504.5 488.203125 \"/>\n",
       "<path style=\"fill-rule:nonzero;fill:rgb(67.843137%,84.705882%,90.196078%);fill-opacity:1;stroke-width:1;stroke-linecap:butt;stroke-linejoin:miter;stroke:rgb(0%,0%,0%);stroke-opacity:1;stroke-miterlimit:10;\" d=\"M 480.722656 498.628906 C 480.722656 504.152344 476.246094 508.628906 470.722656 508.628906 C 465.203125 508.628906 460.722656 504.152344 460.722656 498.628906 C 460.722656 493.105469 465.203125 488.628906 470.722656 488.628906 C 476.246094 488.628906 480.722656 493.105469 480.722656 498.628906 \"/>\n",
       "<path style=\"fill-rule:nonzero;fill:rgb(67.843137%,84.705882%,90.196078%);fill-opacity:1;stroke-width:1;stroke-linecap:butt;stroke-linejoin:miter;stroke:rgb(0%,0%,0%);stroke-opacity:1;stroke-miterlimit:10;\" d=\"M 485.640625 450.007812 C 485.640625 455.53125 481.164062 460.007812 475.640625 460.007812 C 470.121094 460.007812 465.640625 455.53125 465.640625 450.007812 C 465.640625 444.484375 470.121094 440.007812 475.640625 440.007812 C 481.164062 440.007812 485.640625 444.484375 485.640625 450.007812 \"/>\n",
       "<path style=\"fill-rule:nonzero;fill:rgb(67.843137%,84.705882%,90.196078%);fill-opacity:1;stroke-width:1;stroke-linecap:butt;stroke-linejoin:miter;stroke:rgb(0%,0%,0%);stroke-opacity:1;stroke-miterlimit:10;\" d=\"M 490.695312 436.507812 C 490.695312 442.03125 486.21875 446.507812 480.695312 446.507812 C 475.175781 446.507812 470.695312 442.03125 470.695312 436.507812 C 470.695312 430.984375 475.175781 426.507812 480.695312 426.507812 C 486.21875 426.507812 490.695312 430.984375 490.695312 436.507812 \"/>\n",
       "<path style=\"fill-rule:nonzero;fill:rgb(67.843137%,84.705882%,90.196078%);fill-opacity:1;stroke-width:1;stroke-linecap:butt;stroke-linejoin:miter;stroke:rgb(0%,0%,0%);stroke-opacity:1;stroke-miterlimit:10;\" d=\"M 510.972656 460.746094 C 510.972656 466.265625 506.496094 470.746094 500.972656 470.746094 C 495.449219 470.746094 490.972656 466.265625 490.972656 460.746094 C 490.972656 455.222656 495.449219 450.746094 500.972656 450.746094 C 506.496094 450.746094 510.972656 455.222656 510.972656 460.746094 \"/>\n",
       "<path style=\"fill-rule:nonzero;fill:rgb(67.843137%,84.705882%,90.196078%);fill-opacity:1;stroke-width:1;stroke-linecap:butt;stroke-linejoin:miter;stroke:rgb(0%,0%,0%);stroke-opacity:1;stroke-miterlimit:10;\" d=\"M 469.230469 402.457031 C 469.230469 407.980469 464.753906 412.457031 459.230469 412.457031 C 453.710938 412.457031 449.230469 407.980469 449.230469 402.457031 C 449.230469 396.933594 453.710938 392.457031 459.230469 392.457031 C 464.753906 392.457031 469.230469 396.933594 469.230469 402.457031 \"/>\n",
       "<path style=\"fill-rule:nonzero;fill:rgb(67.843137%,84.705882%,90.196078%);fill-opacity:1;stroke-width:1;stroke-linecap:butt;stroke-linejoin:miter;stroke:rgb(0%,0%,0%);stroke-opacity:1;stroke-miterlimit:10;\" d=\"M 445.601562 452.242188 C 445.601562 457.765625 441.125 462.242188 435.601562 462.242188 C 430.078125 462.242188 425.601562 457.765625 425.601562 452.242188 C 425.601562 446.722656 430.078125 442.242188 435.601562 442.242188 C 441.125 442.242188 445.601562 446.722656 445.601562 452.242188 \"/>\n",
       "<path style=\"fill-rule:nonzero;fill:rgb(67.843137%,84.705882%,90.196078%);fill-opacity:1;stroke-width:1;stroke-linecap:butt;stroke-linejoin:miter;stroke:rgb(0%,0%,0%);stroke-opacity:1;stroke-miterlimit:10;\" d=\"M 471.667969 517.59375 C 471.667969 523.117188 467.191406 527.59375 461.667969 527.59375 C 456.144531 527.59375 451.667969 523.117188 451.667969 517.59375 C 451.667969 512.070312 456.144531 507.59375 461.667969 507.59375 C 467.191406 507.59375 471.667969 512.070312 471.667969 517.59375 \"/>\n",
       "<path style=\"fill-rule:nonzero;fill:rgb(67.843137%,84.705882%,90.196078%);fill-opacity:1;stroke-width:1;stroke-linecap:butt;stroke-linejoin:miter;stroke:rgb(0%,0%,0%);stroke-opacity:1;stroke-miterlimit:10;\" d=\"M 441.082031 471.898438 C 441.082031 477.421875 436.605469 481.898438 431.082031 481.898438 C 425.558594 481.898438 421.082031 477.421875 421.082031 471.898438 C 421.082031 466.375 425.558594 461.898438 431.082031 461.898438 C 436.605469 461.898438 441.082031 466.375 441.082031 471.898438 \"/>\n",
       "<path style=\"fill-rule:nonzero;fill:rgb(67.843137%,84.705882%,90.196078%);fill-opacity:1;stroke-width:1;stroke-linecap:butt;stroke-linejoin:miter;stroke:rgb(0%,0%,0%);stroke-opacity:1;stroke-miterlimit:10;\" d=\"M 423.328125 483.816406 C 423.328125 489.339844 418.847656 493.816406 413.328125 493.816406 C 407.804688 493.816406 403.328125 489.339844 403.328125 483.816406 C 403.328125 478.292969 407.804688 473.816406 413.328125 473.816406 C 418.847656 473.816406 423.328125 478.292969 423.328125 483.816406 \"/>\n",
       "<path style=\"fill-rule:nonzero;fill:rgb(67.843137%,84.705882%,90.196078%);fill-opacity:1;stroke-width:1;stroke-linecap:butt;stroke-linejoin:miter;stroke:rgb(0%,0%,0%);stroke-opacity:1;stroke-miterlimit:10;\" d=\"M 441.121094 519.304688 C 441.121094 524.828125 436.644531 529.304688 431.121094 529.304688 C 425.597656 529.304688 421.121094 524.828125 421.121094 519.304688 C 421.121094 513.785156 425.597656 509.304688 431.121094 509.304688 C 436.644531 509.304688 441.121094 513.785156 441.121094 519.304688 \"/>\n",
       "<path style=\"fill-rule:nonzero;fill:rgb(67.843137%,84.705882%,90.196078%);fill-opacity:1;stroke-width:1;stroke-linecap:butt;stroke-linejoin:miter;stroke:rgb(0%,0%,0%);stroke-opacity:1;stroke-miterlimit:10;\" d=\"M 421.671875 456.878906 C 421.671875 462.402344 417.195312 466.878906 411.671875 466.878906 C 406.152344 466.878906 401.671875 462.402344 401.671875 456.878906 C 401.671875 451.355469 406.152344 446.878906 411.671875 446.878906 C 417.195312 446.878906 421.671875 451.355469 421.671875 456.878906 \"/>\n",
       "<path style=\"fill-rule:nonzero;fill:rgb(67.843137%,84.705882%,90.196078%);fill-opacity:1;stroke-width:1;stroke-linecap:butt;stroke-linejoin:miter;stroke:rgb(0%,0%,0%);stroke-opacity:1;stroke-miterlimit:10;\" d=\"M 488.804688 502.152344 C 488.804688 507.675781 484.328125 512.152344 478.804688 512.152344 C 473.28125 512.152344 468.804688 507.675781 468.804688 502.152344 C 468.804688 496.632812 473.28125 492.152344 478.804688 492.152344 C 484.328125 492.152344 488.804688 496.632812 488.804688 502.152344 \"/>\n",
       "<path style=\"fill-rule:nonzero;fill:rgb(67.843137%,84.705882%,90.196078%);fill-opacity:1;stroke-width:1;stroke-linecap:butt;stroke-linejoin:miter;stroke:rgb(0%,0%,0%);stroke-opacity:1;stroke-miterlimit:10;\" d=\"M 403.761719 485.421875 C 403.761719 490.945312 399.285156 495.421875 393.761719 495.421875 C 388.238281 495.421875 383.761719 490.945312 383.761719 485.421875 C 383.761719 479.898438 388.238281 475.421875 393.761719 475.421875 C 399.285156 475.421875 403.761719 479.898438 403.761719 485.421875 \"/>\n",
       "<path style=\"fill-rule:nonzero;fill:rgb(67.843137%,84.705882%,90.196078%);fill-opacity:1;stroke-width:1;stroke-linecap:butt;stroke-linejoin:miter;stroke:rgb(0%,0%,0%);stroke-opacity:1;stroke-miterlimit:10;\" d=\"M 415.273438 512.804688 C 415.273438 518.328125 410.796875 522.804688 405.273438 522.804688 C 399.75 522.804688 395.273438 518.328125 395.273438 512.804688 C 395.273438 507.28125 399.75 502.804688 405.273438 502.804688 C 410.796875 502.804688 415.273438 507.28125 415.273438 512.804688 \"/>\n",
       "<path style=\"fill-rule:nonzero;fill:rgb(67.843137%,84.705882%,90.196078%);fill-opacity:1;stroke-width:1;stroke-linecap:butt;stroke-linejoin:miter;stroke:rgb(0%,0%,0%);stroke-opacity:1;stroke-miterlimit:10;\" d=\"M 392.570312 486.234375 C 392.570312 491.757812 388.09375 496.234375 382.570312 496.234375 C 377.046875 496.234375 372.570312 491.757812 372.570312 486.234375 C 372.570312 480.710938 377.046875 476.234375 382.570312 476.234375 C 388.09375 476.234375 392.570312 480.710938 392.570312 486.234375 \"/>\n",
       "<path style=\"fill-rule:nonzero;fill:rgb(67.843137%,84.705882%,90.196078%);fill-opacity:1;stroke-width:1;stroke-linecap:butt;stroke-linejoin:miter;stroke:rgb(0%,0%,0%);stroke-opacity:1;stroke-miterlimit:10;\" d=\"M 424.261719 470.253906 C 424.261719 475.777344 419.785156 480.253906 414.261719 480.253906 C 408.738281 480.253906 404.261719 475.777344 404.261719 470.253906 C 404.261719 464.730469 408.738281 460.253906 414.261719 460.253906 C 419.785156 460.253906 424.261719 464.730469 424.261719 470.253906 \"/>\n",
       "<path style=\"fill-rule:nonzero;fill:rgb(67.843137%,84.705882%,90.196078%);fill-opacity:1;stroke-width:1;stroke-linecap:butt;stroke-linejoin:miter;stroke:rgb(0%,0%,0%);stroke-opacity:1;stroke-miterlimit:10;\" d=\"M 391.976562 525.980469 C 391.976562 531.503906 387.5 535.980469 381.976562 535.980469 C 376.457031 535.980469 371.976562 531.503906 371.976562 525.980469 C 371.976562 520.460938 376.457031 515.980469 381.976562 515.980469 C 387.5 515.980469 391.976562 520.460938 391.976562 525.980469 \"/>\n",
       "<path style=\"fill-rule:nonzero;fill:rgb(67.843137%,84.705882%,90.196078%);fill-opacity:1;stroke-width:1;stroke-linecap:butt;stroke-linejoin:miter;stroke:rgb(0%,0%,0%);stroke-opacity:1;stroke-miterlimit:10;\" d=\"M 395.914062 534.089844 C 395.914062 539.613281 391.4375 544.089844 385.914062 544.089844 C 380.390625 544.089844 375.914062 539.613281 375.914062 534.089844 C 375.914062 528.566406 380.390625 524.089844 385.914062 524.089844 C 391.4375 524.089844 395.914062 528.566406 395.914062 534.089844 \"/>\n",
       "<path style=\"fill-rule:nonzero;fill:rgb(67.843137%,84.705882%,90.196078%);fill-opacity:1;stroke-width:1;stroke-linecap:butt;stroke-linejoin:miter;stroke:rgb(0%,0%,0%);stroke-opacity:1;stroke-miterlimit:10;\" d=\"M 397.261719 580 C 397.261719 585.523438 392.785156 590 387.261719 590 C 381.742188 590 377.261719 585.523438 377.261719 580 C 377.261719 574.476562 381.742188 570 387.261719 570 C 392.785156 570 397.261719 574.476562 397.261719 580 \"/>\n",
       "<path style=\"fill-rule:nonzero;fill:rgb(67.843137%,84.705882%,90.196078%);fill-opacity:1;stroke-width:1;stroke-linecap:butt;stroke-linejoin:miter;stroke:rgb(0%,0%,0%);stroke-opacity:1;stroke-miterlimit:10;\" d=\"M 388.46875 484.972656 C 388.46875 490.492188 383.992188 494.972656 378.46875 494.972656 C 372.949219 494.972656 368.46875 490.492188 368.46875 484.972656 C 368.46875 479.449219 372.949219 474.972656 378.46875 474.972656 C 383.992188 474.972656 388.46875 479.449219 388.46875 484.972656 \"/>\n",
       "<path style=\"fill-rule:nonzero;fill:rgb(67.843137%,84.705882%,90.196078%);fill-opacity:1;stroke-width:1;stroke-linecap:butt;stroke-linejoin:miter;stroke:rgb(0%,0%,0%);stroke-opacity:1;stroke-miterlimit:10;\" d=\"M 397.445312 364.550781 C 397.445312 370.074219 392.96875 374.550781 387.445312 374.550781 C 381.925781 374.550781 377.445312 370.074219 377.445312 364.550781 C 377.445312 359.027344 381.925781 354.550781 387.445312 354.550781 C 392.96875 354.550781 397.445312 359.027344 397.445312 364.550781 \"/>\n",
       "<path style=\"fill-rule:nonzero;fill:rgb(67.843137%,84.705882%,90.196078%);fill-opacity:1;stroke-width:1;stroke-linecap:butt;stroke-linejoin:miter;stroke:rgb(0%,0%,0%);stroke-opacity:1;stroke-miterlimit:10;\" d=\"M 364.457031 306.519531 C 364.457031 312.042969 359.976562 316.519531 354.457031 316.519531 C 348.933594 316.519531 344.457031 312.042969 344.457031 306.519531 C 344.457031 300.996094 348.933594 296.519531 354.457031 296.519531 C 359.976562 296.519531 364.457031 300.996094 364.457031 306.519531 \"/>\n",
       "<path style=\"fill-rule:nonzero;fill:rgb(67.843137%,84.705882%,90.196078%);fill-opacity:1;stroke-width:1;stroke-linecap:butt;stroke-linejoin:miter;stroke:rgb(0%,0%,0%);stroke-opacity:1;stroke-miterlimit:10;\" d=\"M 372.144531 342.203125 C 372.144531 347.722656 367.667969 352.203125 362.144531 352.203125 C 356.621094 352.203125 352.144531 347.722656 352.144531 342.203125 C 352.144531 336.679688 356.621094 332.203125 362.144531 332.203125 C 367.667969 332.203125 372.144531 336.679688 372.144531 342.203125 \"/>\n",
       "<path style=\"fill-rule:nonzero;fill:rgb(67.843137%,84.705882%,90.196078%);fill-opacity:1;stroke-width:1;stroke-linecap:butt;stroke-linejoin:miter;stroke:rgb(0%,0%,0%);stroke-opacity:1;stroke-miterlimit:10;\" d=\"M 363.316406 297.703125 C 363.316406 303.226562 358.839844 307.703125 353.316406 307.703125 C 347.792969 307.703125 343.316406 303.226562 343.316406 297.703125 C 343.316406 292.179688 347.792969 287.703125 353.316406 287.703125 C 358.839844 287.703125 363.316406 292.179688 363.316406 297.703125 \"/>\n",
       "<path style=\"fill-rule:nonzero;fill:rgb(67.843137%,84.705882%,90.196078%);fill-opacity:1;stroke-width:1;stroke-linecap:butt;stroke-linejoin:miter;stroke:rgb(0%,0%,0%);stroke-opacity:1;stroke-miterlimit:10;\" d=\"M 390.996094 331.101562 C 390.996094 336.621094 386.519531 341.101562 380.996094 341.101562 C 375.472656 341.101562 370.996094 336.621094 370.996094 331.101562 C 370.996094 325.578125 375.472656 321.101562 380.996094 321.101562 C 386.519531 321.101562 390.996094 325.578125 390.996094 331.101562 \"/>\n",
       "<path style=\"fill-rule:nonzero;fill:rgb(67.843137%,84.705882%,90.196078%);fill-opacity:1;stroke-width:1;stroke-linecap:butt;stroke-linejoin:miter;stroke:rgb(0%,0%,0%);stroke-opacity:1;stroke-miterlimit:10;\" d=\"M 389.675781 329.261719 C 389.675781 334.785156 385.199219 339.261719 379.675781 339.261719 C 374.15625 339.261719 369.675781 334.785156 369.675781 329.261719 C 369.675781 323.738281 374.15625 319.261719 379.675781 319.261719 C 385.199219 319.261719 389.675781 323.738281 389.675781 329.261719 \"/>\n",
       "<path style=\"fill-rule:nonzero;fill:rgb(67.843137%,84.705882%,90.196078%);fill-opacity:1;stroke-width:1;stroke-linecap:butt;stroke-linejoin:miter;stroke:rgb(0%,0%,0%);stroke-opacity:1;stroke-miterlimit:10;\" d=\"M 349.828125 541.78125 C 349.828125 547.300781 345.351562 551.78125 339.828125 551.78125 C 334.308594 551.78125 329.828125 547.300781 329.828125 541.78125 C 329.828125 536.257812 334.308594 531.78125 339.828125 531.78125 C 345.351562 531.78125 349.828125 536.257812 349.828125 541.78125 \"/>\n",
       "<path style=\"fill-rule:nonzero;fill:rgb(67.843137%,84.705882%,90.196078%);fill-opacity:1;stroke-width:1;stroke-linecap:butt;stroke-linejoin:miter;stroke:rgb(0%,0%,0%);stroke-opacity:1;stroke-miterlimit:10;\" d=\"M 382.332031 300.65625 C 382.332031 306.179688 377.855469 310.65625 372.332031 310.65625 C 366.808594 310.65625 362.332031 306.179688 362.332031 300.65625 C 362.332031 295.132812 366.808594 290.65625 372.332031 290.65625 C 377.855469 290.65625 382.332031 295.132812 382.332031 300.65625 \"/>\n",
       "<path style=\"fill-rule:nonzero;fill:rgb(67.843137%,84.705882%,90.196078%);fill-opacity:1;stroke-width:1;stroke-linecap:butt;stroke-linejoin:miter;stroke:rgb(0%,0%,0%);stroke-opacity:1;stroke-miterlimit:10;\" d=\"M 384.355469 337.59375 C 384.355469 343.117188 379.875 347.59375 374.355469 347.59375 C 368.832031 347.59375 364.355469 343.117188 364.355469 337.59375 C 364.355469 332.070312 368.832031 327.59375 374.355469 327.59375 C 379.875 327.59375 384.355469 332.070312 384.355469 337.59375 \"/>\n",
       "<path style=\"fill-rule:nonzero;fill:rgb(67.843137%,84.705882%,90.196078%);fill-opacity:1;stroke-width:1;stroke-linecap:butt;stroke-linejoin:miter;stroke:rgb(0%,0%,0%);stroke-opacity:1;stroke-miterlimit:10;\" d=\"M 393.800781 254.347656 C 393.800781 259.871094 389.324219 264.347656 383.800781 264.347656 C 378.277344 264.347656 373.800781 259.871094 373.800781 254.347656 C 373.800781 248.824219 378.277344 244.347656 383.800781 244.347656 C 389.324219 244.347656 393.800781 248.824219 393.800781 254.347656 \"/>\n",
       "<path style=\"fill-rule:nonzero;fill:rgb(67.843137%,84.705882%,90.196078%);fill-opacity:1;stroke-width:1;stroke-linecap:butt;stroke-linejoin:miter;stroke:rgb(0%,0%,0%);stroke-opacity:1;stroke-miterlimit:10;\" d=\"M 371.132812 294.914062 C 371.132812 300.4375 366.65625 304.914062 361.132812 304.914062 C 355.609375 304.914062 351.132812 300.4375 351.132812 294.914062 C 351.132812 289.390625 355.609375 284.914062 361.132812 284.914062 C 366.65625 284.914062 371.132812 289.390625 371.132812 294.914062 \"/>\n",
       "<path style=\"fill-rule:nonzero;fill:rgb(67.843137%,84.705882%,90.196078%);fill-opacity:1;stroke-width:1;stroke-linecap:butt;stroke-linejoin:miter;stroke:rgb(0%,0%,0%);stroke-opacity:1;stroke-miterlimit:10;\" d=\"M 391.84375 525.679688 C 391.84375 531.203125 387.367188 535.679688 381.84375 535.679688 C 376.320312 535.679688 371.84375 531.203125 371.84375 525.679688 C 371.84375 520.15625 376.320312 515.679688 381.84375 515.679688 C 387.367188 515.679688 391.84375 520.15625 391.84375 525.679688 \"/>\n",
       "<path style=\"fill-rule:nonzero;fill:rgb(67.843137%,84.705882%,90.196078%);fill-opacity:1;stroke-width:1;stroke-linecap:butt;stroke-linejoin:miter;stroke:rgb(0%,0%,0%);stroke-opacity:1;stroke-miterlimit:10;\" d=\"M 379.605469 299.085938 C 379.605469 304.609375 375.128906 309.085938 369.605469 309.085938 C 364.082031 309.085938 359.605469 304.609375 359.605469 299.085938 C 359.605469 293.5625 364.082031 289.085938 369.605469 289.085938 C 375.128906 289.085938 379.605469 293.5625 379.605469 299.085938 \"/>\n",
       "<path style=\"fill-rule:nonzero;fill:rgb(67.843137%,84.705882%,90.196078%);fill-opacity:1;stroke-width:1;stroke-linecap:butt;stroke-linejoin:miter;stroke:rgb(0%,0%,0%);stroke-opacity:1;stroke-miterlimit:10;\" d=\"M 345.453125 269.078125 C 345.453125 274.601562 340.972656 279.078125 335.453125 279.078125 C 329.929688 279.078125 325.453125 274.601562 325.453125 269.078125 C 325.453125 263.554688 329.929688 259.078125 335.453125 259.078125 C 340.972656 259.078125 345.453125 263.554688 345.453125 269.078125 \"/>\n",
       "<path style=\"fill-rule:nonzero;fill:rgb(67.843137%,84.705882%,90.196078%);fill-opacity:1;stroke-width:1;stroke-linecap:butt;stroke-linejoin:miter;stroke:rgb(0%,0%,0%);stroke-opacity:1;stroke-miterlimit:10;\" d=\"M 423.460938 256.253906 C 423.460938 261.773438 418.984375 266.253906 413.460938 266.253906 C 407.9375 266.253906 403.460938 261.773438 403.460938 256.253906 C 403.460938 250.730469 407.9375 246.253906 413.460938 246.253906 C 418.984375 246.253906 423.460938 250.730469 423.460938 256.253906 \"/>\n",
       "<path style=\"fill-rule:nonzero;fill:rgb(67.843137%,84.705882%,90.196078%);fill-opacity:1;stroke-width:1;stroke-linecap:butt;stroke-linejoin:miter;stroke:rgb(0%,0%,0%);stroke-opacity:1;stroke-miterlimit:10;\" d=\"M 362.808594 539.960938 C 362.808594 545.484375 358.328125 549.960938 352.808594 549.960938 C 347.285156 549.960938 342.808594 545.484375 342.808594 539.960938 C 342.808594 534.4375 347.285156 529.960938 352.808594 529.960938 C 358.328125 529.960938 362.808594 534.4375 362.808594 539.960938 \"/>\n",
       "<path style=\"fill-rule:nonzero;fill:rgb(67.843137%,84.705882%,90.196078%);fill-opacity:1;stroke-width:1;stroke-linecap:butt;stroke-linejoin:miter;stroke:rgb(0%,0%,0%);stroke-opacity:1;stroke-miterlimit:10;\" d=\"M 374.160156 236.484375 C 374.160156 242.007812 369.679688 246.484375 364.160156 246.484375 C 358.636719 246.484375 354.160156 242.007812 354.160156 236.484375 C 354.160156 230.960938 358.636719 226.484375 364.160156 226.484375 C 369.679688 226.484375 374.160156 230.960938 374.160156 236.484375 \"/>\n",
       "<path style=\"fill-rule:nonzero;fill:rgb(67.843137%,84.705882%,90.196078%);fill-opacity:1;stroke-width:1;stroke-linecap:butt;stroke-linejoin:miter;stroke:rgb(0%,0%,0%);stroke-opacity:1;stroke-miterlimit:10;\" d=\"M 370.066406 223.847656 C 370.066406 229.371094 365.589844 233.847656 360.066406 233.847656 C 354.542969 233.847656 350.066406 229.371094 350.066406 223.847656 C 350.066406 218.324219 354.542969 213.847656 360.066406 213.847656 C 365.589844 213.847656 370.066406 218.324219 370.066406 223.847656 \"/>\n",
       "<path style=\"fill-rule:nonzero;fill:rgb(67.843137%,84.705882%,90.196078%);fill-opacity:1;stroke-width:1;stroke-linecap:butt;stroke-linejoin:miter;stroke:rgb(0%,0%,0%);stroke-opacity:1;stroke-miterlimit:10;\" d=\"M 380.460938 484.335938 C 380.460938 489.859375 375.984375 494.335938 370.460938 494.335938 C 364.9375 494.335938 360.460938 489.859375 360.460938 484.335938 C 360.460938 478.8125 364.9375 474.335938 370.460938 474.335938 C 375.984375 474.335938 380.460938 478.8125 380.460938 484.335938 \"/>\n",
       "<path style=\"fill-rule:nonzero;fill:rgb(67.843137%,84.705882%,90.196078%);fill-opacity:1;stroke-width:1;stroke-linecap:butt;stroke-linejoin:miter;stroke:rgb(0%,0%,0%);stroke-opacity:1;stroke-miterlimit:10;\" d=\"M 350.992188 228.328125 C 350.992188 233.851562 346.515625 238.328125 340.992188 238.328125 C 335.472656 238.328125 330.992188 233.851562 330.992188 228.328125 C 330.992188 222.808594 335.472656 218.328125 340.992188 218.328125 C 346.515625 218.328125 350.992188 222.808594 350.992188 228.328125 \"/>\n",
       "<path style=\"fill-rule:nonzero;fill:rgb(67.843137%,84.705882%,90.196078%);fill-opacity:1;stroke-width:1;stroke-linecap:butt;stroke-linejoin:miter;stroke:rgb(0%,0%,0%);stroke-opacity:1;stroke-miterlimit:10;\" d=\"M 360.695312 196.589844 C 360.695312 202.113281 356.21875 206.589844 350.695312 206.589844 C 345.175781 206.589844 340.695312 202.113281 340.695312 196.589844 C 340.695312 191.066406 345.175781 186.589844 350.695312 186.589844 C 356.21875 186.589844 360.695312 191.066406 360.695312 196.589844 \"/>\n",
       "<path style=\"fill-rule:nonzero;fill:rgb(67.843137%,84.705882%,90.196078%);fill-opacity:1;stroke-width:1;stroke-linecap:butt;stroke-linejoin:miter;stroke:rgb(0%,0%,0%);stroke-opacity:1;stroke-miterlimit:10;\" d=\"M 350 190.613281 C 350 196.136719 345.523438 200.613281 340 200.613281 C 334.476562 200.613281 330 196.136719 330 190.613281 C 330 185.089844 334.476562 180.613281 340 180.613281 C 345.523438 180.613281 350 185.089844 350 190.613281 \"/>\n",
       "<path style=\"fill-rule:nonzero;fill:rgb(67.843137%,84.705882%,90.196078%);fill-opacity:1;stroke-width:1;stroke-linecap:butt;stroke-linejoin:miter;stroke:rgb(0%,0%,0%);stroke-opacity:1;stroke-miterlimit:10;\" d=\"M 356.675781 498.238281 C 356.675781 503.761719 352.195312 508.238281 346.675781 508.238281 C 341.152344 508.238281 336.675781 503.761719 336.675781 498.238281 C 336.675781 492.714844 341.152344 488.238281 346.675781 488.238281 C 352.195312 488.238281 356.675781 492.714844 356.675781 498.238281 \"/>\n",
       "<path style=\"fill-rule:nonzero;fill:rgb(67.843137%,84.705882%,90.196078%);fill-opacity:1;stroke-width:1;stroke-linecap:butt;stroke-linejoin:miter;stroke:rgb(0%,0%,0%);stroke-opacity:1;stroke-miterlimit:10;\" d=\"M 359.695312 250.988281 C 359.695312 256.511719 355.21875 260.988281 349.695312 260.988281 C 344.171875 260.988281 339.695312 256.511719 339.695312 250.988281 C 339.695312 245.464844 344.171875 240.988281 349.695312 240.988281 C 355.21875 240.988281 359.695312 245.464844 359.695312 250.988281 \"/>\n",
       "<path style=\"fill-rule:nonzero;fill:rgb(67.843137%,84.705882%,90.196078%);fill-opacity:1;stroke-width:1;stroke-linecap:butt;stroke-linejoin:miter;stroke:rgb(0%,0%,0%);stroke-opacity:1;stroke-miterlimit:10;\" d=\"M 357.929688 470.535156 C 357.929688 476.058594 353.453125 480.535156 347.929688 480.535156 C 342.40625 480.535156 337.929688 476.058594 337.929688 470.535156 C 337.929688 465.011719 342.40625 460.535156 347.929688 460.535156 C 353.453125 460.535156 357.929688 465.011719 357.929688 470.535156 \"/>\n",
       "<path style=\"fill-rule:nonzero;fill:rgb(67.843137%,84.705882%,90.196078%);fill-opacity:1;stroke-width:1;stroke-linecap:butt;stroke-linejoin:miter;stroke:rgb(0%,0%,0%);stroke-opacity:1;stroke-miterlimit:10;\" d=\"M 363.289062 226.632812 C 363.289062 232.15625 358.8125 236.632812 353.289062 236.632812 C 347.769531 236.632812 343.289062 232.15625 343.289062 226.632812 C 343.289062 221.113281 347.769531 216.632812 353.289062 216.632812 C 358.8125 216.632812 363.289062 221.113281 363.289062 226.632812 \"/>\n",
       "<path style=\"fill-rule:nonzero;fill:rgb(67.843137%,84.705882%,90.196078%);fill-opacity:1;stroke-width:1;stroke-linecap:butt;stroke-linejoin:miter;stroke:rgb(0%,0%,0%);stroke-opacity:1;stroke-miterlimit:10;\" d=\"M 364.464844 226.628906 C 364.464844 232.148438 359.988281 236.628906 354.464844 236.628906 C 348.941406 236.628906 344.464844 232.148438 344.464844 226.628906 C 344.464844 221.105469 348.941406 216.628906 354.464844 216.628906 C 359.988281 216.628906 364.464844 221.105469 364.464844 226.628906 \"/>\n",
       "<path style=\"fill-rule:nonzero;fill:rgb(67.843137%,84.705882%,90.196078%);fill-opacity:1;stroke-width:1;stroke-linecap:butt;stroke-linejoin:miter;stroke:rgb(0%,0%,0%);stroke-opacity:1;stroke-miterlimit:10;\" d=\"M 337.371094 493.320312 C 337.371094 498.84375 332.890625 503.320312 327.371094 503.320312 C 321.847656 503.320312 317.371094 498.84375 317.371094 493.320312 C 317.371094 487.796875 321.847656 483.320312 327.371094 483.320312 C 332.890625 483.320312 337.371094 487.796875 337.371094 493.320312 \"/>\n",
       "<path style=\"fill-rule:nonzero;fill:rgb(67.843137%,84.705882%,90.196078%);fill-opacity:1;stroke-width:1;stroke-linecap:butt;stroke-linejoin:miter;stroke:rgb(0%,0%,0%);stroke-opacity:1;stroke-miterlimit:10;\" d=\"M 337.339844 181.988281 C 337.339844 187.511719 332.859375 191.988281 327.339844 191.988281 C 321.816406 191.988281 317.339844 187.511719 317.339844 181.988281 C 317.339844 176.464844 321.816406 171.988281 327.339844 171.988281 C 332.859375 171.988281 337.339844 176.464844 337.339844 181.988281 \"/>\n",
       "<path style=\"fill-rule:nonzero;fill:rgb(67.843137%,84.705882%,90.196078%);fill-opacity:1;stroke-width:1;stroke-linecap:butt;stroke-linejoin:miter;stroke:rgb(0%,0%,0%);stroke-opacity:1;stroke-miterlimit:10;\" d=\"M 344.457031 183.527344 C 344.457031 189.050781 339.980469 193.527344 334.457031 193.527344 C 328.9375 193.527344 324.457031 189.050781 324.457031 183.527344 C 324.457031 178.003906 328.9375 173.527344 334.457031 173.527344 C 339.980469 173.527344 344.457031 178.003906 344.457031 183.527344 \"/>\n",
       "<path style=\"fill-rule:nonzero;fill:rgb(67.843137%,84.705882%,90.196078%);fill-opacity:1;stroke-width:1;stroke-linecap:butt;stroke-linejoin:miter;stroke:rgb(0%,0%,0%);stroke-opacity:1;stroke-miterlimit:10;\" d=\"M 374.867188 555.816406 C 374.867188 561.339844 370.390625 565.816406 364.867188 565.816406 C 359.347656 565.816406 354.867188 561.339844 354.867188 555.816406 C 354.867188 550.296875 359.347656 545.816406 364.867188 545.816406 C 370.390625 545.816406 374.867188 550.296875 374.867188 555.816406 \"/>\n",
       "<path style=\"fill-rule:nonzero;fill:rgb(67.843137%,84.705882%,90.196078%);fill-opacity:1;stroke-width:1;stroke-linecap:butt;stroke-linejoin:miter;stroke:rgb(0%,0%,0%);stroke-opacity:1;stroke-miterlimit:10;\" d=\"M 362.957031 162.183594 C 362.957031 167.707031 358.480469 172.183594 352.957031 172.183594 C 347.433594 172.183594 342.957031 167.707031 342.957031 162.183594 C 342.957031 156.660156 347.433594 152.183594 352.957031 152.183594 C 358.480469 152.183594 362.957031 156.660156 362.957031 162.183594 \"/>\n",
       "<path style=\"fill-rule:nonzero;fill:rgb(67.843137%,84.705882%,90.196078%);fill-opacity:1;stroke-width:1;stroke-linecap:butt;stroke-linejoin:miter;stroke:rgb(0%,0%,0%);stroke-opacity:1;stroke-miterlimit:10;\" d=\"M 343.460938 522.5 C 343.460938 528.023438 338.980469 532.5 333.460938 532.5 C 327.9375 532.5 323.460938 528.023438 323.460938 522.5 C 323.460938 516.976562 327.9375 512.5 333.460938 512.5 C 338.980469 512.5 343.460938 516.976562 343.460938 522.5 \"/>\n",
       "<path style=\"fill-rule:nonzero;fill:rgb(67.843137%,84.705882%,90.196078%);fill-opacity:1;stroke-width:1;stroke-linecap:butt;stroke-linejoin:miter;stroke:rgb(0%,0%,0%);stroke-opacity:1;stroke-miterlimit:10;\" d=\"M 372.121094 165.164062 C 372.121094 170.683594 367.644531 175.164062 362.121094 175.164062 C 356.597656 175.164062 352.121094 170.683594 352.121094 165.164062 C 352.121094 159.640625 356.597656 155.164062 362.121094 155.164062 C 367.644531 155.164062 372.121094 159.640625 372.121094 165.164062 \"/>\n",
       "<path style=\"fill-rule:nonzero;fill:rgb(67.843137%,84.705882%,90.196078%);fill-opacity:1;stroke-width:1;stroke-linecap:butt;stroke-linejoin:miter;stroke:rgb(0%,0%,0%);stroke-opacity:1;stroke-miterlimit:10;\" d=\"M 334.863281 490.71875 C 334.863281 496.242188 330.386719 500.71875 324.863281 500.71875 C 319.339844 500.71875 314.863281 496.242188 314.863281 490.71875 C 314.863281 485.195312 319.339844 480.71875 324.863281 480.71875 C 330.386719 480.71875 334.863281 485.195312 334.863281 490.71875 \"/>\n",
       "<path style=\"fill-rule:nonzero;fill:rgb(67.843137%,84.705882%,90.196078%);fill-opacity:1;stroke-width:1;stroke-linecap:butt;stroke-linejoin:miter;stroke:rgb(0%,0%,0%);stroke-opacity:1;stroke-miterlimit:10;\" d=\"M 339.804688 127.449219 C 339.804688 132.972656 335.324219 137.449219 329.804688 137.449219 C 324.28125 137.449219 319.804688 132.972656 319.804688 127.449219 C 319.804688 121.925781 324.28125 117.449219 329.804688 117.449219 C 335.324219 117.449219 339.804688 121.925781 339.804688 127.449219 \"/>\n",
       "<path style=\"fill-rule:nonzero;fill:rgb(67.843137%,84.705882%,90.196078%);fill-opacity:1;stroke-width:1;stroke-linecap:butt;stroke-linejoin:miter;stroke:rgb(0%,0%,0%);stroke-opacity:1;stroke-miterlimit:10;\" d=\"M 325.917969 178.488281 C 325.917969 184.011719 321.441406 188.488281 315.917969 188.488281 C 310.394531 188.488281 305.917969 184.011719 305.917969 178.488281 C 305.917969 172.964844 310.394531 168.488281 315.917969 168.488281 C 321.441406 168.488281 325.917969 172.964844 325.917969 178.488281 \"/>\n",
       "<path style=\"fill-rule:nonzero;fill:rgb(67.843137%,84.705882%,90.196078%);fill-opacity:1;stroke-width:1;stroke-linecap:butt;stroke-linejoin:miter;stroke:rgb(0%,0%,0%);stroke-opacity:1;stroke-miterlimit:10;\" d=\"M 314.203125 486.898438 C 314.203125 492.421875 309.726562 496.898438 304.203125 496.898438 C 298.679688 496.898438 294.203125 492.421875 294.203125 486.898438 C 294.203125 481.378906 298.679688 476.898438 304.203125 476.898438 C 309.726562 476.898438 314.203125 481.378906 314.203125 486.898438 \"/>\n",
       "<path style=\"fill-rule:nonzero;fill:rgb(67.843137%,84.705882%,90.196078%);fill-opacity:1;stroke-width:1;stroke-linecap:butt;stroke-linejoin:miter;stroke:rgb(0%,0%,0%);stroke-opacity:1;stroke-miterlimit:10;\" d=\"M 309.78125 101.59375 C 309.78125 107.117188 305.304688 111.59375 299.78125 111.59375 C 294.257812 111.59375 289.78125 107.117188 289.78125 101.59375 C 289.78125 96.070312 294.257812 91.59375 299.78125 91.59375 C 305.304688 91.59375 309.78125 96.070312 309.78125 101.59375 \"/>\n",
       "<path style=\"fill-rule:nonzero;fill:rgb(67.843137%,84.705882%,90.196078%);fill-opacity:1;stroke-width:1;stroke-linecap:butt;stroke-linejoin:miter;stroke:rgb(0%,0%,0%);stroke-opacity:1;stroke-miterlimit:10;\" d=\"M 317.78125 500.972656 C 317.78125 506.492188 313.304688 510.972656 307.78125 510.972656 C 302.261719 510.972656 297.78125 506.492188 297.78125 500.972656 C 297.78125 495.449219 302.261719 490.972656 307.78125 490.972656 C 313.304688 490.972656 317.78125 495.449219 317.78125 500.972656 \"/>\n",
       "<path style=\"fill-rule:nonzero;fill:rgb(67.843137%,84.705882%,90.196078%);fill-opacity:1;stroke-width:1;stroke-linecap:butt;stroke-linejoin:miter;stroke:rgb(0%,0%,0%);stroke-opacity:1;stroke-miterlimit:10;\" d=\"M 358.105469 116.226562 C 358.105469 121.75 353.628906 126.226562 348.105469 126.226562 C 342.585938 126.226562 338.105469 121.75 338.105469 116.226562 C 338.105469 110.707031 342.585938 106.226562 348.105469 106.226562 C 353.628906 106.226562 358.105469 110.707031 358.105469 116.226562 \"/>\n",
       "<path style=\"fill-rule:nonzero;fill:rgb(67.843137%,84.705882%,90.196078%);fill-opacity:1;stroke-width:1;stroke-linecap:butt;stroke-linejoin:miter;stroke:rgb(0%,0%,0%);stroke-opacity:1;stroke-miterlimit:10;\" d=\"M 315.621094 463.003906 C 315.621094 468.527344 311.144531 473.003906 305.621094 473.003906 C 300.097656 473.003906 295.621094 468.527344 295.621094 463.003906 C 295.621094 457.480469 300.097656 453.003906 305.621094 453.003906 C 311.144531 453.003906 315.621094 457.480469 315.621094 463.003906 \"/>\n",
       "<path style=\"fill-rule:nonzero;fill:rgb(67.843137%,84.705882%,90.196078%);fill-opacity:1;stroke-width:1;stroke-linecap:butt;stroke-linejoin:miter;stroke:rgb(0%,0%,0%);stroke-opacity:1;stroke-miterlimit:10;\" d=\"M 284.4375 123.664062 C 284.4375 129.1875 279.960938 133.664062 274.4375 133.664062 C 268.914062 133.664062 264.4375 129.1875 264.4375 123.664062 C 264.4375 118.140625 268.914062 113.664062 274.4375 113.664062 C 279.960938 113.664062 284.4375 118.140625 284.4375 123.664062 \"/>\n",
       "<path style=\"fill-rule:nonzero;fill:rgb(67.843137%,84.705882%,90.196078%);fill-opacity:1;stroke-width:1;stroke-linecap:butt;stroke-linejoin:miter;stroke:rgb(0%,0%,0%);stroke-opacity:1;stroke-miterlimit:10;\" d=\"M 306.0625 479.089844 C 306.0625 484.613281 301.585938 489.089844 296.0625 489.089844 C 290.539062 489.089844 286.0625 484.613281 286.0625 479.089844 C 286.0625 473.570312 290.539062 469.089844 296.0625 469.089844 C 301.585938 469.089844 306.0625 473.570312 306.0625 479.089844 \"/>\n",
       "<path style=\"fill-rule:nonzero;fill:rgb(67.843137%,84.705882%,90.196078%);fill-opacity:1;stroke-width:1;stroke-linecap:butt;stroke-linejoin:miter;stroke:rgb(0%,0%,0%);stroke-opacity:1;stroke-miterlimit:10;\" d=\"M 301.515625 161.871094 C 301.515625 167.394531 297.039062 171.871094 291.515625 171.871094 C 285.992188 171.871094 281.515625 167.394531 281.515625 161.871094 C 281.515625 156.347656 285.992188 151.871094 291.515625 151.871094 C 297.039062 151.871094 301.515625 156.347656 301.515625 161.871094 \"/>\n",
       "<path style=\"fill-rule:nonzero;fill:rgb(67.843137%,84.705882%,90.196078%);fill-opacity:1;stroke-width:1;stroke-linecap:butt;stroke-linejoin:miter;stroke:rgb(0%,0%,0%);stroke-opacity:1;stroke-miterlimit:10;\" d=\"M 300.300781 531.152344 C 300.300781 536.675781 295.824219 541.152344 290.300781 541.152344 C 284.777344 541.152344 280.300781 536.675781 280.300781 531.152344 C 280.300781 525.628906 284.777344 521.152344 290.300781 521.152344 C 295.824219 521.152344 300.300781 525.628906 300.300781 531.152344 \"/>\n",
       "<path style=\"fill-rule:nonzero;fill:rgb(67.843137%,84.705882%,90.196078%);fill-opacity:1;stroke-width:1;stroke-linecap:butt;stroke-linejoin:miter;stroke:rgb(0%,0%,0%);stroke-opacity:1;stroke-miterlimit:10;\" d=\"M 313.53125 138.457031 C 313.53125 143.976562 309.050781 148.457031 303.53125 148.457031 C 298.007812 148.457031 293.53125 143.976562 293.53125 138.457031 C 293.53125 132.933594 298.007812 128.457031 303.53125 128.457031 C 309.050781 128.457031 313.53125 132.933594 313.53125 138.457031 \"/>\n",
       "<path style=\"fill-rule:nonzero;fill:rgb(67.843137%,84.705882%,90.196078%);fill-opacity:1;stroke-width:1;stroke-linecap:butt;stroke-linejoin:miter;stroke:rgb(0%,0%,0%);stroke-opacity:1;stroke-miterlimit:10;\" d=\"M 299.871094 474.226562 C 299.871094 479.75 295.394531 484.226562 289.871094 484.226562 C 284.347656 484.226562 279.871094 479.75 279.871094 474.226562 C 279.871094 468.703125 284.347656 464.226562 289.871094 464.226562 C 295.394531 464.226562 299.871094 468.703125 299.871094 474.226562 \"/>\n",
       "<path style=\"fill-rule:nonzero;fill:rgb(67.843137%,84.705882%,90.196078%);fill-opacity:1;stroke-width:1;stroke-linecap:butt;stroke-linejoin:miter;stroke:rgb(0%,0%,0%);stroke-opacity:1;stroke-miterlimit:10;\" d=\"M 306.160156 134.152344 C 306.160156 139.675781 301.683594 144.152344 296.160156 144.152344 C 290.636719 144.152344 286.160156 139.675781 286.160156 134.152344 C 286.160156 128.628906 290.636719 124.152344 296.160156 124.152344 C 301.683594 124.152344 306.160156 128.628906 306.160156 134.152344 \"/>\n",
       "<path style=\"fill-rule:nonzero;fill:rgb(67.843137%,84.705882%,90.196078%);fill-opacity:1;stroke-width:1;stroke-linecap:butt;stroke-linejoin:miter;stroke:rgb(0%,0%,0%);stroke-opacity:1;stroke-miterlimit:10;\" d=\"M 292.070312 477.210938 C 292.070312 482.734375 287.59375 487.210938 282.070312 487.210938 C 276.546875 487.210938 272.070312 482.734375 272.070312 477.210938 C 272.070312 471.6875 276.546875 467.210938 282.070312 467.210938 C 287.59375 467.210938 292.070312 471.6875 292.070312 477.210938 \"/>\n",
       "<path style=\"fill-rule:nonzero;fill:rgb(67.843137%,84.705882%,90.196078%);fill-opacity:1;stroke-width:1;stroke-linecap:butt;stroke-linejoin:miter;stroke:rgb(0%,0%,0%);stroke-opacity:1;stroke-miterlimit:10;\" d=\"M 279.101562 136.507812 C 279.101562 142.03125 274.625 146.507812 269.101562 146.507812 C 263.578125 146.507812 259.101562 142.03125 259.101562 136.507812 C 259.101562 130.984375 263.578125 126.507812 269.101562 126.507812 C 274.625 126.507812 279.101562 130.984375 279.101562 136.507812 \"/>\n",
       "<path style=\"fill-rule:nonzero;fill:rgb(67.843137%,84.705882%,90.196078%);fill-opacity:1;stroke-width:1;stroke-linecap:butt;stroke-linejoin:miter;stroke:rgb(0%,0%,0%);stroke-opacity:1;stroke-miterlimit:10;\" d=\"M 277.59375 437.515625 C 277.59375 443.035156 273.117188 447.515625 267.59375 447.515625 C 262.070312 447.515625 257.59375 443.035156 257.59375 437.515625 C 257.59375 431.992188 262.070312 427.515625 267.59375 427.515625 C 273.117188 427.515625 277.59375 431.992188 277.59375 437.515625 \"/>\n",
       "<path style=\"fill-rule:nonzero;fill:rgb(67.843137%,84.705882%,90.196078%);fill-opacity:1;stroke-width:1;stroke-linecap:butt;stroke-linejoin:miter;stroke:rgb(0%,0%,0%);stroke-opacity:1;stroke-miterlimit:10;\" d=\"M 291.660156 105.175781 C 291.660156 110.699219 287.183594 115.175781 281.660156 115.175781 C 276.136719 115.175781 271.660156 110.699219 271.660156 105.175781 C 271.660156 99.652344 276.136719 95.175781 281.660156 95.175781 C 287.183594 95.175781 291.660156 99.652344 291.660156 105.175781 \"/>\n",
       "<path style=\"fill-rule:nonzero;fill:rgb(67.843137%,84.705882%,90.196078%);fill-opacity:1;stroke-width:1;stroke-linecap:butt;stroke-linejoin:miter;stroke:rgb(0%,0%,0%);stroke-opacity:1;stroke-miterlimit:10;\" d=\"M 297.726562 478.691406 C 297.726562 484.214844 293.25 488.691406 287.726562 488.691406 C 282.203125 488.691406 277.726562 484.214844 277.726562 478.691406 C 277.726562 473.171875 282.203125 468.691406 287.726562 468.691406 C 293.25 468.691406 297.726562 473.171875 297.726562 478.691406 \"/>\n",
       "<path style=\"fill-rule:nonzero;fill:rgb(67.843137%,84.705882%,90.196078%);fill-opacity:1;stroke-width:1;stroke-linecap:butt;stroke-linejoin:miter;stroke:rgb(0%,0%,0%);stroke-opacity:1;stroke-miterlimit:10;\" d=\"M 304.8125 106.011719 C 304.8125 111.535156 300.335938 116.011719 294.8125 116.011719 C 289.292969 116.011719 284.8125 111.535156 284.8125 106.011719 C 284.8125 100.488281 289.292969 96.011719 294.8125 96.011719 C 300.335938 96.011719 304.8125 100.488281 304.8125 106.011719 \"/>\n",
       "<path style=\"fill-rule:nonzero;fill:rgb(67.843137%,84.705882%,90.196078%);fill-opacity:1;stroke-width:1;stroke-linecap:butt;stroke-linejoin:miter;stroke:rgb(0%,0%,0%);stroke-opacity:1;stroke-miterlimit:10;\" d=\"M 315.871094 444.589844 C 315.871094 450.109375 311.394531 454.589844 305.871094 454.589844 C 300.347656 454.589844 295.871094 450.109375 295.871094 444.589844 C 295.871094 439.066406 300.347656 434.589844 305.871094 434.589844 C 311.394531 434.589844 315.871094 439.066406 315.871094 444.589844 \"/>\n",
       "<path style=\"fill-rule:nonzero;fill:rgb(67.843137%,84.705882%,90.196078%);fill-opacity:1;stroke-width:1;stroke-linecap:butt;stroke-linejoin:miter;stroke:rgb(0%,0%,0%);stroke-opacity:1;stroke-miterlimit:10;\" d=\"M 281.078125 141.367188 C 281.078125 146.886719 276.601562 151.367188 271.078125 151.367188 C 265.554688 151.367188 261.078125 146.886719 261.078125 141.367188 C 261.078125 135.84375 265.554688 131.367188 271.078125 131.367188 C 276.601562 131.367188 281.078125 135.84375 281.078125 141.367188 \"/>\n",
       "<path style=\"fill-rule:nonzero;fill:rgb(67.843137%,84.705882%,90.196078%);fill-opacity:1;stroke-width:1;stroke-linecap:butt;stroke-linejoin:miter;stroke:rgb(0%,0%,0%);stroke-opacity:1;stroke-miterlimit:10;\" d=\"M 266.207031 434.058594 C 266.207031 439.582031 261.730469 444.058594 256.207031 444.058594 C 250.683594 444.058594 246.207031 439.582031 246.207031 434.058594 C 246.207031 428.535156 250.683594 424.058594 256.207031 424.058594 C 261.730469 424.058594 266.207031 428.535156 266.207031 434.058594 \"/>\n",
       "<path style=\"fill-rule:nonzero;fill:rgb(67.843137%,84.705882%,90.196078%);fill-opacity:1;stroke-width:1;stroke-linecap:butt;stroke-linejoin:miter;stroke:rgb(0%,0%,0%);stroke-opacity:1;stroke-miterlimit:10;\" d=\"M 270.390625 47.488281 C 270.390625 53.011719 265.914062 57.488281 260.390625 57.488281 C 254.867188 57.488281 250.390625 53.011719 250.390625 47.488281 C 250.390625 41.964844 254.867188 37.488281 260.390625 37.488281 C 265.914062 37.488281 270.390625 41.964844 270.390625 47.488281 \"/>\n",
       "<path style=\"fill-rule:nonzero;fill:rgb(67.843137%,84.705882%,90.196078%);fill-opacity:1;stroke-width:1;stroke-linecap:butt;stroke-linejoin:miter;stroke:rgb(0%,0%,0%);stroke-opacity:1;stroke-miterlimit:10;\" d=\"M 308.136719 392.246094 C 308.136719 397.769531 303.660156 402.246094 298.136719 402.246094 C 292.613281 402.246094 288.136719 397.769531 288.136719 392.246094 C 288.136719 386.722656 292.613281 382.246094 298.136719 382.246094 C 303.660156 382.246094 308.136719 386.722656 308.136719 392.246094 \"/>\n",
       "<path style=\"fill-rule:nonzero;fill:rgb(67.843137%,84.705882%,90.196078%);fill-opacity:1;stroke-width:1;stroke-linecap:butt;stroke-linejoin:miter;stroke:rgb(0%,0%,0%);stroke-opacity:1;stroke-miterlimit:10;\" d=\"M 274.328125 88.242188 C 274.328125 93.765625 269.851562 98.242188 264.328125 98.242188 C 258.804688 98.242188 254.328125 93.765625 254.328125 88.242188 C 254.328125 82.71875 258.804688 78.242188 264.328125 78.242188 C 269.851562 78.242188 274.328125 82.71875 274.328125 88.242188 \"/>\n",
       "<path style=\"fill-rule:nonzero;fill:rgb(67.843137%,84.705882%,90.196078%);fill-opacity:1;stroke-width:1;stroke-linecap:butt;stroke-linejoin:miter;stroke:rgb(0%,0%,0%);stroke-opacity:1;stroke-miterlimit:10;\" d=\"M 286.191406 453.296875 C 286.191406 458.816406 281.714844 463.296875 276.191406 463.296875 C 270.667969 463.296875 266.191406 458.816406 266.191406 453.296875 C 266.191406 447.773438 270.667969 443.296875 276.191406 443.296875 C 281.714844 443.296875 286.191406 447.773438 286.191406 453.296875 \"/>\n",
       "<path style=\"fill-rule:nonzero;fill:rgb(67.843137%,84.705882%,90.196078%);fill-opacity:1;stroke-width:1;stroke-linecap:butt;stroke-linejoin:miter;stroke:rgb(0%,0%,0%);stroke-opacity:1;stroke-miterlimit:10;\" d=\"M 271.105469 33.199219 C 271.105469 38.722656 266.625 43.199219 261.105469 43.199219 C 255.582031 43.199219 251.105469 38.722656 251.105469 33.199219 C 251.105469 27.675781 255.582031 23.199219 261.105469 23.199219 C 266.625 23.199219 271.105469 27.675781 271.105469 33.199219 \"/>\n",
       "<path style=\"fill-rule:nonzero;fill:rgb(67.843137%,84.705882%,90.196078%);fill-opacity:1;stroke-width:1;stroke-linecap:butt;stroke-linejoin:miter;stroke:rgb(0%,0%,0%);stroke-opacity:1;stroke-miterlimit:10;\" d=\"M 253.171875 407.070312 C 253.171875 412.59375 248.695312 417.070312 243.171875 417.070312 C 237.648438 417.070312 233.171875 412.59375 233.171875 407.070312 C 233.171875 401.550781 237.648438 397.070312 243.171875 397.070312 C 248.695312 397.070312 253.171875 401.550781 253.171875 407.070312 \"/>\n",
       "<path style=\"fill-rule:nonzero;fill:rgb(67.843137%,84.705882%,90.196078%);fill-opacity:1;stroke-width:1;stroke-linecap:butt;stroke-linejoin:miter;stroke:rgb(0%,0%,0%);stroke-opacity:1;stroke-miterlimit:10;\" d=\"M 269.476562 443.679688 C 269.476562 449.203125 265 453.679688 259.476562 453.679688 C 253.953125 453.679688 249.476562 449.203125 249.476562 443.679688 C 249.476562 438.15625 253.953125 433.679688 259.476562 433.679688 C 265 433.679688 269.476562 438.15625 269.476562 443.679688 \"/>\n",
       "<path style=\"fill-rule:nonzero;fill:rgb(67.843137%,84.705882%,90.196078%);fill-opacity:1;stroke-width:1;stroke-linecap:butt;stroke-linejoin:miter;stroke:rgb(0%,0%,0%);stroke-opacity:1;stroke-miterlimit:10;\" d=\"M 265.640625 72.585938 C 265.640625 78.105469 261.160156 82.585938 255.640625 82.585938 C 250.117188 82.585938 245.640625 78.105469 245.640625 72.585938 C 245.640625 67.0625 250.117188 62.585938 255.640625 62.585938 C 261.160156 62.585938 265.640625 67.0625 265.640625 72.585938 \"/>\n",
       "<path style=\"fill-rule:nonzero;fill:rgb(67.843137%,84.705882%,90.196078%);fill-opacity:1;stroke-width:1;stroke-linecap:butt;stroke-linejoin:miter;stroke:rgb(0%,0%,0%);stroke-opacity:1;stroke-miterlimit:10;\" d=\"M 298.082031 431.164062 C 298.082031 436.6875 293.605469 441.164062 288.082031 441.164062 C 282.558594 441.164062 278.082031 436.6875 278.082031 431.164062 C 278.082031 425.640625 282.558594 421.164062 288.082031 421.164062 C 293.605469 421.164062 298.082031 425.640625 298.082031 431.164062 \"/>\n",
       "<path style=\"fill-rule:nonzero;fill:rgb(67.843137%,84.705882%,90.196078%);fill-opacity:1;stroke-width:1;stroke-linecap:butt;stroke-linejoin:miter;stroke:rgb(0%,0%,0%);stroke-opacity:1;stroke-miterlimit:10;\" d=\"M 235.113281 81.621094 C 235.113281 87.144531 230.636719 91.621094 225.113281 91.621094 C 219.589844 91.621094 215.113281 87.144531 215.113281 81.621094 C 215.113281 76.097656 219.589844 71.621094 225.113281 71.621094 C 230.636719 71.621094 235.113281 76.097656 235.113281 81.621094 \"/>\n",
       "<path style=\"fill-rule:nonzero;fill:rgb(67.843137%,84.705882%,90.196078%);fill-opacity:1;stroke-width:1;stroke-linecap:butt;stroke-linejoin:miter;stroke:rgb(0%,0%,0%);stroke-opacity:1;stroke-miterlimit:10;\" d=\"M 252.109375 391.574219 C 252.109375 397.097656 247.632812 401.574219 242.109375 401.574219 C 236.585938 401.574219 232.109375 397.097656 232.109375 391.574219 C 232.109375 386.050781 236.585938 381.574219 242.109375 381.574219 C 247.632812 381.574219 252.109375 386.050781 252.109375 391.574219 \"/>\n",
       "<path style=\"fill-rule:nonzero;fill:rgb(67.843137%,84.705882%,90.196078%);fill-opacity:1;stroke-width:1;stroke-linecap:butt;stroke-linejoin:miter;stroke:rgb(0%,0%,0%);stroke-opacity:1;stroke-miterlimit:10;\" d=\"M 268.984375 46.007812 C 268.984375 51.527344 264.507812 56.007812 258.984375 56.007812 C 253.460938 56.007812 248.984375 51.527344 248.984375 46.007812 C 248.984375 40.484375 253.460938 36.007812 258.984375 36.007812 C 264.507812 36.007812 268.984375 40.484375 268.984375 46.007812 \"/>\n",
       "<path style=\"fill-rule:nonzero;fill:rgb(67.843137%,84.705882%,90.196078%);fill-opacity:1;stroke-width:1;stroke-linecap:butt;stroke-linejoin:miter;stroke:rgb(0%,0%,0%);stroke-opacity:1;stroke-miterlimit:10;\" d=\"M 250.375 438.480469 C 250.375 444.003906 245.898438 448.480469 240.375 448.480469 C 234.851562 448.480469 230.375 444.003906 230.375 438.480469 C 230.375 432.957031 234.851562 428.480469 240.375 428.480469 C 245.898438 428.480469 250.375 432.957031 250.375 438.480469 \"/>\n",
       "<path style=\"fill-rule:nonzero;fill:rgb(67.843137%,84.705882%,90.196078%);fill-opacity:1;stroke-width:1;stroke-linecap:butt;stroke-linejoin:miter;stroke:rgb(0%,0%,0%);stroke-opacity:1;stroke-miterlimit:10;\" d=\"M 263.960938 415.933594 C 263.960938 421.457031 259.484375 425.933594 253.960938 425.933594 C 248.441406 425.933594 243.960938 421.457031 243.960938 415.933594 C 243.960938 410.410156 248.441406 405.933594 253.960938 405.933594 C 259.484375 405.933594 263.960938 410.410156 263.960938 415.933594 \"/>\n",
       "<path style=\"fill-rule:nonzero;fill:rgb(67.843137%,84.705882%,90.196078%);fill-opacity:1;stroke-width:1;stroke-linecap:butt;stroke-linejoin:miter;stroke:rgb(0%,0%,0%);stroke-opacity:1;stroke-miterlimit:10;\" d=\"M 238.378906 102.128906 C 238.378906 107.652344 233.902344 112.128906 228.378906 112.128906 C 222.855469 112.128906 218.378906 107.652344 218.378906 102.128906 C 218.378906 96.609375 222.855469 92.128906 228.378906 92.128906 C 233.902344 92.128906 238.378906 96.609375 238.378906 102.128906 \"/>\n",
       "<path style=\"fill-rule:nonzero;fill:rgb(67.843137%,84.705882%,90.196078%);fill-opacity:1;stroke-width:1;stroke-linecap:butt;stroke-linejoin:miter;stroke:rgb(0%,0%,0%);stroke-opacity:1;stroke-miterlimit:10;\" d=\"M 230.328125 403.371094 C 230.328125 408.894531 225.847656 413.371094 220.328125 413.371094 C 214.804688 413.371094 210.328125 408.894531 210.328125 403.371094 C 210.328125 397.847656 214.804688 393.371094 220.328125 393.371094 C 225.847656 393.371094 230.328125 397.847656 230.328125 403.371094 \"/>\n",
       "<path style=\"fill-rule:nonzero;fill:rgb(67.843137%,84.705882%,90.196078%);fill-opacity:1;stroke-width:1;stroke-linecap:butt;stroke-linejoin:miter;stroke:rgb(0%,0%,0%);stroke-opacity:1;stroke-miterlimit:10;\" d=\"M 225.082031 369.703125 C 225.082031 375.226562 220.605469 379.703125 215.082031 379.703125 C 209.558594 379.703125 205.082031 375.226562 205.082031 369.703125 C 205.082031 364.183594 209.558594 359.703125 215.082031 359.703125 C 220.605469 359.703125 225.082031 364.183594 225.082031 369.703125 \"/>\n",
       "<path style=\"fill-rule:nonzero;fill:rgb(67.843137%,84.705882%,90.196078%);fill-opacity:1;stroke-width:1;stroke-linecap:butt;stroke-linejoin:miter;stroke:rgb(0%,0%,0%);stroke-opacity:1;stroke-miterlimit:10;\" d=\"M 270.792969 38.972656 C 270.792969 44.496094 266.316406 48.972656 260.792969 48.972656 C 255.269531 48.972656 250.792969 44.496094 250.792969 38.972656 C 250.792969 33.449219 255.269531 28.972656 260.792969 28.972656 C 266.316406 28.972656 270.792969 33.449219 270.792969 38.972656 \"/>\n",
       "<path style=\"fill-rule:nonzero;fill:rgb(67.843137%,84.705882%,90.196078%);fill-opacity:1;stroke-width:1;stroke-linecap:butt;stroke-linejoin:miter;stroke:rgb(0%,0%,0%);stroke-opacity:1;stroke-miterlimit:10;\" d=\"M 238.644531 380.714844 C 238.644531 386.238281 234.167969 390.714844 228.644531 390.714844 C 223.121094 390.714844 218.644531 386.238281 218.644531 380.714844 C 218.644531 375.191406 223.121094 370.714844 228.644531 370.714844 C 234.167969 370.714844 238.644531 375.191406 238.644531 380.714844 \"/>\n",
       "<path style=\"fill-rule:nonzero;fill:rgb(67.843137%,84.705882%,90.196078%);fill-opacity:1;stroke-width:1;stroke-linecap:butt;stroke-linejoin:miter;stroke:rgb(0%,0%,0%);stroke-opacity:1;stroke-miterlimit:10;\" d=\"M 234.433594 20 C 234.433594 25.523438 229.957031 30 224.433594 30 C 218.910156 30 214.433594 25.523438 214.433594 20 C 214.433594 14.476562 218.910156 10 224.433594 10 C 229.957031 10 234.433594 14.476562 234.433594 20 \"/>\n",
       "<path style=\"fill-rule:nonzero;fill:rgb(67.843137%,84.705882%,90.196078%);fill-opacity:1;stroke-width:1;stroke-linecap:butt;stroke-linejoin:miter;stroke:rgb(0%,0%,0%);stroke-opacity:1;stroke-miterlimit:10;\" d=\"M 221.335938 329.597656 C 221.335938 335.121094 216.859375 339.597656 211.335938 339.597656 C 205.8125 339.597656 201.335938 335.121094 201.335938 329.597656 C 201.335938 324.074219 205.8125 319.597656 211.335938 319.597656 C 216.859375 319.597656 221.335938 324.074219 221.335938 329.597656 \"/>\n",
       "<path style=\"fill-rule:nonzero;fill:rgb(67.843137%,84.705882%,90.196078%);fill-opacity:1;stroke-width:1;stroke-linecap:butt;stroke-linejoin:miter;stroke:rgb(0%,0%,0%);stroke-opacity:1;stroke-miterlimit:10;\" d=\"M 217.746094 347.789062 C 217.746094 353.308594 213.265625 357.789062 207.746094 357.789062 C 202.222656 357.789062 197.746094 353.308594 197.746094 347.789062 C 197.746094 342.265625 202.222656 337.789062 207.746094 337.789062 C 213.265625 337.789062 217.746094 342.265625 217.746094 347.789062 \"/>\n",
       "<path style=\"fill-rule:nonzero;fill:rgb(67.843137%,84.705882%,90.196078%);fill-opacity:1;stroke-width:1;stroke-linecap:butt;stroke-linejoin:miter;stroke:rgb(0%,0%,0%);stroke-opacity:1;stroke-miterlimit:10;\" d=\"M 265.132812 361.488281 C 265.132812 367.011719 260.65625 371.488281 255.132812 371.488281 C 249.609375 371.488281 245.132812 367.011719 245.132812 361.488281 C 245.132812 355.964844 249.609375 351.488281 255.132812 351.488281 C 260.65625 351.488281 265.132812 355.964844 265.132812 361.488281 \"/>\n",
       "<path style=\"fill-rule:nonzero;fill:rgb(67.843137%,84.705882%,90.196078%);fill-opacity:1;stroke-width:1;stroke-linecap:butt;stroke-linejoin:miter;stroke:rgb(0%,0%,0%);stroke-opacity:1;stroke-miterlimit:10;\" d=\"M 214.132812 81.3125 C 214.132812 86.835938 209.65625 91.3125 204.132812 91.3125 C 198.613281 91.3125 194.132812 86.835938 194.132812 81.3125 C 194.132812 75.789062 198.613281 71.3125 204.132812 71.3125 C 209.65625 71.3125 214.132812 75.789062 214.132812 81.3125 \"/>\n",
       "<path style=\"fill-rule:nonzero;fill:rgb(67.843137%,84.705882%,90.196078%);fill-opacity:1;stroke-width:1;stroke-linecap:butt;stroke-linejoin:miter;stroke:rgb(0%,0%,0%);stroke-opacity:1;stroke-miterlimit:10;\" d=\"M 258.347656 357.3125 C 258.347656 362.835938 253.871094 367.3125 248.347656 367.3125 C 242.824219 367.3125 238.347656 362.835938 238.347656 357.3125 C 238.347656 351.789062 242.824219 347.3125 248.347656 347.3125 C 253.871094 347.3125 258.347656 351.789062 258.347656 357.3125 \"/>\n",
       "<path style=\"fill-rule:nonzero;fill:rgb(67.843137%,84.705882%,90.196078%);fill-opacity:1;stroke-width:1;stroke-linecap:butt;stroke-linejoin:miter;stroke:rgb(0%,0%,0%);stroke-opacity:1;stroke-miterlimit:10;\" d=\"M 249.035156 324.167969 C 249.035156 329.6875 244.558594 334.167969 239.035156 334.167969 C 233.511719 334.167969 229.035156 329.6875 229.035156 324.167969 C 229.035156 318.644531 233.511719 314.167969 239.035156 314.167969 C 244.558594 314.167969 249.035156 318.644531 249.035156 324.167969 \"/>\n",
       "<path style=\"fill-rule:nonzero;fill:rgb(67.843137%,84.705882%,90.196078%);fill-opacity:1;stroke-width:1;stroke-linecap:butt;stroke-linejoin:miter;stroke:rgb(0%,0%,0%);stroke-opacity:1;stroke-miterlimit:10;\" d=\"M 219.429688 58.179688 C 219.429688 63.703125 214.953125 68.179688 209.429688 68.179688 C 203.910156 68.179688 199.429688 63.703125 199.429688 58.179688 C 199.429688 52.65625 203.910156 48.179688 209.429688 48.179688 C 214.953125 48.179688 219.429688 52.65625 219.429688 58.179688 \"/>\n",
       "<path style=\"fill-rule:nonzero;fill:rgb(67.843137%,84.705882%,90.196078%);fill-opacity:1;stroke-width:1;stroke-linecap:butt;stroke-linejoin:miter;stroke:rgb(0%,0%,0%);stroke-opacity:1;stroke-miterlimit:10;\" d=\"M 202.523438 352.371094 C 202.523438 357.894531 198.046875 362.371094 192.523438 362.371094 C 187 362.371094 182.523438 357.894531 182.523438 352.371094 C 182.523438 346.847656 187 342.371094 192.523438 342.371094 C 198.046875 342.371094 202.523438 346.847656 202.523438 352.371094 \"/>\n",
       "<path style=\"fill-rule:nonzero;fill:rgb(67.843137%,84.705882%,90.196078%);fill-opacity:1;stroke-width:1;stroke-linecap:butt;stroke-linejoin:miter;stroke:rgb(0%,0%,0%);stroke-opacity:1;stroke-miterlimit:10;\" d=\"M 261.425781 332.390625 C 261.425781 337.914062 256.949219 342.390625 251.425781 342.390625 C 245.902344 342.390625 241.425781 337.914062 241.425781 332.390625 C 241.425781 326.867188 245.902344 322.390625 251.425781 322.390625 C 256.949219 322.390625 261.425781 326.867188 261.425781 332.390625 \"/>\n",
       "<path style=\"fill-rule:nonzero;fill:rgb(67.843137%,84.705882%,90.196078%);fill-opacity:1;stroke-width:1;stroke-linecap:butt;stroke-linejoin:miter;stroke:rgb(0%,0%,0%);stroke-opacity:1;stroke-miterlimit:10;\" d=\"M 240.863281 350.914062 C 240.863281 356.433594 236.386719 360.914062 230.863281 360.914062 C 225.339844 360.914062 220.863281 356.433594 220.863281 350.914062 C 220.863281 345.390625 225.339844 340.914062 230.863281 340.914062 C 236.386719 340.914062 240.863281 345.390625 240.863281 350.914062 \"/>\n",
       "<path style=\"fill-rule:nonzero;fill:rgb(67.843137%,84.705882%,90.196078%);fill-opacity:1;stroke-width:1;stroke-linecap:butt;stroke-linejoin:miter;stroke:rgb(0%,0%,0%);stroke-opacity:1;stroke-miterlimit:10;\" d=\"M 197.792969 50.265625 C 197.792969 55.789062 193.316406 60.265625 187.792969 60.265625 C 182.269531 60.265625 177.792969 55.789062 177.792969 50.265625 C 177.792969 44.746094 182.269531 40.265625 187.792969 40.265625 C 193.316406 40.265625 197.792969 44.746094 197.792969 50.265625 \"/>\n",
       "<path style=\"fill-rule:nonzero;fill:rgb(67.843137%,84.705882%,90.196078%);fill-opacity:1;stroke-width:1;stroke-linecap:butt;stroke-linejoin:miter;stroke:rgb(0%,0%,0%);stroke-opacity:1;stroke-miterlimit:10;\" d=\"M 231.996094 266.164062 C 231.996094 271.6875 227.519531 276.164062 221.996094 276.164062 C 216.472656 276.164062 211.996094 271.6875 211.996094 266.164062 C 211.996094 260.640625 216.472656 256.164062 221.996094 256.164062 C 227.519531 256.164062 231.996094 260.640625 231.996094 266.164062 \"/>\n",
       "<path style=\"fill-rule:nonzero;fill:rgb(67.843137%,84.705882%,90.196078%);fill-opacity:1;stroke-width:1;stroke-linecap:butt;stroke-linejoin:miter;stroke:rgb(0%,0%,0%);stroke-opacity:1;stroke-miterlimit:10;\" d=\"M 230.433594 275.507812 C 230.433594 281.027344 225.957031 285.507812 220.433594 285.507812 C 214.910156 285.507812 210.433594 281.027344 210.433594 275.507812 C 210.433594 269.984375 214.910156 265.507812 220.433594 265.507812 C 225.957031 265.507812 230.433594 269.984375 230.433594 275.507812 \"/>\n",
       "<path style=\"fill-rule:nonzero;fill:rgb(67.843137%,84.705882%,90.196078%);fill-opacity:1;stroke-width:1;stroke-linecap:butt;stroke-linejoin:miter;stroke:rgb(0%,0%,0%);stroke-opacity:1;stroke-miterlimit:10;\" d=\"M 227.539062 290.734375 C 227.539062 296.257812 223.0625 300.734375 217.539062 300.734375 C 212.015625 300.734375 207.539062 296.257812 207.539062 290.734375 C 207.539062 285.210938 212.015625 280.734375 217.539062 280.734375 C 223.0625 280.734375 227.539062 285.210938 227.539062 290.734375 \"/>\n",
       "<path style=\"fill-rule:nonzero;fill:rgb(67.843137%,84.705882%,90.196078%);fill-opacity:1;stroke-width:1;stroke-linecap:butt;stroke-linejoin:miter;stroke:rgb(0%,0%,0%);stroke-opacity:1;stroke-miterlimit:10;\" d=\"M 236.6875 250.742188 C 236.6875 256.261719 232.207031 260.742188 226.6875 260.742188 C 221.164062 260.742188 216.6875 256.261719 216.6875 250.742188 C 216.6875 245.21875 221.164062 240.742188 226.6875 240.742188 C 232.207031 240.742188 236.6875 245.21875 236.6875 250.742188 \"/>\n",
       "<path style=\"fill-rule:nonzero;fill:rgb(67.843137%,84.705882%,90.196078%);fill-opacity:1;stroke-width:1;stroke-linecap:butt;stroke-linejoin:miter;stroke:rgb(0%,0%,0%);stroke-opacity:1;stroke-miterlimit:10;\" d=\"M 197.15625 102.027344 C 197.15625 107.546875 192.679688 112.027344 187.15625 112.027344 C 181.636719 112.027344 177.15625 107.546875 177.15625 102.027344 C 177.15625 96.503906 181.636719 92.027344 187.15625 92.027344 C 192.679688 92.027344 197.15625 96.503906 197.15625 102.027344 \"/>\n",
       "<path style=\"fill-rule:nonzero;fill:rgb(67.843137%,84.705882%,90.196078%);fill-opacity:1;stroke-width:1;stroke-linecap:butt;stroke-linejoin:miter;stroke:rgb(0%,0%,0%);stroke-opacity:1;stroke-miterlimit:10;\" d=\"M 235.042969 262.871094 C 235.042969 268.394531 230.566406 272.871094 225.042969 272.871094 C 219.519531 272.871094 215.042969 268.394531 215.042969 262.871094 C 215.042969 257.347656 219.519531 252.871094 225.042969 252.871094 C 230.566406 252.871094 235.042969 257.347656 235.042969 262.871094 \"/>\n",
       "<path style=\"fill-rule:nonzero;fill:rgb(67.843137%,84.705882%,90.196078%);fill-opacity:1;stroke-width:1;stroke-linecap:butt;stroke-linejoin:miter;stroke:rgb(0%,0%,0%);stroke-opacity:1;stroke-miterlimit:10;\" d=\"M 197.65625 245.996094 C 197.65625 251.519531 193.179688 255.996094 187.65625 255.996094 C 182.136719 255.996094 177.65625 251.519531 177.65625 245.996094 C 177.65625 240.472656 182.136719 235.996094 187.65625 235.996094 C 193.179688 235.996094 197.65625 240.472656 197.65625 245.996094 \"/>\n",
       "<path style=\"fill-rule:nonzero;fill:rgb(67.843137%,84.705882%,90.196078%);fill-opacity:1;stroke-width:1;stroke-linecap:butt;stroke-linejoin:miter;stroke:rgb(0%,0%,0%);stroke-opacity:1;stroke-miterlimit:10;\" d=\"M 223.609375 198.5 C 223.609375 204.023438 219.132812 208.5 213.609375 208.5 C 208.085938 208.5 203.609375 204.023438 203.609375 198.5 C 203.609375 192.976562 208.085938 188.5 213.609375 188.5 C 219.132812 188.5 223.609375 192.976562 223.609375 198.5 \"/>\n",
       "<path style=\"fill-rule:nonzero;fill:rgb(67.843137%,84.705882%,90.196078%);fill-opacity:1;stroke-width:1;stroke-linecap:butt;stroke-linejoin:miter;stroke:rgb(0%,0%,0%);stroke-opacity:1;stroke-miterlimit:10;\" d=\"M 224.132812 192.140625 C 224.132812 197.664062 219.65625 202.140625 214.132812 202.140625 C 208.609375 202.140625 204.132812 197.664062 204.132812 192.140625 C 204.132812 186.617188 208.609375 182.140625 214.132812 182.140625 C 219.65625 182.140625 224.132812 186.617188 224.132812 192.140625 \"/>\n",
       "<path style=\"fill-rule:nonzero;fill:rgb(67.843137%,84.705882%,90.196078%);fill-opacity:1;stroke-width:1;stroke-linecap:butt;stroke-linejoin:miter;stroke:rgb(0%,0%,0%);stroke-opacity:1;stroke-miterlimit:10;\" d=\"M 221.40625 234.042969 C 221.40625 239.566406 216.929688 244.042969 211.40625 244.042969 C 205.882812 244.042969 201.40625 239.566406 201.40625 234.042969 C 201.40625 228.523438 205.882812 224.042969 211.40625 224.042969 C 216.929688 224.042969 221.40625 228.523438 221.40625 234.042969 \"/>\n",
       "<path style=\"fill-rule:nonzero;fill:rgb(67.843137%,84.705882%,90.196078%);fill-opacity:1;stroke-width:1;stroke-linecap:butt;stroke-linejoin:miter;stroke:rgb(0%,0%,0%);stroke-opacity:1;stroke-miterlimit:10;\" d=\"M 191.035156 198.160156 C 191.035156 203.683594 186.558594 208.160156 181.035156 208.160156 C 175.511719 208.160156 171.035156 203.683594 171.035156 198.160156 C 171.035156 192.636719 175.511719 188.160156 181.035156 188.160156 C 186.558594 188.160156 191.035156 192.636719 191.035156 198.160156 \"/>\n",
       "<path style=\"fill-rule:nonzero;fill:rgb(67.843137%,84.705882%,90.196078%);fill-opacity:1;stroke-width:1;stroke-linecap:butt;stroke-linejoin:miter;stroke:rgb(0%,0%,0%);stroke-opacity:1;stroke-miterlimit:10;\" d=\"M 243.882812 48.3125 C 243.882812 53.835938 239.402344 58.3125 233.882812 58.3125 C 228.359375 58.3125 223.882812 53.835938 223.882812 48.3125 C 223.882812 42.789062 228.359375 38.3125 233.882812 38.3125 C 239.402344 38.3125 243.882812 42.789062 243.882812 48.3125 \"/>\n",
       "<path style=\"fill-rule:nonzero;fill:rgb(67.843137%,84.705882%,90.196078%);fill-opacity:1;stroke-width:1;stroke-linecap:butt;stroke-linejoin:miter;stroke:rgb(0%,0%,0%);stroke-opacity:1;stroke-miterlimit:10;\" d=\"M 172.933594 112.742188 C 172.933594 118.265625 168.457031 122.742188 162.933594 122.742188 C 157.410156 122.742188 152.933594 118.265625 152.933594 112.742188 C 152.933594 107.21875 157.410156 102.742188 162.933594 102.742188 C 168.457031 102.742188 172.933594 107.21875 172.933594 112.742188 \"/>\n",
       "<path style=\"fill-rule:nonzero;fill:rgb(67.843137%,84.705882%,90.196078%);fill-opacity:1;stroke-width:1;stroke-linecap:butt;stroke-linejoin:miter;stroke:rgb(0%,0%,0%);stroke-opacity:1;stroke-miterlimit:10;\" d=\"M 221.023438 64.210938 C 221.023438 69.734375 216.546875 74.210938 211.023438 74.210938 C 205.5 74.210938 201.023438 69.734375 201.023438 64.210938 C 201.023438 58.6875 205.5 54.210938 211.023438 54.210938 C 216.546875 54.210938 221.023438 58.6875 221.023438 64.210938 \"/>\n",
       "<path style=\"fill-rule:nonzero;fill:rgb(67.843137%,84.705882%,90.196078%);fill-opacity:1;stroke-width:1;stroke-linecap:butt;stroke-linejoin:miter;stroke:rgb(0%,0%,0%);stroke-opacity:1;stroke-miterlimit:10;\" d=\"M 209.980469 52.789062 C 209.980469 58.3125 205.503906 62.789062 199.980469 62.789062 C 194.460938 62.789062 189.980469 58.3125 189.980469 52.789062 C 189.980469 47.265625 194.460938 42.789062 199.980469 42.789062 C 205.503906 42.789062 209.980469 47.265625 209.980469 52.789062 \"/>\n",
       "<path style=\"fill-rule:nonzero;fill:rgb(67.843137%,84.705882%,90.196078%);fill-opacity:1;stroke-width:1;stroke-linecap:butt;stroke-linejoin:miter;stroke:rgb(0%,0%,0%);stroke-opacity:1;stroke-miterlimit:10;\" d=\"M 225.625 114.097656 C 225.625 119.621094 221.148438 124.097656 215.625 124.097656 C 210.105469 124.097656 205.625 119.621094 205.625 114.097656 C 205.625 108.574219 210.105469 104.097656 215.625 104.097656 C 221.148438 104.097656 225.625 108.574219 225.625 114.097656 \"/>\n",
       "<path style=\"fill-rule:nonzero;fill:rgb(67.843137%,84.705882%,90.196078%);fill-opacity:1;stroke-width:1;stroke-linecap:butt;stroke-linejoin:miter;stroke:rgb(0%,0%,0%);stroke-opacity:1;stroke-miterlimit:10;\" d=\"M 174.960938 71.601562 C 174.960938 77.121094 170.484375 81.601562 164.960938 81.601562 C 159.4375 81.601562 154.960938 77.121094 154.960938 71.601562 C 154.960938 66.078125 159.4375 61.601562 164.960938 61.601562 C 170.484375 61.601562 174.960938 66.078125 174.960938 71.601562 \"/>\n",
       "<path style=\"fill-rule:nonzero;fill:rgb(67.843137%,84.705882%,90.196078%);fill-opacity:1;stroke-width:1;stroke-linecap:butt;stroke-linejoin:miter;stroke:rgb(0%,0%,0%);stroke-opacity:1;stroke-miterlimit:10;\" d=\"M 161.226562 112.371094 C 161.226562 117.894531 156.746094 122.371094 151.226562 122.371094 C 145.703125 122.371094 141.226562 117.894531 141.226562 112.371094 C 141.226562 106.847656 145.703125 102.371094 151.226562 102.371094 C 156.746094 102.371094 161.226562 106.847656 161.226562 112.371094 \"/>\n",
       "<path style=\"fill-rule:nonzero;fill:rgb(67.843137%,84.705882%,90.196078%);fill-opacity:1;stroke-width:1;stroke-linecap:butt;stroke-linejoin:miter;stroke:rgb(0%,0%,0%);stroke-opacity:1;stroke-miterlimit:10;\" d=\"M 184.285156 45.902344 C 184.285156 51.425781 179.808594 55.902344 174.285156 55.902344 C 168.761719 55.902344 164.285156 51.425781 164.285156 45.902344 C 164.285156 40.378906 168.761719 35.902344 174.285156 35.902344 C 179.808594 35.902344 184.285156 40.378906 184.285156 45.902344 \"/>\n",
       "<path style=\"fill-rule:nonzero;fill:rgb(67.843137%,84.705882%,90.196078%);fill-opacity:1;stroke-width:1;stroke-linecap:butt;stroke-linejoin:miter;stroke:rgb(0%,0%,0%);stroke-opacity:1;stroke-miterlimit:10;\" d=\"M 145.734375 74.390625 C 145.734375 79.914062 141.257812 84.390625 135.734375 84.390625 C 130.214844 84.390625 125.734375 79.914062 125.734375 74.390625 C 125.734375 68.867188 130.214844 64.390625 135.734375 64.390625 C 141.257812 64.390625 145.734375 68.867188 145.734375 74.390625 \"/>\n",
       "<path style=\"fill-rule:nonzero;fill:rgb(67.843137%,84.705882%,90.196078%);fill-opacity:1;stroke-width:1;stroke-linecap:butt;stroke-linejoin:miter;stroke:rgb(0%,0%,0%);stroke-opacity:1;stroke-miterlimit:10;\" d=\"M 164.320312 62.355469 C 164.320312 67.878906 159.839844 72.355469 154.320312 72.355469 C 148.796875 72.355469 144.320312 67.878906 144.320312 62.355469 C 144.320312 56.832031 148.796875 52.355469 154.320312 52.355469 C 159.839844 52.355469 164.320312 56.832031 164.320312 62.355469 \"/>\n",
       "<path style=\"fill-rule:nonzero;fill:rgb(67.843137%,84.705882%,90.196078%);fill-opacity:1;stroke-width:1;stroke-linecap:butt;stroke-linejoin:miter;stroke:rgb(0%,0%,0%);stroke-opacity:1;stroke-miterlimit:10;\" d=\"M 137.199219 96.628906 C 137.199219 102.152344 132.722656 106.628906 127.199219 106.628906 C 121.675781 106.628906 117.199219 102.152344 117.199219 96.628906 C 117.199219 91.105469 121.675781 86.628906 127.199219 86.628906 C 132.722656 86.628906 137.199219 91.105469 137.199219 96.628906 \"/>\n",
       "<path style=\"fill-rule:nonzero;fill:rgb(67.843137%,84.705882%,90.196078%);fill-opacity:1;stroke-width:1;stroke-linecap:butt;stroke-linejoin:miter;stroke:rgb(0%,0%,0%);stroke-opacity:1;stroke-miterlimit:10;\" d=\"M 158.433594 54.675781 C 158.433594 60.199219 153.957031 64.675781 148.433594 64.675781 C 142.910156 64.675781 138.433594 60.199219 138.433594 54.675781 C 138.433594 49.15625 142.910156 44.675781 148.433594 44.675781 C 153.957031 44.675781 158.433594 49.15625 158.433594 54.675781 \"/>\n",
       "<path style=\"fill-rule:nonzero;fill:rgb(67.843137%,84.705882%,90.196078%);fill-opacity:1;stroke-width:1;stroke-linecap:butt;stroke-linejoin:miter;stroke:rgb(0%,0%,0%);stroke-opacity:1;stroke-miterlimit:10;\" d=\"M 138.726562 79.5625 C 138.726562 85.085938 134.246094 89.5625 128.726562 89.5625 C 123.203125 89.5625 118.726562 85.085938 118.726562 79.5625 C 118.726562 74.039062 123.203125 69.5625 128.726562 69.5625 C 134.246094 69.5625 138.726562 74.039062 138.726562 79.5625 \"/>\n",
       "<path style=\"fill-rule:nonzero;fill:rgb(67.843137%,84.705882%,90.196078%);fill-opacity:1;stroke-width:1;stroke-linecap:butt;stroke-linejoin:miter;stroke:rgb(0%,0%,0%);stroke-opacity:1;stroke-miterlimit:10;\" d=\"M 140.09375 94.238281 C 140.09375 99.761719 135.617188 104.238281 130.09375 104.238281 C 124.570312 104.238281 120.09375 99.761719 120.09375 94.238281 C 120.09375 88.714844 124.570312 84.238281 130.09375 84.238281 C 135.617188 84.238281 140.09375 88.714844 140.09375 94.238281 \"/>\n",
       "<path style=\"fill-rule:nonzero;fill:rgb(67.843137%,84.705882%,90.196078%);fill-opacity:1;stroke-width:1;stroke-linecap:butt;stroke-linejoin:miter;stroke:rgb(0%,0%,0%);stroke-opacity:1;stroke-miterlimit:10;\" d=\"M 156.699219 28.4375 C 156.699219 33.960938 152.222656 38.4375 146.699219 38.4375 C 141.179688 38.4375 136.699219 33.960938 136.699219 28.4375 C 136.699219 22.914062 141.179688 18.4375 146.699219 18.4375 C 152.222656 18.4375 156.699219 22.914062 156.699219 28.4375 \"/>\n",
       "<path style=\"fill-rule:nonzero;fill:rgb(67.843137%,84.705882%,90.196078%);fill-opacity:1;stroke-width:1;stroke-linecap:butt;stroke-linejoin:miter;stroke:rgb(0%,0%,0%);stroke-opacity:1;stroke-miterlimit:10;\" d=\"M 153.914062 118.261719 C 153.914062 123.785156 149.4375 128.261719 143.914062 128.261719 C 138.394531 128.261719 133.914062 123.785156 133.914062 118.261719 C 133.914062 112.738281 138.394531 108.261719 143.914062 108.261719 C 149.4375 108.261719 153.914062 112.738281 153.914062 118.261719 \"/>\n",
       "<path style=\"fill-rule:nonzero;fill:rgb(67.843137%,84.705882%,90.196078%);fill-opacity:1;stroke-width:1;stroke-linecap:butt;stroke-linejoin:miter;stroke:rgb(0%,0%,0%);stroke-opacity:1;stroke-miterlimit:10;\" d=\"M 138.730469 49.976562 C 138.730469 55.5 134.25 59.976562 128.730469 59.976562 C 123.207031 59.976562 118.730469 55.5 118.730469 49.976562 C 118.730469 44.453125 123.207031 39.976562 128.730469 39.976562 C 134.25 39.976562 138.730469 44.453125 138.730469 49.976562 \"/>\n",
       "<path style=\"fill-rule:nonzero;fill:rgb(67.843137%,84.705882%,90.196078%);fill-opacity:1;stroke-width:1;stroke-linecap:butt;stroke-linejoin:miter;stroke:rgb(0%,0%,0%);stroke-opacity:1;stroke-miterlimit:10;\" d=\"M 120.875 131.765625 C 120.875 137.289062 116.394531 141.765625 110.875 141.765625 C 105.351562 141.765625 100.875 137.289062 100.875 131.765625 C 100.875 126.242188 105.351562 121.765625 110.875 121.765625 C 116.394531 121.765625 120.875 126.242188 120.875 131.765625 \"/>\n",
       "<path style=\"fill-rule:nonzero;fill:rgb(67.843137%,84.705882%,90.196078%);fill-opacity:1;stroke-width:1;stroke-linecap:butt;stroke-linejoin:miter;stroke:rgb(0%,0%,0%);stroke-opacity:1;stroke-miterlimit:10;\" d=\"M 141.671875 166.363281 C 141.671875 171.886719 137.195312 176.363281 131.671875 176.363281 C 126.148438 176.363281 121.671875 171.886719 121.671875 166.363281 C 121.671875 160.84375 126.148438 156.363281 131.671875 156.363281 C 137.195312 156.363281 141.671875 160.84375 141.671875 166.363281 \"/>\n",
       "<path style=\"fill-rule:nonzero;fill:rgb(67.843137%,84.705882%,90.196078%);fill-opacity:1;stroke-width:1;stroke-linecap:butt;stroke-linejoin:miter;stroke:rgb(0%,0%,0%);stroke-opacity:1;stroke-miterlimit:10;\" d=\"M 117.730469 76.167969 C 117.730469 81.691406 113.253906 86.167969 107.730469 86.167969 C 102.210938 86.167969 97.730469 81.691406 97.730469 76.167969 C 97.730469 70.644531 102.210938 66.167969 107.730469 66.167969 C 113.253906 66.167969 117.730469 70.644531 117.730469 76.167969 \"/>\n",
       "<path style=\"fill-rule:nonzero;fill:rgb(67.843137%,84.705882%,90.196078%);fill-opacity:1;stroke-width:1;stroke-linecap:butt;stroke-linejoin:miter;stroke:rgb(0%,0%,0%);stroke-opacity:1;stroke-miterlimit:10;\" d=\"M 109.726562 96.324219 C 109.726562 101.847656 105.25 106.324219 99.726562 106.324219 C 94.203125 106.324219 89.726562 101.847656 89.726562 96.324219 C 89.726562 90.800781 94.203125 86.324219 99.726562 86.324219 C 105.25 86.324219 109.726562 90.800781 109.726562 96.324219 \"/>\n",
       "<path style=\"fill-rule:nonzero;fill:rgb(67.843137%,84.705882%,90.196078%);fill-opacity:1;stroke-width:1;stroke-linecap:butt;stroke-linejoin:miter;stroke:rgb(0%,0%,0%);stroke-opacity:1;stroke-miterlimit:10;\" d=\"M 110.566406 121.816406 C 110.566406 127.339844 106.089844 131.816406 100.566406 131.816406 C 95.042969 131.816406 90.566406 127.339844 90.566406 121.816406 C 90.566406 116.296875 95.042969 111.816406 100.566406 111.816406 C 106.089844 111.816406 110.566406 116.296875 110.566406 121.816406 \"/>\n",
       "<path style=\"fill-rule:nonzero;fill:rgb(67.843137%,84.705882%,90.196078%);fill-opacity:1;stroke-width:1;stroke-linecap:butt;stroke-linejoin:miter;stroke:rgb(0%,0%,0%);stroke-opacity:1;stroke-miterlimit:10;\" d=\"M 99.222656 151.898438 C 99.222656 157.417969 94.746094 161.898438 89.222656 161.898438 C 83.703125 161.898438 79.222656 157.417969 79.222656 151.898438 C 79.222656 146.375 83.703125 141.898438 89.222656 141.898438 C 94.746094 141.898438 99.222656 146.375 99.222656 151.898438 \"/>\n",
       "<path style=\"fill-rule:nonzero;fill:rgb(67.843137%,84.705882%,90.196078%);fill-opacity:1;stroke-width:1;stroke-linecap:butt;stroke-linejoin:miter;stroke:rgb(0%,0%,0%);stroke-opacity:1;stroke-miterlimit:10;\" d=\"M 85.054688 145.40625 C 85.054688 150.929688 80.578125 155.40625 75.054688 155.40625 C 69.53125 155.40625 65.054688 150.929688 65.054688 145.40625 C 65.054688 139.882812 69.53125 135.40625 75.054688 135.40625 C 80.578125 135.40625 85.054688 139.882812 85.054688 145.40625 \"/>\n",
       "<path style=\"fill-rule:nonzero;fill:rgb(67.843137%,84.705882%,90.196078%);fill-opacity:1;stroke-width:1;stroke-linecap:butt;stroke-linejoin:miter;stroke:rgb(0%,0%,0%);stroke-opacity:1;stroke-miterlimit:10;\" d=\"M 113.757812 146.773438 C 113.757812 152.296875 109.28125 156.773438 103.757812 156.773438 C 98.234375 156.773438 93.757812 152.296875 93.757812 146.773438 C 93.757812 141.25 98.234375 136.773438 103.757812 136.773438 C 109.28125 136.773438 113.757812 141.25 113.757812 146.773438 \"/>\n",
       "<path style=\"fill-rule:nonzero;fill:rgb(67.843137%,84.705882%,90.196078%);fill-opacity:1;stroke-width:1;stroke-linecap:butt;stroke-linejoin:miter;stroke:rgb(0%,0%,0%);stroke-opacity:1;stroke-miterlimit:10;\" d=\"M 121.460938 170.167969 C 121.460938 175.691406 116.984375 180.167969 111.460938 180.167969 C 105.9375 180.167969 101.460938 175.691406 101.460938 170.167969 C 101.460938 164.644531 105.9375 160.167969 111.460938 160.167969 C 116.984375 160.167969 121.460938 164.644531 121.460938 170.167969 \"/>\n",
       "<path style=\"fill-rule:nonzero;fill:rgb(67.843137%,84.705882%,90.196078%);fill-opacity:1;stroke-width:1;stroke-linecap:butt;stroke-linejoin:miter;stroke:rgb(0%,0%,0%);stroke-opacity:1;stroke-miterlimit:10;\" d=\"M 55.144531 215.035156 C 55.144531 220.558594 50.667969 225.035156 45.144531 225.035156 C 39.621094 225.035156 35.144531 220.558594 35.144531 215.035156 C 35.144531 209.511719 39.621094 205.035156 45.144531 205.035156 C 50.667969 205.035156 55.144531 209.511719 55.144531 215.035156 \"/>\n",
       "<path style=\"fill-rule:nonzero;fill:rgb(67.843137%,84.705882%,90.196078%);fill-opacity:1;stroke-width:1;stroke-linecap:butt;stroke-linejoin:miter;stroke:rgb(0%,0%,0%);stroke-opacity:1;stroke-miterlimit:10;\" d=\"M 56.828125 193.675781 C 56.828125 199.199219 52.347656 203.675781 46.828125 203.675781 C 41.304688 203.675781 36.828125 199.199219 36.828125 193.675781 C 36.828125 188.15625 41.304688 183.675781 46.828125 183.675781 C 52.347656 183.675781 56.828125 188.15625 56.828125 193.675781 \"/>\n",
       "<path style=\"fill-rule:nonzero;fill:rgb(67.843137%,84.705882%,90.196078%);fill-opacity:1;stroke-width:1;stroke-linecap:butt;stroke-linejoin:miter;stroke:rgb(0%,0%,0%);stroke-opacity:1;stroke-miterlimit:10;\" d=\"M 78.601562 259.300781 C 78.601562 264.824219 74.125 269.300781 68.601562 269.300781 C 63.078125 269.300781 58.601562 264.824219 58.601562 259.300781 C 58.601562 253.777344 63.078125 249.300781 68.601562 249.300781 C 74.125 249.300781 78.601562 253.777344 78.601562 259.300781 \"/>\n",
       "<path style=\"fill-rule:nonzero;fill:rgb(67.843137%,84.705882%,90.196078%);fill-opacity:1;stroke-width:1;stroke-linecap:butt;stroke-linejoin:miter;stroke:rgb(0%,0%,0%);stroke-opacity:1;stroke-miterlimit:10;\" d=\"M 99.609375 178.210938 C 99.609375 183.734375 95.132812 188.210938 89.609375 188.210938 C 84.085938 188.210938 79.609375 183.734375 79.609375 178.210938 C 79.609375 172.691406 84.085938 168.210938 89.609375 168.210938 C 95.132812 168.210938 99.609375 172.691406 99.609375 178.210938 \"/>\n",
       "<path style=\"fill-rule:nonzero;fill:rgb(67.843137%,84.705882%,90.196078%);fill-opacity:1;stroke-width:1;stroke-linecap:butt;stroke-linejoin:miter;stroke:rgb(0%,0%,0%);stroke-opacity:1;stroke-miterlimit:10;\" d=\"M 30.316406 214.863281 C 30.316406 220.386719 25.839844 224.863281 20.316406 224.863281 C 14.792969 224.863281 10.316406 220.386719 10.316406 214.863281 C 10.316406 209.34375 14.792969 204.863281 20.316406 204.863281 C 25.839844 204.863281 30.316406 209.34375 30.316406 214.863281 \"/>\n",
       "<path style=\"fill-rule:nonzero;fill:rgb(67.843137%,84.705882%,90.196078%);fill-opacity:1;stroke-width:1;stroke-linecap:butt;stroke-linejoin:miter;stroke:rgb(0%,0%,0%);stroke-opacity:1;stroke-miterlimit:10;\" d=\"M 99.292969 207 C 99.292969 212.523438 94.816406 217 89.292969 217 C 83.769531 217 79.292969 212.523438 79.292969 207 C 79.292969 201.476562 83.769531 197 89.292969 197 C 94.816406 197 99.292969 201.476562 99.292969 207 \"/>\n",
       "<path style=\"fill-rule:nonzero;fill:rgb(67.843137%,84.705882%,90.196078%);fill-opacity:1;stroke-width:1;stroke-linecap:butt;stroke-linejoin:miter;stroke:rgb(0%,0%,0%);stroke-opacity:1;stroke-miterlimit:10;\" d=\"M 63.101562 258.109375 C 63.101562 263.632812 58.625 268.109375 53.101562 268.109375 C 47.578125 268.109375 43.101562 263.632812 43.101562 258.109375 C 43.101562 252.585938 47.578125 248.109375 53.101562 248.109375 C 58.625 248.109375 63.101562 252.585938 63.101562 258.109375 \"/>\n",
       "<path style=\"fill-rule:nonzero;fill:rgb(67.843137%,84.705882%,90.196078%);fill-opacity:1;stroke-width:1;stroke-linecap:butt;stroke-linejoin:miter;stroke:rgb(0%,0%,0%);stroke-opacity:1;stroke-miterlimit:10;\" d=\"M 35.226562 265.769531 C 35.226562 271.292969 30.746094 275.769531 25.226562 275.769531 C 19.703125 275.769531 15.226562 271.292969 15.226562 265.769531 C 15.226562 260.246094 19.703125 255.769531 25.226562 255.769531 C 30.746094 255.769531 35.226562 260.246094 35.226562 265.769531 \"/>\n",
       "<path style=\"fill-rule:nonzero;fill:rgb(67.843137%,84.705882%,90.196078%);fill-opacity:1;stroke-width:1;stroke-linecap:butt;stroke-linejoin:miter;stroke:rgb(0%,0%,0%);stroke-opacity:1;stroke-miterlimit:10;\" d=\"M 57.414062 269.667969 C 57.414062 275.191406 52.9375 279.667969 47.414062 279.667969 C 41.890625 279.667969 37.414062 275.191406 37.414062 269.667969 C 37.414062 264.148438 41.890625 259.667969 47.414062 259.667969 C 52.9375 259.667969 57.414062 264.148438 57.414062 269.667969 \"/>\n",
       "<path style=\"fill-rule:nonzero;fill:rgb(67.843137%,84.705882%,90.196078%);fill-opacity:1;stroke-width:1;stroke-linecap:butt;stroke-linejoin:miter;stroke:rgb(0%,0%,0%);stroke-opacity:1;stroke-miterlimit:10;\" d=\"M 47.46875 190.5 C 47.46875 196.023438 42.988281 200.5 37.46875 200.5 C 31.945312 200.5 27.46875 196.023438 27.46875 190.5 C 27.46875 184.980469 31.945312 180.5 37.46875 180.5 C 42.988281 180.5 47.46875 184.980469 47.46875 190.5 \"/>\n",
       "<path style=\"fill-rule:nonzero;fill:rgb(67.843137%,84.705882%,90.196078%);fill-opacity:1;stroke-width:1;stroke-linecap:butt;stroke-linejoin:miter;stroke:rgb(0%,0%,0%);stroke-opacity:1;stroke-miterlimit:10;\" d=\"M 65.117188 289.917969 C 65.117188 295.441406 60.640625 299.917969 55.117188 299.917969 C 49.59375 299.917969 45.117188 295.441406 45.117188 289.917969 C 45.117188 284.394531 49.59375 279.917969 55.117188 279.917969 C 60.640625 279.917969 65.117188 284.394531 65.117188 289.917969 \"/>\n",
       "<path style=\"fill-rule:nonzero;fill:rgb(67.843137%,84.705882%,90.196078%);fill-opacity:1;stroke-width:1;stroke-linecap:butt;stroke-linejoin:miter;stroke:rgb(0%,0%,0%);stroke-opacity:1;stroke-miterlimit:10;\" d=\"M 30 273.40625 C 30 278.929688 25.523438 283.40625 20 283.40625 C 14.476562 283.40625 10 278.929688 10 273.40625 C 10 267.882812 14.476562 263.40625 20 263.40625 C 25.523438 263.40625 30 267.882812 30 273.40625 \"/>\n",
       "<path style=\"fill-rule:nonzero;fill:rgb(67.843137%,84.705882%,90.196078%);fill-opacity:1;stroke-width:1;stroke-linecap:butt;stroke-linejoin:miter;stroke:rgb(0%,0%,0%);stroke-opacity:1;stroke-miterlimit:10;\" d=\"M 48.761719 276.53125 C 48.761719 282.054688 44.285156 286.53125 38.761719 286.53125 C 33.238281 286.53125 28.761719 282.054688 28.761719 276.53125 C 28.761719 271.007812 33.238281 266.53125 38.761719 266.53125 C 44.285156 266.53125 48.761719 271.007812 48.761719 276.53125 \"/>\n",
       "<path style=\"fill-rule:nonzero;fill:rgb(67.843137%,84.705882%,90.196078%);fill-opacity:1;stroke-width:1;stroke-linecap:butt;stroke-linejoin:miter;stroke:rgb(0%,0%,0%);stroke-opacity:1;stroke-miterlimit:10;\" d=\"M 40.230469 262.242188 C 40.230469 267.765625 35.753906 272.242188 30.230469 272.242188 C 24.707031 272.242188 20.230469 267.765625 20.230469 262.242188 C 20.230469 256.71875 24.707031 252.242188 30.230469 252.242188 C 35.753906 252.242188 40.230469 256.71875 40.230469 262.242188 \"/>\n",
       "<path style=\"fill-rule:nonzero;fill:rgb(67.843137%,84.705882%,90.196078%);fill-opacity:1;stroke-width:1;stroke-linecap:butt;stroke-linejoin:miter;stroke:rgb(0%,0%,0%);stroke-opacity:1;stroke-miterlimit:10;\" d=\"M 56.320312 255.785156 C 56.320312 261.308594 51.839844 265.785156 46.320312 265.785156 C 40.796875 265.785156 36.320312 261.308594 36.320312 255.785156 C 36.320312 250.261719 40.796875 245.785156 46.320312 245.785156 C 51.839844 245.785156 56.320312 250.261719 56.320312 255.785156 \"/>\n",
       "<path style=\"fill-rule:nonzero;fill:rgb(67.843137%,84.705882%,90.196078%);fill-opacity:1;stroke-width:1;stroke-linecap:butt;stroke-linejoin:miter;stroke:rgb(0%,0%,0%);stroke-opacity:1;stroke-miterlimit:10;\" d=\"M 85.261719 240.457031 C 85.261719 245.980469 80.785156 250.457031 75.261719 250.457031 C 69.742188 250.457031 65.261719 245.980469 65.261719 240.457031 C 65.261719 234.933594 69.742188 230.457031 75.261719 230.457031 C 80.785156 230.457031 85.261719 234.933594 85.261719 240.457031 \"/>\n",
       "<path style=\"fill-rule:nonzero;fill:rgb(67.843137%,84.705882%,90.196078%);fill-opacity:1;stroke-width:1;stroke-linecap:butt;stroke-linejoin:miter;stroke:rgb(0%,0%,0%);stroke-opacity:1;stroke-miterlimit:10;\" d=\"M 61.617188 276.28125 C 61.617188 281.804688 57.136719 286.28125 51.617188 286.28125 C 46.09375 286.28125 41.617188 281.804688 41.617188 276.28125 C 41.617188 270.757812 46.09375 266.28125 51.617188 266.28125 C 57.136719 266.28125 61.617188 270.757812 61.617188 276.28125 \"/>\n",
       "<path style=\"fill-rule:nonzero;fill:rgb(67.843137%,84.705882%,90.196078%);fill-opacity:1;stroke-width:1;stroke-linecap:butt;stroke-linejoin:miter;stroke:rgb(0%,0%,0%);stroke-opacity:1;stroke-miterlimit:10;\" d=\"M 49.238281 305.386719 C 49.238281 310.910156 44.761719 315.386719 39.238281 315.386719 C 33.71875 315.386719 29.238281 310.910156 29.238281 305.386719 C 29.238281 299.863281 33.71875 295.386719 39.238281 295.386719 C 44.761719 295.386719 49.238281 299.863281 49.238281 305.386719 \"/>\n",
       "<path style=\"fill-rule:nonzero;fill:rgb(67.843137%,84.705882%,90.196078%);fill-opacity:1;stroke-width:1;stroke-linecap:butt;stroke-linejoin:miter;stroke:rgb(0%,0%,0%);stroke-opacity:1;stroke-miterlimit:10;\" d=\"M 74.945312 343.433594 C 74.945312 348.957031 70.46875 353.433594 64.945312 353.433594 C 59.425781 353.433594 54.945312 348.957031 54.945312 343.433594 C 54.945312 337.910156 59.425781 333.433594 64.945312 333.433594 C 70.46875 333.433594 74.945312 337.910156 74.945312 343.433594 \"/>\n",
       "<path style=\"fill-rule:nonzero;fill:rgb(67.843137%,84.705882%,90.196078%);fill-opacity:1;stroke-width:1;stroke-linecap:butt;stroke-linejoin:miter;stroke:rgb(0%,0%,0%);stroke-opacity:1;stroke-miterlimit:10;\" d=\"M 65.597656 347.371094 C 65.597656 352.894531 61.121094 357.371094 55.597656 357.371094 C 50.074219 357.371094 45.597656 352.894531 45.597656 347.371094 C 45.597656 341.847656 50.074219 337.371094 55.597656 337.371094 C 61.121094 337.371094 65.597656 341.847656 65.597656 347.371094 \"/>\n",
       "<path style=\"fill-rule:nonzero;fill:rgb(67.843137%,84.705882%,90.196078%);fill-opacity:1;stroke-width:1;stroke-linecap:butt;stroke-linejoin:miter;stroke:rgb(0%,0%,0%);stroke-opacity:1;stroke-miterlimit:10;\" d=\"M 40.410156 341.316406 C 40.410156 346.835938 35.933594 351.316406 30.410156 351.316406 C 24.890625 351.316406 20.410156 346.835938 20.410156 341.316406 C 20.410156 335.792969 24.890625 331.316406 30.410156 331.316406 C 35.933594 331.316406 40.410156 335.792969 40.410156 341.316406 \"/>\n",
       "<path style=\"fill-rule:nonzero;fill:rgb(67.843137%,84.705882%,90.196078%);fill-opacity:1;stroke-width:1;stroke-linecap:butt;stroke-linejoin:miter;stroke:rgb(0%,0%,0%);stroke-opacity:1;stroke-miterlimit:10;\" d=\"M 49.125 388.097656 C 49.125 393.621094 44.648438 398.097656 39.125 398.097656 C 33.601562 398.097656 29.125 393.621094 29.125 388.097656 C 29.125 382.574219 33.601562 378.097656 39.125 378.097656 C 44.648438 378.097656 49.125 382.574219 49.125 388.097656 \"/>\n",
       "<path style=\"fill-rule:nonzero;fill:rgb(67.843137%,84.705882%,90.196078%);fill-opacity:1;stroke-width:1;stroke-linecap:butt;stroke-linejoin:miter;stroke:rgb(0%,0%,0%);stroke-opacity:1;stroke-miterlimit:10;\" d=\"M 61.710938 345.410156 C 61.710938 350.933594 57.234375 355.410156 51.710938 355.410156 C 46.191406 355.410156 41.710938 350.933594 41.710938 345.410156 C 41.710938 339.886719 46.191406 335.410156 51.710938 335.410156 C 57.234375 335.410156 61.710938 339.886719 61.710938 345.410156 \"/>\n",
       "<path style=\"fill-rule:nonzero;fill:rgb(67.843137%,84.705882%,90.196078%);fill-opacity:1;stroke-width:1;stroke-linecap:butt;stroke-linejoin:miter;stroke:rgb(0%,0%,0%);stroke-opacity:1;stroke-miterlimit:10;\" d=\"M 34.648438 337.589844 C 34.648438 343.113281 30.171875 347.589844 24.648438 347.589844 C 19.125 347.589844 14.648438 343.113281 14.648438 337.589844 C 14.648438 332.066406 19.125 327.589844 24.648438 327.589844 C 30.171875 327.589844 34.648438 332.066406 34.648438 337.589844 \"/>\n",
       "</g>\n",
       "</svg>\n"
      ],
      "text/plain": [
       "<igraph.drawing.Plot at 0x7f8faa75b2d0>"
      ]
     },
     "execution_count": 46,
     "metadata": {},
     "output_type": "execute_result"
    }
   ],
   "source": [
    "a= mst_trace_arr[2]\n",
    "np.fill_diagonal(a,0)\n",
    "a= a.round()\n",
    "\n",
    "g = igraph.Graph.Adjacency((a > 0).tolist())\n",
    "g.to_undirected()\n",
    "\n",
    "layout = zip(list(-Y[:,0]), list(Y[:,1])) \n",
    "out =  igraph.plot(g, layout = layout, vertex_color = c_vec)\n",
    "\n",
    "# out.save('2moon_tree1.png')\n",
    "out"
   ]
  },
  {
   "cell_type": "code",
   "execution_count": 47,
   "metadata": {},
   "outputs": [
    {
     "data": {
      "text/plain": [
       "398.0"
      ]
     },
     "execution_count": 47,
     "metadata": {},
     "output_type": "execute_result"
    }
   ],
   "source": [
    "A.sum()"
   ]
  }
 ],
 "metadata": {
  "colab": {
   "name": "SamplingGaussianMixture.ipynb",
   "provenance": [],
   "version": "0.3.2"
  },
  "kernelspec": {
   "display_name": "Python 3",
   "language": "python",
   "name": "python3"
  },
  "language_info": {
   "codemirror_mode": {
    "name": "ipython",
    "version": 3
   },
   "file_extension": ".py",
   "mimetype": "text/x-python",
   "name": "python",
   "nbconvert_exporter": "python",
   "pygments_lexer": "ipython3",
   "version": "3.7.9"
  }
 },
 "nbformat": 4,
 "nbformat_minor": 4
}
