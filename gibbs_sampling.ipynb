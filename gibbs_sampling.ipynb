{
 "cells": [
  {
   "cell_type": "code",
   "execution_count": 1,
   "metadata": {
    "colab": {},
    "colab_type": "code",
    "id": "9_Z5moYIXkn5"
   },
   "outputs": [],
   "source": [
    "import numpy as np\n",
    "import matplotlib.pyplot as plt\n",
    "%matplotlib inline\n",
    "\n",
    "# from pylab import rcParams\n",
    "# rcParams['figure.figsize'] = 10, 8\n",
    "# rcParams['figure.dpi'] = 300\n",
    "\n",
    "\n",
    "from sklearn import cluster, datasets, mixture\n",
    "from sklearn.preprocessing import StandardScaler"
   ]
  },
  {
   "cell_type": "code",
   "execution_count": null,
   "metadata": {},
   "outputs": [],
   "source": []
  },
  {
   "cell_type": "code",
   "execution_count": 36,
   "metadata": {},
   "outputs": [],
   "source": []
  },
  {
   "cell_type": "code",
   "execution_count": null,
   "metadata": {},
   "outputs": [],
   "source": []
  },
  {
   "cell_type": "code",
   "execution_count": 3,
   "metadata": {},
   "outputs": [],
   "source": [
    "import sklearn\n",
    "Y = sklearn.datasets.make_moons(n_samples=100, shuffle=True, noise=None, random_state=None)[0]\n",
    "Y = Y[np.argsort(Y[:,0]),]\n",
    "Y += np.random.normal(0,0.01, Y.shape)"
   ]
  },
  {
   "cell_type": "code",
   "execution_count": null,
   "metadata": {},
   "outputs": [],
   "source": []
  },
  {
   "cell_type": "code",
   "execution_count": 4,
   "metadata": {},
   "outputs": [],
   "source": [
    "p = Y.shape[0]\n",
    "\n",
    "n = Y.shape[1]"
   ]
  },
  {
   "cell_type": "code",
   "execution_count": null,
   "metadata": {},
   "outputs": [],
   "source": []
  },
  {
   "cell_type": "code",
   "execution_count": 5,
   "metadata": {},
   "outputs": [
    {
     "data": {
      "text/plain": [
       "<matplotlib.collections.PathCollection at 0x7fe770e6cf90>"
      ]
     },
     "execution_count": 5,
     "metadata": {},
     "output_type": "execute_result"
    },
    {
     "data": {
      "image/png": "[encoded data removed]",
      "text/plain": [
       "<Figure size 432x288 with 1 Axes>"
      ]
     },
     "metadata": {
      "needs_background": "light"
     },
     "output_type": "display_data"
    }
   ],
   "source": [
    "plt.scatter(Y[:,0],Y[:,1])"
   ]
  },
  {
   "cell_type": "code",
   "execution_count": null,
   "metadata": {},
   "outputs": [],
   "source": []
  },
  {
   "cell_type": "code",
   "execution_count": 6,
   "metadata": {},
   "outputs": [],
   "source": [
    "Adj0 = np.zeros([p,p])"
   ]
  },
  {
   "cell_type": "code",
   "execution_count": 7,
   "metadata": {},
   "outputs": [],
   "source": [
    "for i in range(p):\n",
    "    for j in range(i):\n",
    "        Adj0[i,j] = np.sum((Y[i]-Y[j])**2)\n",
    "#         Adj0[i,j] = np.sum(np.abs(Y[i]-Y[j])) \n",
    "        Adj0[j,i] = Adj0[i,j]"
   ]
  },
  {
   "cell_type": "code",
   "execution_count": 8,
   "metadata": {},
   "outputs": [],
   "source": [
    "def find_min_idx(x):\n",
    "    k = x.argmin()\n",
    "    ncol = x.shape[1]\n",
    "    return int(k/ncol), k%ncol"
   ]
  },
  {
   "cell_type": "code",
   "execution_count": 9,
   "metadata": {},
   "outputs": [],
   "source": [
    "def FindMST(A):\n",
    "\n",
    "    p = A.shape[0]\n",
    "    MST = np.zeros([p,p])\n",
    "\n",
    "    Xl = list()\n",
    "    Vl = list(range(p))\n",
    "    Xl.append(0)\n",
    "    Vl.remove(0)\n",
    "\n",
    "    i = 0\n",
    "    while len(Vl)>0:\n",
    "        idx0, idx1 = find_min_idx(A[Xl][:,Vl])\n",
    "\n",
    "        MST[Xl[idx0],Vl[idx1]]=1\n",
    "\n",
    "        Xl.append(Vl[idx1])\n",
    "        Vl.remove(Vl[idx1])\n",
    "\n",
    "        i+=1\n",
    "    \n",
    "    return MST + MST.T"
   ]
  },
  {
   "cell_type": "code",
   "execution_count": 10,
   "metadata": {},
   "outputs": [],
   "source": [
    "MST = FindMST(Adj0)\n",
    "mst0 = MST.copy()"
   ]
  },
  {
   "cell_type": "code",
   "execution_count": null,
   "metadata": {},
   "outputs": [],
   "source": []
  },
  {
   "cell_type": "code",
   "execution_count": null,
   "metadata": {},
   "outputs": [],
   "source": []
  },
  {
   "cell_type": "code",
   "execution_count": 11,
   "metadata": {},
   "outputs": [],
   "source": [
    "def getB(A):\n",
    "    p = A.shape[0]\n",
    "\n",
    "    B = np.zeros([p,p-1])\n",
    "\n",
    "    idx = 0\n",
    "    for i in range(p):\n",
    "        for j in range(i):\n",
    "            if A[i,j]==1:\n",
    "                B[i,idx]=1\n",
    "                B[j,idx]=-1\n",
    "                idx+=1\n",
    "    return B"
   ]
  },
  {
   "cell_type": "code",
   "execution_count": 12,
   "metadata": {},
   "outputs": [],
   "source": [
    "def getA(B):\n",
    "    A = - B@B.T\n",
    "    np.fill_diagonal(A,0)\n",
    "    return A"
   ]
  },
  {
   "cell_type": "code",
   "execution_count": 13,
   "metadata": {},
   "outputs": [],
   "source": [
    "A = MST\n",
    "B = getB(A)"
   ]
  },
  {
   "cell_type": "code",
   "execution_count": null,
   "metadata": {},
   "outputs": [],
   "source": []
  },
  {
   "cell_type": "code",
   "execution_count": 14,
   "metadata": {},
   "outputs": [],
   "source": [
    "sigma2 = 1\n",
    "logP =  -Adj0/sigma2/2.0"
   ]
  },
  {
   "cell_type": "code",
   "execution_count": null,
   "metadata": {},
   "outputs": [],
   "source": []
  },
  {
   "cell_type": "code",
   "execution_count": null,
   "metadata": {},
   "outputs": [],
   "source": []
  },
  {
   "cell_type": "code",
   "execution_count": 15,
   "metadata": {},
   "outputs": [],
   "source": [
    "def findRowColIdx(idx,m1,m2):\n",
    "    r = int(idx / m2)\n",
    "    return (r,     idx - r*m2)"
   ]
  },
  {
   "cell_type": "code",
   "execution_count": 16,
   "metadata": {},
   "outputs": [],
   "source": [
    "def updateB(B, logP):\n",
    "\n",
    "    full_edge_idx = np.arange(p-1)\n",
    "    full_node_idx = np.arange(p)\n",
    "\n",
    "    for k in range(p-1):\n",
    "\n",
    "        sel = full_edge_idx==k\n",
    "        sel_not = full_edge_idx!=k\n",
    "        B_not_k = B[:,sel_not]\n",
    "        B_k = B[:, sel]\n",
    "\n",
    "        beta_k = (np.eye(p) - B_not_k@np.linalg.inv(B_not_k.T@B_not_k)@B_not_k.T)@B_k\n",
    "        beta_k = np.round(beta_k.flatten(),10)\n",
    "\n",
    "        unique_values = list(set(beta_k))\n",
    "\n",
    "        if len(unique_values)!=2:\n",
    "            print(\"error\")\n",
    "\n",
    "        subgraph0 = beta_k==unique_values[0]\n",
    "        subgraph1 = beta_k==unique_values[1]\n",
    "\n",
    "        subgraph0_node_idx = full_node_idx[subgraph0]\n",
    "        subgraph1_node_idx = full_node_idx[subgraph1]\n",
    "\n",
    "        logp_choices =  logP[subgraph0_node_idx,:][:,subgraph1_node_idx]\n",
    "\n",
    "        m1,m2 = logp_choices.shape\n",
    "        logp_gumbel = logp_choices + np.random.gumbel(0,1, logp_choices.shape)\n",
    "        idx = np.argmax(logp_gumbel)\n",
    "\n",
    "        r_idx, c_idx = findRowColIdx(idx,m1,m2)\n",
    "\n",
    "\n",
    "        new_idx0= subgraph0_node_idx[r_idx]\n",
    "        new_idx1= subgraph1_node_idx[c_idx]\n",
    "\n",
    "        B[:,k] = 0\n",
    "        B[new_idx0,k]=1\n",
    "        B[new_idx1,k]= - 1\n",
    "\n",
    "    return B"
   ]
  },
  {
   "cell_type": "code",
   "execution_count": 17,
   "metadata": {},
   "outputs": [],
   "source": [
    "    B = updateB(B,logP)\n"
   ]
  },
  {
   "cell_type": "code",
   "execution_count": 18,
   "metadata": {},
   "outputs": [],
   "source": [
    "sigma2 = 0.1"
   ]
  },
  {
   "cell_type": "code",
   "execution_count": 19,
   "metadata": {},
   "outputs": [
    {
     "data": {
      "text/plain": [
       "array([[ 3., -1.,  0., ...,  0.,  0.,  0.],\n",
       "       [-1.,  3.,  0., ...,  0.,  0.,  0.],\n",
       "       [ 0.,  0.,  2., ...,  0.,  0.,  0.],\n",
       "       ...,\n",
       "       [ 0.,  0.,  0., ...,  3., -1.,  0.],\n",
       "       [ 0.,  0.,  0., ..., -1.,  1.,  0.],\n",
       "       [ 0.,  0.,  0., ...,  0.,  0.,  1.]])"
      ]
     },
     "execution_count": 19,
     "metadata": {},
     "output_type": "execute_result"
    }
   ],
   "source": [
    "B@B.T"
   ]
  },
  {
   "cell_type": "code",
   "execution_count": 20,
   "metadata": {},
   "outputs": [],
   "source": [
    "import copy"
   ]
  },
  {
   "cell_type": "code",
   "execution_count": 21,
   "metadata": {},
   "outputs": [],
   "source": [
    "A_trace = list()"
   ]
  },
  {
   "cell_type": "code",
   "execution_count": 22,
   "metadata": {},
   "outputs": [
    {
     "name": "stdout",
     "output_type": "stream",
     "text": [
      "99\n",
      "199\n",
      "299\n",
      "399\n",
      "499\n",
      "599\n",
      "699\n",
      "799\n",
      "899\n",
      "999\n"
     ]
    }
   ],
   "source": [
    "for k in range(1000):\n",
    "    \n",
    "    sigma2 = 1/ np.random.gamma((p-1)*n/2 + 1 , 1.0/ ( np.sum(A*Adj0)/2/2 + 1), 1)\n",
    "    logP =  -Adj0/sigma2/2.0\n",
    "    \n",
    "    B = updateB(B,logP)\n",
    "    A = getA(B)\n",
    "\n",
    "    A_trace.append(A.copy())\n",
    "    \n",
    "    if (k+1) % 100==0:\n",
    "        print(k)\n",
    "    \n",
    "#     print(np.abs(A-mst0).sum())"
   ]
  },
  {
   "cell_type": "code",
   "execution_count": 23,
   "metadata": {},
   "outputs": [],
   "source": [
    "mst_trace_arr = np.array(A_trace)"
   ]
  },
  {
   "cell_type": "code",
   "execution_count": 24,
   "metadata": {},
   "outputs": [
    {
     "data": {
      "text/plain": [
       "[<matplotlib.lines.Line2D at 0x7fe76c023f90>]"
      ]
     },
     "execution_count": 24,
     "metadata": {},
     "output_type": "execute_result"
    },
    {
     "data": {
      "image/png": "[encoded data removed]",
      "text/plain": [
       "<Figure size 432x288 with 1 Axes>"
      ]
     },
     "metadata": {
      "needs_background": "light"
     },
     "output_type": "display_data"
    }
   ],
   "source": [
    "plt.plot(mst_trace_arr[:100,0,1])"
   ]
  },
  {
   "cell_type": "code",
   "execution_count": 25,
   "metadata": {},
   "outputs": [],
   "source": [
    "mean_mst = mst_trace_arr.mean(0)"
   ]
  },
  {
   "cell_type": "code",
   "execution_count": 26,
   "metadata": {},
   "outputs": [
    {
     "data": {
      "text/plain": [
       "(array([ 0,  0,  1,  1,  2,  2,  2,  3, 25, 25, 26, 26, 27, 27, 27, 28, 71,\n",
       "        71, 72, 72, 72, 73, 73, 73, 74, 74, 96, 97, 97, 98, 98, 98, 99, 99]),\n",
       " array([ 1,  2,  0,  2,  0,  1,  3,  2, 26, 27, 25, 27, 25, 26, 28, 27, 72,\n",
       "        73, 71, 73, 74, 71, 72, 74, 72, 73, 98, 98, 99, 96, 97, 99, 97, 98]))"
      ]
     },
     "execution_count": 26,
     "metadata": {},
     "output_type": "execute_result"
    }
   ],
   "source": [
    "np.where(np.logical_and(mean_mst<0.7, mean_mst>0.3))"
   ]
  },
  {
   "cell_type": "code",
   "execution_count": 27,
   "metadata": {},
   "outputs": [],
   "source": [
    "# plt.plot(mst_trace_arr[:100,96,97])"
   ]
  },
  {
   "cell_type": "code",
   "execution_count": 28,
   "metadata": {},
   "outputs": [
    {
     "data": {
      "text/plain": [
       "<matplotlib.colorbar.Colorbar at 0x7fe751e4e890>"
      ]
     },
     "execution_count": 28,
     "metadata": {},
     "output_type": "execute_result"
    },
    {
     "data": {
      "image/png": "[encoded data removed]",
      "text/plain": [
       "<Figure size 432x288 with 2 Axes>"
      ]
     },
     "metadata": {
      "needs_background": "light"
     },
     "output_type": "display_data"
    }
   ],
   "source": [
    "plt.imshow(mean_mst, vmin=0)\n",
    "plt.colorbar()"
   ]
  },
  {
   "cell_type": "code",
   "execution_count": 33,
   "metadata": {},
   "outputs": [
    {
     "data": {
      "text/plain": [
       "array([0.03091335])"
      ]
     },
     "execution_count": 33,
     "metadata": {},
     "output_type": "execute_result"
    }
   ],
   "source": [
    "sigma2"
   ]
  },
  {
   "cell_type": "code",
   "execution_count": 31,
   "metadata": {},
   "outputs": [],
   "source": [
    "import igraph"
   ]
  },
  {
   "cell_type": "code",
   "execution_count": 32,
   "metadata": {},
   "outputs": [
    {
     "data": {
      "image/svg+xml": [
       "<?xml version=\"1.0\" encoding=\"UTF-8\"?>\n",
       "<svg xmlns=\"http://www.w3.org/2000/svg\" xmlns:xlink=\"http://www.w3.org/1999/xlink\" width=\"600pt\" height=\"600pt\" viewBox=\"0 0 600 600\" version=\"1.1\">\n",
       "<g id=\"surface2\">\n",
       "<rect x=\"0\" y=\"0\" width=\"600\" height=\"600\" style=\"fill:rgb(100%,100%,100%);fill-opacity:1;stroke:none;\"/>\n",
       "<path style=\"fill:none;stroke-width:1;stroke-linecap:butt;stroke-linejoin:miter;stroke:rgb(26.666667%,26.666667%,26.666667%);stroke-opacity:1;stroke-miterlimit:10;\" d=\"M 20.839844 213.199219 L 20 234.828125 \"/>\n",
       "<path style=\"fill:none;stroke-width:1;stroke-linecap:butt;stroke-linejoin:miter;stroke:rgb(26.666667%,26.666667%,26.666667%);stroke-opacity:1;stroke-miterlimit:10;\" d=\"M 20 234.828125 L 21.519531 264.316406 \"/>\n",
       "<path style=\"fill:none;stroke-width:1;stroke-linecap:butt;stroke-linejoin:miter;stroke:rgb(26.666667%,26.666667%,26.666667%);stroke-opacity:1;stroke-miterlimit:10;\" d=\"M 21.519531 264.316406 L 22.082031 282.835938 \"/>\n",
       "<path style=\"fill:none;stroke-width:1;stroke-linecap:butt;stroke-linejoin:miter;stroke:rgb(26.666667%,26.666667%,26.666667%);stroke-opacity:1;stroke-miterlimit:10;\" d=\"M 22.082031 282.835938 L 27.691406 303.15625 \"/>\n",
       "<path style=\"fill:none;stroke-width:1;stroke-linecap:butt;stroke-linejoin:miter;stroke:rgb(26.666667%,26.666667%,26.666667%);stroke-opacity:1;stroke-miterlimit:10;\" d=\"M 27.691406 303.15625 L 27.777344 330.292969 \"/>\n",
       "<path style=\"fill:none;stroke-width:1;stroke-linecap:butt;stroke-linejoin:miter;stroke:rgb(26.666667%,26.666667%,26.666667%);stroke-opacity:1;stroke-miterlimit:10;\" d=\"M 27.777344 330.292969 L 33.769531 348.746094 \"/>\n",
       "<path style=\"fill:none;stroke-width:1;stroke-linecap:butt;stroke-linejoin:miter;stroke:rgb(26.666667%,26.666667%,26.666667%);stroke-opacity:1;stroke-miterlimit:10;\" d=\"M 33.769531 348.746094 L 38.378906 374.929688 \"/>\n",
       "<path style=\"fill:none;stroke-width:1;stroke-linecap:butt;stroke-linejoin:miter;stroke:rgb(26.666667%,26.666667%,26.666667%);stroke-opacity:1;stroke-miterlimit:10;\" d=\"M 38.378906 374.929688 L 44.726562 392.789062 \"/>\n",
       "<path style=\"fill:none;stroke-width:1;stroke-linecap:butt;stroke-linejoin:miter;stroke:rgb(26.666667%,26.666667%,26.666667%);stroke-opacity:1;stroke-miterlimit:10;\" d=\"M 44.726562 392.789062 L 48.925781 411.292969 \"/>\n",
       "<path style=\"fill:none;stroke-width:1;stroke-linecap:butt;stroke-linejoin:miter;stroke:rgb(26.666667%,26.666667%,26.666667%);stroke-opacity:1;stroke-miterlimit:10;\" d=\"M 48.925781 411.292969 L 59.167969 428 \"/>\n",
       "<path style=\"fill:none;stroke-width:1;stroke-linecap:butt;stroke-linejoin:miter;stroke:rgb(26.666667%,26.666667%,26.666667%);stroke-opacity:1;stroke-miterlimit:10;\" d=\"M 59.167969 428 L 66.753906 446.371094 \"/>\n",
       "<path style=\"fill:none;stroke-width:1;stroke-linecap:butt;stroke-linejoin:miter;stroke:rgb(26.666667%,26.666667%,26.666667%);stroke-opacity:1;stroke-miterlimit:10;\" d=\"M 66.753906 446.371094 L 77.496094 467.652344 \"/>\n",
       "<path style=\"fill:none;stroke-width:1;stroke-linecap:butt;stroke-linejoin:miter;stroke:rgb(26.666667%,26.666667%,26.666667%);stroke-opacity:1;stroke-miterlimit:10;\" d=\"M 77.496094 467.652344 L 84.488281 480.632812 \"/>\n",
       "<path style=\"fill:none;stroke-width:1;stroke-linecap:butt;stroke-linejoin:miter;stroke:rgb(26.666667%,26.666667%,26.666667%);stroke-opacity:1;stroke-miterlimit:10;\" d=\"M 84.488281 480.632812 L 90.449219 497.371094 \"/>\n",
       "<path style=\"fill:none;stroke-width:1;stroke-linecap:butt;stroke-linejoin:miter;stroke:rgb(26.666667%,26.666667%,26.666667%);stroke-opacity:1;stroke-miterlimit:10;\" d=\"M 90.449219 497.371094 L 101.992188 511.214844 \"/>\n",
       "<path style=\"fill:none;stroke-width:1;stroke-linecap:butt;stroke-linejoin:miter;stroke:rgb(26.666667%,26.666667%,26.666667%);stroke-opacity:1;stroke-miterlimit:10;\" d=\"M 101.992188 511.214844 L 111.761719 521.210938 \"/>\n",
       "<path style=\"fill:none;stroke-width:1;stroke-linecap:butt;stroke-linejoin:miter;stroke:rgb(26.666667%,26.666667%,26.666667%);stroke-opacity:1;stroke-miterlimit:10;\" d=\"M 111.761719 521.210938 L 123.046875 537.113281 \"/>\n",
       "<path style=\"fill:none;stroke-width:1;stroke-linecap:butt;stroke-linejoin:miter;stroke:rgb(26.666667%,26.666667%,26.666667%);stroke-opacity:1;stroke-miterlimit:10;\" d=\"M 123.046875 537.113281 L 130.027344 543.269531 \"/>\n",
       "<path style=\"fill:none;stroke-width:1;stroke-linecap:butt;stroke-linejoin:miter;stroke:rgb(26.666667%,26.666667%,26.666667%);stroke-opacity:1;stroke-miterlimit:10;\" d=\"M 130.027344 543.269531 L 142.632812 559.09375 \"/>\n",
       "<path style=\"fill:none;stroke-width:1;stroke-linecap:butt;stroke-linejoin:miter;stroke:rgb(26.666667%,26.666667%,26.666667%);stroke-opacity:1;stroke-miterlimit:10;\" d=\"M 142.632812 559.09375 L 158.273438 560.515625 \"/>\n",
       "<path style=\"fill:none;stroke-width:1;stroke-linecap:butt;stroke-linejoin:miter;stroke:rgb(26.666667%,26.666667%,26.666667%);stroke-opacity:1;stroke-miterlimit:10;\" d=\"M 158.273438 560.515625 L 162.566406 565.828125 \"/>\n",
       "<path style=\"fill:none;stroke-width:1;stroke-linecap:butt;stroke-linejoin:miter;stroke:rgb(26.666667%,26.666667%,26.666667%);stroke-opacity:1;stroke-miterlimit:10;\" d=\"M 162.566406 565.828125 L 176.890625 571.410156 \"/>\n",
       "<path style=\"fill:none;stroke-width:1;stroke-linecap:butt;stroke-linejoin:miter;stroke:rgb(26.666667%,26.666667%,26.666667%);stroke-opacity:1;stroke-miterlimit:10;\" d=\"M 176.890625 571.410156 L 186.953125 575.140625 \"/>\n",
       "<path style=\"fill:none;stroke-width:1;stroke-linecap:butt;stroke-linejoin:miter;stroke:rgb(26.666667%,26.666667%,26.666667%);stroke-opacity:1;stroke-miterlimit:10;\" d=\"M 186.953125 575.140625 L 198.097656 580 \"/>\n",
       "<path style=\"fill:none;stroke-width:1;stroke-linecap:butt;stroke-linejoin:miter;stroke:rgb(26.666667%,26.666667%,26.666667%);stroke-opacity:1;stroke-miterlimit:10;\" d=\"M 206.757812 390.695312 L 209.246094 374.753906 \"/>\n",
       "<path style=\"fill:none;stroke-width:1;stroke-linecap:butt;stroke-linejoin:miter;stroke:rgb(26.666667%,26.666667%,26.666667%);stroke-opacity:1;stroke-miterlimit:10;\" d=\"M 209.246094 374.753906 L 209.003906 347.652344 \"/>\n",
       "<path style=\"fill:none;stroke-width:1;stroke-linecap:butt;stroke-linejoin:miter;stroke:rgb(26.666667%,26.666667%,26.666667%);stroke-opacity:1;stroke-miterlimit:10;\" d=\"M 209.003906 347.652344 L 208.859375 318.558594 \"/>\n",
       "<path style=\"fill:none;stroke-width:1;stroke-linecap:butt;stroke-linejoin:miter;stroke:rgb(26.666667%,26.666667%,26.666667%);stroke-opacity:1;stroke-miterlimit:10;\" d=\"M 198.097656 580 L 212.253906 577.078125 \"/>\n",
       "<path style=\"fill:none;stroke-width:1;stroke-linecap:butt;stroke-linejoin:miter;stroke:rgb(26.666667%,26.666667%,26.666667%);stroke-opacity:1;stroke-miterlimit:10;\" d=\"M 208.859375 318.558594 L 213.585938 303.867188 \"/>\n",
       "<path style=\"fill:none;stroke-width:1;stroke-linecap:butt;stroke-linejoin:miter;stroke:rgb(26.666667%,26.666667%,26.666667%);stroke-opacity:1;stroke-miterlimit:10;\" d=\"M 213.585938 303.867188 L 217.808594 285.253906 \"/>\n",
       "<path style=\"fill:none;stroke-width:1;stroke-linecap:butt;stroke-linejoin:miter;stroke:rgb(26.666667%,26.666667%,26.666667%);stroke-opacity:1;stroke-miterlimit:10;\" d=\"M 217.808594 285.253906 L 216.449219 256.605469 \"/>\n",
       "<path style=\"fill:none;stroke-width:1;stroke-linecap:butt;stroke-linejoin:miter;stroke:rgb(26.666667%,26.666667%,26.666667%);stroke-opacity:1;stroke-miterlimit:10;\" d=\"M 212.253906 577.078125 L 224.488281 575.566406 \"/>\n",
       "<path style=\"fill:none;stroke-width:1;stroke-linecap:butt;stroke-linejoin:miter;stroke:rgb(26.666667%,26.666667%,26.666667%);stroke-opacity:1;stroke-miterlimit:10;\" d=\"M 216.449219 256.605469 L 224.417969 236.863281 \"/>\n",
       "<path style=\"fill:none;stroke-width:1;stroke-linecap:butt;stroke-linejoin:miter;stroke:rgb(26.666667%,26.666667%,26.666667%);stroke-opacity:1;stroke-miterlimit:10;\" d=\"M 224.417969 236.863281 L 227.308594 212.355469 \"/>\n",
       "<path style=\"fill:none;stroke-width:1;stroke-linecap:butt;stroke-linejoin:miter;stroke:rgb(26.666667%,26.666667%,26.666667%);stroke-opacity:1;stroke-miterlimit:10;\" d=\"M 224.488281 575.566406 L 235.8125 576.355469 \"/>\n",
       "<path style=\"fill:none;stroke-width:1;stroke-linecap:butt;stroke-linejoin:miter;stroke:rgb(26.666667%,26.666667%,26.666667%);stroke-opacity:1;stroke-miterlimit:10;\" d=\"M 227.308594 212.355469 L 236.164062 195.035156 \"/>\n",
       "<path style=\"fill:none;stroke-width:1;stroke-linecap:butt;stroke-linejoin:miter;stroke:rgb(26.666667%,26.666667%,26.666667%);stroke-opacity:1;stroke-miterlimit:10;\" d=\"M 236.164062 195.035156 L 242.894531 175.375 \"/>\n",
       "<path style=\"fill:none;stroke-width:1;stroke-linecap:butt;stroke-linejoin:miter;stroke:rgb(26.666667%,26.666667%,26.666667%);stroke-opacity:1;stroke-miterlimit:10;\" d=\"M 235.8125 576.355469 L 249.273438 568.601562 \"/>\n",
       "<path style=\"fill:none;stroke-width:1;stroke-linecap:butt;stroke-linejoin:miter;stroke:rgb(26.666667%,26.666667%,26.666667%);stroke-opacity:1;stroke-miterlimit:10;\" d=\"M 242.894531 175.375 L 251.433594 156.859375 \"/>\n",
       "<path style=\"fill:none;stroke-width:1;stroke-linecap:butt;stroke-linejoin:miter;stroke:rgb(26.666667%,26.666667%,26.666667%);stroke-opacity:1;stroke-miterlimit:10;\" d=\"M 251.433594 156.859375 L 257.003906 136.425781 \"/>\n",
       "<path style=\"fill:none;stroke-width:1;stroke-linecap:butt;stroke-linejoin:miter;stroke:rgb(26.666667%,26.666667%,26.666667%);stroke-opacity:1;stroke-miterlimit:10;\" d=\"M 249.273438 568.601562 L 257.816406 561.441406 \"/>\n",
       "<path style=\"fill:none;stroke-width:1;stroke-linecap:butt;stroke-linejoin:miter;stroke:rgb(26.666667%,26.666667%,26.666667%);stroke-opacity:1;stroke-miterlimit:10;\" d=\"M 257.003906 136.425781 L 264.25 122.367188 \"/>\n",
       "<path style=\"fill:none;stroke-width:1;stroke-linecap:butt;stroke-linejoin:miter;stroke:rgb(26.666667%,26.666667%,26.666667%);stroke-opacity:1;stroke-miterlimit:10;\" d=\"M 257.816406 561.441406 L 268.902344 553.722656 \"/>\n",
       "<path style=\"fill:none;stroke-width:1;stroke-linecap:butt;stroke-linejoin:miter;stroke:rgb(26.666667%,26.666667%,26.666667%);stroke-opacity:1;stroke-miterlimit:10;\" d=\"M 264.25 122.367188 L 277.363281 111.414062 \"/>\n",
       "<path style=\"fill:none;stroke-width:1;stroke-linecap:butt;stroke-linejoin:miter;stroke:rgb(26.666667%,26.666667%,26.666667%);stroke-opacity:1;stroke-miterlimit:10;\" d=\"M 268.902344 553.722656 L 281.167969 545.414062 \"/>\n",
       "<path style=\"fill:none;stroke-width:1;stroke-linecap:butt;stroke-linejoin:miter;stroke:rgb(26.666667%,26.666667%,26.666667%);stroke-opacity:1;stroke-miterlimit:10;\" d=\"M 277.363281 111.414062 L 285.5625 97.988281 \"/>\n",
       "<path style=\"fill:none;stroke-width:1;stroke-linecap:butt;stroke-linejoin:miter;stroke:rgb(26.666667%,26.666667%,26.666667%);stroke-opacity:1;stroke-miterlimit:10;\" d=\"M 281.167969 545.414062 L 292.105469 534.890625 \"/>\n",
       "<path style=\"fill:none;stroke-width:1;stroke-linecap:butt;stroke-linejoin:miter;stroke:rgb(26.666667%,26.666667%,26.666667%);stroke-opacity:1;stroke-miterlimit:10;\" d=\"M 285.5625 97.988281 L 296.046875 80.859375 \"/>\n",
       "<path style=\"fill:none;stroke-width:1;stroke-linecap:butt;stroke-linejoin:miter;stroke:rgb(26.666667%,26.666667%,26.666667%);stroke-opacity:1;stroke-miterlimit:10;\" d=\"M 292.105469 534.890625 L 305.234375 527.285156 \"/>\n",
       "<path style=\"fill:none;stroke-width:1;stroke-linecap:butt;stroke-linejoin:miter;stroke:rgb(26.666667%,26.666667%,26.666667%);stroke-opacity:1;stroke-miterlimit:10;\" d=\"M 296.046875 80.859375 L 308.210938 67.832031 \"/>\n",
       "<path style=\"fill:none;stroke-width:1;stroke-linecap:butt;stroke-linejoin:miter;stroke:rgb(26.666667%,26.666667%,26.666667%);stroke-opacity:1;stroke-miterlimit:10;\" d=\"M 305.234375 527.285156 L 314.84375 516.085938 \"/>\n",
       "<path style=\"fill:none;stroke-width:1;stroke-linecap:butt;stroke-linejoin:miter;stroke:rgb(26.666667%,26.666667%,26.666667%);stroke-opacity:1;stroke-miterlimit:10;\" d=\"M 308.210938 67.832031 L 313.589844 59.277344 \"/>\n",
       "<path style=\"fill:none;stroke-width:1;stroke-linecap:butt;stroke-linejoin:miter;stroke:rgb(26.666667%,26.666667%,26.666667%);stroke-opacity:1;stroke-miterlimit:10;\" d=\"M 314.84375 516.085938 L 319.257812 487.90625 \"/>\n",
       "<path style=\"fill:none;stroke-width:1;stroke-linecap:butt;stroke-linejoin:miter;stroke:rgb(26.666667%,26.666667%,26.666667%);stroke-opacity:1;stroke-miterlimit:10;\" d=\"M 313.589844 59.277344 L 327.074219 49.199219 \"/>\n",
       "<path style=\"fill:none;stroke-width:1;stroke-linecap:butt;stroke-linejoin:miter;stroke:rgb(26.666667%,26.666667%,26.666667%);stroke-opacity:1;stroke-miterlimit:10;\" d=\"M 319.257812 487.90625 L 330.664062 480.347656 \"/>\n",
       "<path style=\"fill:none;stroke-width:1;stroke-linecap:butt;stroke-linejoin:miter;stroke:rgb(26.666667%,26.666667%,26.666667%);stroke-opacity:1;stroke-miterlimit:10;\" d=\"M 327.074219 49.199219 L 336.988281 50.859375 \"/>\n",
       "<path style=\"fill:none;stroke-width:1;stroke-linecap:butt;stroke-linejoin:miter;stroke:rgb(26.666667%,26.666667%,26.666667%);stroke-opacity:1;stroke-miterlimit:10;\" d=\"M 330.664062 480.347656 L 341.753906 467.800781 \"/>\n",
       "<path style=\"fill:none;stroke-width:1;stroke-linecap:butt;stroke-linejoin:miter;stroke:rgb(26.666667%,26.666667%,26.666667%);stroke-opacity:1;stroke-miterlimit:10;\" d=\"M 341.753906 467.800781 L 347.917969 448.546875 \"/>\n",
       "<path style=\"fill:none;stroke-width:1;stroke-linecap:butt;stroke-linejoin:miter;stroke:rgb(26.666667%,26.666667%,26.666667%);stroke-opacity:1;stroke-miterlimit:10;\" d=\"M 336.988281 50.859375 L 352.878906 40.535156 \"/>\n",
       "<path style=\"fill:none;stroke-width:1;stroke-linecap:butt;stroke-linejoin:miter;stroke:rgb(26.666667%,26.666667%,26.666667%);stroke-opacity:1;stroke-miterlimit:10;\" d=\"M 347.917969 448.546875 L 356.742188 425.109375 \"/>\n",
       "<path style=\"fill:none;stroke-width:1;stroke-linecap:butt;stroke-linejoin:miter;stroke:rgb(26.666667%,26.666667%,26.666667%);stroke-opacity:1;stroke-miterlimit:10;\" d=\"M 356.742188 425.109375 L 359.441406 413.027344 \"/>\n",
       "<path style=\"fill:none;stroke-width:1;stroke-linecap:butt;stroke-linejoin:miter;stroke:rgb(26.666667%,26.666667%,26.666667%);stroke-opacity:1;stroke-miterlimit:10;\" d=\"M 352.878906 40.535156 L 365.023438 43.546875 \"/>\n",
       "<path style=\"fill:none;stroke-width:1;stroke-linecap:butt;stroke-linejoin:miter;stroke:rgb(26.666667%,26.666667%,26.666667%);stroke-opacity:1;stroke-miterlimit:10;\" d=\"M 359.441406 413.027344 L 369.710938 392.492188 \"/>\n",
       "<path style=\"fill:none;stroke-width:1;stroke-linecap:butt;stroke-linejoin:miter;stroke:rgb(26.666667%,26.666667%,26.666667%);stroke-opacity:1;stroke-miterlimit:10;\" d=\"M 369.710938 392.492188 L 375.300781 374.519531 \"/>\n",
       "<path style=\"fill:none;stroke-width:1;stroke-linecap:butt;stroke-linejoin:miter;stroke:rgb(26.666667%,26.666667%,26.666667%);stroke-opacity:1;stroke-miterlimit:10;\" d=\"M 365.023438 43.546875 L 372.554688 22.664062 \"/>\n",
       "<path style=\"fill:none;stroke-width:1;stroke-linecap:butt;stroke-linejoin:miter;stroke:rgb(26.666667%,26.666667%,26.666667%);stroke-opacity:1;stroke-miterlimit:10;\" d=\"M 375.300781 374.519531 L 377.839844 351.996094 \"/>\n",
       "<path style=\"fill:none;stroke-width:1;stroke-linecap:butt;stroke-linejoin:miter;stroke:rgb(26.666667%,26.666667%,26.666667%);stroke-opacity:1;stroke-miterlimit:10;\" d=\"M 377.839844 351.996094 L 382.46875 327.976562 \"/>\n",
       "<path style=\"fill:none;stroke-width:1;stroke-linecap:butt;stroke-linejoin:miter;stroke:rgb(26.666667%,26.666667%,26.666667%);stroke-opacity:1;stroke-miterlimit:10;\" d=\"M 382.46875 327.976562 L 382.570312 311.445312 \"/>\n",
       "<path style=\"fill:none;stroke-width:1;stroke-linecap:butt;stroke-linejoin:miter;stroke:rgb(26.666667%,26.666667%,26.666667%);stroke-opacity:1;stroke-miterlimit:10;\" d=\"M 372.554688 22.664062 L 383.316406 31.667969 \"/>\n",
       "<path style=\"fill:none;stroke-width:1;stroke-linecap:butt;stroke-linejoin:miter;stroke:rgb(26.666667%,26.666667%,26.666667%);stroke-opacity:1;stroke-miterlimit:10;\" d=\"M 382.570312 311.445312 L 387.542969 283.929688 \"/>\n",
       "<path style=\"fill:none;stroke-width:1;stroke-linecap:butt;stroke-linejoin:miter;stroke:rgb(26.666667%,26.666667%,26.666667%);stroke-opacity:1;stroke-miterlimit:10;\" d=\"M 387.542969 283.929688 L 391.699219 261.832031 \"/>\n",
       "<path style=\"fill:none;stroke-width:1;stroke-linecap:butt;stroke-linejoin:miter;stroke:rgb(26.666667%,26.666667%,26.666667%);stroke-opacity:1;stroke-miterlimit:10;\" d=\"M 391.699219 261.832031 L 393.265625 237.03125 \"/>\n",
       "<path style=\"fill:none;stroke-width:1;stroke-linecap:butt;stroke-linejoin:miter;stroke:rgb(26.666667%,26.666667%,26.666667%);stroke-opacity:1;stroke-miterlimit:10;\" d=\"M 365.023438 43.546875 L 391.945312 209.441406 \"/>\n",
       "<path style=\"fill:none;stroke-width:1;stroke-linecap:butt;stroke-linejoin:miter;stroke:rgb(26.666667%,26.666667%,26.666667%);stroke-opacity:1;stroke-miterlimit:10;\" d=\"M 393.265625 237.03125 L 391.945312 209.441406 \"/>\n",
       "<path style=\"fill:none;stroke-width:1;stroke-linecap:butt;stroke-linejoin:miter;stroke:rgb(26.666667%,26.666667%,26.666667%);stroke-opacity:1;stroke-miterlimit:10;\" d=\"M 383.316406 31.667969 L 397.152344 20 \"/>\n",
       "<path style=\"fill:none;stroke-width:1;stroke-linecap:butt;stroke-linejoin:miter;stroke:rgb(26.666667%,26.666667%,26.666667%);stroke-opacity:1;stroke-miterlimit:10;\" d=\"M 397.152344 20 L 410.488281 26.191406 \"/>\n",
       "<path style=\"fill:none;stroke-width:1;stroke-linecap:butt;stroke-linejoin:miter;stroke:rgb(26.666667%,26.666667%,26.666667%);stroke-opacity:1;stroke-miterlimit:10;\" d=\"M 410.488281 26.191406 L 420.539062 30.777344 \"/>\n",
       "<path style=\"fill:none;stroke-width:1;stroke-linecap:butt;stroke-linejoin:miter;stroke:rgb(26.666667%,26.666667%,26.666667%);stroke-opacity:1;stroke-miterlimit:10;\" d=\"M 420.539062 30.777344 L 429.75 40.722656 \"/>\n",
       "<path style=\"fill:none;stroke-width:1;stroke-linecap:butt;stroke-linejoin:miter;stroke:rgb(26.666667%,26.666667%,26.666667%);stroke-opacity:1;stroke-miterlimit:10;\" d=\"M 429.75 40.722656 L 447.683594 47.898438 \"/>\n",
       "<path style=\"fill:none;stroke-width:1;stroke-linecap:butt;stroke-linejoin:miter;stroke:rgb(26.666667%,26.666667%,26.666667%);stroke-opacity:1;stroke-miterlimit:10;\" d=\"M 447.683594 47.898438 L 455.90625 52.628906 \"/>\n",
       "<path style=\"fill:none;stroke-width:1;stroke-linecap:butt;stroke-linejoin:miter;stroke:rgb(26.666667%,26.666667%,26.666667%);stroke-opacity:1;stroke-miterlimit:10;\" d=\"M 455.90625 52.628906 L 467.375 62.984375 \"/>\n",
       "<path style=\"fill:none;stroke-width:1;stroke-linecap:butt;stroke-linejoin:miter;stroke:rgb(26.666667%,26.666667%,26.666667%);stroke-opacity:1;stroke-miterlimit:10;\" d=\"M 467.375 62.984375 L 478.074219 73.007812 \"/>\n",
       "<path style=\"fill:none;stroke-width:1;stroke-linecap:butt;stroke-linejoin:miter;stroke:rgb(26.666667%,26.666667%,26.666667%);stroke-opacity:1;stroke-miterlimit:10;\" d=\"M 478.074219 73.007812 L 486.285156 78.292969 \"/>\n",
       "<path style=\"fill:none;stroke-width:1;stroke-linecap:butt;stroke-linejoin:miter;stroke:rgb(26.666667%,26.666667%,26.666667%);stroke-opacity:1;stroke-miterlimit:10;\" d=\"M 486.285156 78.292969 L 498.613281 96.972656 \"/>\n",
       "<path style=\"fill:none;stroke-width:1;stroke-linecap:butt;stroke-linejoin:miter;stroke:rgb(26.666667%,26.666667%,26.666667%);stroke-opacity:1;stroke-miterlimit:10;\" d=\"M 498.613281 96.972656 L 505.488281 106.128906 \"/>\n",
       "<path style=\"fill:none;stroke-width:1;stroke-linecap:butt;stroke-linejoin:miter;stroke:rgb(26.666667%,26.666667%,26.666667%);stroke-opacity:1;stroke-miterlimit:10;\" d=\"M 505.488281 106.128906 L 519.019531 119.828125 \"/>\n",
       "<path style=\"fill:none;stroke-width:1;stroke-linecap:butt;stroke-linejoin:miter;stroke:rgb(26.666667%,26.666667%,26.666667%);stroke-opacity:1;stroke-miterlimit:10;\" d=\"M 519.019531 119.828125 L 524.976562 141.789062 \"/>\n",
       "<path style=\"fill:none;stroke-width:1;stroke-linecap:butt;stroke-linejoin:miter;stroke:rgb(26.666667%,26.666667%,26.666667%);stroke-opacity:1;stroke-miterlimit:10;\" d=\"M 524.976562 141.789062 L 533.410156 150.953125 \"/>\n",
       "<path style=\"fill:none;stroke-width:1;stroke-linecap:butt;stroke-linejoin:miter;stroke:rgb(26.666667%,26.666667%,26.666667%);stroke-opacity:1;stroke-miterlimit:10;\" d=\"M 533.410156 150.953125 L 539.039062 174.277344 \"/>\n",
       "<path style=\"fill:none;stroke-width:1;stroke-linecap:butt;stroke-linejoin:miter;stroke:rgb(26.666667%,26.666667%,26.666667%);stroke-opacity:1;stroke-miterlimit:10;\" d=\"M 539.039062 174.277344 L 548.628906 195.503906 \"/>\n",
       "<path style=\"fill:none;stroke-width:1;stroke-linecap:butt;stroke-linejoin:miter;stroke:rgb(26.666667%,26.666667%,26.666667%);stroke-opacity:1;stroke-miterlimit:10;\" d=\"M 548.628906 195.503906 L 553.421875 214.3125 \"/>\n",
       "<path style=\"fill:none;stroke-width:1;stroke-linecap:butt;stroke-linejoin:miter;stroke:rgb(26.666667%,26.666667%,26.666667%);stroke-opacity:1;stroke-miterlimit:10;\" d=\"M 553.421875 214.3125 L 558.535156 234.238281 \"/>\n",
       "<path style=\"fill:none;stroke-width:1;stroke-linecap:butt;stroke-linejoin:miter;stroke:rgb(26.666667%,26.666667%,26.666667%);stroke-opacity:1;stroke-miterlimit:10;\" d=\"M 558.535156 234.238281 L 563.484375 247.375 \"/>\n",
       "<path style=\"fill:none;stroke-width:1;stroke-linecap:butt;stroke-linejoin:miter;stroke:rgb(26.666667%,26.666667%,26.666667%);stroke-opacity:1;stroke-miterlimit:10;\" d=\"M 563.484375 247.375 L 567.296875 281.527344 \"/>\n",
       "<path style=\"fill:none;stroke-width:1;stroke-linecap:butt;stroke-linejoin:miter;stroke:rgb(26.666667%,26.666667%,26.666667%);stroke-opacity:1;stroke-miterlimit:10;\" d=\"M 567.296875 281.527344 L 569.246094 302.65625 \"/>\n",
       "<path style=\"fill:none;stroke-width:1;stroke-linecap:butt;stroke-linejoin:miter;stroke:rgb(26.666667%,26.666667%,26.666667%);stroke-opacity:1;stroke-miterlimit:10;\" d=\"M 569.246094 302.65625 L 574.148438 321.71875 \"/>\n",
       "<path style=\"fill:none;stroke-width:1;stroke-linecap:butt;stroke-linejoin:miter;stroke:rgb(26.666667%,26.666667%,26.666667%);stroke-opacity:1;stroke-miterlimit:10;\" d=\"M 574.148438 321.71875 L 578.21875 345.125 \"/>\n",
       "<path style=\"fill:none;stroke-width:1;stroke-linecap:butt;stroke-linejoin:miter;stroke:rgb(26.666667%,26.666667%,26.666667%);stroke-opacity:1;stroke-miterlimit:10;\" d=\"M 578.21875 345.125 L 575.246094 367.289062 \"/>\n",
       "<path style=\"fill:none;stroke-width:1;stroke-linecap:butt;stroke-linejoin:miter;stroke:rgb(26.666667%,26.666667%,26.666667%);stroke-opacity:1;stroke-miterlimit:10;\" d=\"M 575.246094 367.289062 L 580 396.414062 \"/>\n",
       "<path style=\"fill-rule:nonzero;fill:rgb(100%,0%,0%);fill-opacity:1;stroke-width:1;stroke-linecap:butt;stroke-linejoin:miter;stroke:rgb(0%,0%,0%);stroke-opacity:1;stroke-miterlimit:10;\" d=\"M 30.839844 213.199219 C 30.839844 218.722656 26.363281 223.199219 20.839844 223.199219 C 15.316406 223.199219 10.839844 218.722656 10.839844 213.199219 C 10.839844 207.675781 15.316406 203.199219 20.839844 203.199219 C 26.363281 203.199219 30.839844 207.675781 30.839844 213.199219 \"/>\n",
       "<path style=\"fill-rule:nonzero;fill:rgb(100%,0%,0%);fill-opacity:1;stroke-width:1;stroke-linecap:butt;stroke-linejoin:miter;stroke:rgb(0%,0%,0%);stroke-opacity:1;stroke-miterlimit:10;\" d=\"M 30 234.828125 C 30 240.351562 25.523438 244.828125 20 244.828125 C 14.476562 244.828125 10 240.351562 10 234.828125 C 10 229.304688 14.476562 224.828125 20 224.828125 C 25.523438 224.828125 30 229.304688 30 234.828125 \"/>\n",
       "<path style=\"fill-rule:nonzero;fill:rgb(100%,0%,0%);fill-opacity:1;stroke-width:1;stroke-linecap:butt;stroke-linejoin:miter;stroke:rgb(0%,0%,0%);stroke-opacity:1;stroke-miterlimit:10;\" d=\"M 31.519531 264.316406 C 31.519531 269.839844 27.042969 274.316406 21.519531 274.316406 C 15.996094 274.316406 11.519531 269.839844 11.519531 264.316406 C 11.519531 258.792969 15.996094 254.316406 21.519531 254.316406 C 27.042969 254.316406 31.519531 258.792969 31.519531 264.316406 \"/>\n",
       "<path style=\"fill-rule:nonzero;fill:rgb(100%,0%,0%);fill-opacity:1;stroke-width:1;stroke-linecap:butt;stroke-linejoin:miter;stroke:rgb(0%,0%,0%);stroke-opacity:1;stroke-miterlimit:10;\" d=\"M 32.082031 282.835938 C 32.082031 288.359375 27.605469 292.835938 22.082031 292.835938 C 16.558594 292.835938 12.082031 288.359375 12.082031 282.835938 C 12.082031 277.3125 16.558594 272.835938 22.082031 272.835938 C 27.605469 272.835938 32.082031 277.3125 32.082031 282.835938 \"/>\n",
       "<path style=\"fill-rule:nonzero;fill:rgb(100%,0%,0%);fill-opacity:1;stroke-width:1;stroke-linecap:butt;stroke-linejoin:miter;stroke:rgb(0%,0%,0%);stroke-opacity:1;stroke-miterlimit:10;\" d=\"M 37.691406 303.15625 C 37.691406 308.679688 33.214844 313.15625 27.691406 313.15625 C 22.167969 313.15625 17.691406 308.679688 17.691406 303.15625 C 17.691406 297.636719 22.167969 293.15625 27.691406 293.15625 C 33.214844 293.15625 37.691406 297.636719 37.691406 303.15625 \"/>\n",
       "<path style=\"fill-rule:nonzero;fill:rgb(100%,0%,0%);fill-opacity:1;stroke-width:1;stroke-linecap:butt;stroke-linejoin:miter;stroke:rgb(0%,0%,0%);stroke-opacity:1;stroke-miterlimit:10;\" d=\"M 37.777344 330.292969 C 37.777344 335.816406 33.300781 340.292969 27.777344 340.292969 C 22.253906 340.292969 17.777344 335.816406 17.777344 330.292969 C 17.777344 324.769531 22.253906 320.292969 27.777344 320.292969 C 33.300781 320.292969 37.777344 324.769531 37.777344 330.292969 \"/>\n",
       "<path style=\"fill-rule:nonzero;fill:rgb(100%,0%,0%);fill-opacity:1;stroke-width:1;stroke-linecap:butt;stroke-linejoin:miter;stroke:rgb(0%,0%,0%);stroke-opacity:1;stroke-miterlimit:10;\" d=\"M 43.769531 348.746094 C 43.769531 354.269531 39.289062 358.746094 33.769531 358.746094 C 28.246094 358.746094 23.769531 354.269531 23.769531 348.746094 C 23.769531 343.222656 28.246094 338.746094 33.769531 338.746094 C 39.289062 338.746094 43.769531 343.222656 43.769531 348.746094 \"/>\n",
       "<path style=\"fill-rule:nonzero;fill:rgb(100%,0%,0%);fill-opacity:1;stroke-width:1;stroke-linecap:butt;stroke-linejoin:miter;stroke:rgb(0%,0%,0%);stroke-opacity:1;stroke-miterlimit:10;\" d=\"M 48.378906 374.929688 C 48.378906 380.449219 43.898438 384.929688 38.378906 384.929688 C 32.855469 384.929688 28.378906 380.449219 28.378906 374.929688 C 28.378906 369.40625 32.855469 364.929688 38.378906 364.929688 C 43.898438 364.929688 48.378906 369.40625 48.378906 374.929688 \"/>\n",
       "<path style=\"fill-rule:nonzero;fill:rgb(100%,0%,0%);fill-opacity:1;stroke-width:1;stroke-linecap:butt;stroke-linejoin:miter;stroke:rgb(0%,0%,0%);stroke-opacity:1;stroke-miterlimit:10;\" d=\"M 54.726562 392.789062 C 54.726562 398.3125 50.25 402.789062 44.726562 402.789062 C 39.207031 402.789062 34.726562 398.3125 34.726562 392.789062 C 34.726562 387.265625 39.207031 382.789062 44.726562 382.789062 C 50.25 382.789062 54.726562 387.265625 54.726562 392.789062 \"/>\n",
       "<path style=\"fill-rule:nonzero;fill:rgb(100%,0%,0%);fill-opacity:1;stroke-width:1;stroke-linecap:butt;stroke-linejoin:miter;stroke:rgb(0%,0%,0%);stroke-opacity:1;stroke-miterlimit:10;\" d=\"M 58.925781 411.292969 C 58.925781 416.816406 54.449219 421.292969 48.925781 421.292969 C 43.402344 421.292969 38.925781 416.816406 38.925781 411.292969 C 38.925781 405.769531 43.402344 401.292969 48.925781 401.292969 C 54.449219 401.292969 58.925781 405.769531 58.925781 411.292969 \"/>\n",
       "<path style=\"fill-rule:nonzero;fill:rgb(100%,0%,0%);fill-opacity:1;stroke-width:1;stroke-linecap:butt;stroke-linejoin:miter;stroke:rgb(0%,0%,0%);stroke-opacity:1;stroke-miterlimit:10;\" d=\"M 69.167969 428 C 69.167969 433.523438 64.691406 438 59.167969 438 C 53.644531 438 49.167969 433.523438 49.167969 428 C 49.167969 422.476562 53.644531 418 59.167969 418 C 64.691406 418 69.167969 422.476562 69.167969 428 \"/>\n",
       "<path style=\"fill-rule:nonzero;fill:rgb(100%,0%,0%);fill-opacity:1;stroke-width:1;stroke-linecap:butt;stroke-linejoin:miter;stroke:rgb(0%,0%,0%);stroke-opacity:1;stroke-miterlimit:10;\" d=\"M 76.753906 446.371094 C 76.753906 451.894531 72.277344 456.371094 66.753906 456.371094 C 61.234375 456.371094 56.753906 451.894531 56.753906 446.371094 C 56.753906 440.851562 61.234375 436.371094 66.753906 436.371094 C 72.277344 436.371094 76.753906 440.851562 76.753906 446.371094 \"/>\n",
       "<path style=\"fill-rule:nonzero;fill:rgb(100%,0%,0%);fill-opacity:1;stroke-width:1;stroke-linecap:butt;stroke-linejoin:miter;stroke:rgb(0%,0%,0%);stroke-opacity:1;stroke-miterlimit:10;\" d=\"M 87.496094 467.652344 C 87.496094 473.175781 83.019531 477.652344 77.496094 477.652344 C 71.972656 477.652344 67.496094 473.175781 67.496094 467.652344 C 67.496094 462.128906 71.972656 457.652344 77.496094 457.652344 C 83.019531 457.652344 87.496094 462.128906 87.496094 467.652344 \"/>\n",
       "<path style=\"fill-rule:nonzero;fill:rgb(100%,0%,0%);fill-opacity:1;stroke-width:1;stroke-linecap:butt;stroke-linejoin:miter;stroke:rgb(0%,0%,0%);stroke-opacity:1;stroke-miterlimit:10;\" d=\"M 94.488281 480.632812 C 94.488281 486.15625 90.011719 490.632812 84.488281 490.632812 C 78.964844 490.632812 74.488281 486.15625 74.488281 480.632812 C 74.488281 475.109375 78.964844 470.632812 84.488281 470.632812 C 90.011719 470.632812 94.488281 475.109375 94.488281 480.632812 \"/>\n",
       "<path style=\"fill-rule:nonzero;fill:rgb(100%,0%,0%);fill-opacity:1;stroke-width:1;stroke-linecap:butt;stroke-linejoin:miter;stroke:rgb(0%,0%,0%);stroke-opacity:1;stroke-miterlimit:10;\" d=\"M 100.449219 497.371094 C 100.449219 502.894531 95.972656 507.371094 90.449219 507.371094 C 84.925781 507.371094 80.449219 502.894531 80.449219 497.371094 C 80.449219 491.847656 84.925781 487.371094 90.449219 487.371094 C 95.972656 487.371094 100.449219 491.847656 100.449219 497.371094 \"/>\n",
       "<path style=\"fill-rule:nonzero;fill:rgb(100%,0%,0%);fill-opacity:1;stroke-width:1;stroke-linecap:butt;stroke-linejoin:miter;stroke:rgb(0%,0%,0%);stroke-opacity:1;stroke-miterlimit:10;\" d=\"M 111.992188 511.214844 C 111.992188 516.738281 107.515625 521.214844 101.992188 521.214844 C 96.46875 521.214844 91.992188 516.738281 91.992188 511.214844 C 91.992188 505.691406 96.46875 501.214844 101.992188 501.214844 C 107.515625 501.214844 111.992188 505.691406 111.992188 511.214844 \"/>\n",
       "<path style=\"fill-rule:nonzero;fill:rgb(100%,0%,0%);fill-opacity:1;stroke-width:1;stroke-linecap:butt;stroke-linejoin:miter;stroke:rgb(0%,0%,0%);stroke-opacity:1;stroke-miterlimit:10;\" d=\"M 121.761719 521.210938 C 121.761719 526.734375 117.285156 531.210938 111.761719 531.210938 C 106.238281 531.210938 101.761719 526.734375 101.761719 521.210938 C 101.761719 515.6875 106.238281 511.210938 111.761719 511.210938 C 117.285156 511.210938 121.761719 515.6875 121.761719 521.210938 \"/>\n",
       "<path style=\"fill-rule:nonzero;fill:rgb(100%,0%,0%);fill-opacity:1;stroke-width:1;stroke-linecap:butt;stroke-linejoin:miter;stroke:rgb(0%,0%,0%);stroke-opacity:1;stroke-miterlimit:10;\" d=\"M 133.046875 537.113281 C 133.046875 542.636719 128.570312 547.113281 123.046875 547.113281 C 117.527344 547.113281 113.046875 542.636719 113.046875 537.113281 C 113.046875 531.589844 117.527344 527.113281 123.046875 527.113281 C 128.570312 527.113281 133.046875 531.589844 133.046875 537.113281 \"/>\n",
       "<path style=\"fill-rule:nonzero;fill:rgb(100%,0%,0%);fill-opacity:1;stroke-width:1;stroke-linecap:butt;stroke-linejoin:miter;stroke:rgb(0%,0%,0%);stroke-opacity:1;stroke-miterlimit:10;\" d=\"M 140.027344 543.269531 C 140.027344 548.792969 135.550781 553.269531 130.027344 553.269531 C 124.507812 553.269531 120.027344 548.792969 120.027344 543.269531 C 120.027344 537.746094 124.507812 533.269531 130.027344 533.269531 C 135.550781 533.269531 140.027344 537.746094 140.027344 543.269531 \"/>\n",
       "<path style=\"fill-rule:nonzero;fill:rgb(100%,0%,0%);fill-opacity:1;stroke-width:1;stroke-linecap:butt;stroke-linejoin:miter;stroke:rgb(0%,0%,0%);stroke-opacity:1;stroke-miterlimit:10;\" d=\"M 152.632812 559.09375 C 152.632812 564.617188 148.15625 569.09375 142.632812 569.09375 C 137.109375 569.09375 132.632812 564.617188 132.632812 559.09375 C 132.632812 553.570312 137.109375 549.09375 142.632812 549.09375 C 148.15625 549.09375 152.632812 553.570312 152.632812 559.09375 \"/>\n",
       "<path style=\"fill-rule:nonzero;fill:rgb(100%,0%,0%);fill-opacity:1;stroke-width:1;stroke-linecap:butt;stroke-linejoin:miter;stroke:rgb(0%,0%,0%);stroke-opacity:1;stroke-miterlimit:10;\" d=\"M 168.273438 560.515625 C 168.273438 566.035156 163.796875 570.515625 158.273438 570.515625 C 152.75 570.515625 148.273438 566.035156 148.273438 560.515625 C 148.273438 554.992188 152.75 550.515625 158.273438 550.515625 C 163.796875 550.515625 168.273438 554.992188 168.273438 560.515625 \"/>\n",
       "<path style=\"fill-rule:nonzero;fill:rgb(100%,0%,0%);fill-opacity:1;stroke-width:1;stroke-linecap:butt;stroke-linejoin:miter;stroke:rgb(0%,0%,0%);stroke-opacity:1;stroke-miterlimit:10;\" d=\"M 172.566406 565.828125 C 172.566406 571.351562 168.089844 575.828125 162.566406 575.828125 C 157.046875 575.828125 152.566406 571.351562 152.566406 565.828125 C 152.566406 560.304688 157.046875 555.828125 162.566406 555.828125 C 168.089844 555.828125 172.566406 560.304688 172.566406 565.828125 \"/>\n",
       "<path style=\"fill-rule:nonzero;fill:rgb(100%,0%,0%);fill-opacity:1;stroke-width:1;stroke-linecap:butt;stroke-linejoin:miter;stroke:rgb(0%,0%,0%);stroke-opacity:1;stroke-miterlimit:10;\" d=\"M 186.890625 571.410156 C 186.890625 576.933594 182.414062 581.410156 176.890625 581.410156 C 171.367188 581.410156 166.890625 576.933594 166.890625 571.410156 C 166.890625 565.890625 171.367188 561.410156 176.890625 561.410156 C 182.414062 561.410156 186.890625 565.890625 186.890625 571.410156 \"/>\n",
       "<path style=\"fill-rule:nonzero;fill:rgb(100%,0%,0%);fill-opacity:1;stroke-width:1;stroke-linecap:butt;stroke-linejoin:miter;stroke:rgb(0%,0%,0%);stroke-opacity:1;stroke-miterlimit:10;\" d=\"M 196.953125 575.140625 C 196.953125 580.664062 192.476562 585.140625 186.953125 585.140625 C 181.433594 585.140625 176.953125 580.664062 176.953125 575.140625 C 176.953125 569.621094 181.433594 565.140625 186.953125 565.140625 C 192.476562 565.140625 196.953125 569.621094 196.953125 575.140625 \"/>\n",
       "<path style=\"fill-rule:nonzero;fill:rgb(100%,0%,0%);fill-opacity:1;stroke-width:1;stroke-linecap:butt;stroke-linejoin:miter;stroke:rgb(0%,0%,0%);stroke-opacity:1;stroke-miterlimit:10;\" d=\"M 208.097656 580 C 208.097656 585.523438 203.621094 590 198.097656 590 C 192.574219 590 188.097656 585.523438 188.097656 580 C 188.097656 574.476562 192.574219 570 198.097656 570 C 203.621094 570 208.097656 574.476562 208.097656 580 \"/>\n",
       "<path style=\"fill-rule:nonzero;fill:rgb(100%,0%,0%);fill-opacity:1;stroke-width:1;stroke-linecap:butt;stroke-linejoin:miter;stroke:rgb(0%,0%,0%);stroke-opacity:1;stroke-miterlimit:10;\" d=\"M 216.757812 390.695312 C 216.757812 396.21875 212.28125 400.695312 206.757812 400.695312 C 201.234375 400.695312 196.757812 396.21875 196.757812 390.695312 C 196.757812 385.171875 201.234375 380.695312 206.757812 380.695312 C 212.28125 380.695312 216.757812 385.171875 216.757812 390.695312 \"/>\n",
       "<path style=\"fill-rule:nonzero;fill:rgb(100%,0%,0%);fill-opacity:1;stroke-width:1;stroke-linecap:butt;stroke-linejoin:miter;stroke:rgb(0%,0%,0%);stroke-opacity:1;stroke-miterlimit:10;\" d=\"M 219.246094 374.753906 C 219.246094 380.277344 214.769531 384.753906 209.246094 384.753906 C 203.722656 384.753906 199.246094 380.277344 199.246094 374.753906 C 199.246094 369.230469 203.722656 364.753906 209.246094 364.753906 C 214.769531 364.753906 219.246094 369.230469 219.246094 374.753906 \"/>\n",
       "<path style=\"fill-rule:nonzero;fill:rgb(100%,0%,0%);fill-opacity:1;stroke-width:1;stroke-linecap:butt;stroke-linejoin:miter;stroke:rgb(0%,0%,0%);stroke-opacity:1;stroke-miterlimit:10;\" d=\"M 219.003906 347.652344 C 219.003906 353.175781 214.527344 357.652344 209.003906 357.652344 C 203.480469 357.652344 199.003906 353.175781 199.003906 347.652344 C 199.003906 342.128906 203.480469 337.652344 209.003906 337.652344 C 214.527344 337.652344 219.003906 342.128906 219.003906 347.652344 \"/>\n",
       "<path style=\"fill-rule:nonzero;fill:rgb(100%,0%,0%);fill-opacity:1;stroke-width:1;stroke-linecap:butt;stroke-linejoin:miter;stroke:rgb(0%,0%,0%);stroke-opacity:1;stroke-miterlimit:10;\" d=\"M 218.859375 318.558594 C 218.859375 324.082031 214.378906 328.558594 208.859375 328.558594 C 203.335938 328.558594 198.859375 324.082031 198.859375 318.558594 C 198.859375 313.035156 203.335938 308.558594 208.859375 308.558594 C 214.378906 308.558594 218.859375 313.035156 218.859375 318.558594 \"/>\n",
       "<path style=\"fill-rule:nonzero;fill:rgb(100%,0%,0%);fill-opacity:1;stroke-width:1;stroke-linecap:butt;stroke-linejoin:miter;stroke:rgb(0%,0%,0%);stroke-opacity:1;stroke-miterlimit:10;\" d=\"M 222.253906 577.078125 C 222.253906 582.601562 217.777344 587.078125 212.253906 587.078125 C 206.734375 587.078125 202.253906 582.601562 202.253906 577.078125 C 202.253906 571.554688 206.734375 567.078125 212.253906 567.078125 C 217.777344 567.078125 222.253906 571.554688 222.253906 577.078125 \"/>\n",
       "<path style=\"fill-rule:nonzero;fill:rgb(100%,0%,0%);fill-opacity:1;stroke-width:1;stroke-linecap:butt;stroke-linejoin:miter;stroke:rgb(0%,0%,0%);stroke-opacity:1;stroke-miterlimit:10;\" d=\"M 223.585938 303.867188 C 223.585938 309.390625 219.109375 313.867188 213.585938 313.867188 C 208.0625 313.867188 203.585938 309.390625 203.585938 303.867188 C 203.585938 298.34375 208.0625 293.867188 213.585938 293.867188 C 219.109375 293.867188 223.585938 298.34375 223.585938 303.867188 \"/>\n",
       "<path style=\"fill-rule:nonzero;fill:rgb(100%,0%,0%);fill-opacity:1;stroke-width:1;stroke-linecap:butt;stroke-linejoin:miter;stroke:rgb(0%,0%,0%);stroke-opacity:1;stroke-miterlimit:10;\" d=\"M 227.808594 285.253906 C 227.808594 290.777344 223.332031 295.253906 217.808594 295.253906 C 212.289062 295.253906 207.808594 290.777344 207.808594 285.253906 C 207.808594 279.734375 212.289062 275.253906 217.808594 275.253906 C 223.332031 275.253906 227.808594 279.734375 227.808594 285.253906 \"/>\n",
       "<path style=\"fill-rule:nonzero;fill:rgb(100%,0%,0%);fill-opacity:1;stroke-width:1;stroke-linecap:butt;stroke-linejoin:miter;stroke:rgb(0%,0%,0%);stroke-opacity:1;stroke-miterlimit:10;\" d=\"M 226.449219 256.605469 C 226.449219 262.128906 221.972656 266.605469 216.449219 266.605469 C 210.929688 266.605469 206.449219 262.128906 206.449219 256.605469 C 206.449219 251.082031 210.929688 246.605469 216.449219 246.605469 C 221.972656 246.605469 226.449219 251.082031 226.449219 256.605469 \"/>\n",
       "<path style=\"fill-rule:nonzero;fill:rgb(100%,0%,0%);fill-opacity:1;stroke-width:1;stroke-linecap:butt;stroke-linejoin:miter;stroke:rgb(0%,0%,0%);stroke-opacity:1;stroke-miterlimit:10;\" d=\"M 234.488281 575.566406 C 234.488281 581.089844 230.011719 585.566406 224.488281 585.566406 C 218.964844 585.566406 214.488281 581.089844 214.488281 575.566406 C 214.488281 570.042969 218.964844 565.566406 224.488281 565.566406 C 230.011719 565.566406 234.488281 570.042969 234.488281 575.566406 \"/>\n",
       "<path style=\"fill-rule:nonzero;fill:rgb(100%,0%,0%);fill-opacity:1;stroke-width:1;stroke-linecap:butt;stroke-linejoin:miter;stroke:rgb(0%,0%,0%);stroke-opacity:1;stroke-miterlimit:10;\" d=\"M 234.417969 236.863281 C 234.417969 242.386719 229.941406 246.863281 224.417969 246.863281 C 218.894531 246.863281 214.417969 242.386719 214.417969 236.863281 C 214.417969 231.339844 218.894531 226.863281 224.417969 226.863281 C 229.941406 226.863281 234.417969 231.339844 234.417969 236.863281 \"/>\n",
       "<path style=\"fill-rule:nonzero;fill:rgb(100%,0%,0%);fill-opacity:1;stroke-width:1;stroke-linecap:butt;stroke-linejoin:miter;stroke:rgb(0%,0%,0%);stroke-opacity:1;stroke-miterlimit:10;\" d=\"M 237.308594 212.355469 C 237.308594 217.878906 232.832031 222.355469 227.308594 222.355469 C 221.785156 222.355469 217.308594 217.878906 217.308594 212.355469 C 217.308594 206.832031 221.785156 202.355469 227.308594 202.355469 C 232.832031 202.355469 237.308594 206.832031 237.308594 212.355469 \"/>\n",
       "<path style=\"fill-rule:nonzero;fill:rgb(100%,0%,0%);fill-opacity:1;stroke-width:1;stroke-linecap:butt;stroke-linejoin:miter;stroke:rgb(0%,0%,0%);stroke-opacity:1;stroke-miterlimit:10;\" d=\"M 245.8125 576.355469 C 245.8125 581.878906 241.335938 586.355469 235.8125 586.355469 C 230.289062 586.355469 225.8125 581.878906 225.8125 576.355469 C 225.8125 570.832031 230.289062 566.355469 235.8125 566.355469 C 241.335938 566.355469 245.8125 570.832031 245.8125 576.355469 \"/>\n",
       "<path style=\"fill-rule:nonzero;fill:rgb(100%,0%,0%);fill-opacity:1;stroke-width:1;stroke-linecap:butt;stroke-linejoin:miter;stroke:rgb(0%,0%,0%);stroke-opacity:1;stroke-miterlimit:10;\" d=\"M 246.164062 195.035156 C 246.164062 200.558594 241.6875 205.035156 236.164062 205.035156 C 230.640625 205.035156 226.164062 200.558594 226.164062 195.035156 C 226.164062 189.511719 230.640625 185.035156 236.164062 185.035156 C 241.6875 185.035156 246.164062 189.511719 246.164062 195.035156 \"/>\n",
       "<path style=\"fill-rule:nonzero;fill:rgb(100%,0%,0%);fill-opacity:1;stroke-width:1;stroke-linecap:butt;stroke-linejoin:miter;stroke:rgb(0%,0%,0%);stroke-opacity:1;stroke-miterlimit:10;\" d=\"M 252.894531 175.375 C 252.894531 180.898438 248.417969 185.375 242.894531 185.375 C 237.375 185.375 232.894531 180.898438 232.894531 175.375 C 232.894531 169.851562 237.375 165.375 242.894531 165.375 C 248.417969 165.375 252.894531 169.851562 252.894531 175.375 \"/>\n",
       "<path style=\"fill-rule:nonzero;fill:rgb(100%,0%,0%);fill-opacity:1;stroke-width:1;stroke-linecap:butt;stroke-linejoin:miter;stroke:rgb(0%,0%,0%);stroke-opacity:1;stroke-miterlimit:10;\" d=\"M 259.273438 568.601562 C 259.273438 574.125 254.796875 578.601562 249.273438 578.601562 C 243.75 578.601562 239.273438 574.125 239.273438 568.601562 C 239.273438 563.078125 243.75 558.601562 249.273438 558.601562 C 254.796875 558.601562 259.273438 563.078125 259.273438 568.601562 \"/>\n",
       "<path style=\"fill-rule:nonzero;fill:rgb(100%,0%,0%);fill-opacity:1;stroke-width:1;stroke-linecap:butt;stroke-linejoin:miter;stroke:rgb(0%,0%,0%);stroke-opacity:1;stroke-miterlimit:10;\" d=\"M 261.433594 156.859375 C 261.433594 162.382812 256.957031 166.859375 251.433594 166.859375 C 245.910156 166.859375 241.433594 162.382812 241.433594 156.859375 C 241.433594 151.335938 245.910156 146.859375 251.433594 146.859375 C 256.957031 146.859375 261.433594 151.335938 261.433594 156.859375 \"/>\n",
       "<path style=\"fill-rule:nonzero;fill:rgb(100%,0%,0%);fill-opacity:1;stroke-width:1;stroke-linecap:butt;stroke-linejoin:miter;stroke:rgb(0%,0%,0%);stroke-opacity:1;stroke-miterlimit:10;\" d=\"M 267.003906 136.425781 C 267.003906 141.949219 262.527344 146.425781 257.003906 146.425781 C 251.480469 146.425781 247.003906 141.949219 247.003906 136.425781 C 247.003906 130.902344 251.480469 126.425781 257.003906 126.425781 C 262.527344 126.425781 267.003906 130.902344 267.003906 136.425781 \"/>\n",
       "<path style=\"fill-rule:nonzero;fill:rgb(100%,0%,0%);fill-opacity:1;stroke-width:1;stroke-linecap:butt;stroke-linejoin:miter;stroke:rgb(0%,0%,0%);stroke-opacity:1;stroke-miterlimit:10;\" d=\"M 267.816406 561.441406 C 267.816406 566.964844 263.335938 571.441406 257.816406 571.441406 C 252.292969 571.441406 247.816406 566.964844 247.816406 561.441406 C 247.816406 555.917969 252.292969 551.441406 257.816406 551.441406 C 263.335938 551.441406 267.816406 555.917969 267.816406 561.441406 \"/>\n",
       "<path style=\"fill-rule:nonzero;fill:rgb(100%,0%,0%);fill-opacity:1;stroke-width:1;stroke-linecap:butt;stroke-linejoin:miter;stroke:rgb(0%,0%,0%);stroke-opacity:1;stroke-miterlimit:10;\" d=\"M 274.25 122.367188 C 274.25 127.890625 269.773438 132.367188 264.25 132.367188 C 258.726562 132.367188 254.25 127.890625 254.25 122.367188 C 254.25 116.84375 258.726562 112.367188 264.25 112.367188 C 269.773438 112.367188 274.25 116.84375 274.25 122.367188 \"/>\n",
       "<path style=\"fill-rule:nonzero;fill:rgb(100%,0%,0%);fill-opacity:1;stroke-width:1;stroke-linecap:butt;stroke-linejoin:miter;stroke:rgb(0%,0%,0%);stroke-opacity:1;stroke-miterlimit:10;\" d=\"M 278.902344 553.722656 C 278.902344 559.246094 274.425781 563.722656 268.902344 563.722656 C 263.378906 563.722656 258.902344 559.246094 258.902344 553.722656 C 258.902344 548.199219 263.378906 543.722656 268.902344 543.722656 C 274.425781 543.722656 278.902344 548.199219 278.902344 553.722656 \"/>\n",
       "<path style=\"fill-rule:nonzero;fill:rgb(100%,0%,0%);fill-opacity:1;stroke-width:1;stroke-linecap:butt;stroke-linejoin:miter;stroke:rgb(0%,0%,0%);stroke-opacity:1;stroke-miterlimit:10;\" d=\"M 287.363281 111.414062 C 287.363281 116.9375 282.886719 121.414062 277.363281 121.414062 C 271.839844 121.414062 267.363281 116.9375 267.363281 111.414062 C 267.363281 105.890625 271.839844 101.414062 277.363281 101.414062 C 282.886719 101.414062 287.363281 105.890625 287.363281 111.414062 \"/>\n",
       "<path style=\"fill-rule:nonzero;fill:rgb(100%,0%,0%);fill-opacity:1;stroke-width:1;stroke-linecap:butt;stroke-linejoin:miter;stroke:rgb(0%,0%,0%);stroke-opacity:1;stroke-miterlimit:10;\" d=\"M 291.167969 545.414062 C 291.167969 550.9375 286.691406 555.414062 281.167969 555.414062 C 275.644531 555.414062 271.167969 550.9375 271.167969 545.414062 C 271.167969 539.890625 275.644531 535.414062 281.167969 535.414062 C 286.691406 535.414062 291.167969 539.890625 291.167969 545.414062 \"/>\n",
       "<path style=\"fill-rule:nonzero;fill:rgb(100%,0%,0%);fill-opacity:1;stroke-width:1;stroke-linecap:butt;stroke-linejoin:miter;stroke:rgb(0%,0%,0%);stroke-opacity:1;stroke-miterlimit:10;\" d=\"M 295.5625 97.988281 C 295.5625 103.511719 291.085938 107.988281 285.5625 107.988281 C 280.039062 107.988281 275.5625 103.511719 275.5625 97.988281 C 275.5625 92.46875 280.039062 87.988281 285.5625 87.988281 C 291.085938 87.988281 295.5625 92.46875 295.5625 97.988281 \"/>\n",
       "<path style=\"fill-rule:nonzero;fill:rgb(100%,0%,0%);fill-opacity:1;stroke-width:1;stroke-linecap:butt;stroke-linejoin:miter;stroke:rgb(0%,0%,0%);stroke-opacity:1;stroke-miterlimit:10;\" d=\"M 302.105469 534.890625 C 302.105469 540.414062 297.628906 544.890625 292.105469 544.890625 C 286.582031 544.890625 282.105469 540.414062 282.105469 534.890625 C 282.105469 529.367188 286.582031 524.890625 292.105469 524.890625 C 297.628906 524.890625 302.105469 529.367188 302.105469 534.890625 \"/>\n",
       "<path style=\"fill-rule:nonzero;fill:rgb(100%,0%,0%);fill-opacity:1;stroke-width:1;stroke-linecap:butt;stroke-linejoin:miter;stroke:rgb(0%,0%,0%);stroke-opacity:1;stroke-miterlimit:10;\" d=\"M 306.046875 80.859375 C 306.046875 86.382812 301.570312 90.859375 296.046875 90.859375 C 290.523438 90.859375 286.046875 86.382812 286.046875 80.859375 C 286.046875 75.335938 290.523438 70.859375 296.046875 70.859375 C 301.570312 70.859375 306.046875 75.335938 306.046875 80.859375 \"/>\n",
       "<path style=\"fill-rule:nonzero;fill:rgb(100%,0%,0%);fill-opacity:1;stroke-width:1;stroke-linecap:butt;stroke-linejoin:miter;stroke:rgb(0%,0%,0%);stroke-opacity:1;stroke-miterlimit:10;\" d=\"M 315.234375 527.285156 C 315.234375 532.804688 310.757812 537.285156 305.234375 537.285156 C 299.714844 537.285156 295.234375 532.804688 295.234375 527.285156 C 295.234375 521.761719 299.714844 517.285156 305.234375 517.285156 C 310.757812 517.285156 315.234375 521.761719 315.234375 527.285156 \"/>\n",
       "<path style=\"fill-rule:nonzero;fill:rgb(100%,0%,0%);fill-opacity:1;stroke-width:1;stroke-linecap:butt;stroke-linejoin:miter;stroke:rgb(0%,0%,0%);stroke-opacity:1;stroke-miterlimit:10;\" d=\"M 318.210938 67.832031 C 318.210938 73.355469 313.734375 77.832031 308.210938 77.832031 C 302.6875 77.832031 298.210938 73.355469 298.210938 67.832031 C 298.210938 62.308594 302.6875 57.832031 308.210938 57.832031 C 313.734375 57.832031 318.210938 62.308594 318.210938 67.832031 \"/>\n",
       "<path style=\"fill-rule:nonzero;fill:rgb(100%,0%,0%);fill-opacity:1;stroke-width:1;stroke-linecap:butt;stroke-linejoin:miter;stroke:rgb(0%,0%,0%);stroke-opacity:1;stroke-miterlimit:10;\" d=\"M 324.84375 516.085938 C 324.84375 521.609375 320.367188 526.085938 314.84375 526.085938 C 309.320312 526.085938 304.84375 521.609375 304.84375 516.085938 C 304.84375 510.5625 309.320312 506.085938 314.84375 506.085938 C 320.367188 506.085938 324.84375 510.5625 324.84375 516.085938 \"/>\n",
       "<path style=\"fill-rule:nonzero;fill:rgb(100%,0%,0%);fill-opacity:1;stroke-width:1;stroke-linecap:butt;stroke-linejoin:miter;stroke:rgb(0%,0%,0%);stroke-opacity:1;stroke-miterlimit:10;\" d=\"M 323.589844 59.277344 C 323.589844 64.796875 319.113281 69.277344 313.589844 69.277344 C 308.066406 69.277344 303.589844 64.796875 303.589844 59.277344 C 303.589844 53.753906 308.066406 49.277344 313.589844 49.277344 C 319.113281 49.277344 323.589844 53.753906 323.589844 59.277344 \"/>\n",
       "<path style=\"fill-rule:nonzero;fill:rgb(100%,0%,0%);fill-opacity:1;stroke-width:1;stroke-linecap:butt;stroke-linejoin:miter;stroke:rgb(0%,0%,0%);stroke-opacity:1;stroke-miterlimit:10;\" d=\"M 329.257812 487.90625 C 329.257812 493.429688 324.78125 497.90625 319.257812 497.90625 C 313.738281 497.90625 309.257812 493.429688 309.257812 487.90625 C 309.257812 482.382812 313.738281 477.90625 319.257812 477.90625 C 324.78125 477.90625 329.257812 482.382812 329.257812 487.90625 \"/>\n",
       "<path style=\"fill-rule:nonzero;fill:rgb(100%,0%,0%);fill-opacity:1;stroke-width:1;stroke-linecap:butt;stroke-linejoin:miter;stroke:rgb(0%,0%,0%);stroke-opacity:1;stroke-miterlimit:10;\" d=\"M 337.074219 49.199219 C 337.074219 54.722656 332.597656 59.199219 327.074219 59.199219 C 321.550781 59.199219 317.074219 54.722656 317.074219 49.199219 C 317.074219 43.675781 321.550781 39.199219 327.074219 39.199219 C 332.597656 39.199219 337.074219 43.675781 337.074219 49.199219 \"/>\n",
       "<path style=\"fill-rule:nonzero;fill:rgb(100%,0%,0%);fill-opacity:1;stroke-width:1;stroke-linecap:butt;stroke-linejoin:miter;stroke:rgb(0%,0%,0%);stroke-opacity:1;stroke-miterlimit:10;\" d=\"M 340.664062 480.347656 C 340.664062 485.871094 336.1875 490.347656 330.664062 490.347656 C 325.140625 490.347656 320.664062 485.871094 320.664062 480.347656 C 320.664062 474.824219 325.140625 470.347656 330.664062 470.347656 C 336.1875 470.347656 340.664062 474.824219 340.664062 480.347656 \"/>\n",
       "<path style=\"fill-rule:nonzero;fill:rgb(100%,0%,0%);fill-opacity:1;stroke-width:1;stroke-linecap:butt;stroke-linejoin:miter;stroke:rgb(0%,0%,0%);stroke-opacity:1;stroke-miterlimit:10;\" d=\"M 346.988281 50.859375 C 346.988281 56.382812 342.511719 60.859375 336.988281 60.859375 C 331.464844 60.859375 326.988281 56.382812 326.988281 50.859375 C 326.988281 45.335938 331.464844 40.859375 336.988281 40.859375 C 342.511719 40.859375 346.988281 45.335938 346.988281 50.859375 \"/>\n",
       "<path style=\"fill-rule:nonzero;fill:rgb(100%,0%,0%);fill-opacity:1;stroke-width:1;stroke-linecap:butt;stroke-linejoin:miter;stroke:rgb(0%,0%,0%);stroke-opacity:1;stroke-miterlimit:10;\" d=\"M 351.753906 467.800781 C 351.753906 473.324219 347.277344 477.800781 341.753906 477.800781 C 336.230469 477.800781 331.753906 473.324219 331.753906 467.800781 C 331.753906 462.277344 336.230469 457.800781 341.753906 457.800781 C 347.277344 457.800781 351.753906 462.277344 351.753906 467.800781 \"/>\n",
       "<path style=\"fill-rule:nonzero;fill:rgb(100%,0%,0%);fill-opacity:1;stroke-width:1;stroke-linecap:butt;stroke-linejoin:miter;stroke:rgb(0%,0%,0%);stroke-opacity:1;stroke-miterlimit:10;\" d=\"M 357.917969 448.546875 C 357.917969 454.070312 353.441406 458.546875 347.917969 458.546875 C 342.394531 458.546875 337.917969 454.070312 337.917969 448.546875 C 337.917969 443.023438 342.394531 438.546875 347.917969 438.546875 C 353.441406 438.546875 357.917969 443.023438 357.917969 448.546875 \"/>\n",
       "<path style=\"fill-rule:nonzero;fill:rgb(100%,0%,0%);fill-opacity:1;stroke-width:1;stroke-linecap:butt;stroke-linejoin:miter;stroke:rgb(0%,0%,0%);stroke-opacity:1;stroke-miterlimit:10;\" d=\"M 362.878906 40.535156 C 362.878906 46.058594 358.402344 50.535156 352.878906 50.535156 C 347.359375 50.535156 342.878906 46.058594 342.878906 40.535156 C 342.878906 35.011719 347.359375 30.535156 352.878906 30.535156 C 358.402344 30.535156 362.878906 35.011719 362.878906 40.535156 \"/>\n",
       "<path style=\"fill-rule:nonzero;fill:rgb(100%,0%,0%);fill-opacity:1;stroke-width:1;stroke-linecap:butt;stroke-linejoin:miter;stroke:rgb(0%,0%,0%);stroke-opacity:1;stroke-miterlimit:10;\" d=\"M 366.742188 425.109375 C 366.742188 430.632812 362.265625 435.109375 356.742188 435.109375 C 351.21875 435.109375 346.742188 430.632812 346.742188 425.109375 C 346.742188 419.585938 351.21875 415.109375 356.742188 415.109375 C 362.265625 415.109375 366.742188 419.585938 366.742188 425.109375 \"/>\n",
       "<path style=\"fill-rule:nonzero;fill:rgb(100%,0%,0%);fill-opacity:1;stroke-width:1;stroke-linecap:butt;stroke-linejoin:miter;stroke:rgb(0%,0%,0%);stroke-opacity:1;stroke-miterlimit:10;\" d=\"M 369.441406 413.027344 C 369.441406 418.550781 364.964844 423.027344 359.441406 423.027344 C 353.921875 423.027344 349.441406 418.550781 349.441406 413.027344 C 349.441406 407.507812 353.921875 403.027344 359.441406 403.027344 C 364.964844 403.027344 369.441406 407.507812 369.441406 413.027344 \"/>\n",
       "<path style=\"fill-rule:nonzero;fill:rgb(100%,0%,0%);fill-opacity:1;stroke-width:1;stroke-linecap:butt;stroke-linejoin:miter;stroke:rgb(0%,0%,0%);stroke-opacity:1;stroke-miterlimit:10;\" d=\"M 375.023438 43.546875 C 375.023438 49.070312 370.546875 53.546875 365.023438 53.546875 C 359.5 53.546875 355.023438 49.070312 355.023438 43.546875 C 355.023438 38.023438 359.5 33.546875 365.023438 33.546875 C 370.546875 33.546875 375.023438 38.023438 375.023438 43.546875 \"/>\n",
       "<path style=\"fill-rule:nonzero;fill:rgb(100%,0%,0%);fill-opacity:1;stroke-width:1;stroke-linecap:butt;stroke-linejoin:miter;stroke:rgb(0%,0%,0%);stroke-opacity:1;stroke-miterlimit:10;\" d=\"M 379.710938 392.492188 C 379.710938 398.015625 375.234375 402.492188 369.710938 402.492188 C 364.1875 402.492188 359.710938 398.015625 359.710938 392.492188 C 359.710938 386.96875 364.1875 382.492188 369.710938 382.492188 C 375.234375 382.492188 379.710938 386.96875 379.710938 392.492188 \"/>\n",
       "<path style=\"fill-rule:nonzero;fill:rgb(100%,0%,0%);fill-opacity:1;stroke-width:1;stroke-linecap:butt;stroke-linejoin:miter;stroke:rgb(0%,0%,0%);stroke-opacity:1;stroke-miterlimit:10;\" d=\"M 385.300781 374.519531 C 385.300781 380.042969 380.824219 384.519531 375.300781 384.519531 C 369.777344 384.519531 365.300781 380.042969 365.300781 374.519531 C 365.300781 369 369.777344 364.519531 375.300781 364.519531 C 380.824219 364.519531 385.300781 369 385.300781 374.519531 \"/>\n",
       "<path style=\"fill-rule:nonzero;fill:rgb(100%,0%,0%);fill-opacity:1;stroke-width:1;stroke-linecap:butt;stroke-linejoin:miter;stroke:rgb(0%,0%,0%);stroke-opacity:1;stroke-miterlimit:10;\" d=\"M 382.554688 22.664062 C 382.554688 28.1875 378.078125 32.664062 372.554688 32.664062 C 367.03125 32.664062 362.554688 28.1875 362.554688 22.664062 C 362.554688 17.140625 367.03125 12.664062 372.554688 12.664062 C 378.078125 12.664062 382.554688 17.140625 382.554688 22.664062 \"/>\n",
       "<path style=\"fill-rule:nonzero;fill:rgb(100%,0%,0%);fill-opacity:1;stroke-width:1;stroke-linecap:butt;stroke-linejoin:miter;stroke:rgb(0%,0%,0%);stroke-opacity:1;stroke-miterlimit:10;\" d=\"M 387.839844 351.996094 C 387.839844 357.519531 383.359375 361.996094 377.839844 361.996094 C 372.316406 361.996094 367.839844 357.519531 367.839844 351.996094 C 367.839844 346.472656 372.316406 341.996094 377.839844 341.996094 C 383.359375 341.996094 387.839844 346.472656 387.839844 351.996094 \"/>\n",
       "<path style=\"fill-rule:nonzero;fill:rgb(100%,0%,0%);fill-opacity:1;stroke-width:1;stroke-linecap:butt;stroke-linejoin:miter;stroke:rgb(0%,0%,0%);stroke-opacity:1;stroke-miterlimit:10;\" d=\"M 392.46875 327.976562 C 392.46875 333.5 387.992188 337.976562 382.46875 337.976562 C 376.945312 337.976562 372.46875 333.5 372.46875 327.976562 C 372.46875 322.453125 376.945312 317.976562 382.46875 317.976562 C 387.992188 317.976562 392.46875 322.453125 392.46875 327.976562 \"/>\n",
       "<path style=\"fill-rule:nonzero;fill:rgb(100%,0%,0%);fill-opacity:1;stroke-width:1;stroke-linecap:butt;stroke-linejoin:miter;stroke:rgb(0%,0%,0%);stroke-opacity:1;stroke-miterlimit:10;\" d=\"M 392.570312 311.445312 C 392.570312 316.96875 388.09375 321.445312 382.570312 321.445312 C 377.046875 321.445312 372.570312 316.96875 372.570312 311.445312 C 372.570312 305.921875 377.046875 301.445312 382.570312 301.445312 C 388.09375 301.445312 392.570312 305.921875 392.570312 311.445312 \"/>\n",
       "<path style=\"fill-rule:nonzero;fill:rgb(100%,0%,0%);fill-opacity:1;stroke-width:1;stroke-linecap:butt;stroke-linejoin:miter;stroke:rgb(0%,0%,0%);stroke-opacity:1;stroke-miterlimit:10;\" d=\"M 393.316406 31.667969 C 393.316406 37.191406 388.835938 41.667969 383.316406 41.667969 C 377.792969 41.667969 373.316406 37.191406 373.316406 31.667969 C 373.316406 26.148438 377.792969 21.667969 383.316406 21.667969 C 388.835938 21.667969 393.316406 26.148438 393.316406 31.667969 \"/>\n",
       "<path style=\"fill-rule:nonzero;fill:rgb(100%,0%,0%);fill-opacity:1;stroke-width:1;stroke-linecap:butt;stroke-linejoin:miter;stroke:rgb(0%,0%,0%);stroke-opacity:1;stroke-miterlimit:10;\" d=\"M 397.542969 283.929688 C 397.542969 289.449219 393.0625 293.929688 387.542969 293.929688 C 382.019531 293.929688 377.542969 289.449219 377.542969 283.929688 C 377.542969 278.40625 382.019531 273.929688 387.542969 273.929688 C 393.0625 273.929688 397.542969 278.40625 397.542969 283.929688 \"/>\n",
       "<path style=\"fill-rule:nonzero;fill:rgb(100%,0%,0%);fill-opacity:1;stroke-width:1;stroke-linecap:butt;stroke-linejoin:miter;stroke:rgb(0%,0%,0%);stroke-opacity:1;stroke-miterlimit:10;\" d=\"M 401.699219 261.832031 C 401.699219 267.355469 397.222656 271.832031 391.699219 271.832031 C 386.175781 271.832031 381.699219 267.355469 381.699219 261.832031 C 381.699219 256.3125 386.175781 251.832031 391.699219 251.832031 C 397.222656 251.832031 401.699219 256.3125 401.699219 261.832031 \"/>\n",
       "<path style=\"fill-rule:nonzero;fill:rgb(100%,0%,0%);fill-opacity:1;stroke-width:1;stroke-linecap:butt;stroke-linejoin:miter;stroke:rgb(0%,0%,0%);stroke-opacity:1;stroke-miterlimit:10;\" d=\"M 403.265625 237.03125 C 403.265625 242.554688 398.789062 247.03125 393.265625 247.03125 C 387.746094 247.03125 383.265625 242.554688 383.265625 237.03125 C 383.265625 231.507812 387.746094 227.03125 393.265625 227.03125 C 398.789062 227.03125 403.265625 231.507812 403.265625 237.03125 \"/>\n",
       "<path style=\"fill-rule:nonzero;fill:rgb(100%,0%,0%);fill-opacity:1;stroke-width:1;stroke-linecap:butt;stroke-linejoin:miter;stroke:rgb(0%,0%,0%);stroke-opacity:1;stroke-miterlimit:10;\" d=\"M 401.945312 209.441406 C 401.945312 214.964844 397.46875 219.441406 391.945312 219.441406 C 386.425781 219.441406 381.945312 214.964844 381.945312 209.441406 C 381.945312 203.917969 386.425781 199.441406 391.945312 199.441406 C 397.46875 199.441406 401.945312 203.917969 401.945312 209.441406 \"/>\n",
       "<path style=\"fill-rule:nonzero;fill:rgb(100%,0%,0%);fill-opacity:1;stroke-width:1;stroke-linecap:butt;stroke-linejoin:miter;stroke:rgb(0%,0%,0%);stroke-opacity:1;stroke-miterlimit:10;\" d=\"M 407.152344 20 C 407.152344 25.523438 402.675781 30 397.152344 30 C 391.628906 30 387.152344 25.523438 387.152344 20 C 387.152344 14.476562 391.628906 10 397.152344 10 C 402.675781 10 407.152344 14.476562 407.152344 20 \"/>\n",
       "<path style=\"fill-rule:nonzero;fill:rgb(100%,0%,0%);fill-opacity:1;stroke-width:1;stroke-linecap:butt;stroke-linejoin:miter;stroke:rgb(0%,0%,0%);stroke-opacity:1;stroke-miterlimit:10;\" d=\"M 420.488281 26.191406 C 420.488281 31.714844 416.011719 36.191406 410.488281 36.191406 C 404.964844 36.191406 400.488281 31.714844 400.488281 26.191406 C 400.488281 20.671875 404.964844 16.191406 410.488281 16.191406 C 416.011719 16.191406 420.488281 20.671875 420.488281 26.191406 \"/>\n",
       "<path style=\"fill-rule:nonzero;fill:rgb(100%,0%,0%);fill-opacity:1;stroke-width:1;stroke-linecap:butt;stroke-linejoin:miter;stroke:rgb(0%,0%,0%);stroke-opacity:1;stroke-miterlimit:10;\" d=\"M 430.539062 30.777344 C 430.539062 36.300781 426.0625 40.777344 420.539062 40.777344 C 415.015625 40.777344 410.539062 36.300781 410.539062 30.777344 C 410.539062 25.253906 415.015625 20.777344 420.539062 20.777344 C 426.0625 20.777344 430.539062 25.253906 430.539062 30.777344 \"/>\n",
       "<path style=\"fill-rule:nonzero;fill:rgb(100%,0%,0%);fill-opacity:1;stroke-width:1;stroke-linecap:butt;stroke-linejoin:miter;stroke:rgb(0%,0%,0%);stroke-opacity:1;stroke-miterlimit:10;\" d=\"M 439.75 40.722656 C 439.75 46.246094 435.273438 50.722656 429.75 50.722656 C 424.226562 50.722656 419.75 46.246094 419.75 40.722656 C 419.75 35.199219 424.226562 30.722656 429.75 30.722656 C 435.273438 30.722656 439.75 35.199219 439.75 40.722656 \"/>\n",
       "<path style=\"fill-rule:nonzero;fill:rgb(100%,0%,0%);fill-opacity:1;stroke-width:1;stroke-linecap:butt;stroke-linejoin:miter;stroke:rgb(0%,0%,0%);stroke-opacity:1;stroke-miterlimit:10;\" d=\"M 457.683594 47.898438 C 457.683594 53.421875 453.207031 57.898438 447.683594 57.898438 C 442.164062 57.898438 437.683594 53.421875 437.683594 47.898438 C 437.683594 42.378906 442.164062 37.898438 447.683594 37.898438 C 453.207031 37.898438 457.683594 42.378906 457.683594 47.898438 \"/>\n",
       "<path style=\"fill-rule:nonzero;fill:rgb(100%,0%,0%);fill-opacity:1;stroke-width:1;stroke-linecap:butt;stroke-linejoin:miter;stroke:rgb(0%,0%,0%);stroke-opacity:1;stroke-miterlimit:10;\" d=\"M 465.90625 52.628906 C 465.90625 58.152344 461.425781 62.628906 455.90625 62.628906 C 450.382812 62.628906 445.90625 58.152344 445.90625 52.628906 C 445.90625 47.105469 450.382812 42.628906 455.90625 42.628906 C 461.425781 42.628906 465.90625 47.105469 465.90625 52.628906 \"/>\n",
       "<path style=\"fill-rule:nonzero;fill:rgb(100%,0%,0%);fill-opacity:1;stroke-width:1;stroke-linecap:butt;stroke-linejoin:miter;stroke:rgb(0%,0%,0%);stroke-opacity:1;stroke-miterlimit:10;\" d=\"M 477.375 62.984375 C 477.375 68.503906 472.898438 72.984375 467.375 72.984375 C 461.851562 72.984375 457.375 68.503906 457.375 62.984375 C 457.375 57.460938 461.851562 52.984375 467.375 52.984375 C 472.898438 52.984375 477.375 57.460938 477.375 62.984375 \"/>\n",
       "<path style=\"fill-rule:nonzero;fill:rgb(100%,0%,0%);fill-opacity:1;stroke-width:1;stroke-linecap:butt;stroke-linejoin:miter;stroke:rgb(0%,0%,0%);stroke-opacity:1;stroke-miterlimit:10;\" d=\"M 488.074219 73.007812 C 488.074219 78.53125 483.597656 83.007812 478.074219 83.007812 C 472.550781 83.007812 468.074219 78.53125 468.074219 73.007812 C 468.074219 67.484375 472.550781 63.007812 478.074219 63.007812 C 483.597656 63.007812 488.074219 67.484375 488.074219 73.007812 \"/>\n",
       "<path style=\"fill-rule:nonzero;fill:rgb(100%,0%,0%);fill-opacity:1;stroke-width:1;stroke-linecap:butt;stroke-linejoin:miter;stroke:rgb(0%,0%,0%);stroke-opacity:1;stroke-miterlimit:10;\" d=\"M 496.285156 78.292969 C 496.285156 83.816406 491.808594 88.292969 486.285156 88.292969 C 480.761719 88.292969 476.285156 83.816406 476.285156 78.292969 C 476.285156 72.769531 480.761719 68.292969 486.285156 68.292969 C 491.808594 68.292969 496.285156 72.769531 496.285156 78.292969 \"/>\n",
       "<path style=\"fill-rule:nonzero;fill:rgb(100%,0%,0%);fill-opacity:1;stroke-width:1;stroke-linecap:butt;stroke-linejoin:miter;stroke:rgb(0%,0%,0%);stroke-opacity:1;stroke-miterlimit:10;\" d=\"M 508.613281 96.972656 C 508.613281 102.492188 504.136719 106.972656 498.613281 106.972656 C 493.089844 106.972656 488.613281 102.492188 488.613281 96.972656 C 488.613281 91.449219 493.089844 86.972656 498.613281 86.972656 C 504.136719 86.972656 508.613281 91.449219 508.613281 96.972656 \"/>\n",
       "<path style=\"fill-rule:nonzero;fill:rgb(100%,0%,0%);fill-opacity:1;stroke-width:1;stroke-linecap:butt;stroke-linejoin:miter;stroke:rgb(0%,0%,0%);stroke-opacity:1;stroke-miterlimit:10;\" d=\"M 515.488281 106.128906 C 515.488281 111.648438 511.011719 116.128906 505.488281 116.128906 C 499.964844 116.128906 495.488281 111.648438 495.488281 106.128906 C 495.488281 100.605469 499.964844 96.128906 505.488281 96.128906 C 511.011719 96.128906 515.488281 100.605469 515.488281 106.128906 \"/>\n",
       "<path style=\"fill-rule:nonzero;fill:rgb(100%,0%,0%);fill-opacity:1;stroke-width:1;stroke-linecap:butt;stroke-linejoin:miter;stroke:rgb(0%,0%,0%);stroke-opacity:1;stroke-miterlimit:10;\" d=\"M 529.019531 119.828125 C 529.019531 125.347656 524.539062 129.828125 519.019531 129.828125 C 513.496094 129.828125 509.019531 125.347656 509.019531 119.828125 C 509.019531 114.304688 513.496094 109.828125 519.019531 109.828125 C 524.539062 109.828125 529.019531 114.304688 529.019531 119.828125 \"/>\n",
       "<path style=\"fill-rule:nonzero;fill:rgb(100%,0%,0%);fill-opacity:1;stroke-width:1;stroke-linecap:butt;stroke-linejoin:miter;stroke:rgb(0%,0%,0%);stroke-opacity:1;stroke-miterlimit:10;\" d=\"M 534.976562 141.789062 C 534.976562 147.3125 530.5 151.789062 524.976562 151.789062 C 519.453125 151.789062 514.976562 147.3125 514.976562 141.789062 C 514.976562 136.265625 519.453125 131.789062 524.976562 131.789062 C 530.5 131.789062 534.976562 136.265625 534.976562 141.789062 \"/>\n",
       "<path style=\"fill-rule:nonzero;fill:rgb(100%,0%,0%);fill-opacity:1;stroke-width:1;stroke-linecap:butt;stroke-linejoin:miter;stroke:rgb(0%,0%,0%);stroke-opacity:1;stroke-miterlimit:10;\" d=\"M 543.410156 150.953125 C 543.410156 156.476562 538.933594 160.953125 533.410156 160.953125 C 527.886719 160.953125 523.410156 156.476562 523.410156 150.953125 C 523.410156 145.433594 527.886719 140.953125 533.410156 140.953125 C 538.933594 140.953125 543.410156 145.433594 543.410156 150.953125 \"/>\n",
       "<path style=\"fill-rule:nonzero;fill:rgb(100%,0%,0%);fill-opacity:1;stroke-width:1;stroke-linecap:butt;stroke-linejoin:miter;stroke:rgb(0%,0%,0%);stroke-opacity:1;stroke-miterlimit:10;\" d=\"M 549.039062 174.277344 C 549.039062 179.800781 544.5625 184.277344 539.039062 184.277344 C 533.515625 184.277344 529.039062 179.800781 529.039062 174.277344 C 529.039062 168.753906 533.515625 164.277344 539.039062 164.277344 C 544.5625 164.277344 549.039062 168.753906 549.039062 174.277344 \"/>\n",
       "<path style=\"fill-rule:nonzero;fill:rgb(100%,0%,0%);fill-opacity:1;stroke-width:1;stroke-linecap:butt;stroke-linejoin:miter;stroke:rgb(0%,0%,0%);stroke-opacity:1;stroke-miterlimit:10;\" d=\"M 558.628906 195.503906 C 558.628906 201.027344 554.148438 205.503906 548.628906 205.503906 C 543.105469 205.503906 538.628906 201.027344 538.628906 195.503906 C 538.628906 189.984375 543.105469 185.503906 548.628906 185.503906 C 554.148438 185.503906 558.628906 189.984375 558.628906 195.503906 \"/>\n",
       "<path style=\"fill-rule:nonzero;fill:rgb(100%,0%,0%);fill-opacity:1;stroke-width:1;stroke-linecap:butt;stroke-linejoin:miter;stroke:rgb(0%,0%,0%);stroke-opacity:1;stroke-miterlimit:10;\" d=\"M 563.421875 214.3125 C 563.421875 219.835938 558.945312 224.3125 553.421875 224.3125 C 547.902344 224.3125 543.421875 219.835938 543.421875 214.3125 C 543.421875 208.789062 547.902344 204.3125 553.421875 204.3125 C 558.945312 204.3125 563.421875 208.789062 563.421875 214.3125 \"/>\n",
       "<path style=\"fill-rule:nonzero;fill:rgb(100%,0%,0%);fill-opacity:1;stroke-width:1;stroke-linecap:butt;stroke-linejoin:miter;stroke:rgb(0%,0%,0%);stroke-opacity:1;stroke-miterlimit:10;\" d=\"M 568.535156 234.238281 C 568.535156 239.761719 564.058594 244.238281 558.535156 244.238281 C 553.015625 244.238281 548.535156 239.761719 548.535156 234.238281 C 548.535156 228.714844 553.015625 224.238281 558.535156 224.238281 C 564.058594 224.238281 568.535156 228.714844 568.535156 234.238281 \"/>\n",
       "<path style=\"fill-rule:nonzero;fill:rgb(100%,0%,0%);fill-opacity:1;stroke-width:1;stroke-linecap:butt;stroke-linejoin:miter;stroke:rgb(0%,0%,0%);stroke-opacity:1;stroke-miterlimit:10;\" d=\"M 573.484375 247.375 C 573.484375 252.898438 569.007812 257.375 563.484375 257.375 C 557.964844 257.375 553.484375 252.898438 553.484375 247.375 C 553.484375 241.855469 557.964844 237.375 563.484375 237.375 C 569.007812 237.375 573.484375 241.855469 573.484375 247.375 \"/>\n",
       "<path style=\"fill-rule:nonzero;fill:rgb(100%,0%,0%);fill-opacity:1;stroke-width:1;stroke-linecap:butt;stroke-linejoin:miter;stroke:rgb(0%,0%,0%);stroke-opacity:1;stroke-miterlimit:10;\" d=\"M 577.296875 281.527344 C 577.296875 287.050781 572.820312 291.527344 567.296875 291.527344 C 561.773438 291.527344 557.296875 287.050781 557.296875 281.527344 C 557.296875 276.003906 561.773438 271.527344 567.296875 271.527344 C 572.820312 271.527344 577.296875 276.003906 577.296875 281.527344 \"/>\n",
       "<path style=\"fill-rule:nonzero;fill:rgb(100%,0%,0%);fill-opacity:1;stroke-width:1;stroke-linecap:butt;stroke-linejoin:miter;stroke:rgb(0%,0%,0%);stroke-opacity:1;stroke-miterlimit:10;\" d=\"M 579.246094 302.65625 C 579.246094 308.179688 574.765625 312.65625 569.246094 312.65625 C 563.722656 312.65625 559.246094 308.179688 559.246094 302.65625 C 559.246094 297.132812 563.722656 292.65625 569.246094 292.65625 C 574.765625 292.65625 579.246094 297.132812 579.246094 302.65625 \"/>\n",
       "<path style=\"fill-rule:nonzero;fill:rgb(100%,0%,0%);fill-opacity:1;stroke-width:1;stroke-linecap:butt;stroke-linejoin:miter;stroke:rgb(0%,0%,0%);stroke-opacity:1;stroke-miterlimit:10;\" d=\"M 584.148438 321.71875 C 584.148438 327.242188 579.671875 331.71875 574.148438 331.71875 C 568.625 331.71875 564.148438 327.242188 564.148438 321.71875 C 564.148438 316.195312 568.625 311.71875 574.148438 311.71875 C 579.671875 311.71875 584.148438 316.195312 584.148438 321.71875 \"/>\n",
       "<path style=\"fill-rule:nonzero;fill:rgb(100%,0%,0%);fill-opacity:1;stroke-width:1;stroke-linecap:butt;stroke-linejoin:miter;stroke:rgb(0%,0%,0%);stroke-opacity:1;stroke-miterlimit:10;\" d=\"M 588.21875 345.125 C 588.21875 350.644531 583.738281 355.125 578.21875 355.125 C 572.695312 355.125 568.21875 350.644531 568.21875 345.125 C 568.21875 339.601562 572.695312 335.125 578.21875 335.125 C 583.738281 335.125 588.21875 339.601562 588.21875 345.125 \"/>\n",
       "<path style=\"fill-rule:nonzero;fill:rgb(100%,0%,0%);fill-opacity:1;stroke-width:1;stroke-linecap:butt;stroke-linejoin:miter;stroke:rgb(0%,0%,0%);stroke-opacity:1;stroke-miterlimit:10;\" d=\"M 585.246094 367.289062 C 585.246094 372.8125 580.769531 377.289062 575.246094 377.289062 C 569.722656 377.289062 565.246094 372.8125 565.246094 367.289062 C 565.246094 361.769531 569.722656 357.289062 575.246094 357.289062 C 580.769531 357.289062 585.246094 361.769531 585.246094 367.289062 \"/>\n",
       "<path style=\"fill-rule:nonzero;fill:rgb(100%,0%,0%);fill-opacity:1;stroke-width:1;stroke-linecap:butt;stroke-linejoin:miter;stroke:rgb(0%,0%,0%);stroke-opacity:1;stroke-miterlimit:10;\" d=\"M 590 396.414062 C 590 401.9375 585.523438 406.414062 580 406.414062 C 574.476562 406.414062 570 401.9375 570 396.414062 C 570 390.890625 574.476562 386.414062 580 386.414062 C 585.523438 386.414062 590 390.890625 590 396.414062 \"/>\n",
       "</g>\n",
       "</svg>\n"
      ],
      "text/plain": [
       "<igraph.drawing.Plot at 0x7fe74d9c09d0>"
      ]
     },
     "execution_count": 32,
     "metadata": {},
     "output_type": "execute_result"
    }
   ],
   "source": [
    "a= MST\n",
    "np.fill_diagonal(a,0)\n",
    "a= a.round()\n",
    "\n",
    "g = igraph.Graph.Adjacency((a > 0).tolist())\n",
    "g.to_undirected()\n",
    "\n",
    "layout = zip(list(Y[:,0]), list(Y[:,1])) \n",
    "igraph.plot(g, layout = layout)"
   ]
  }
 ],
 "metadata": {
  "colab": {
   "name": "SamplingGaussianMixture.ipynb",
   "provenance": [],
   "version": "0.3.2"
  },
  "kernelspec": {
   "display_name": "Python 3",
   "language": "python",
   "name": "python3"
  },
  "language_info": {
   "codemirror_mode": {
    "name": "ipython",
    "version": 3
   },
   "file_extension": ".py",
   "mimetype": "text/x-python",
   "name": "python",
   "nbconvert_exporter": "python",
   "pygments_lexer": "ipython3",
   "version": "3.7.7"
  }
 },
 "nbformat": 4,
 "nbformat_minor": 4
}
