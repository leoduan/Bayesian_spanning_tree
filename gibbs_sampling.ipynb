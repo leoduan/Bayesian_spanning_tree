{
 "cells": [
  {
   "cell_type": "code",
   "execution_count": 1,
   "metadata": {
    "colab": {},
    "colab_type": "code",
    "id": "9_Z5moYIXkn5"
   },
   "outputs": [],
   "source": [
    "import numpy as np\n",
    "import matplotlib.pyplot as plt\n",
    "%matplotlib inline\n",
    "\n",
    "# from pylab import rcParams\n",
    "# rcParams['figure.figsize'] = 10, 8\n",
    "# rcParams['figure.dpi'] = 300\n",
    "\n",
    "\n",
    "from sklearn import cluster, datasets, mixture\n",
    "from sklearn.preprocessing import StandardScaler"
   ]
  },
  {
   "cell_type": "code",
   "execution_count": null,
   "metadata": {},
   "outputs": [],
   "source": []
  },
  {
   "cell_type": "code",
   "execution_count": 2,
   "metadata": {},
   "outputs": [],
   "source": [
    "import numba\n",
    "from numba import jit"
   ]
  },
  {
   "cell_type": "code",
   "execution_count": null,
   "metadata": {},
   "outputs": [],
   "source": []
  },
  {
   "cell_type": "code",
   "execution_count": 3,
   "metadata": {},
   "outputs": [],
   "source": [
    "import sklearn\n",
    "Y = sklearn.datasets.make_moons(n_samples=200, shuffle=True, noise=None, random_state=None)[0]\n",
    "Y = Y[np.argsort(Y[:,0]),]\n",
    "Y += np.random.normal(0,0.05, Y.shape)"
   ]
  },
  {
   "cell_type": "code",
   "execution_count": null,
   "metadata": {},
   "outputs": [],
   "source": []
  },
  {
   "cell_type": "code",
   "execution_count": 4,
   "metadata": {},
   "outputs": [],
   "source": [
    "p = Y.shape[0]\n",
    "n = Y.shape[1]"
   ]
  },
  {
   "cell_type": "code",
   "execution_count": 5,
   "metadata": {},
   "outputs": [
    {
     "data": {
      "text/plain": [
       "<matplotlib.collections.PathCollection at 0x7f9cda729290>"
      ]
     },
     "execution_count": 5,
     "metadata": {},
     "output_type": "execute_result"
    },
    {
     "data": {
      "image/png": "[encoded data removed]",
      "text/plain": [
       "<Figure size 432x288 with 1 Axes>"
      ]
     },
     "metadata": {
      "needs_background": "light"
     },
     "output_type": "display_data"
    }
   ],
   "source": [
    "plt.scatter(Y[:,0],Y[:,1])"
   ]
  },
  {
   "cell_type": "code",
   "execution_count": 6,
   "metadata": {},
   "outputs": [],
   "source": [
    "D = np.zeros([p,p])"
   ]
  },
  {
   "cell_type": "code",
   "execution_count": null,
   "metadata": {},
   "outputs": [],
   "source": []
  },
  {
   "cell_type": "code",
   "execution_count": 7,
   "metadata": {},
   "outputs": [],
   "source": [
    "for i in range(p):\n",
    "    for j in range(i):\n",
    "        D[i,j] = np.sqrt(np.sum((Y[i]-Y[j])**2))\n",
    "        D[j,i] = D[i,j]"
   ]
  },
  {
   "cell_type": "code",
   "execution_count": null,
   "metadata": {},
   "outputs": [],
   "source": []
  },
  {
   "cell_type": "code",
   "execution_count": 8,
   "metadata": {},
   "outputs": [],
   "source": [
    "@jit(nopython=True)\n",
    "def find_min_idx(x):\n",
    "    k = x.argmin()\n",
    "    ncol = x.shape[1]\n",
    "    return int(k/ncol), k%ncol"
   ]
  },
  {
   "cell_type": "code",
   "execution_count": 9,
   "metadata": {},
   "outputs": [],
   "source": [
    "# @jit(nopython=True)\n",
    "def FindMST(A):\n",
    "    \n",
    "\n",
    "    p = A.shape[0]\n",
    "    MST = np.zeros((p,p))\n",
    "\n",
    "    Xl = list()\n",
    "    Vl = list(range(p))\n",
    "    Xl.append(0)\n",
    "    Vl.remove(0)\n",
    "\n",
    "    i = 0\n",
    "    while len(Vl)>0:\n",
    "        idx0, idx1 = find_min_idx(A[Xl][:,Vl])\n",
    "\n",
    "        MST[Xl[idx0],Vl[idx1]]=1\n",
    "\n",
    "        Xl.append(Vl[idx1])\n",
    "        Vl.remove(Vl[idx1])\n",
    "\n",
    "        i+=1\n",
    "    \n",
    "    return MST + MST.T"
   ]
  },
  {
   "cell_type": "code",
   "execution_count": 10,
   "metadata": {},
   "outputs": [],
   "source": [
    "MST = FindMST(D)\n",
    "mst0 = MST.copy()"
   ]
  },
  {
   "cell_type": "code",
   "execution_count": 11,
   "metadata": {},
   "outputs": [],
   "source": [
    "def getB(A):\n",
    "    p = A.shape[0]\n",
    "\n",
    "    B = np.zeros([p,p-1])\n",
    "\n",
    "    idx = 0\n",
    "    for i in range(p):\n",
    "        for j in range(i):\n",
    "            if A[i,j]==1:\n",
    "                B[i,idx]=1\n",
    "                B[j,idx]=-1\n",
    "                idx+=1\n",
    "    return B"
   ]
  },
  {
   "cell_type": "code",
   "execution_count": 12,
   "metadata": {},
   "outputs": [],
   "source": [
    "@jit(nopython=True)\n",
    "def getA(B):\n",
    "    A = - B@B.T\n",
    "    np.fill_diagonal(A,0)\n",
    "    return A"
   ]
  },
  {
   "cell_type": "code",
   "execution_count": 13,
   "metadata": {},
   "outputs": [],
   "source": [
    "A = MST\n",
    "B = getB(A)"
   ]
  },
  {
   "cell_type": "code",
   "execution_count": 14,
   "metadata": {},
   "outputs": [],
   "source": [
    "B2Inv = np.linalg.inv(B.T@B)"
   ]
  },
  {
   "cell_type": "code",
   "execution_count": 15,
   "metadata": {},
   "outputs": [
    {
     "data": {
      "text/plain": [
       "array([[ 0.995,  0.99 ,  0.98 , ..., -0.01 ,  0.01 , -0.005],\n",
       "       [ 0.99 ,  1.98 ,  1.96 , ..., -0.02 ,  0.02 , -0.01 ],\n",
       "       [ 0.98 ,  1.96 ,  3.92 , ..., -0.04 ,  0.04 , -0.02 ],\n",
       "       ...,\n",
       "       [-0.01 , -0.02 , -0.04 , ...,  1.98 ,  0.02 , -0.01 ],\n",
       "       [ 0.01 ,  0.02 ,  0.04 , ...,  0.02 ,  1.98 , -0.99 ],\n",
       "       [-0.005, -0.01 , -0.02 , ..., -0.01 , -0.99 ,  0.995]])"
      ]
     },
     "execution_count": 15,
     "metadata": {},
     "output_type": "execute_result"
    }
   ],
   "source": [
    "B2Inv"
   ]
  },
  {
   "cell_type": "code",
   "execution_count": 16,
   "metadata": {},
   "outputs": [],
   "source": [
    "full_edge_idx = np.arange(p-1)\n",
    "full_node_idx = np.arange(p)"
   ]
  },
  {
   "cell_type": "code",
   "execution_count": null,
   "metadata": {},
   "outputs": [],
   "source": []
  },
  {
   "cell_type": "code",
   "execution_count": 17,
   "metadata": {},
   "outputs": [],
   "source": [
    "@jit(nopython=True)\n",
    "def getSubInverse(B2Inv, k):\n",
    "        \n",
    "    sel = full_edge_idx==k\n",
    "    sel_not = full_edge_idx!=k\n",
    "    \n",
    "    M11 = B2Inv[sel_not,][:,sel_not]\n",
    "    M12 = B2Inv[sel_not,][:,sel]\n",
    "    M22 = B2Inv[sel,][:,sel]\n",
    "\n",
    "    return M11 - M12@M12.T/M22[0,0]    "
   ]
  },
  {
   "cell_type": "code",
   "execution_count": 18,
   "metadata": {},
   "outputs": [],
   "source": [
    "# np.sum((getSubInverse(B2Inv,10) - getSubInverse2(B2Inv,10)  )**2)"
   ]
  },
  {
   "cell_type": "code",
   "execution_count": null,
   "metadata": {},
   "outputs": [],
   "source": []
  },
  {
   "cell_type": "code",
   "execution_count": 19,
   "metadata": {},
   "outputs": [],
   "source": [
    "s0 = 0.1\n",
    "s1 = 0.5"
   ]
  },
  {
   "cell_type": "code",
   "execution_count": 20,
   "metadata": {},
   "outputs": [],
   "source": [
    "sigma = np.ones(p) * s0\n",
    "\n",
    "slab_indicator = np.random.uniform(0,1,p)<0.1\n",
    "\n",
    "sigma[slab_indicator]= s1\n",
    "\n",
    "w = 0.01"
   ]
  },
  {
   "cell_type": "code",
   "execution_count": 21,
   "metadata": {},
   "outputs": [],
   "source": [
    "i =0\n"
   ]
  },
  {
   "cell_type": "code",
   "execution_count": 22,
   "metadata": {},
   "outputs": [],
   "source": [
    "@jit(nopython=True)\n",
    "def updateSlab(A,s0,s1, w):\n",
    "\n",
    "    D2A= D**2*A\n",
    "    \n",
    "    slab_indicator = np.zeros(p)\n",
    "    sigma = np.zeros(p)\n",
    "\n",
    "    for i in range(p):\n",
    "        choice0 = -np.sum(D2A[i]/2/s0) - np.sum(A[i])*np.log(s0) + np.log(1-w)\n",
    "        choice1 = -np.sum(D2A[i]/2/s1) - np.sum(A[i])*np.log(s1) + np.log(w)\n",
    "        slab_indicator[i] = np.argmax(np.array([choice0,choice1])+np.random.gumbel(0,1,2))==1\n",
    "        if(slab_indicator[i]):\n",
    "            sigma[i]=s1\n",
    "        else:\n",
    "            sigma[i]=s0\n",
    "\n",
    "    return slab_indicator, sigma"
   ]
  },
  {
   "cell_type": "code",
   "execution_count": 23,
   "metadata": {},
   "outputs": [],
   "source": [
    "@jit(nopython=True)\n",
    "def compLogP(D, sigma):\n",
    "    logP =-(D**2/sigma).T/sigma\n",
    "    logP = (logP - np.log(sigma)).T- np.log(sigma)\n",
    "    return logP"
   ]
  },
  {
   "cell_type": "code",
   "execution_count": null,
   "metadata": {},
   "outputs": [],
   "source": []
  },
  {
   "cell_type": "code",
   "execution_count": 24,
   "metadata": {},
   "outputs": [],
   "source": [
    "@jit(nopython=True)\n",
    "\n",
    "def findRowColIdx(idx,m1,m2):\n",
    "    r = int(idx / m2)\n",
    "    return (r,     idx - r*m2)"
   ]
  },
  {
   "cell_type": "code",
   "execution_count": null,
   "metadata": {},
   "outputs": [],
   "source": []
  },
  {
   "cell_type": "code",
   "execution_count": null,
   "metadata": {},
   "outputs": [],
   "source": []
  },
  {
   "cell_type": "code",
   "execution_count": 25,
   "metadata": {},
   "outputs": [
    {
     "data": {
      "text/plain": [
       "2.0"
      ]
     },
     "execution_count": 25,
     "metadata": {},
     "output_type": "execute_result"
    }
   ],
   "source": [
    "B[:,1].T@B[:,1]"
   ]
  },
  {
   "cell_type": "code",
   "execution_count": 26,
   "metadata": {},
   "outputs": [],
   "source": [
    "@jit(nopython=True)\n",
    "\n",
    "def updateB(B, logP, B2Inv):\n",
    "\n",
    "    full_edge_idx = np.arange(p-1)\n",
    "    full_node_idx = np.arange(p)\n",
    "\n",
    "    for k in range(p-1):\n",
    "\n",
    "\n",
    "        # quick way to compute P_s and update B2inv\n",
    "\n",
    "        sel = full_edge_idx==k\n",
    "        sel_not = full_edge_idx!=k\n",
    "        B_not_s = B[:, sel_not]\n",
    "\n",
    "        B_not_s2_inv =  getSubInverse(B2Inv,k)\n",
    "        \n",
    "        \n",
    "#         B_not_s2_inv_B_not_s = B_not_s2_inv@B_not_s.T    # complexity O(p^3)\n",
    "#         P_s = np.eye(p) - B_not_s @ B_not_s2_inv_B_not_s # complexity O(p^3)\n",
    "#         beta_k = P_s@(B[:,sel])\n",
    "        \n",
    "        beta_k =  B[:,sel] -  B_not_s@(B_not_s2_inv@ (B_not_s.T@B[:,sel])) #complexity O(p^2)\n",
    "\n",
    "#         beta_k = NulSpaceB(B,k)\n",
    "#         beta_k = np.round(beta_k.flatten(),2)\n",
    "\n",
    "        beta_k = beta_k.flatten()\n",
    "        mid_point =  (np.max(beta_k)+np.min(beta_k))/2\n",
    "    \n",
    "        subgraph0 = beta_k> mid_point\n",
    "        subgraph1 = beta_k<= mid_point\n",
    "        \n",
    "#         beta_k = np.floor(beta_k.flatten()* 1E10)\n",
    "\n",
    "#         unique_values = np.unique(beta_k) #list(set(beta_k))\n",
    "\n",
    "#         if len(unique_values)!=2:\n",
    "#             print(unique_values)\n",
    "#             print(\"error\")\n",
    "\n",
    "#         subgraph0 = beta_k==unique_values[0]\n",
    "#         subgraph1 = beta_k==unique_values[1]\n",
    "\n",
    "        subgraph0_node_idx = full_node_idx[subgraph0]\n",
    "        subgraph1_node_idx = full_node_idx[subgraph1]\n",
    "\n",
    "        logp_choices =  logP[subgraph0_node_idx,:][:,subgraph1_node_idx]\n",
    "\n",
    "        m1,m2 = logp_choices.shape\n",
    "        logp_gumbel = logp_choices + np.random.gumbel(0,1, logp_choices.shape)\n",
    "        idx = np.argmax(logp_gumbel)\n",
    "\n",
    "        r_idx, c_idx = findRowColIdx(idx,m1,m2)\n",
    "        \n",
    "        \n",
    "        B_k_vec = (B[:,k]).copy()\n",
    "        \n",
    "\n",
    "        new_idx0= subgraph0_node_idx[r_idx]\n",
    "        new_idx1= subgraph1_node_idx[c_idx]\n",
    "\n",
    "        B[:,k] = 0\n",
    "        B[new_idx0,k]=1\n",
    "        B[new_idx1,k]= - 1\n",
    "        \n",
    "        if np.sum(np.abs(B[:,k]- B_k_vec))>0:\n",
    "        \n",
    "\n",
    "            # update B2Inv\n",
    "            B_s_star = B[:,sel]\n",
    "#             M22_star = 1/(B_s_star.T@P_s@B_s_star) # complexity: O(p^3)\n",
    "            b = B_not_s.T@B_s_star # complexity: O(p^2)\n",
    "            B_invB_b = B_not_s2_inv@b # complexity: O(p^2)\n",
    "            M22_star = 1./(2.0 -  b.T@(B_invB_b))\n",
    "    \n",
    "\n",
    "\n",
    "#             M12_star= - B_not_s2_inv_B_not_s@B_s_star * M22_star\n",
    "            M12_star= - B_invB_b * M22_star\n",
    "\n",
    "\n",
    "\n",
    "            M11_star = B_not_s2_inv+M12_star@M12_star.T/M22_star\n",
    "\n",
    "            temp = B2Inv[sel_not]\n",
    "            temp[:,sel_not] = M11_star\n",
    "            temp[:,sel] = M12_star\n",
    "            B2Inv[sel_not] = temp\n",
    "\n",
    "\n",
    "            temp = B2Inv[sel]\n",
    "            temp[:,sel_not] = M12_star.T\n",
    "            temp[:,sel]=M22_star\n",
    "            B2Inv[sel]= temp\n",
    "\n",
    "    return [B,B2Inv]"
   ]
  },
  {
   "cell_type": "code",
   "execution_count": 27,
   "metadata": {},
   "outputs": [],
   "source": [
    "import copy"
   ]
  },
  {
   "cell_type": "code",
   "execution_count": 28,
   "metadata": {},
   "outputs": [],
   "source": [
    "A_trace = list()"
   ]
  },
  {
   "cell_type": "code",
   "execution_count": 29,
   "metadata": {},
   "outputs": [],
   "source": [
    "logP =  compLogP(D,sigma)\n",
    "\n",
    "slab_indicator, sigma = updateSlab(A,s0,s1,w)\n",
    "\n",
    "# B, B2Inv = updateB(B, logP, B2Inv)"
   ]
  },
  {
   "cell_type": "code",
   "execution_count": 30,
   "metadata": {},
   "outputs": [],
   "source": [
    "import time\n",
    "\n"
   ]
  },
  {
   "cell_type": "code",
   "execution_count": 31,
   "metadata": {},
   "outputs": [
    {
     "name": "stdout",
     "output_type": "stream",
     "text": [
      "99\n",
      "199\n",
      "299\n",
      "399\n",
      "499\n",
      "599\n",
      "699\n",
      "799\n",
      "899\n",
      "999\n",
      "Elapsed (with compilation) = 105.95705771446228\n"
     ]
    }
   ],
   "source": [
    "\n",
    "start = time.time()\n",
    "\n",
    "\n",
    "for k in range(1000):\n",
    "    \n",
    "    logP =  compLogP(D,sigma)\n",
    "    \n",
    "    slab_indicator, sigma = updateSlab(A,s0,s1,w)\n",
    "    \n",
    "    B, B2Inv = updateB(B, logP, B2Inv)\n",
    "    A = getA(B)\n",
    "\n",
    "    A_trace.append(A.copy())\n",
    "    \n",
    "    if (k+1) % 100==0:\n",
    "        print(k)\n",
    "        \n",
    "end = time.time()\n",
    "print(\"Elapsed (with compilation) = %s\" % (end - start))\n",
    "\n",
    "    \n",
    "#     print(np.abs(A-mst0).sum())"
   ]
  },
  {
   "cell_type": "code",
   "execution_count": null,
   "metadata": {},
   "outputs": [],
   "source": []
  },
  {
   "cell_type": "code",
   "execution_count": 32,
   "metadata": {},
   "outputs": [
    {
     "data": {
      "text/plain": [
       "1.786979453299864e-09"
      ]
     },
     "execution_count": 32,
     "metadata": {},
     "output_type": "execute_result"
    }
   ],
   "source": [
    "np.max(np.abs(np.linalg.inv(B.T@B)- B2Inv))"
   ]
  },
  {
   "cell_type": "code",
   "execution_count": 33,
   "metadata": {},
   "outputs": [
    {
     "name": "stdout",
     "output_type": "stream",
     "text": [
      "464.0\n"
     ]
    }
   ],
   "source": [
    "print(np.abs(A-mst0).sum())"
   ]
  },
  {
   "cell_type": "code",
   "execution_count": 34,
   "metadata": {},
   "outputs": [],
   "source": [
    "mst_trace_arr = np.array(A_trace)"
   ]
  },
  {
   "cell_type": "code",
   "execution_count": null,
   "metadata": {},
   "outputs": [],
   "source": []
  },
  {
   "cell_type": "code",
   "execution_count": 35,
   "metadata": {},
   "outputs": [],
   "source": [
    "mean_mst = mst_trace_arr.mean(0)"
   ]
  },
  {
   "cell_type": "code",
   "execution_count": 36,
   "metadata": {},
   "outputs": [],
   "source": [
    "# plt.plot(mst_trace_arr[:100,96,97])"
   ]
  },
  {
   "cell_type": "code",
   "execution_count": 37,
   "metadata": {},
   "outputs": [
    {
     "data": {
      "text/plain": [
       "<matplotlib.colorbar.Colorbar at 0x7f9cc3f5e250>"
      ]
     },
     "execution_count": 37,
     "metadata": {},
     "output_type": "execute_result"
    },
    {
     "data": {
      "image/png": "[encoded data removed]",
      "text/plain": [
       "<Figure size 432x288 with 2 Axes>"
      ]
     },
     "metadata": {
      "needs_background": "light"
     },
     "output_type": "display_data"
    }
   ],
   "source": [
    "plt.imshow(mean_mst, vmin=0,cmap='jet')\n",
    "plt.colorbar()"
   ]
  },
  {
   "cell_type": "code",
   "execution_count": 38,
   "metadata": {
    "scrolled": true
   },
   "outputs": [],
   "source": [
    "import igraph"
   ]
  },
  {
   "cell_type": "code",
   "execution_count": 39,
   "metadata": {},
   "outputs": [],
   "source": [
    "from pylab import rcParams\n",
    "rcParams['figure.figsize'] = 10, 8\n",
    "rcParams['figure.dpi'] = 300"
   ]
  },
  {
   "cell_type": "code",
   "execution_count": 40,
   "metadata": {},
   "outputs": [],
   "source": [
    "c_vec = ['lightblue']*50\n",
    "# c_vec[3] = 'red'\n",
    "# c_vec[2] = 'yellow'\n",
    "# c_vec[4] = 'purple'\n"
   ]
  },
  {
   "cell_type": "code",
   "execution_count": 41,
   "metadata": {},
   "outputs": [
    {
     "data": {
      "image/svg+xml": [
       "<?xml version=\"1.0\" encoding=\"UTF-8\"?>\n",
       "<svg xmlns=\"http://www.w3.org/2000/svg\" xmlns:xlink=\"http://www.w3.org/1999/xlink\" width=\"600pt\" height=\"600pt\" viewBox=\"0 0 600 600\" version=\"1.1\">\n",
       "<g id=\"surface2\">\n",
       "<rect x=\"0\" y=\"0\" width=\"600\" height=\"600\" style=\"fill:rgb(100%,100%,100%);fill-opacity:1;stroke:none;\"/>\n",
       "<path style=\"fill:none;stroke-width:1;stroke-linecap:butt;stroke-linejoin:miter;stroke:rgb(26.666667%,26.666667%,26.666667%);stroke-opacity:1;stroke-miterlimit:10;\" d=\"M 571.941406 210.335938 L 572.167969 230.523438 \"/>\n",
       "<path style=\"fill:none;stroke-width:1;stroke-linecap:butt;stroke-linejoin:miter;stroke:rgb(26.666667%,26.666667%,26.666667%);stroke-opacity:1;stroke-miterlimit:10;\" d=\"M 576.363281 217.023438 L 572.167969 230.523438 \"/>\n",
       "<path style=\"fill:none;stroke-width:1;stroke-linecap:butt;stroke-linejoin:miter;stroke:rgb(26.666667%,26.666667%,26.666667%);stroke-opacity:1;stroke-miterlimit:10;\" d=\"M 572.566406 257.714844 L 573.253906 257.480469 \"/>\n",
       "<path style=\"fill:none;stroke-width:1;stroke-linecap:butt;stroke-linejoin:miter;stroke:rgb(26.666667%,26.666667%,26.666667%);stroke-opacity:1;stroke-miterlimit:10;\" d=\"M 571.941406 210.335938 L 550.597656 222.605469 \"/>\n",
       "<path style=\"fill:none;stroke-width:1;stroke-linecap:butt;stroke-linejoin:miter;stroke:rgb(26.666667%,26.666667%,26.666667%);stroke-opacity:1;stroke-miterlimit:10;\" d=\"M 572.566406 257.714844 L 571.890625 290.601562 \"/>\n",
       "<path style=\"fill:none;stroke-width:1;stroke-linecap:butt;stroke-linejoin:miter;stroke:rgb(26.666667%,26.666667%,26.666667%);stroke-opacity:1;stroke-miterlimit:10;\" d=\"M 571.890625 290.601562 L 580 314.457031 \"/>\n",
       "<path style=\"fill:none;stroke-width:1;stroke-linecap:butt;stroke-linejoin:miter;stroke:rgb(26.666667%,26.666667%,26.666667%);stroke-opacity:1;stroke-miterlimit:10;\" d=\"M 576.363281 217.023438 L 570.945312 281.449219 \"/>\n",
       "<path style=\"fill:none;stroke-width:1;stroke-linecap:butt;stroke-linejoin:miter;stroke:rgb(26.666667%,26.666667%,26.666667%);stroke-opacity:1;stroke-miterlimit:10;\" d=\"M 572.566406 257.714844 L 570.945312 281.449219 \"/>\n",
       "<path style=\"fill:none;stroke-width:1;stroke-linecap:butt;stroke-linejoin:miter;stroke:rgb(26.666667%,26.666667%,26.666667%);stroke-opacity:1;stroke-miterlimit:10;\" d=\"M 571.890625 290.601562 L 549.152344 325.546875 \"/>\n",
       "<path style=\"fill:none;stroke-width:1;stroke-linecap:butt;stroke-linejoin:miter;stroke:rgb(26.666667%,26.666667%,26.666667%);stroke-opacity:1;stroke-miterlimit:10;\" d=\"M 548.8125 323.230469 L 549.152344 325.546875 \"/>\n",
       "<path style=\"fill:none;stroke-width:1;stroke-linecap:butt;stroke-linejoin:miter;stroke:rgb(26.666667%,26.666667%,26.666667%);stroke-opacity:1;stroke-miterlimit:10;\" d=\"M 571.683594 319.238281 L 553.8125 349.65625 \"/>\n",
       "<path style=\"fill:none;stroke-width:1;stroke-linecap:butt;stroke-linejoin:miter;stroke:rgb(26.666667%,26.666667%,26.666667%);stroke-opacity:1;stroke-miterlimit:10;\" d=\"M 550.242188 336.855469 L 553.8125 349.65625 \"/>\n",
       "<path style=\"fill:none;stroke-width:1;stroke-linecap:butt;stroke-linejoin:miter;stroke:rgb(26.666667%,26.666667%,26.666667%);stroke-opacity:1;stroke-miterlimit:10;\" d=\"M 549.152344 325.546875 L 553.8125 349.65625 \"/>\n",
       "<path style=\"fill:none;stroke-width:1;stroke-linecap:butt;stroke-linejoin:miter;stroke:rgb(26.666667%,26.666667%,26.666667%);stroke-opacity:1;stroke-miterlimit:10;\" d=\"M 566.621094 368.96875 L 567.90625 371.859375 \"/>\n",
       "<path style=\"fill:none;stroke-width:1;stroke-linecap:butt;stroke-linejoin:miter;stroke:rgb(26.666667%,26.666667%,26.666667%);stroke-opacity:1;stroke-miterlimit:10;\" d=\"M 548.8125 323.230469 L 548.648438 385.167969 \"/>\n",
       "<path style=\"fill:none;stroke-width:1;stroke-linecap:butt;stroke-linejoin:miter;stroke:rgb(26.666667%,26.666667%,26.666667%);stroke-opacity:1;stroke-miterlimit:10;\" d=\"M 553.8125 349.65625 L 539.484375 399.226562 \"/>\n",
       "<path style=\"fill:none;stroke-width:1;stroke-linecap:butt;stroke-linejoin:miter;stroke:rgb(26.666667%,26.666667%,26.666667%);stroke-opacity:1;stroke-miterlimit:10;\" d=\"M 548.382812 378.066406 L 539.484375 399.226562 \"/>\n",
       "<path style=\"fill:none;stroke-width:1;stroke-linecap:butt;stroke-linejoin:miter;stroke:rgb(26.666667%,26.666667%,26.666667%);stroke-opacity:1;stroke-miterlimit:10;\" d=\"M 567.90625 371.859375 L 539.484375 399.226562 \"/>\n",
       "<path style=\"fill:none;stroke-width:1;stroke-linecap:butt;stroke-linejoin:miter;stroke:rgb(26.666667%,26.666667%,26.666667%);stroke-opacity:1;stroke-miterlimit:10;\" d=\"M 548.648438 385.167969 L 548.179688 423.703125 \"/>\n",
       "<path style=\"fill:none;stroke-width:1;stroke-linecap:butt;stroke-linejoin:miter;stroke:rgb(26.666667%,26.666667%,26.666667%);stroke-opacity:1;stroke-miterlimit:10;\" d=\"M 526.726562 438.328125 L 528.675781 427.929688 \"/>\n",
       "<path style=\"fill:none;stroke-width:1;stroke-linecap:butt;stroke-linejoin:miter;stroke:rgb(26.666667%,26.666667%,26.666667%);stroke-opacity:1;stroke-miterlimit:10;\" d=\"M 548.382812 378.066406 L 527.507812 413.976562 \"/>\n",
       "<path style=\"fill:none;stroke-width:1;stroke-linecap:butt;stroke-linejoin:miter;stroke:rgb(26.666667%,26.666667%,26.666667%);stroke-opacity:1;stroke-miterlimit:10;\" d=\"M 528.675781 427.929688 L 527.507812 413.976562 \"/>\n",
       "<path style=\"fill:none;stroke-width:1;stroke-linecap:butt;stroke-linejoin:miter;stroke:rgb(26.666667%,26.666667%,26.666667%);stroke-opacity:1;stroke-miterlimit:10;\" d=\"M 529.964844 486.597656 L 520.09375 473.328125 \"/>\n",
       "<path style=\"fill:none;stroke-width:1;stroke-linecap:butt;stroke-linejoin:miter;stroke:rgb(26.666667%,26.666667%,26.666667%);stroke-opacity:1;stroke-miterlimit:10;\" d=\"M 528.675781 427.929688 L 516.976562 447.800781 \"/>\n",
       "<path style=\"fill:none;stroke-width:1;stroke-linecap:butt;stroke-linejoin:miter;stroke:rgb(26.666667%,26.666667%,26.666667%);stroke-opacity:1;stroke-miterlimit:10;\" d=\"M 520.09375 473.328125 L 516.976562 447.800781 \"/>\n",
       "<path style=\"fill:none;stroke-width:1;stroke-linecap:butt;stroke-linejoin:miter;stroke:rgb(26.666667%,26.666667%,26.666667%);stroke-opacity:1;stroke-miterlimit:10;\" d=\"M 529.964844 486.597656 L 501.757812 499.113281 \"/>\n",
       "<path style=\"fill:none;stroke-width:1;stroke-linecap:butt;stroke-linejoin:miter;stroke:rgb(26.666667%,26.666667%,26.666667%);stroke-opacity:1;stroke-miterlimit:10;\" d=\"M 502.796875 449.9375 L 498.382812 480.074219 \"/>\n",
       "<path style=\"fill:none;stroke-width:1;stroke-linecap:butt;stroke-linejoin:miter;stroke:rgb(26.666667%,26.666667%,26.666667%);stroke-opacity:1;stroke-miterlimit:10;\" d=\"M 496.425781 535.585938 L 481.785156 506.285156 \"/>\n",
       "<path style=\"fill:none;stroke-width:1;stroke-linecap:butt;stroke-linejoin:miter;stroke:rgb(26.666667%,26.666667%,26.666667%);stroke-opacity:1;stroke-miterlimit:10;\" d=\"M 501.757812 499.113281 L 479.234375 508.945312 \"/>\n",
       "<path style=\"fill:none;stroke-width:1;stroke-linecap:butt;stroke-linejoin:miter;stroke:rgb(26.666667%,26.666667%,26.666667%);stroke-opacity:1;stroke-miterlimit:10;\" d=\"M 498.382812 480.074219 L 479.234375 508.945312 \"/>\n",
       "<path style=\"fill:none;stroke-width:1;stroke-linecap:butt;stroke-linejoin:miter;stroke:rgb(26.666667%,26.666667%,26.666667%);stroke-opacity:1;stroke-miterlimit:10;\" d=\"M 481.785156 506.285156 L 479.234375 508.945312 \"/>\n",
       "<path style=\"fill:none;stroke-width:1;stroke-linecap:butt;stroke-linejoin:miter;stroke:rgb(26.666667%,26.666667%,26.666667%);stroke-opacity:1;stroke-miterlimit:10;\" d=\"M 479.234375 508.945312 L 465.898438 507.992188 \"/>\n",
       "<path style=\"fill:none;stroke-width:1;stroke-linecap:butt;stroke-linejoin:miter;stroke:rgb(26.666667%,26.666667%,26.666667%);stroke-opacity:1;stroke-miterlimit:10;\" d=\"M 486.113281 441.832031 L 483.15625 502.085938 \"/>\n",
       "<path style=\"fill:none;stroke-width:1;stroke-linecap:butt;stroke-linejoin:miter;stroke:rgb(26.666667%,26.666667%,26.666667%);stroke-opacity:1;stroke-miterlimit:10;\" d=\"M 479.234375 508.945312 L 483.15625 502.085938 \"/>\n",
       "<path style=\"fill:none;stroke-width:1;stroke-linecap:butt;stroke-linejoin:miter;stroke:rgb(26.666667%,26.666667%,26.666667%);stroke-opacity:1;stroke-miterlimit:10;\" d=\"M 479.234375 508.945312 L 461.347656 551.621094 \"/>\n",
       "<path style=\"fill:none;stroke-width:1;stroke-linecap:butt;stroke-linejoin:miter;stroke:rgb(26.666667%,26.666667%,26.666667%);stroke-opacity:1;stroke-miterlimit:10;\" d=\"M 461.347656 551.621094 L 453.730469 580 \"/>\n",
       "<path style=\"fill:none;stroke-width:1;stroke-linecap:butt;stroke-linejoin:miter;stroke:rgb(26.666667%,26.666667%,26.666667%);stroke-opacity:1;stroke-miterlimit:10;\" d=\"M 460.65625 527.304688 L 455.285156 534.644531 \"/>\n",
       "<path style=\"fill:none;stroke-width:1;stroke-linecap:butt;stroke-linejoin:miter;stroke:rgb(26.666667%,26.666667%,26.666667%);stroke-opacity:1;stroke-miterlimit:10;\" d=\"M 453.730469 580 L 440.875 550.457031 \"/>\n",
       "<path style=\"fill:none;stroke-width:1;stroke-linecap:butt;stroke-linejoin:miter;stroke:rgb(26.666667%,26.666667%,26.666667%);stroke-opacity:1;stroke-miterlimit:10;\" d=\"M 455.285156 534.644531 L 453.914062 550.160156 \"/>\n",
       "<path style=\"fill:none;stroke-width:1;stroke-linecap:butt;stroke-linejoin:miter;stroke:rgb(26.666667%,26.666667%,26.666667%);stroke-opacity:1;stroke-miterlimit:10;\" d=\"M 454.046875 539.816406 L 433.511719 545.214844 \"/>\n",
       "<path style=\"fill:none;stroke-width:1;stroke-linecap:butt;stroke-linejoin:miter;stroke:rgb(26.666667%,26.666667%,26.666667%);stroke-opacity:1;stroke-miterlimit:10;\" d=\"M 440.875 550.457031 L 433.511719 545.214844 \"/>\n",
       "<path style=\"fill:none;stroke-width:1;stroke-linecap:butt;stroke-linejoin:miter;stroke:rgb(26.666667%,26.666667%,26.666667%);stroke-opacity:1;stroke-miterlimit:10;\" d=\"M 453.914062 550.160156 L 433.511719 545.214844 \"/>\n",
       "<path style=\"fill:none;stroke-width:1;stroke-linecap:butt;stroke-linejoin:miter;stroke:rgb(26.666667%,26.666667%,26.666667%);stroke-opacity:1;stroke-miterlimit:10;\" d=\"M 433.511719 545.214844 L 417.78125 560.324219 \"/>\n",
       "<path style=\"fill:none;stroke-width:1;stroke-linecap:butt;stroke-linejoin:miter;stroke:rgb(26.666667%,26.666667%,26.666667%);stroke-opacity:1;stroke-miterlimit:10;\" d=\"M 417.78125 560.324219 L 414.445312 559.859375 \"/>\n",
       "<path style=\"fill:none;stroke-width:1;stroke-linecap:butt;stroke-linejoin:miter;stroke:rgb(26.666667%,26.666667%,26.666667%);stroke-opacity:1;stroke-miterlimit:10;\" d=\"M 413.75 576.230469 L 414.445312 559.859375 \"/>\n",
       "<path style=\"fill:none;stroke-width:1;stroke-linecap:butt;stroke-linejoin:miter;stroke:rgb(26.666667%,26.666667%,26.666667%);stroke-opacity:1;stroke-miterlimit:10;\" d=\"M 417.78125 560.324219 L 401.929688 553.277344 \"/>\n",
       "<path style=\"fill:none;stroke-width:1;stroke-linecap:butt;stroke-linejoin:miter;stroke:rgb(26.666667%,26.666667%,26.666667%);stroke-opacity:1;stroke-miterlimit:10;\" d=\"M 414.445312 559.859375 L 399.722656 561.183594 \"/>\n",
       "<path style=\"fill:none;stroke-width:1;stroke-linecap:butt;stroke-linejoin:miter;stroke:rgb(26.666667%,26.666667%,26.666667%);stroke-opacity:1;stroke-miterlimit:10;\" d=\"M 402.804688 533.550781 L 390.417969 524.882812 \"/>\n",
       "<path style=\"fill:none;stroke-width:1;stroke-linecap:butt;stroke-linejoin:miter;stroke:rgb(26.666667%,26.666667%,26.666667%);stroke-opacity:1;stroke-miterlimit:10;\" d=\"M 394.578125 386.890625 L 387.3125 375.023438 \"/>\n",
       "<path style=\"fill:none;stroke-width:1;stroke-linecap:butt;stroke-linejoin:miter;stroke:rgb(26.666667%,26.666667%,26.666667%);stroke-opacity:1;stroke-miterlimit:10;\" d=\"M 403.273438 352.507812 L 387.785156 355.195312 \"/>\n",
       "<path style=\"fill:none;stroke-width:1;stroke-linecap:butt;stroke-linejoin:miter;stroke:rgb(26.666667%,26.666667%,26.666667%);stroke-opacity:1;stroke-miterlimit:10;\" d=\"M 387.3125 375.023438 L 387.785156 355.195312 \"/>\n",
       "<path style=\"fill:none;stroke-width:1;stroke-linecap:butt;stroke-linejoin:miter;stroke:rgb(26.666667%,26.666667%,26.666667%);stroke-opacity:1;stroke-miterlimit:10;\" d=\"M 387.785156 355.195312 L 391.40625 335.523438 \"/>\n",
       "<path style=\"fill:none;stroke-width:1;stroke-linecap:butt;stroke-linejoin:miter;stroke:rgb(26.666667%,26.666667%,26.666667%);stroke-opacity:1;stroke-miterlimit:10;\" d=\"M 396.5625 325.621094 L 396.632812 324.679688 \"/>\n",
       "<path style=\"fill:none;stroke-width:1;stroke-linecap:butt;stroke-linejoin:miter;stroke:rgb(26.666667%,26.666667%,26.666667%);stroke-opacity:1;stroke-miterlimit:10;\" d=\"M 391.40625 335.523438 L 396.632812 324.679688 \"/>\n",
       "<path style=\"fill:none;stroke-width:1;stroke-linecap:butt;stroke-linejoin:miter;stroke:rgb(26.666667%,26.666667%,26.666667%);stroke-opacity:1;stroke-miterlimit:10;\" d=\"M 382.980469 275.019531 L 380.480469 279.195312 \"/>\n",
       "<path style=\"fill:none;stroke-width:1;stroke-linecap:butt;stroke-linejoin:miter;stroke:rgb(26.666667%,26.666667%,26.666667%);stroke-opacity:1;stroke-miterlimit:10;\" d=\"M 382.980469 275.019531 L 399.476562 298.40625 \"/>\n",
       "<path style=\"fill:none;stroke-width:1;stroke-linecap:butt;stroke-linejoin:miter;stroke:rgb(26.666667%,26.666667%,26.666667%);stroke-opacity:1;stroke-miterlimit:10;\" d=\"M 391.40625 335.523438 L 381.847656 279.648438 \"/>\n",
       "<path style=\"fill:none;stroke-width:1;stroke-linecap:butt;stroke-linejoin:miter;stroke:rgb(26.666667%,26.666667%,26.666667%);stroke-opacity:1;stroke-miterlimit:10;\" d=\"M 382.980469 275.019531 L 381.847656 279.648438 \"/>\n",
       "<path style=\"fill:none;stroke-width:1;stroke-linecap:butt;stroke-linejoin:miter;stroke:rgb(26.666667%,26.666667%,26.666667%);stroke-opacity:1;stroke-miterlimit:10;\" d=\"M 401.929688 553.277344 L 388.722656 558.007812 \"/>\n",
       "<path style=\"fill:none;stroke-width:1;stroke-linecap:butt;stroke-linejoin:miter;stroke:rgb(26.666667%,26.666667%,26.666667%);stroke-opacity:1;stroke-miterlimit:10;\" d=\"M 370.234375 557.507812 L 388.722656 558.007812 \"/>\n",
       "<path style=\"fill:none;stroke-width:1;stroke-linecap:butt;stroke-linejoin:miter;stroke:rgb(26.666667%,26.666667%,26.666667%);stroke-opacity:1;stroke-miterlimit:10;\" d=\"M 381.847656 279.648438 L 377.105469 248.414062 \"/>\n",
       "<path style=\"fill:none;stroke-width:1;stroke-linecap:butt;stroke-linejoin:miter;stroke:rgb(26.666667%,26.666667%,26.666667%);stroke-opacity:1;stroke-miterlimit:10;\" d=\"M 378.828125 248.8125 L 377.105469 248.414062 \"/>\n",
       "<path style=\"fill:none;stroke-width:1;stroke-linecap:butt;stroke-linejoin:miter;stroke:rgb(26.666667%,26.666667%,26.666667%);stroke-opacity:1;stroke-miterlimit:10;\" d=\"M 402.804688 533.550781 L 381.140625 555.433594 \"/>\n",
       "<path style=\"fill:none;stroke-width:1;stroke-linecap:butt;stroke-linejoin:miter;stroke:rgb(26.666667%,26.666667%,26.666667%);stroke-opacity:1;stroke-miterlimit:10;\" d=\"M 399.722656 561.183594 L 381.140625 555.433594 \"/>\n",
       "<path style=\"fill:none;stroke-width:1;stroke-linecap:butt;stroke-linejoin:miter;stroke:rgb(26.666667%,26.666667%,26.666667%);stroke-opacity:1;stroke-miterlimit:10;\" d=\"M 386.792969 565.347656 L 381.140625 555.433594 \"/>\n",
       "<path style=\"fill:none;stroke-width:1;stroke-linecap:butt;stroke-linejoin:miter;stroke:rgb(26.666667%,26.666667%,26.666667%);stroke-opacity:1;stroke-miterlimit:10;\" d=\"M 371.160156 215.90625 L 352.257812 239.179688 \"/>\n",
       "<path style=\"fill:none;stroke-width:1;stroke-linecap:butt;stroke-linejoin:miter;stroke:rgb(26.666667%,26.666667%,26.666667%);stroke-opacity:1;stroke-miterlimit:10;\" d=\"M 347.351562 275.785156 L 352.257812 239.179688 \"/>\n",
       "<path style=\"fill:none;stroke-width:1;stroke-linecap:butt;stroke-linejoin:miter;stroke:rgb(26.666667%,26.666667%,26.666667%);stroke-opacity:1;stroke-miterlimit:10;\" d=\"M 371.160156 215.90625 L 371.097656 184.058594 \"/>\n",
       "<path style=\"fill:none;stroke-width:1;stroke-linecap:butt;stroke-linejoin:miter;stroke:rgb(26.666667%,26.666667%,26.666667%);stroke-opacity:1;stroke-miterlimit:10;\" d=\"M 371.160156 215.90625 L 359.988281 214.535156 \"/>\n",
       "<path style=\"fill:none;stroke-width:1;stroke-linecap:butt;stroke-linejoin:miter;stroke:rgb(26.666667%,26.666667%,26.666667%);stroke-opacity:1;stroke-miterlimit:10;\" d=\"M 378.828125 248.8125 L 359.988281 214.535156 \"/>\n",
       "<path style=\"fill:none;stroke-width:1;stroke-linecap:butt;stroke-linejoin:miter;stroke:rgb(26.666667%,26.666667%,26.666667%);stroke-opacity:1;stroke-miterlimit:10;\" d=\"M 353.171875 250.820312 L 359.988281 214.535156 \"/>\n",
       "<path style=\"fill:none;stroke-width:1;stroke-linecap:butt;stroke-linejoin:miter;stroke:rgb(26.666667%,26.666667%,26.666667%);stroke-opacity:1;stroke-miterlimit:10;\" d=\"M 388.722656 558.007812 L 364.957031 556.230469 \"/>\n",
       "<path style=\"fill:none;stroke-width:1;stroke-linecap:butt;stroke-linejoin:miter;stroke:rgb(26.666667%,26.666667%,26.666667%);stroke-opacity:1;stroke-miterlimit:10;\" d=\"M 371.097656 184.058594 L 376.777344 207.082031 \"/>\n",
       "<path style=\"fill:none;stroke-width:1;stroke-linecap:butt;stroke-linejoin:miter;stroke:rgb(26.666667%,26.666667%,26.666667%);stroke-opacity:1;stroke-miterlimit:10;\" d=\"M 364.957031 556.230469 L 361.109375 567.539062 \"/>\n",
       "<path style=\"fill:none;stroke-width:1;stroke-linecap:butt;stroke-linejoin:miter;stroke:rgb(26.666667%,26.666667%,26.666667%);stroke-opacity:1;stroke-miterlimit:10;\" d=\"M 348.964844 181.488281 L 334.242188 168.183594 \"/>\n",
       "<path style=\"fill:none;stroke-width:1;stroke-linecap:butt;stroke-linejoin:miter;stroke:rgb(26.666667%,26.666667%,26.666667%);stroke-opacity:1;stroke-miterlimit:10;\" d=\"M 361.109375 567.539062 L 337.738281 559.324219 \"/>\n",
       "<path style=\"fill:none;stroke-width:1;stroke-linecap:butt;stroke-linejoin:miter;stroke:rgb(26.666667%,26.666667%,26.666667%);stroke-opacity:1;stroke-miterlimit:10;\" d=\"M 371.097656 184.058594 L 348.855469 165.101562 \"/>\n",
       "<path style=\"fill:none;stroke-width:1;stroke-linecap:butt;stroke-linejoin:miter;stroke:rgb(26.666667%,26.666667%,26.666667%);stroke-opacity:1;stroke-miterlimit:10;\" d=\"M 333.757812 158.796875 L 339.867188 125.527344 \"/>\n",
       "<path style=\"fill:none;stroke-width:1;stroke-linecap:butt;stroke-linejoin:miter;stroke:rgb(26.666667%,26.666667%,26.666667%);stroke-opacity:1;stroke-miterlimit:10;\" d=\"M 333.757812 158.796875 L 335.261719 145.480469 \"/>\n",
       "<path style=\"fill:none;stroke-width:1;stroke-linecap:butt;stroke-linejoin:miter;stroke:rgb(26.666667%,26.666667%,26.666667%);stroke-opacity:1;stroke-miterlimit:10;\" d=\"M 348.855469 165.101562 L 335.261719 145.480469 \"/>\n",
       "<path style=\"fill:none;stroke-width:1;stroke-linecap:butt;stroke-linejoin:miter;stroke:rgb(26.666667%,26.666667%,26.666667%);stroke-opacity:1;stroke-miterlimit:10;\" d=\"M 334.242188 168.183594 L 327.957031 118.863281 \"/>\n",
       "<path style=\"fill:none;stroke-width:1;stroke-linecap:butt;stroke-linejoin:miter;stroke:rgb(26.666667%,26.666667%,26.666667%);stroke-opacity:1;stroke-miterlimit:10;\" d=\"M 337.738281 559.324219 L 328.667969 562.441406 \"/>\n",
       "<path style=\"fill:none;stroke-width:1;stroke-linecap:butt;stroke-linejoin:miter;stroke:rgb(26.666667%,26.666667%,26.666667%);stroke-opacity:1;stroke-miterlimit:10;\" d=\"M 338.800781 540.214844 L 328.667969 562.441406 \"/>\n",
       "<path style=\"fill:none;stroke-width:1;stroke-linecap:butt;stroke-linejoin:miter;stroke:rgb(26.666667%,26.666667%,26.666667%);stroke-opacity:1;stroke-miterlimit:10;\" d=\"M 335.261719 145.480469 L 320.609375 117.945312 \"/>\n",
       "<path style=\"fill:none;stroke-width:1;stroke-linecap:butt;stroke-linejoin:miter;stroke:rgb(26.666667%,26.666667%,26.666667%);stroke-opacity:1;stroke-miterlimit:10;\" d=\"M 327.957031 118.863281 L 320.609375 117.945312 \"/>\n",
       "<path style=\"fill:none;stroke-width:1;stroke-linecap:butt;stroke-linejoin:miter;stroke:rgb(26.666667%,26.666667%,26.666667%);stroke-opacity:1;stroke-miterlimit:10;\" d=\"M 348.550781 569.785156 L 329.738281 546.867188 \"/>\n",
       "<path style=\"fill:none;stroke-width:1;stroke-linecap:butt;stroke-linejoin:miter;stroke:rgb(26.666667%,26.666667%,26.666667%);stroke-opacity:1;stroke-miterlimit:10;\" d=\"M 349.171875 517.976562 L 325.910156 524.171875 \"/>\n",
       "<path style=\"fill:none;stroke-width:1;stroke-linecap:butt;stroke-linejoin:miter;stroke:rgb(26.666667%,26.666667%,26.666667%);stroke-opacity:1;stroke-miterlimit:10;\" d=\"M 327.957031 118.863281 L 302.152344 112.972656 \"/>\n",
       "<path style=\"fill:none;stroke-width:1;stroke-linecap:butt;stroke-linejoin:miter;stroke:rgb(26.666667%,26.666667%,26.666667%);stroke-opacity:1;stroke-miterlimit:10;\" d=\"M 325.910156 524.171875 L 322.136719 527.855469 \"/>\n",
       "<path style=\"fill:none;stroke-width:1;stroke-linecap:butt;stroke-linejoin:miter;stroke:rgb(26.666667%,26.666667%,26.666667%);stroke-opacity:1;stroke-miterlimit:10;\" d=\"M 327.957031 118.863281 L 317.515625 78.261719 \"/>\n",
       "<path style=\"fill:none;stroke-width:1;stroke-linecap:butt;stroke-linejoin:miter;stroke:rgb(26.666667%,26.666667%,26.666667%);stroke-opacity:1;stroke-miterlimit:10;\" d=\"M 322.136719 527.855469 L 296.691406 521.421875 \"/>\n",
       "<path style=\"fill:none;stroke-width:1;stroke-linecap:butt;stroke-linejoin:miter;stroke:rgb(26.666667%,26.666667%,26.666667%);stroke-opacity:1;stroke-miterlimit:10;\" d=\"M 302.152344 112.972656 L 310.808594 97.484375 \"/>\n",
       "<path style=\"fill:none;stroke-width:1;stroke-linecap:butt;stroke-linejoin:miter;stroke:rgb(26.666667%,26.666667%,26.666667%);stroke-opacity:1;stroke-miterlimit:10;\" d=\"M 328.667969 562.441406 L 314.644531 529.113281 \"/>\n",
       "<path style=\"fill:none;stroke-width:1;stroke-linecap:butt;stroke-linejoin:miter;stroke:rgb(26.666667%,26.666667%,26.666667%);stroke-opacity:1;stroke-miterlimit:10;\" d=\"M 329.738281 546.867188 L 314.644531 529.113281 \"/>\n",
       "<path style=\"fill:none;stroke-width:1;stroke-linecap:butt;stroke-linejoin:miter;stroke:rgb(26.666667%,26.666667%,26.666667%);stroke-opacity:1;stroke-miterlimit:10;\" d=\"M 322.136719 527.855469 L 314.644531 529.113281 \"/>\n",
       "<path style=\"fill:none;stroke-width:1;stroke-linecap:butt;stroke-linejoin:miter;stroke:rgb(26.666667%,26.666667%,26.666667%);stroke-opacity:1;stroke-miterlimit:10;\" d=\"M 310.808594 97.484375 L 301.527344 88.515625 \"/>\n",
       "<path style=\"fill:none;stroke-width:1;stroke-linecap:butt;stroke-linejoin:miter;stroke:rgb(26.666667%,26.666667%,26.666667%);stroke-opacity:1;stroke-miterlimit:10;\" d=\"M 296.691406 521.421875 L 287.347656 502.859375 \"/>\n",
       "<path style=\"fill:none;stroke-width:1;stroke-linecap:butt;stroke-linejoin:miter;stroke:rgb(26.666667%,26.666667%,26.666667%);stroke-opacity:1;stroke-miterlimit:10;\" d=\"M 319.5625 109.261719 L 306.382812 71.945312 \"/>\n",
       "<path style=\"fill:none;stroke-width:1;stroke-linecap:butt;stroke-linejoin:miter;stroke:rgb(26.666667%,26.666667%,26.666667%);stroke-opacity:1;stroke-miterlimit:10;\" d=\"M 325.910156 524.171875 L 304.210938 501.964844 \"/>\n",
       "<path style=\"fill:none;stroke-width:1;stroke-linecap:butt;stroke-linejoin:miter;stroke:rgb(26.666667%,26.666667%,26.666667%);stroke-opacity:1;stroke-miterlimit:10;\" d=\"M 301.527344 88.515625 L 306.984375 51.613281 \"/>\n",
       "<path style=\"fill:none;stroke-width:1;stroke-linecap:butt;stroke-linejoin:miter;stroke:rgb(26.666667%,26.666667%,26.666667%);stroke-opacity:1;stroke-miterlimit:10;\" d=\"M 287.460938 497.917969 L 284.347656 481.125 \"/>\n",
       "<path style=\"fill:none;stroke-width:1;stroke-linecap:butt;stroke-linejoin:miter;stroke:rgb(26.666667%,26.666667%,26.666667%);stroke-opacity:1;stroke-miterlimit:10;\" d=\"M 301.527344 88.515625 L 278.792969 85.871094 \"/>\n",
       "<path style=\"fill:none;stroke-width:1;stroke-linecap:butt;stroke-linejoin:miter;stroke:rgb(26.666667%,26.666667%,26.666667%);stroke-opacity:1;stroke-miterlimit:10;\" d=\"M 306.382812 71.945312 L 278.792969 85.871094 \"/>\n",
       "<path style=\"fill:none;stroke-width:1;stroke-linecap:butt;stroke-linejoin:miter;stroke:rgb(26.666667%,26.666667%,26.666667%);stroke-opacity:1;stroke-miterlimit:10;\" d=\"M 287.347656 502.859375 L 293.292969 507.722656 \"/>\n",
       "<path style=\"fill:none;stroke-width:1;stroke-linecap:butt;stroke-linejoin:miter;stroke:rgb(26.666667%,26.666667%,26.666667%);stroke-opacity:1;stroke-miterlimit:10;\" d=\"M 287.460938 497.917969 L 293.292969 507.722656 \"/>\n",
       "<path style=\"fill:none;stroke-width:1;stroke-linecap:butt;stroke-linejoin:miter;stroke:rgb(26.666667%,26.666667%,26.666667%);stroke-opacity:1;stroke-miterlimit:10;\" d=\"M 301.527344 88.515625 L 296.1875 109.773438 \"/>\n",
       "<path style=\"fill:none;stroke-width:1;stroke-linecap:butt;stroke-linejoin:miter;stroke:rgb(26.666667%,26.666667%,26.666667%);stroke-opacity:1;stroke-miterlimit:10;\" d=\"M 287.460938 497.917969 L 281.347656 467.105469 \"/>\n",
       "<path style=\"fill:none;stroke-width:1;stroke-linecap:butt;stroke-linejoin:miter;stroke:rgb(26.666667%,26.666667%,26.666667%);stroke-opacity:1;stroke-miterlimit:10;\" d=\"M 284.925781 448.421875 L 281.347656 467.105469 \"/>\n",
       "<path style=\"fill:none;stroke-width:1;stroke-linecap:butt;stroke-linejoin:miter;stroke:rgb(26.666667%,26.666667%,26.666667%);stroke-opacity:1;stroke-miterlimit:10;\" d=\"M 277.683594 91.371094 L 269.585938 80.195312 \"/>\n",
       "<path style=\"fill:none;stroke-width:1;stroke-linecap:butt;stroke-linejoin:miter;stroke:rgb(26.666667%,26.666667%,26.666667%);stroke-opacity:1;stroke-miterlimit:10;\" d=\"M 278.792969 85.871094 L 269.585938 80.195312 \"/>\n",
       "<path style=\"fill:none;stroke-width:1;stroke-linecap:butt;stroke-linejoin:miter;stroke:rgb(26.666667%,26.666667%,26.666667%);stroke-opacity:1;stroke-miterlimit:10;\" d=\"M 281.347656 467.105469 L 262.585938 500.40625 \"/>\n",
       "<path style=\"fill:none;stroke-width:1;stroke-linecap:butt;stroke-linejoin:miter;stroke:rgb(26.666667%,26.666667%,26.666667%);stroke-opacity:1;stroke-miterlimit:10;\" d=\"M 269.585938 80.195312 L 248.601562 89.394531 \"/>\n",
       "<path style=\"fill:none;stroke-width:1;stroke-linecap:butt;stroke-linejoin:miter;stroke:rgb(26.666667%,26.666667%,26.666667%);stroke-opacity:1;stroke-miterlimit:10;\" d=\"M 259.355469 458.585938 L 264.441406 451.492188 \"/>\n",
       "<path style=\"fill:none;stroke-width:1;stroke-linecap:butt;stroke-linejoin:miter;stroke:rgb(26.666667%,26.666667%,26.666667%);stroke-opacity:1;stroke-miterlimit:10;\" d=\"M 262.585938 500.40625 L 257.160156 471.757812 \"/>\n",
       "<path style=\"fill:none;stroke-width:1;stroke-linecap:butt;stroke-linejoin:miter;stroke:rgb(26.666667%,26.666667%,26.666667%);stroke-opacity:1;stroke-miterlimit:10;\" d=\"M 259.355469 458.585938 L 257.160156 471.757812 \"/>\n",
       "<path style=\"fill:none;stroke-width:1;stroke-linecap:butt;stroke-linejoin:miter;stroke:rgb(26.666667%,26.666667%,26.666667%);stroke-opacity:1;stroke-miterlimit:10;\" d=\"M 248.601562 89.394531 L 246.769531 73.328125 \"/>\n",
       "<path style=\"fill:none;stroke-width:1;stroke-linecap:butt;stroke-linejoin:miter;stroke:rgb(26.666667%,26.666667%,26.666667%);stroke-opacity:1;stroke-miterlimit:10;\" d=\"M 255.132812 60.527344 L 246.769531 73.328125 \"/>\n",
       "<path style=\"fill:none;stroke-width:1;stroke-linecap:butt;stroke-linejoin:miter;stroke:rgb(26.666667%,26.666667%,26.666667%);stroke-opacity:1;stroke-miterlimit:10;\" d=\"M 257.160156 471.757812 L 271.800781 396.507812 \"/>\n",
       "<path style=\"fill:none;stroke-width:1;stroke-linecap:butt;stroke-linejoin:miter;stroke:rgb(26.666667%,26.666667%,26.666667%);stroke-opacity:1;stroke-miterlimit:10;\" d=\"M 257.160156 471.757812 L 247.625 420.898438 \"/>\n",
       "<path style=\"fill:none;stroke-width:1;stroke-linecap:butt;stroke-linejoin:miter;stroke:rgb(26.666667%,26.666667%,26.666667%);stroke-opacity:1;stroke-miterlimit:10;\" d=\"M 257.125 443.425781 L 247.625 420.898438 \"/>\n",
       "<path style=\"fill:none;stroke-width:1;stroke-linecap:butt;stroke-linejoin:miter;stroke:rgb(26.666667%,26.666667%,26.666667%);stroke-opacity:1;stroke-miterlimit:10;\" d=\"M 247.625 420.898438 L 249.925781 379.097656 \"/>\n",
       "<path style=\"fill:none;stroke-width:1;stroke-linecap:butt;stroke-linejoin:miter;stroke:rgb(26.666667%,26.666667%,26.666667%);stroke-opacity:1;stroke-miterlimit:10;\" d=\"M 229.253906 51.078125 L 242.558594 39.953125 \"/>\n",
       "<path style=\"fill:none;stroke-width:1;stroke-linecap:butt;stroke-linejoin:miter;stroke:rgb(26.666667%,26.666667%,26.666667%);stroke-opacity:1;stroke-miterlimit:10;\" d=\"M 273.15625 27.519531 L 232.886719 60.136719 \"/>\n",
       "<path style=\"fill:none;stroke-width:1;stroke-linecap:butt;stroke-linejoin:miter;stroke:rgb(26.666667%,26.666667%,26.666667%);stroke-opacity:1;stroke-miterlimit:10;\" d=\"M 246.769531 73.328125 L 232.886719 60.136719 \"/>\n",
       "<path style=\"fill:none;stroke-width:1;stroke-linecap:butt;stroke-linejoin:miter;stroke:rgb(26.666667%,26.666667%,26.666667%);stroke-opacity:1;stroke-miterlimit:10;\" d=\"M 242.558594 39.953125 L 232.886719 60.136719 \"/>\n",
       "<path style=\"fill:none;stroke-width:1;stroke-linecap:butt;stroke-linejoin:miter;stroke:rgb(26.666667%,26.666667%,26.666667%);stroke-opacity:1;stroke-miterlimit:10;\" d=\"M 230.503906 402.613281 L 233.449219 414.121094 \"/>\n",
       "<path style=\"fill:none;stroke-width:1;stroke-linecap:butt;stroke-linejoin:miter;stroke:rgb(26.666667%,26.666667%,26.666667%);stroke-opacity:1;stroke-miterlimit:10;\" d=\"M 249.925781 379.097656 L 239.324219 375.742188 \"/>\n",
       "<path style=\"fill:none;stroke-width:1;stroke-linecap:butt;stroke-linejoin:miter;stroke:rgb(26.666667%,26.666667%,26.666667%);stroke-opacity:1;stroke-miterlimit:10;\" d=\"M 230.503906 402.613281 L 239.324219 375.742188 \"/>\n",
       "<path style=\"fill:none;stroke-width:1;stroke-linecap:butt;stroke-linejoin:miter;stroke:rgb(26.666667%,26.666667%,26.666667%);stroke-opacity:1;stroke-miterlimit:10;\" d=\"M 230.503906 402.613281 L 219.230469 389.539062 \"/>\n",
       "<path style=\"fill:none;stroke-width:1;stroke-linecap:butt;stroke-linejoin:miter;stroke:rgb(26.666667%,26.666667%,26.666667%);stroke-opacity:1;stroke-miterlimit:10;\" d=\"M 219.230469 389.539062 L 232.605469 357.628906 \"/>\n",
       "<path style=\"fill:none;stroke-width:1;stroke-linecap:butt;stroke-linejoin:miter;stroke:rgb(26.666667%,26.666667%,26.666667%);stroke-opacity:1;stroke-miterlimit:10;\" d=\"M 211.304688 20 L 222.964844 54.875 \"/>\n",
       "<path style=\"fill:none;stroke-width:1;stroke-linecap:butt;stroke-linejoin:miter;stroke:rgb(26.666667%,26.666667%,26.666667%);stroke-opacity:1;stroke-miterlimit:10;\" d=\"M 232.605469 357.628906 L 218.730469 348.347656 \"/>\n",
       "<path style=\"fill:none;stroke-width:1;stroke-linecap:butt;stroke-linejoin:miter;stroke:rgb(26.666667%,26.666667%,26.666667%);stroke-opacity:1;stroke-miterlimit:10;\" d=\"M 218.730469 348.347656 L 223.207031 324.976562 \"/>\n",
       "<path style=\"fill:none;stroke-width:1;stroke-linecap:butt;stroke-linejoin:miter;stroke:rgb(26.666667%,26.666667%,26.666667%);stroke-opacity:1;stroke-miterlimit:10;\" d=\"M 249.925781 379.097656 L 236.324219 336.632812 \"/>\n",
       "<path style=\"fill:none;stroke-width:1;stroke-linecap:butt;stroke-linejoin:miter;stroke:rgb(26.666667%,26.666667%,26.666667%);stroke-opacity:1;stroke-miterlimit:10;\" d=\"M 230.292969 373.011719 L 236.324219 336.632812 \"/>\n",
       "<path style=\"fill:none;stroke-width:1;stroke-linecap:butt;stroke-linejoin:miter;stroke:rgb(26.666667%,26.666667%,26.666667%);stroke-opacity:1;stroke-miterlimit:10;\" d=\"M 211.304688 20 L 204.714844 36.796875 \"/>\n",
       "<path style=\"fill:none;stroke-width:1;stroke-linecap:butt;stroke-linejoin:miter;stroke:rgb(26.666667%,26.666667%,26.666667%);stroke-opacity:1;stroke-miterlimit:10;\" d=\"M 223.207031 324.976562 L 222.289062 313.574219 \"/>\n",
       "<path style=\"fill:none;stroke-width:1;stroke-linecap:butt;stroke-linejoin:miter;stroke:rgb(26.666667%,26.666667%,26.666667%);stroke-opacity:1;stroke-miterlimit:10;\" d=\"M 222.289062 313.574219 L 223.027344 273.777344 \"/>\n",
       "<path style=\"fill:none;stroke-width:1;stroke-linecap:butt;stroke-linejoin:miter;stroke:rgb(26.666667%,26.666667%,26.666667%);stroke-opacity:1;stroke-miterlimit:10;\" d=\"M 211.914062 292.101562 L 205.386719 285.640625 \"/>\n",
       "<path style=\"fill:none;stroke-width:1;stroke-linecap:butt;stroke-linejoin:miter;stroke:rgb(26.666667%,26.666667%,26.666667%);stroke-opacity:1;stroke-miterlimit:10;\" d=\"M 223.027344 273.777344 L 224.796875 225.539062 \"/>\n",
       "<path style=\"fill:none;stroke-width:1;stroke-linecap:butt;stroke-linejoin:miter;stroke:rgb(26.666667%,26.666667%,26.666667%);stroke-opacity:1;stroke-miterlimit:10;\" d=\"M 211.914062 292.101562 L 218.058594 261.015625 \"/>\n",
       "<path style=\"fill:none;stroke-width:1;stroke-linecap:butt;stroke-linejoin:miter;stroke:rgb(26.666667%,26.666667%,26.666667%);stroke-opacity:1;stroke-miterlimit:10;\" d=\"M 218.058594 261.015625 L 202.09375 244.023438 \"/>\n",
       "<path style=\"fill:none;stroke-width:1;stroke-linecap:butt;stroke-linejoin:miter;stroke:rgb(26.666667%,26.666667%,26.666667%);stroke-opacity:1;stroke-miterlimit:10;\" d=\"M 224.796875 225.539062 L 208.617188 231.820312 \"/>\n",
       "<path style=\"fill:none;stroke-width:1;stroke-linecap:butt;stroke-linejoin:miter;stroke:rgb(26.666667%,26.666667%,26.666667%);stroke-opacity:1;stroke-miterlimit:10;\" d=\"M 202.09375 244.023438 L 208.617188 231.820312 \"/>\n",
       "<path style=\"fill:none;stroke-width:1;stroke-linecap:butt;stroke-linejoin:miter;stroke:rgb(26.666667%,26.666667%,26.666667%);stroke-opacity:1;stroke-miterlimit:10;\" d=\"M 202.09375 244.023438 L 197.296875 218.621094 \"/>\n",
       "<path style=\"fill:none;stroke-width:1;stroke-linecap:butt;stroke-linejoin:miter;stroke:rgb(26.666667%,26.666667%,26.666667%);stroke-opacity:1;stroke-miterlimit:10;\" d=\"M 197.296875 218.621094 L 202.75 210.816406 \"/>\n",
       "<path style=\"fill:none;stroke-width:1;stroke-linecap:butt;stroke-linejoin:miter;stroke:rgb(26.666667%,26.666667%,26.666667%);stroke-opacity:1;stroke-miterlimit:10;\" d=\"M 232.886719 60.136719 L 200.484375 55.257812 \"/>\n",
       "<path style=\"fill:none;stroke-width:1;stroke-linecap:butt;stroke-linejoin:miter;stroke:rgb(26.666667%,26.666667%,26.666667%);stroke-opacity:1;stroke-miterlimit:10;\" d=\"M 205.492188 78.363281 L 204.6875 51.246094 \"/>\n",
       "<path style=\"fill:none;stroke-width:1;stroke-linecap:butt;stroke-linejoin:miter;stroke:rgb(26.666667%,26.666667%,26.666667%);stroke-opacity:1;stroke-miterlimit:10;\" d=\"M 222.964844 54.875 L 190.371094 20.078125 \"/>\n",
       "<path style=\"fill:none;stroke-width:1;stroke-linecap:butt;stroke-linejoin:miter;stroke:rgb(26.666667%,26.666667%,26.666667%);stroke-opacity:1;stroke-miterlimit:10;\" d=\"M 204.6875 51.246094 L 190.371094 20.078125 \"/>\n",
       "<path style=\"fill:none;stroke-width:1;stroke-linecap:butt;stroke-linejoin:miter;stroke:rgb(26.666667%,26.666667%,26.666667%);stroke-opacity:1;stroke-miterlimit:10;\" d=\"M 202.75 210.816406 L 183.371094 83.257812 \"/>\n",
       "<path style=\"fill:none;stroke-width:1;stroke-linecap:butt;stroke-linejoin:miter;stroke:rgb(26.666667%,26.666667%,26.666667%);stroke-opacity:1;stroke-miterlimit:10;\" d=\"M 204.6875 51.246094 L 183.371094 83.257812 \"/>\n",
       "<path style=\"fill:none;stroke-width:1;stroke-linecap:butt;stroke-linejoin:miter;stroke:rgb(26.666667%,26.666667%,26.666667%);stroke-opacity:1;stroke-miterlimit:10;\" d=\"M 190.371094 20.078125 L 178.53125 26.871094 \"/>\n",
       "<path style=\"fill:none;stroke-width:1;stroke-linecap:butt;stroke-linejoin:miter;stroke:rgb(26.666667%,26.666667%,26.666667%);stroke-opacity:1;stroke-miterlimit:10;\" d=\"M 190.371094 20.078125 L 165.035156 38.9375 \"/>\n",
       "<path style=\"fill:none;stroke-width:1;stroke-linecap:butt;stroke-linejoin:miter;stroke:rgb(26.666667%,26.666667%,26.666667%);stroke-opacity:1;stroke-miterlimit:10;\" d=\"M 200.484375 55.257812 L 171.375 43.539062 \"/>\n",
       "<path style=\"fill:none;stroke-width:1;stroke-linecap:butt;stroke-linejoin:miter;stroke:rgb(26.666667%,26.666667%,26.666667%);stroke-opacity:1;stroke-miterlimit:10;\" d=\"M 178.53125 26.871094 L 171.375 43.539062 \"/>\n",
       "<path style=\"fill:none;stroke-width:1;stroke-linecap:butt;stroke-linejoin:miter;stroke:rgb(26.666667%,26.666667%,26.666667%);stroke-opacity:1;stroke-miterlimit:10;\" d=\"M 183.371094 83.257812 L 150.941406 67.375 \"/>\n",
       "<path style=\"fill:none;stroke-width:1;stroke-linecap:butt;stroke-linejoin:miter;stroke:rgb(26.666667%,26.666667%,26.666667%);stroke-opacity:1;stroke-miterlimit:10;\" d=\"M 165.660156 62.441406 L 155.59375 51.96875 \"/>\n",
       "<path style=\"fill:none;stroke-width:1;stroke-linecap:butt;stroke-linejoin:miter;stroke:rgb(26.666667%,26.666667%,26.666667%);stroke-opacity:1;stroke-miterlimit:10;\" d=\"M 165.035156 38.9375 L 140.957031 57.664062 \"/>\n",
       "<path style=\"fill:none;stroke-width:1;stroke-linecap:butt;stroke-linejoin:miter;stroke:rgb(26.666667%,26.666667%,26.666667%);stroke-opacity:1;stroke-miterlimit:10;\" d=\"M 158.75 74.8125 L 140.957031 57.664062 \"/>\n",
       "<path style=\"fill:none;stroke-width:1;stroke-linecap:butt;stroke-linejoin:miter;stroke:rgb(26.666667%,26.666667%,26.666667%);stroke-opacity:1;stroke-miterlimit:10;\" d=\"M 155.59375 51.96875 L 137.167969 51.289062 \"/>\n",
       "<path style=\"fill:none;stroke-width:1;stroke-linecap:butt;stroke-linejoin:miter;stroke:rgb(26.666667%,26.666667%,26.666667%);stroke-opacity:1;stroke-miterlimit:10;\" d=\"M 140.957031 57.664062 L 125.261719 78.421875 \"/>\n",
       "<path style=\"fill:none;stroke-width:1;stroke-linecap:butt;stroke-linejoin:miter;stroke:rgb(26.666667%,26.666667%,26.666667%);stroke-opacity:1;stroke-miterlimit:10;\" d=\"M 137.019531 61.421875 L 137.410156 98.273438 \"/>\n",
       "<path style=\"fill:none;stroke-width:1;stroke-linecap:butt;stroke-linejoin:miter;stroke:rgb(26.666667%,26.666667%,26.666667%);stroke-opacity:1;stroke-miterlimit:10;\" d=\"M 137.167969 51.289062 L 137.410156 98.273438 \"/>\n",
       "<path style=\"fill:none;stroke-width:1;stroke-linecap:butt;stroke-linejoin:miter;stroke:rgb(26.666667%,26.666667%,26.666667%);stroke-opacity:1;stroke-miterlimit:10;\" d=\"M 125.261719 78.421875 L 137.410156 98.273438 \"/>\n",
       "<path style=\"fill:none;stroke-width:1;stroke-linecap:butt;stroke-linejoin:miter;stroke:rgb(26.666667%,26.666667%,26.666667%);stroke-opacity:1;stroke-miterlimit:10;\" d=\"M 140.957031 57.664062 L 126.785156 66.632812 \"/>\n",
       "<path style=\"fill:none;stroke-width:1;stroke-linecap:butt;stroke-linejoin:miter;stroke:rgb(26.666667%,26.666667%,26.666667%);stroke-opacity:1;stroke-miterlimit:10;\" d=\"M 127.675781 94.558594 L 110.339844 101.683594 \"/>\n",
       "<path style=\"fill:none;stroke-width:1;stroke-linecap:butt;stroke-linejoin:miter;stroke:rgb(26.666667%,26.666667%,26.666667%);stroke-opacity:1;stroke-miterlimit:10;\" d=\"M 125.261719 78.421875 L 110.339844 101.683594 \"/>\n",
       "<path style=\"fill:none;stroke-width:1;stroke-linecap:butt;stroke-linejoin:miter;stroke:rgb(26.666667%,26.666667%,26.666667%);stroke-opacity:1;stroke-miterlimit:10;\" d=\"M 127.675781 94.558594 L 125.175781 91.855469 \"/>\n",
       "<path style=\"fill:none;stroke-width:1;stroke-linecap:butt;stroke-linejoin:miter;stroke:rgb(26.666667%,26.666667%,26.666667%);stroke-opacity:1;stroke-miterlimit:10;\" d=\"M 110.339844 101.683594 L 98.117188 122.246094 \"/>\n",
       "<path style=\"fill:none;stroke-width:1;stroke-linecap:butt;stroke-linejoin:miter;stroke:rgb(26.666667%,26.666667%,26.666667%);stroke-opacity:1;stroke-miterlimit:10;\" d=\"M 98.117188 122.246094 L 86.929688 111.6875 \"/>\n",
       "<path style=\"fill:none;stroke-width:1;stroke-linecap:butt;stroke-linejoin:miter;stroke:rgb(26.666667%,26.666667%,26.666667%);stroke-opacity:1;stroke-miterlimit:10;\" d=\"M 86.929688 111.6875 L 97.089844 127.457031 \"/>\n",
       "<path style=\"fill:none;stroke-width:1;stroke-linecap:butt;stroke-linejoin:miter;stroke:rgb(26.666667%,26.666667%,26.666667%);stroke-opacity:1;stroke-miterlimit:10;\" d=\"M 86.929688 111.6875 L 100.644531 129.753906 \"/>\n",
       "<path style=\"fill:none;stroke-width:1;stroke-linecap:butt;stroke-linejoin:miter;stroke:rgb(26.666667%,26.666667%,26.666667%);stroke-opacity:1;stroke-miterlimit:10;\" d=\"M 100.644531 129.753906 L 83.6875 128.398438 \"/>\n",
       "<path style=\"fill:none;stroke-width:1;stroke-linecap:butt;stroke-linejoin:miter;stroke:rgb(26.666667%,26.666667%,26.666667%);stroke-opacity:1;stroke-miterlimit:10;\" d=\"M 110.339844 101.683594 L 78.992188 135.765625 \"/>\n",
       "<path style=\"fill:none;stroke-width:1;stroke-linecap:butt;stroke-linejoin:miter;stroke:rgb(26.666667%,26.666667%,26.666667%);stroke-opacity:1;stroke-miterlimit:10;\" d=\"M 83.6875 128.398438 L 82.71875 153.265625 \"/>\n",
       "<path style=\"fill:none;stroke-width:1;stroke-linecap:butt;stroke-linejoin:miter;stroke:rgb(26.666667%,26.666667%,26.666667%);stroke-opacity:1;stroke-miterlimit:10;\" d=\"M 82.71875 153.265625 L 69.230469 160.960938 \"/>\n",
       "<path style=\"fill:none;stroke-width:1;stroke-linecap:butt;stroke-linejoin:miter;stroke:rgb(26.666667%,26.666667%,26.666667%);stroke-opacity:1;stroke-miterlimit:10;\" d=\"M 69.230469 160.960938 L 69.921875 187.445312 \"/>\n",
       "<path style=\"fill:none;stroke-width:1;stroke-linecap:butt;stroke-linejoin:miter;stroke:rgb(26.666667%,26.666667%,26.666667%);stroke-opacity:1;stroke-miterlimit:10;\" d=\"M 65.34375 175.414062 L 68.945312 185.402344 \"/>\n",
       "<path style=\"fill:none;stroke-width:1;stroke-linecap:butt;stroke-linejoin:miter;stroke:rgb(26.666667%,26.666667%,26.666667%);stroke-opacity:1;stroke-miterlimit:10;\" d=\"M 69.230469 160.960938 L 68.945312 185.402344 \"/>\n",
       "<path style=\"fill:none;stroke-width:1;stroke-linecap:butt;stroke-linejoin:miter;stroke:rgb(26.666667%,26.666667%,26.666667%);stroke-opacity:1;stroke-miterlimit:10;\" d=\"M 69.921875 187.445312 L 59.949219 214.554688 \"/>\n",
       "<path style=\"fill:none;stroke-width:1;stroke-linecap:butt;stroke-linejoin:miter;stroke:rgb(26.666667%,26.666667%,26.666667%);stroke-opacity:1;stroke-miterlimit:10;\" d=\"M 59.949219 214.554688 L 57.199219 232.699219 \"/>\n",
       "<path style=\"fill:none;stroke-width:1;stroke-linecap:butt;stroke-linejoin:miter;stroke:rgb(26.666667%,26.666667%,26.666667%);stroke-opacity:1;stroke-miterlimit:10;\" d=\"M 59.949219 214.554688 L 51.007812 236.902344 \"/>\n",
       "<path style=\"fill:none;stroke-width:1;stroke-linecap:butt;stroke-linejoin:miter;stroke:rgb(26.666667%,26.666667%,26.666667%);stroke-opacity:1;stroke-miterlimit:10;\" d=\"M 57.199219 232.699219 L 59.066406 223.109375 \"/>\n",
       "<path style=\"fill:none;stroke-width:1;stroke-linecap:butt;stroke-linejoin:miter;stroke:rgb(26.666667%,26.666667%,26.666667%);stroke-opacity:1;stroke-miterlimit:10;\" d=\"M 57.199219 232.699219 L 35.574219 273.84375 \"/>\n",
       "<path style=\"fill:none;stroke-width:1;stroke-linecap:butt;stroke-linejoin:miter;stroke:rgb(26.666667%,26.666667%,26.666667%);stroke-opacity:1;stroke-miterlimit:10;\" d=\"M 51.007812 236.902344 L 44.316406 261.378906 \"/>\n",
       "<path style=\"fill:none;stroke-width:1;stroke-linecap:butt;stroke-linejoin:miter;stroke:rgb(26.666667%,26.666667%,26.666667%);stroke-opacity:1;stroke-miterlimit:10;\" d=\"M 47.523438 245.773438 L 44.316406 261.378906 \"/>\n",
       "<path style=\"fill:none;stroke-width:1;stroke-linecap:butt;stroke-linejoin:miter;stroke:rgb(26.666667%,26.666667%,26.666667%);stroke-opacity:1;stroke-miterlimit:10;\" d=\"M 59.066406 223.109375 L 49.171875 258.261719 \"/>\n",
       "<path style=\"fill:none;stroke-width:1;stroke-linecap:butt;stroke-linejoin:miter;stroke:rgb(26.666667%,26.666667%,26.666667%);stroke-opacity:1;stroke-miterlimit:10;\" d=\"M 33.660156 281.503906 L 20.96875 299.996094 \"/>\n",
       "<path style=\"fill:none;stroke-width:1;stroke-linecap:butt;stroke-linejoin:miter;stroke:rgb(26.666667%,26.666667%,26.666667%);stroke-opacity:1;stroke-miterlimit:10;\" d=\"M 49.171875 258.261719 L 54.902344 274.578125 \"/>\n",
       "<path style=\"fill:none;stroke-width:1;stroke-linecap:butt;stroke-linejoin:miter;stroke:rgb(26.666667%,26.666667%,26.666667%);stroke-opacity:1;stroke-miterlimit:10;\" d=\"M 33.660156 281.503906 L 49.378906 310.460938 \"/>\n",
       "<path style=\"fill:none;stroke-width:1;stroke-linecap:butt;stroke-linejoin:miter;stroke:rgb(26.666667%,26.666667%,26.666667%);stroke-opacity:1;stroke-miterlimit:10;\" d=\"M 54.902344 274.578125 L 49.378906 310.460938 \"/>\n",
       "<path style=\"fill:none;stroke-width:1;stroke-linecap:butt;stroke-linejoin:miter;stroke:rgb(26.666667%,26.666667%,26.666667%);stroke-opacity:1;stroke-miterlimit:10;\" d=\"M 30.285156 318.960938 L 24.980469 343.792969 \"/>\n",
       "<path style=\"fill:none;stroke-width:1;stroke-linecap:butt;stroke-linejoin:miter;stroke:rgb(26.666667%,26.666667%,26.666667%);stroke-opacity:1;stroke-miterlimit:10;\" d=\"M 24.980469 343.792969 L 45.800781 342.839844 \"/>\n",
       "<path style=\"fill:none;stroke-width:1;stroke-linecap:butt;stroke-linejoin:miter;stroke:rgb(26.666667%,26.666667%,26.666667%);stroke-opacity:1;stroke-miterlimit:10;\" d=\"M 30.285156 318.960938 L 25.183594 355.285156 \"/>\n",
       "<path style=\"fill:none;stroke-width:1;stroke-linecap:butt;stroke-linejoin:miter;stroke:rgb(26.666667%,26.666667%,26.666667%);stroke-opacity:1;stroke-miterlimit:10;\" d=\"M 20.96875 299.996094 L 28.9375 341.449219 \"/>\n",
       "<path style=\"fill:none;stroke-width:1;stroke-linecap:butt;stroke-linejoin:miter;stroke:rgb(26.666667%,26.666667%,26.666667%);stroke-opacity:1;stroke-miterlimit:10;\" d=\"M 30.285156 318.960938 L 28.9375 341.449219 \"/>\n",
       "<path style=\"fill:none;stroke-width:1;stroke-linecap:butt;stroke-linejoin:miter;stroke:rgb(26.666667%,26.666667%,26.666667%);stroke-opacity:1;stroke-miterlimit:10;\" d=\"M 24.980469 343.792969 L 20 380.976562 \"/>\n",
       "<path style=\"fill:none;stroke-width:1;stroke-linecap:butt;stroke-linejoin:miter;stroke:rgb(26.666667%,26.666667%,26.666667%);stroke-opacity:1;stroke-miterlimit:10;\" d=\"M 20 380.976562 L 21.070312 360.265625 \"/>\n",
       "<path style=\"fill-rule:nonzero;fill:rgb(67.843137%,84.705882%,90.196078%);fill-opacity:1;stroke-width:1;stroke-linecap:butt;stroke-linejoin:miter;stroke:rgb(0%,0%,0%);stroke-opacity:1;stroke-miterlimit:10;\" d=\"M 581.941406 210.335938 C 581.941406 215.859375 577.460938 220.335938 571.941406 220.335938 C 566.417969 220.335938 561.941406 215.859375 561.941406 210.335938 C 561.941406 204.8125 566.417969 200.335938 571.941406 200.335938 C 577.460938 200.335938 581.941406 204.8125 581.941406 210.335938 \"/>\n",
       "<path style=\"fill-rule:nonzero;fill:rgb(67.843137%,84.705882%,90.196078%);fill-opacity:1;stroke-width:1;stroke-linecap:butt;stroke-linejoin:miter;stroke:rgb(0%,0%,0%);stroke-opacity:1;stroke-miterlimit:10;\" d=\"M 586.363281 217.023438 C 586.363281 222.542969 581.886719 227.023438 576.363281 227.023438 C 570.839844 227.023438 566.363281 222.542969 566.363281 217.023438 C 566.363281 211.5 570.839844 207.023438 576.363281 207.023438 C 581.886719 207.023438 586.363281 211.5 586.363281 217.023438 \"/>\n",
       "<path style=\"fill-rule:nonzero;fill:rgb(67.843137%,84.705882%,90.196078%);fill-opacity:1;stroke-width:1;stroke-linecap:butt;stroke-linejoin:miter;stroke:rgb(0%,0%,0%);stroke-opacity:1;stroke-miterlimit:10;\" d=\"M 582.167969 230.523438 C 582.167969 236.046875 577.6875 240.523438 572.167969 240.523438 C 566.644531 240.523438 562.167969 236.046875 562.167969 230.523438 C 562.167969 225 566.644531 220.523438 572.167969 220.523438 C 577.6875 220.523438 582.167969 225 582.167969 230.523438 \"/>\n",
       "<path style=\"fill-rule:nonzero;fill:rgb(67.843137%,84.705882%,90.196078%);fill-opacity:1;stroke-width:1;stroke-linecap:butt;stroke-linejoin:miter;stroke:rgb(0%,0%,0%);stroke-opacity:1;stroke-miterlimit:10;\" d=\"M 582.566406 257.714844 C 582.566406 263.238281 578.089844 267.714844 572.566406 267.714844 C 567.042969 267.714844 562.566406 263.238281 562.566406 257.714844 C 562.566406 252.191406 567.042969 247.714844 572.566406 247.714844 C 578.089844 247.714844 582.566406 252.191406 582.566406 257.714844 \"/>\n",
       "<path style=\"fill-rule:nonzero;fill:rgb(67.843137%,84.705882%,90.196078%);fill-opacity:1;stroke-width:1;stroke-linecap:butt;stroke-linejoin:miter;stroke:rgb(0%,0%,0%);stroke-opacity:1;stroke-miterlimit:10;\" d=\"M 583.253906 257.480469 C 583.253906 263.003906 578.777344 267.480469 573.253906 267.480469 C 567.730469 267.480469 563.253906 263.003906 563.253906 257.480469 C 563.253906 251.957031 567.730469 247.480469 573.253906 247.480469 C 578.777344 247.480469 583.253906 251.957031 583.253906 257.480469 \"/>\n",
       "<path style=\"fill-rule:nonzero;fill:rgb(67.843137%,84.705882%,90.196078%);fill-opacity:1;stroke-width:1;stroke-linecap:butt;stroke-linejoin:miter;stroke:rgb(0%,0%,0%);stroke-opacity:1;stroke-miterlimit:10;\" d=\"M 560.597656 222.605469 C 560.597656 228.128906 556.121094 232.605469 550.597656 232.605469 C 545.074219 232.605469 540.597656 228.128906 540.597656 222.605469 C 540.597656 217.082031 545.074219 212.605469 550.597656 212.605469 C 556.121094 212.605469 560.597656 217.082031 560.597656 222.605469 \"/>\n",
       "<path style=\"fill-rule:nonzero;fill:rgb(67.843137%,84.705882%,90.196078%);fill-opacity:1;stroke-width:1;stroke-linecap:butt;stroke-linejoin:miter;stroke:rgb(0%,0%,0%);stroke-opacity:1;stroke-miterlimit:10;\" d=\"M 581.890625 290.601562 C 581.890625 296.125 577.414062 300.601562 571.890625 300.601562 C 566.367188 300.601562 561.890625 296.125 561.890625 290.601562 C 561.890625 285.078125 566.367188 280.601562 571.890625 280.601562 C 577.414062 280.601562 581.890625 285.078125 581.890625 290.601562 \"/>\n",
       "<path style=\"fill-rule:nonzero;fill:rgb(67.843137%,84.705882%,90.196078%);fill-opacity:1;stroke-width:1;stroke-linecap:butt;stroke-linejoin:miter;stroke:rgb(0%,0%,0%);stroke-opacity:1;stroke-miterlimit:10;\" d=\"M 558.8125 323.230469 C 558.8125 328.753906 554.335938 333.230469 548.8125 333.230469 C 543.289062 333.230469 538.8125 328.753906 538.8125 323.230469 C 538.8125 317.707031 543.289062 313.230469 548.8125 313.230469 C 554.335938 313.230469 558.8125 317.707031 558.8125 323.230469 \"/>\n",
       "<path style=\"fill-rule:nonzero;fill:rgb(67.843137%,84.705882%,90.196078%);fill-opacity:1;stroke-width:1;stroke-linecap:butt;stroke-linejoin:miter;stroke:rgb(0%,0%,0%);stroke-opacity:1;stroke-miterlimit:10;\" d=\"M 590 314.457031 C 590 319.980469 585.523438 324.457031 580 324.457031 C 574.476562 324.457031 570 319.980469 570 314.457031 C 570 308.9375 574.476562 304.457031 580 304.457031 C 585.523438 304.457031 590 308.9375 590 314.457031 \"/>\n",
       "<path style=\"fill-rule:nonzero;fill:rgb(67.843137%,84.705882%,90.196078%);fill-opacity:1;stroke-width:1;stroke-linecap:butt;stroke-linejoin:miter;stroke:rgb(0%,0%,0%);stroke-opacity:1;stroke-miterlimit:10;\" d=\"M 581.683594 319.238281 C 581.683594 324.761719 577.207031 329.238281 571.683594 329.238281 C 566.160156 329.238281 561.683594 324.761719 561.683594 319.238281 C 561.683594 313.714844 566.160156 309.238281 571.683594 309.238281 C 577.207031 309.238281 581.683594 313.714844 581.683594 319.238281 \"/>\n",
       "<path style=\"fill-rule:nonzero;fill:rgb(67.843137%,84.705882%,90.196078%);fill-opacity:1;stroke-width:1;stroke-linecap:butt;stroke-linejoin:miter;stroke:rgb(0%,0%,0%);stroke-opacity:1;stroke-miterlimit:10;\" d=\"M 580.945312 281.449219 C 580.945312 286.972656 576.46875 291.449219 570.945312 291.449219 C 565.421875 291.449219 560.945312 286.972656 560.945312 281.449219 C 560.945312 275.929688 565.421875 271.449219 570.945312 271.449219 C 576.46875 271.449219 580.945312 275.929688 580.945312 281.449219 \"/>\n",
       "<path style=\"fill-rule:nonzero;fill:rgb(67.843137%,84.705882%,90.196078%);fill-opacity:1;stroke-width:1;stroke-linecap:butt;stroke-linejoin:miter;stroke:rgb(0%,0%,0%);stroke-opacity:1;stroke-miterlimit:10;\" d=\"M 560.242188 336.855469 C 560.242188 342.378906 555.765625 346.855469 550.242188 346.855469 C 544.71875 346.855469 540.242188 342.378906 540.242188 336.855469 C 540.242188 331.332031 544.71875 326.855469 550.242188 326.855469 C 555.765625 326.855469 560.242188 331.332031 560.242188 336.855469 \"/>\n",
       "<path style=\"fill-rule:nonzero;fill:rgb(67.843137%,84.705882%,90.196078%);fill-opacity:1;stroke-width:1;stroke-linecap:butt;stroke-linejoin:miter;stroke:rgb(0%,0%,0%);stroke-opacity:1;stroke-miterlimit:10;\" d=\"M 559.152344 325.546875 C 559.152344 331.070312 554.675781 335.546875 549.152344 335.546875 C 543.628906 335.546875 539.152344 331.070312 539.152344 325.546875 C 539.152344 320.023438 543.628906 315.546875 549.152344 315.546875 C 554.675781 315.546875 559.152344 320.023438 559.152344 325.546875 \"/>\n",
       "<path style=\"fill-rule:nonzero;fill:rgb(67.843137%,84.705882%,90.196078%);fill-opacity:1;stroke-width:1;stroke-linecap:butt;stroke-linejoin:miter;stroke:rgb(0%,0%,0%);stroke-opacity:1;stroke-miterlimit:10;\" d=\"M 563.8125 349.65625 C 563.8125 355.179688 559.335938 359.65625 553.8125 359.65625 C 548.289062 359.65625 543.8125 355.179688 543.8125 349.65625 C 543.8125 344.136719 548.289062 339.65625 553.8125 339.65625 C 559.335938 339.65625 563.8125 344.136719 563.8125 349.65625 \"/>\n",
       "<path style=\"fill-rule:nonzero;fill:rgb(67.843137%,84.705882%,90.196078%);fill-opacity:1;stroke-width:1;stroke-linecap:butt;stroke-linejoin:miter;stroke:rgb(0%,0%,0%);stroke-opacity:1;stroke-miterlimit:10;\" d=\"M 576.621094 368.96875 C 576.621094 374.492188 572.144531 378.96875 566.621094 378.96875 C 561.097656 378.96875 556.621094 374.492188 556.621094 368.96875 C 556.621094 363.445312 561.097656 358.96875 566.621094 358.96875 C 572.144531 358.96875 576.621094 363.445312 576.621094 368.96875 \"/>\n",
       "<path style=\"fill-rule:nonzero;fill:rgb(67.843137%,84.705882%,90.196078%);fill-opacity:1;stroke-width:1;stroke-linecap:butt;stroke-linejoin:miter;stroke:rgb(0%,0%,0%);stroke-opacity:1;stroke-miterlimit:10;\" d=\"M 558.382812 378.066406 C 558.382812 383.589844 553.90625 388.066406 548.382812 388.066406 C 542.859375 388.066406 538.382812 383.589844 538.382812 378.066406 C 538.382812 372.542969 542.859375 368.066406 548.382812 368.066406 C 553.90625 368.066406 558.382812 372.542969 558.382812 378.066406 \"/>\n",
       "<path style=\"fill-rule:nonzero;fill:rgb(67.843137%,84.705882%,90.196078%);fill-opacity:1;stroke-width:1;stroke-linecap:butt;stroke-linejoin:miter;stroke:rgb(0%,0%,0%);stroke-opacity:1;stroke-miterlimit:10;\" d=\"M 577.90625 371.859375 C 577.90625 377.382812 573.429688 381.859375 567.90625 381.859375 C 562.382812 381.859375 557.90625 377.382812 557.90625 371.859375 C 557.90625 366.335938 562.382812 361.859375 567.90625 361.859375 C 573.429688 361.859375 577.90625 366.335938 577.90625 371.859375 \"/>\n",
       "<path style=\"fill-rule:nonzero;fill:rgb(67.843137%,84.705882%,90.196078%);fill-opacity:1;stroke-width:1;stroke-linecap:butt;stroke-linejoin:miter;stroke:rgb(0%,0%,0%);stroke-opacity:1;stroke-miterlimit:10;\" d=\"M 558.648438 385.167969 C 558.648438 390.691406 554.171875 395.167969 548.648438 395.167969 C 543.125 395.167969 538.648438 390.691406 538.648438 385.167969 C 538.648438 379.644531 543.125 375.167969 548.648438 375.167969 C 554.171875 375.167969 558.648438 379.644531 558.648438 385.167969 \"/>\n",
       "<path style=\"fill-rule:nonzero;fill:rgb(67.843137%,84.705882%,90.196078%);fill-opacity:1;stroke-width:1;stroke-linecap:butt;stroke-linejoin:miter;stroke:rgb(0%,0%,0%);stroke-opacity:1;stroke-miterlimit:10;\" d=\"M 549.484375 399.226562 C 549.484375 404.75 545.007812 409.226562 539.484375 409.226562 C 533.960938 409.226562 529.484375 404.75 529.484375 399.226562 C 529.484375 393.703125 533.960938 389.226562 539.484375 389.226562 C 545.007812 389.226562 549.484375 393.703125 549.484375 399.226562 \"/>\n",
       "<path style=\"fill-rule:nonzero;fill:rgb(67.843137%,84.705882%,90.196078%);fill-opacity:1;stroke-width:1;stroke-linecap:butt;stroke-linejoin:miter;stroke:rgb(0%,0%,0%);stroke-opacity:1;stroke-miterlimit:10;\" d=\"M 558.179688 423.703125 C 558.179688 429.226562 553.699219 433.703125 548.179688 433.703125 C 542.65625 433.703125 538.179688 429.226562 538.179688 423.703125 C 538.179688 418.179688 542.65625 413.703125 548.179688 413.703125 C 553.699219 413.703125 558.179688 418.179688 558.179688 423.703125 \"/>\n",
       "<path style=\"fill-rule:nonzero;fill:rgb(67.843137%,84.705882%,90.196078%);fill-opacity:1;stroke-width:1;stroke-linecap:butt;stroke-linejoin:miter;stroke:rgb(0%,0%,0%);stroke-opacity:1;stroke-miterlimit:10;\" d=\"M 536.726562 438.328125 C 536.726562 443.851562 532.25 448.328125 526.726562 448.328125 C 521.203125 448.328125 516.726562 443.851562 516.726562 438.328125 C 516.726562 432.808594 521.203125 428.328125 526.726562 428.328125 C 532.25 428.328125 536.726562 432.808594 536.726562 438.328125 \"/>\n",
       "<path style=\"fill-rule:nonzero;fill:rgb(67.843137%,84.705882%,90.196078%);fill-opacity:1;stroke-width:1;stroke-linecap:butt;stroke-linejoin:miter;stroke:rgb(0%,0%,0%);stroke-opacity:1;stroke-miterlimit:10;\" d=\"M 538.675781 427.929688 C 538.675781 433.453125 534.199219 437.929688 528.675781 437.929688 C 523.15625 437.929688 518.675781 433.453125 518.675781 427.929688 C 518.675781 422.40625 523.15625 417.929688 528.675781 417.929688 C 534.199219 417.929688 538.675781 422.40625 538.675781 427.929688 \"/>\n",
       "<path style=\"fill-rule:nonzero;fill:rgb(67.843137%,84.705882%,90.196078%);fill-opacity:1;stroke-width:1;stroke-linecap:butt;stroke-linejoin:miter;stroke:rgb(0%,0%,0%);stroke-opacity:1;stroke-miterlimit:10;\" d=\"M 537.507812 413.976562 C 537.507812 419.496094 533.03125 423.976562 527.507812 423.976562 C 521.984375 423.976562 517.507812 419.496094 517.507812 413.976562 C 517.507812 408.453125 521.984375 403.976562 527.507812 403.976562 C 533.03125 403.976562 537.507812 408.453125 537.507812 413.976562 \"/>\n",
       "<path style=\"fill-rule:nonzero;fill:rgb(67.843137%,84.705882%,90.196078%);fill-opacity:1;stroke-width:1;stroke-linecap:butt;stroke-linejoin:miter;stroke:rgb(0%,0%,0%);stroke-opacity:1;stroke-miterlimit:10;\" d=\"M 539.964844 486.597656 C 539.964844 492.121094 535.484375 496.597656 529.964844 496.597656 C 524.441406 496.597656 519.964844 492.121094 519.964844 486.597656 C 519.964844 481.078125 524.441406 476.597656 529.964844 476.597656 C 535.484375 476.597656 539.964844 481.078125 539.964844 486.597656 \"/>\n",
       "<path style=\"fill-rule:nonzero;fill:rgb(67.843137%,84.705882%,90.196078%);fill-opacity:1;stroke-width:1;stroke-linecap:butt;stroke-linejoin:miter;stroke:rgb(0%,0%,0%);stroke-opacity:1;stroke-miterlimit:10;\" d=\"M 530.09375 473.328125 C 530.09375 478.851562 525.613281 483.328125 520.09375 483.328125 C 514.570312 483.328125 510.09375 478.851562 510.09375 473.328125 C 510.09375 467.804688 514.570312 463.328125 520.09375 463.328125 C 525.613281 463.328125 530.09375 467.804688 530.09375 473.328125 \"/>\n",
       "<path style=\"fill-rule:nonzero;fill:rgb(67.843137%,84.705882%,90.196078%);fill-opacity:1;stroke-width:1;stroke-linecap:butt;stroke-linejoin:miter;stroke:rgb(0%,0%,0%);stroke-opacity:1;stroke-miterlimit:10;\" d=\"M 526.976562 447.800781 C 526.976562 453.320312 522.5 457.800781 516.976562 457.800781 C 511.453125 457.800781 506.976562 453.320312 506.976562 447.800781 C 506.976562 442.277344 511.453125 437.800781 516.976562 437.800781 C 522.5 437.800781 526.976562 442.277344 526.976562 447.800781 \"/>\n",
       "<path style=\"fill-rule:nonzero;fill:rgb(67.843137%,84.705882%,90.196078%);fill-opacity:1;stroke-width:1;stroke-linecap:butt;stroke-linejoin:miter;stroke:rgb(0%,0%,0%);stroke-opacity:1;stroke-miterlimit:10;\" d=\"M 512.796875 449.9375 C 512.796875 455.460938 508.320312 459.9375 502.796875 459.9375 C 497.273438 459.9375 492.796875 455.460938 492.796875 449.9375 C 492.796875 444.414062 497.273438 439.9375 502.796875 439.9375 C 508.320312 439.9375 512.796875 444.414062 512.796875 449.9375 \"/>\n",
       "<path style=\"fill-rule:nonzero;fill:rgb(67.843137%,84.705882%,90.196078%);fill-opacity:1;stroke-width:1;stroke-linecap:butt;stroke-linejoin:miter;stroke:rgb(0%,0%,0%);stroke-opacity:1;stroke-miterlimit:10;\" d=\"M 496.113281 441.832031 C 496.113281 447.355469 491.636719 451.832031 486.113281 451.832031 C 480.589844 451.832031 476.113281 447.355469 476.113281 441.832031 C 476.113281 436.308594 480.589844 431.832031 486.113281 431.832031 C 491.636719 431.832031 496.113281 436.308594 496.113281 441.832031 \"/>\n",
       "<path style=\"fill-rule:nonzero;fill:rgb(67.843137%,84.705882%,90.196078%);fill-opacity:1;stroke-width:1;stroke-linecap:butt;stroke-linejoin:miter;stroke:rgb(0%,0%,0%);stroke-opacity:1;stroke-miterlimit:10;\" d=\"M 511.757812 499.113281 C 511.757812 504.636719 507.277344 509.113281 501.757812 509.113281 C 496.234375 509.113281 491.757812 504.636719 491.757812 499.113281 C 491.757812 493.589844 496.234375 489.113281 501.757812 489.113281 C 507.277344 489.113281 511.757812 493.589844 511.757812 499.113281 \"/>\n",
       "<path style=\"fill-rule:nonzero;fill:rgb(67.843137%,84.705882%,90.196078%);fill-opacity:1;stroke-width:1;stroke-linecap:butt;stroke-linejoin:miter;stroke:rgb(0%,0%,0%);stroke-opacity:1;stroke-miterlimit:10;\" d=\"M 508.382812 480.074219 C 508.382812 485.597656 503.902344 490.074219 498.382812 490.074219 C 492.859375 490.074219 488.382812 485.597656 488.382812 480.074219 C 488.382812 474.550781 492.859375 470.074219 498.382812 470.074219 C 503.902344 470.074219 508.382812 474.550781 508.382812 480.074219 \"/>\n",
       "<path style=\"fill-rule:nonzero;fill:rgb(67.843137%,84.705882%,90.196078%);fill-opacity:1;stroke-width:1;stroke-linecap:butt;stroke-linejoin:miter;stroke:rgb(0%,0%,0%);stroke-opacity:1;stroke-miterlimit:10;\" d=\"M 506.425781 535.585938 C 506.425781 541.109375 501.945312 545.585938 496.425781 545.585938 C 490.902344 545.585938 486.425781 541.109375 486.425781 535.585938 C 486.425781 530.0625 490.902344 525.585938 496.425781 525.585938 C 501.945312 525.585938 506.425781 530.0625 506.425781 535.585938 \"/>\n",
       "<path style=\"fill-rule:nonzero;fill:rgb(67.843137%,84.705882%,90.196078%);fill-opacity:1;stroke-width:1;stroke-linecap:butt;stroke-linejoin:miter;stroke:rgb(0%,0%,0%);stroke-opacity:1;stroke-miterlimit:10;\" d=\"M 491.785156 506.285156 C 491.785156 511.808594 487.308594 516.285156 481.785156 516.285156 C 476.261719 516.285156 471.785156 511.808594 471.785156 506.285156 C 471.785156 500.765625 476.261719 496.285156 481.785156 496.285156 C 487.308594 496.285156 491.785156 500.765625 491.785156 506.285156 \"/>\n",
       "<path style=\"fill-rule:nonzero;fill:rgb(67.843137%,84.705882%,90.196078%);fill-opacity:1;stroke-width:1;stroke-linecap:butt;stroke-linejoin:miter;stroke:rgb(0%,0%,0%);stroke-opacity:1;stroke-miterlimit:10;\" d=\"M 489.234375 508.945312 C 489.234375 514.46875 484.757812 518.945312 479.234375 518.945312 C 473.710938 518.945312 469.234375 514.46875 469.234375 508.945312 C 469.234375 503.425781 473.710938 498.945312 479.234375 498.945312 C 484.757812 498.945312 489.234375 503.425781 489.234375 508.945312 \"/>\n",
       "<path style=\"fill-rule:nonzero;fill:rgb(67.843137%,84.705882%,90.196078%);fill-opacity:1;stroke-width:1;stroke-linecap:butt;stroke-linejoin:miter;stroke:rgb(0%,0%,0%);stroke-opacity:1;stroke-miterlimit:10;\" d=\"M 475.898438 507.992188 C 475.898438 513.515625 471.421875 517.992188 465.898438 517.992188 C 460.375 517.992188 455.898438 513.515625 455.898438 507.992188 C 455.898438 502.46875 460.375 497.992188 465.898438 497.992188 C 471.421875 497.992188 475.898438 502.46875 475.898438 507.992188 \"/>\n",
       "<path style=\"fill-rule:nonzero;fill:rgb(67.843137%,84.705882%,90.196078%);fill-opacity:1;stroke-width:1;stroke-linecap:butt;stroke-linejoin:miter;stroke:rgb(0%,0%,0%);stroke-opacity:1;stroke-miterlimit:10;\" d=\"M 493.15625 502.085938 C 493.15625 507.609375 488.675781 512.085938 483.15625 512.085938 C 477.632812 512.085938 473.15625 507.609375 473.15625 502.085938 C 473.15625 496.5625 477.632812 492.085938 483.15625 492.085938 C 488.675781 492.085938 493.15625 496.5625 493.15625 502.085938 \"/>\n",
       "<path style=\"fill-rule:nonzero;fill:rgb(67.843137%,84.705882%,90.196078%);fill-opacity:1;stroke-width:1;stroke-linecap:butt;stroke-linejoin:miter;stroke:rgb(0%,0%,0%);stroke-opacity:1;stroke-miterlimit:10;\" d=\"M 471.347656 551.621094 C 471.347656 557.144531 466.871094 561.621094 461.347656 561.621094 C 455.824219 561.621094 451.347656 557.144531 451.347656 551.621094 C 451.347656 546.097656 455.824219 541.621094 461.347656 541.621094 C 466.871094 541.621094 471.347656 546.097656 471.347656 551.621094 \"/>\n",
       "<path style=\"fill-rule:nonzero;fill:rgb(67.843137%,84.705882%,90.196078%);fill-opacity:1;stroke-width:1;stroke-linecap:butt;stroke-linejoin:miter;stroke:rgb(0%,0%,0%);stroke-opacity:1;stroke-miterlimit:10;\" d=\"M 464.046875 539.816406 C 464.046875 545.339844 459.566406 549.816406 454.046875 549.816406 C 448.523438 549.816406 444.046875 545.339844 444.046875 539.816406 C 444.046875 534.292969 448.523438 529.816406 454.046875 529.816406 C 459.566406 529.816406 464.046875 534.292969 464.046875 539.816406 \"/>\n",
       "<path style=\"fill-rule:nonzero;fill:rgb(67.843137%,84.705882%,90.196078%);fill-opacity:1;stroke-width:1;stroke-linecap:butt;stroke-linejoin:miter;stroke:rgb(0%,0%,0%);stroke-opacity:1;stroke-miterlimit:10;\" d=\"M 463.730469 580 C 463.730469 585.523438 459.25 590 453.730469 590 C 448.207031 590 443.730469 585.523438 443.730469 580 C 443.730469 574.476562 448.207031 570 453.730469 570 C 459.25 570 463.730469 574.476562 463.730469 580 \"/>\n",
       "<path style=\"fill-rule:nonzero;fill:rgb(67.843137%,84.705882%,90.196078%);fill-opacity:1;stroke-width:1;stroke-linecap:butt;stroke-linejoin:miter;stroke:rgb(0%,0%,0%);stroke-opacity:1;stroke-miterlimit:10;\" d=\"M 470.65625 527.304688 C 470.65625 532.828125 466.179688 537.304688 460.65625 537.304688 C 455.132812 537.304688 450.65625 532.828125 450.65625 527.304688 C 450.65625 521.78125 455.132812 517.304688 460.65625 517.304688 C 466.179688 517.304688 470.65625 521.78125 470.65625 527.304688 \"/>\n",
       "<path style=\"fill-rule:nonzero;fill:rgb(67.843137%,84.705882%,90.196078%);fill-opacity:1;stroke-width:1;stroke-linecap:butt;stroke-linejoin:miter;stroke:rgb(0%,0%,0%);stroke-opacity:1;stroke-miterlimit:10;\" d=\"M 465.285156 534.644531 C 465.285156 540.164062 460.808594 544.644531 455.285156 544.644531 C 449.761719 544.644531 445.285156 540.164062 445.285156 534.644531 C 445.285156 529.121094 449.761719 524.644531 455.285156 524.644531 C 460.808594 524.644531 465.285156 529.121094 465.285156 534.644531 \"/>\n",
       "<path style=\"fill-rule:nonzero;fill:rgb(67.843137%,84.705882%,90.196078%);fill-opacity:1;stroke-width:1;stroke-linecap:butt;stroke-linejoin:miter;stroke:rgb(0%,0%,0%);stroke-opacity:1;stroke-miterlimit:10;\" d=\"M 450.875 550.457031 C 450.875 555.976562 446.398438 560.457031 440.875 560.457031 C 435.351562 560.457031 430.875 555.976562 430.875 550.457031 C 430.875 544.933594 435.351562 540.457031 440.875 540.457031 C 446.398438 540.457031 450.875 544.933594 450.875 550.457031 \"/>\n",
       "<path style=\"fill-rule:nonzero;fill:rgb(67.843137%,84.705882%,90.196078%);fill-opacity:1;stroke-width:1;stroke-linecap:butt;stroke-linejoin:miter;stroke:rgb(0%,0%,0%);stroke-opacity:1;stroke-miterlimit:10;\" d=\"M 463.914062 550.160156 C 463.914062 555.683594 459.4375 560.160156 453.914062 560.160156 C 448.390625 560.160156 443.914062 555.683594 443.914062 550.160156 C 443.914062 544.636719 448.390625 540.160156 453.914062 540.160156 C 459.4375 540.160156 463.914062 544.636719 463.914062 550.160156 \"/>\n",
       "<path style=\"fill-rule:nonzero;fill:rgb(67.843137%,84.705882%,90.196078%);fill-opacity:1;stroke-width:1;stroke-linecap:butt;stroke-linejoin:miter;stroke:rgb(0%,0%,0%);stroke-opacity:1;stroke-miterlimit:10;\" d=\"M 443.511719 545.214844 C 443.511719 550.738281 439.035156 555.214844 433.511719 555.214844 C 427.988281 555.214844 423.511719 550.738281 423.511719 545.214844 C 423.511719 539.691406 427.988281 535.214844 433.511719 535.214844 C 439.035156 535.214844 443.511719 539.691406 443.511719 545.214844 \"/>\n",
       "<path style=\"fill-rule:nonzero;fill:rgb(67.843137%,84.705882%,90.196078%);fill-opacity:1;stroke-width:1;stroke-linecap:butt;stroke-linejoin:miter;stroke:rgb(0%,0%,0%);stroke-opacity:1;stroke-miterlimit:10;\" d=\"M 427.78125 560.324219 C 427.78125 565.847656 423.304688 570.324219 417.78125 570.324219 C 412.261719 570.324219 407.78125 565.847656 407.78125 560.324219 C 407.78125 554.800781 412.261719 550.324219 417.78125 550.324219 C 423.304688 550.324219 427.78125 554.800781 427.78125 560.324219 \"/>\n",
       "<path style=\"fill-rule:nonzero;fill:rgb(67.843137%,84.705882%,90.196078%);fill-opacity:1;stroke-width:1;stroke-linecap:butt;stroke-linejoin:miter;stroke:rgb(0%,0%,0%);stroke-opacity:1;stroke-miterlimit:10;\" d=\"M 423.75 576.230469 C 423.75 581.753906 419.273438 586.230469 413.75 586.230469 C 408.226562 586.230469 403.75 581.753906 403.75 576.230469 C 403.75 570.707031 408.226562 566.230469 413.75 566.230469 C 419.273438 566.230469 423.75 570.707031 423.75 576.230469 \"/>\n",
       "<path style=\"fill-rule:nonzero;fill:rgb(67.843137%,84.705882%,90.196078%);fill-opacity:1;stroke-width:1;stroke-linecap:butt;stroke-linejoin:miter;stroke:rgb(0%,0%,0%);stroke-opacity:1;stroke-miterlimit:10;\" d=\"M 424.445312 559.859375 C 424.445312 565.382812 419.964844 569.859375 414.445312 569.859375 C 408.921875 569.859375 404.445312 565.382812 404.445312 559.859375 C 404.445312 554.335938 408.921875 549.859375 414.445312 549.859375 C 419.964844 549.859375 424.445312 554.335938 424.445312 559.859375 \"/>\n",
       "<path style=\"fill-rule:nonzero;fill:rgb(67.843137%,84.705882%,90.196078%);fill-opacity:1;stroke-width:1;stroke-linecap:butt;stroke-linejoin:miter;stroke:rgb(0%,0%,0%);stroke-opacity:1;stroke-miterlimit:10;\" d=\"M 412.804688 533.550781 C 412.804688 539.074219 408.324219 543.550781 402.804688 543.550781 C 397.28125 543.550781 392.804688 539.074219 392.804688 533.550781 C 392.804688 528.027344 397.28125 523.550781 402.804688 523.550781 C 408.324219 523.550781 412.804688 528.027344 412.804688 533.550781 \"/>\n",
       "<path style=\"fill-rule:nonzero;fill:rgb(67.843137%,84.705882%,90.196078%);fill-opacity:1;stroke-width:1;stroke-linecap:butt;stroke-linejoin:miter;stroke:rgb(0%,0%,0%);stroke-opacity:1;stroke-miterlimit:10;\" d=\"M 411.929688 553.277344 C 411.929688 558.800781 407.449219 563.277344 401.929688 563.277344 C 396.40625 563.277344 391.929688 558.800781 391.929688 553.277344 C 391.929688 547.753906 396.40625 543.277344 401.929688 543.277344 C 407.449219 543.277344 411.929688 547.753906 411.929688 553.277344 \"/>\n",
       "<path style=\"fill-rule:nonzero;fill:rgb(67.843137%,84.705882%,90.196078%);fill-opacity:1;stroke-width:1;stroke-linecap:butt;stroke-linejoin:miter;stroke:rgb(0%,0%,0%);stroke-opacity:1;stroke-miterlimit:10;\" d=\"M 409.722656 561.183594 C 409.722656 566.707031 405.246094 571.183594 399.722656 571.183594 C 394.203125 571.183594 389.722656 566.707031 389.722656 561.183594 C 389.722656 555.660156 394.203125 551.183594 399.722656 551.183594 C 405.246094 551.183594 409.722656 555.660156 409.722656 561.183594 \"/>\n",
       "<path style=\"fill-rule:nonzero;fill:rgb(67.843137%,84.705882%,90.196078%);fill-opacity:1;stroke-width:1;stroke-linecap:butt;stroke-linejoin:miter;stroke:rgb(0%,0%,0%);stroke-opacity:1;stroke-miterlimit:10;\" d=\"M 400.417969 524.882812 C 400.417969 530.40625 395.941406 534.882812 390.417969 534.882812 C 384.894531 534.882812 380.417969 530.40625 380.417969 524.882812 C 380.417969 519.359375 384.894531 514.882812 390.417969 514.882812 C 395.941406 514.882812 400.417969 519.359375 400.417969 524.882812 \"/>\n",
       "<path style=\"fill-rule:nonzero;fill:rgb(67.843137%,84.705882%,90.196078%);fill-opacity:1;stroke-width:1;stroke-linecap:butt;stroke-linejoin:miter;stroke:rgb(0%,0%,0%);stroke-opacity:1;stroke-miterlimit:10;\" d=\"M 404.578125 386.890625 C 404.578125 392.414062 400.101562 396.890625 394.578125 396.890625 C 389.054688 396.890625 384.578125 392.414062 384.578125 386.890625 C 384.578125 381.367188 389.054688 376.890625 394.578125 376.890625 C 400.101562 376.890625 404.578125 381.367188 404.578125 386.890625 \"/>\n",
       "<path style=\"fill-rule:nonzero;fill:rgb(67.843137%,84.705882%,90.196078%);fill-opacity:1;stroke-width:1;stroke-linecap:butt;stroke-linejoin:miter;stroke:rgb(0%,0%,0%);stroke-opacity:1;stroke-miterlimit:10;\" d=\"M 413.273438 352.507812 C 413.273438 358.03125 408.796875 362.507812 403.273438 362.507812 C 397.753906 362.507812 393.273438 358.03125 393.273438 352.507812 C 393.273438 346.984375 397.753906 342.507812 403.273438 342.507812 C 408.796875 342.507812 413.273438 346.984375 413.273438 352.507812 \"/>\n",
       "<path style=\"fill-rule:nonzero;fill:rgb(67.843137%,84.705882%,90.196078%);fill-opacity:1;stroke-width:1;stroke-linecap:butt;stroke-linejoin:miter;stroke:rgb(0%,0%,0%);stroke-opacity:1;stroke-miterlimit:10;\" d=\"M 397.3125 375.023438 C 397.3125 380.546875 392.835938 385.023438 387.3125 385.023438 C 381.789062 385.023438 377.3125 380.546875 377.3125 375.023438 C 377.3125 369.5 381.789062 365.023438 387.3125 365.023438 C 392.835938 365.023438 397.3125 369.5 397.3125 375.023438 \"/>\n",
       "<path style=\"fill-rule:nonzero;fill:rgb(67.843137%,84.705882%,90.196078%);fill-opacity:1;stroke-width:1;stroke-linecap:butt;stroke-linejoin:miter;stroke:rgb(0%,0%,0%);stroke-opacity:1;stroke-miterlimit:10;\" d=\"M 397.785156 355.195312 C 397.785156 360.71875 393.308594 365.195312 387.785156 365.195312 C 382.261719 365.195312 377.785156 360.71875 377.785156 355.195312 C 377.785156 349.671875 382.261719 345.195312 387.785156 345.195312 C 393.308594 345.195312 397.785156 349.671875 397.785156 355.195312 \"/>\n",
       "<path style=\"fill-rule:nonzero;fill:rgb(67.843137%,84.705882%,90.196078%);fill-opacity:1;stroke-width:1;stroke-linecap:butt;stroke-linejoin:miter;stroke:rgb(0%,0%,0%);stroke-opacity:1;stroke-miterlimit:10;\" d=\"M 406.5625 325.621094 C 406.5625 331.144531 402.085938 335.621094 396.5625 335.621094 C 391.039062 335.621094 386.5625 331.144531 386.5625 325.621094 C 386.5625 320.097656 391.039062 315.621094 396.5625 315.621094 C 402.085938 315.621094 406.5625 320.097656 406.5625 325.621094 \"/>\n",
       "<path style=\"fill-rule:nonzero;fill:rgb(67.843137%,84.705882%,90.196078%);fill-opacity:1;stroke-width:1;stroke-linecap:butt;stroke-linejoin:miter;stroke:rgb(0%,0%,0%);stroke-opacity:1;stroke-miterlimit:10;\" d=\"M 401.40625 335.523438 C 401.40625 341.046875 396.929688 345.523438 391.40625 345.523438 C 385.882812 345.523438 381.40625 341.046875 381.40625 335.523438 C 381.40625 330 385.882812 325.523438 391.40625 325.523438 C 396.929688 325.523438 401.40625 330 401.40625 335.523438 \"/>\n",
       "<path style=\"fill-rule:nonzero;fill:rgb(67.843137%,84.705882%,90.196078%);fill-opacity:1;stroke-width:1;stroke-linecap:butt;stroke-linejoin:miter;stroke:rgb(0%,0%,0%);stroke-opacity:1;stroke-miterlimit:10;\" d=\"M 396.792969 565.347656 C 396.792969 570.871094 392.3125 575.347656 386.792969 575.347656 C 381.269531 575.347656 376.792969 570.871094 376.792969 565.347656 C 376.792969 559.824219 381.269531 555.347656 386.792969 555.347656 C 392.3125 555.347656 396.792969 559.824219 396.792969 565.347656 \"/>\n",
       "<path style=\"fill-rule:nonzero;fill:rgb(67.843137%,84.705882%,90.196078%);fill-opacity:1;stroke-width:1;stroke-linecap:butt;stroke-linejoin:miter;stroke:rgb(0%,0%,0%);stroke-opacity:1;stroke-miterlimit:10;\" d=\"M 406.632812 324.679688 C 406.632812 330.203125 402.15625 334.679688 396.632812 334.679688 C 391.109375 334.679688 386.632812 330.203125 386.632812 324.679688 C 386.632812 319.15625 391.109375 314.679688 396.632812 314.679688 C 402.15625 314.679688 406.632812 319.15625 406.632812 324.679688 \"/>\n",
       "<path style=\"fill-rule:nonzero;fill:rgb(67.843137%,84.705882%,90.196078%);fill-opacity:1;stroke-width:1;stroke-linecap:butt;stroke-linejoin:miter;stroke:rgb(0%,0%,0%);stroke-opacity:1;stroke-miterlimit:10;\" d=\"M 392.980469 275.019531 C 392.980469 280.542969 388.503906 285.019531 382.980469 285.019531 C 377.457031 285.019531 372.980469 280.542969 372.980469 275.019531 C 372.980469 269.5 377.457031 265.019531 382.980469 265.019531 C 388.503906 265.019531 392.980469 269.5 392.980469 275.019531 \"/>\n",
       "<path style=\"fill-rule:nonzero;fill:rgb(67.843137%,84.705882%,90.196078%);fill-opacity:1;stroke-width:1;stroke-linecap:butt;stroke-linejoin:miter;stroke:rgb(0%,0%,0%);stroke-opacity:1;stroke-miterlimit:10;\" d=\"M 390.480469 279.195312 C 390.480469 284.71875 386.003906 289.195312 380.480469 289.195312 C 374.960938 289.195312 370.480469 284.71875 370.480469 279.195312 C 370.480469 273.671875 374.960938 269.195312 380.480469 269.195312 C 386.003906 269.195312 390.480469 273.671875 390.480469 279.195312 \"/>\n",
       "<path style=\"fill-rule:nonzero;fill:rgb(67.843137%,84.705882%,90.196078%);fill-opacity:1;stroke-width:1;stroke-linecap:butt;stroke-linejoin:miter;stroke:rgb(0%,0%,0%);stroke-opacity:1;stroke-miterlimit:10;\" d=\"M 409.476562 298.40625 C 409.476562 303.929688 405 308.40625 399.476562 308.40625 C 393.953125 308.40625 389.476562 303.929688 389.476562 298.40625 C 389.476562 292.882812 393.953125 288.40625 399.476562 288.40625 C 405 288.40625 409.476562 292.882812 409.476562 298.40625 \"/>\n",
       "<path style=\"fill-rule:nonzero;fill:rgb(67.843137%,84.705882%,90.196078%);fill-opacity:1;stroke-width:1;stroke-linecap:butt;stroke-linejoin:miter;stroke:rgb(0%,0%,0%);stroke-opacity:1;stroke-miterlimit:10;\" d=\"M 380.234375 557.507812 C 380.234375 563.03125 375.757812 567.507812 370.234375 567.507812 C 364.710938 567.507812 360.234375 563.03125 360.234375 557.507812 C 360.234375 551.988281 364.710938 547.507812 370.234375 547.507812 C 375.757812 547.507812 380.234375 551.988281 380.234375 557.507812 \"/>\n",
       "<path style=\"fill-rule:nonzero;fill:rgb(67.843137%,84.705882%,90.196078%);fill-opacity:1;stroke-width:1;stroke-linecap:butt;stroke-linejoin:miter;stroke:rgb(0%,0%,0%);stroke-opacity:1;stroke-miterlimit:10;\" d=\"M 391.847656 279.648438 C 391.847656 285.171875 387.371094 289.648438 381.847656 289.648438 C 376.324219 289.648438 371.847656 285.171875 371.847656 279.648438 C 371.847656 274.125 376.324219 269.648438 381.847656 269.648438 C 387.371094 269.648438 391.847656 274.125 391.847656 279.648438 \"/>\n",
       "<path style=\"fill-rule:nonzero;fill:rgb(67.843137%,84.705882%,90.196078%);fill-opacity:1;stroke-width:1;stroke-linecap:butt;stroke-linejoin:miter;stroke:rgb(0%,0%,0%);stroke-opacity:1;stroke-miterlimit:10;\" d=\"M 381.160156 215.90625 C 381.160156 221.429688 376.683594 225.90625 371.160156 225.90625 C 365.636719 225.90625 361.160156 221.429688 361.160156 215.90625 C 361.160156 210.382812 365.636719 205.90625 371.160156 205.90625 C 376.683594 205.90625 381.160156 210.382812 381.160156 215.90625 \"/>\n",
       "<path style=\"fill-rule:nonzero;fill:rgb(67.843137%,84.705882%,90.196078%);fill-opacity:1;stroke-width:1;stroke-linecap:butt;stroke-linejoin:miter;stroke:rgb(0%,0%,0%);stroke-opacity:1;stroke-miterlimit:10;\" d=\"M 388.828125 248.8125 C 388.828125 254.335938 384.351562 258.8125 378.828125 258.8125 C 373.308594 258.8125 368.828125 254.335938 368.828125 248.8125 C 368.828125 243.292969 373.308594 238.8125 378.828125 238.8125 C 384.351562 238.8125 388.828125 243.292969 388.828125 248.8125 \"/>\n",
       "<path style=\"fill-rule:nonzero;fill:rgb(67.843137%,84.705882%,90.196078%);fill-opacity:1;stroke-width:1;stroke-linecap:butt;stroke-linejoin:miter;stroke:rgb(0%,0%,0%);stroke-opacity:1;stroke-miterlimit:10;\" d=\"M 398.722656 558.007812 C 398.722656 563.527344 394.246094 568.007812 388.722656 568.007812 C 383.203125 568.007812 378.722656 563.527344 378.722656 558.007812 C 378.722656 552.484375 383.203125 548.007812 388.722656 548.007812 C 394.246094 548.007812 398.722656 552.484375 398.722656 558.007812 \"/>\n",
       "<path style=\"fill-rule:nonzero;fill:rgb(67.843137%,84.705882%,90.196078%);fill-opacity:1;stroke-width:1;stroke-linecap:butt;stroke-linejoin:miter;stroke:rgb(0%,0%,0%);stroke-opacity:1;stroke-miterlimit:10;\" d=\"M 387.105469 248.414062 C 387.105469 253.9375 382.628906 258.414062 377.105469 258.414062 C 371.582031 258.414062 367.105469 253.9375 367.105469 248.414062 C 367.105469 242.890625 371.582031 238.414062 377.105469 238.414062 C 382.628906 238.414062 387.105469 242.890625 387.105469 248.414062 \"/>\n",
       "<path style=\"fill-rule:nonzero;fill:rgb(67.843137%,84.705882%,90.196078%);fill-opacity:1;stroke-width:1;stroke-linecap:butt;stroke-linejoin:miter;stroke:rgb(0%,0%,0%);stroke-opacity:1;stroke-miterlimit:10;\" d=\"M 357.351562 275.785156 C 357.351562 281.308594 352.875 285.785156 347.351562 285.785156 C 341.828125 285.785156 337.351562 281.308594 337.351562 275.785156 C 337.351562 270.265625 341.828125 265.785156 347.351562 265.785156 C 352.875 265.785156 357.351562 270.265625 357.351562 275.785156 \"/>\n",
       "<path style=\"fill-rule:nonzero;fill:rgb(67.843137%,84.705882%,90.196078%);fill-opacity:1;stroke-width:1;stroke-linecap:butt;stroke-linejoin:miter;stroke:rgb(0%,0%,0%);stroke-opacity:1;stroke-miterlimit:10;\" d=\"M 391.140625 555.433594 C 391.140625 560.957031 386.660156 565.433594 381.140625 565.433594 C 375.617188 565.433594 371.140625 560.957031 371.140625 555.433594 C 371.140625 549.914062 375.617188 545.433594 381.140625 545.433594 C 386.660156 545.433594 391.140625 549.914062 391.140625 555.433594 \"/>\n",
       "<path style=\"fill-rule:nonzero;fill:rgb(67.843137%,84.705882%,90.196078%);fill-opacity:1;stroke-width:1;stroke-linecap:butt;stroke-linejoin:miter;stroke:rgb(0%,0%,0%);stroke-opacity:1;stroke-miterlimit:10;\" d=\"M 363.171875 250.820312 C 363.171875 256.339844 358.695312 260.820312 353.171875 260.820312 C 347.648438 260.820312 343.171875 256.339844 343.171875 250.820312 C 343.171875 245.296875 347.648438 240.820312 353.171875 240.820312 C 358.695312 240.820312 363.171875 245.296875 363.171875 250.820312 \"/>\n",
       "<path style=\"fill-rule:nonzero;fill:rgb(67.843137%,84.705882%,90.196078%);fill-opacity:1;stroke-width:1;stroke-linecap:butt;stroke-linejoin:miter;stroke:rgb(0%,0%,0%);stroke-opacity:1;stroke-miterlimit:10;\" d=\"M 362.257812 239.179688 C 362.257812 244.703125 357.78125 249.179688 352.257812 249.179688 C 346.738281 249.179688 342.257812 244.703125 342.257812 239.179688 C 342.257812 233.65625 346.738281 229.179688 352.257812 229.179688 C 357.78125 229.179688 362.257812 233.65625 362.257812 239.179688 \"/>\n",
       "<path style=\"fill-rule:nonzero;fill:rgb(67.843137%,84.705882%,90.196078%);fill-opacity:1;stroke-width:1;stroke-linecap:butt;stroke-linejoin:miter;stroke:rgb(0%,0%,0%);stroke-opacity:1;stroke-miterlimit:10;\" d=\"M 381.097656 184.058594 C 381.097656 189.582031 376.621094 194.058594 371.097656 194.058594 C 365.574219 194.058594 361.097656 189.582031 361.097656 184.058594 C 361.097656 178.535156 365.574219 174.058594 371.097656 174.058594 C 376.621094 174.058594 381.097656 178.535156 381.097656 184.058594 \"/>\n",
       "<path style=\"fill-rule:nonzero;fill:rgb(67.843137%,84.705882%,90.196078%);fill-opacity:1;stroke-width:1;stroke-linecap:butt;stroke-linejoin:miter;stroke:rgb(0%,0%,0%);stroke-opacity:1;stroke-miterlimit:10;\" d=\"M 359.171875 517.976562 C 359.171875 523.5 354.691406 527.976562 349.171875 527.976562 C 343.648438 527.976562 339.171875 523.5 339.171875 517.976562 C 339.171875 512.453125 343.648438 507.976562 349.171875 507.976562 C 354.691406 507.976562 359.171875 512.453125 359.171875 517.976562 \"/>\n",
       "<path style=\"fill-rule:nonzero;fill:rgb(67.843137%,84.705882%,90.196078%);fill-opacity:1;stroke-width:1;stroke-linecap:butt;stroke-linejoin:miter;stroke:rgb(0%,0%,0%);stroke-opacity:1;stroke-miterlimit:10;\" d=\"M 369.988281 214.535156 C 369.988281 220.058594 365.511719 224.535156 359.988281 224.535156 C 354.464844 224.535156 349.988281 220.058594 349.988281 214.535156 C 349.988281 209.011719 354.464844 204.535156 359.988281 204.535156 C 365.511719 204.535156 369.988281 209.011719 369.988281 214.535156 \"/>\n",
       "<path style=\"fill-rule:nonzero;fill:rgb(67.843137%,84.705882%,90.196078%);fill-opacity:1;stroke-width:1;stroke-linecap:butt;stroke-linejoin:miter;stroke:rgb(0%,0%,0%);stroke-opacity:1;stroke-miterlimit:10;\" d=\"M 374.957031 556.230469 C 374.957031 561.753906 370.476562 566.230469 364.957031 566.230469 C 359.433594 566.230469 354.957031 561.753906 354.957031 556.230469 C 354.957031 550.707031 359.433594 546.230469 364.957031 546.230469 C 370.476562 546.230469 374.957031 550.707031 374.957031 556.230469 \"/>\n",
       "<path style=\"fill-rule:nonzero;fill:rgb(67.843137%,84.705882%,90.196078%);fill-opacity:1;stroke-width:1;stroke-linecap:butt;stroke-linejoin:miter;stroke:rgb(0%,0%,0%);stroke-opacity:1;stroke-miterlimit:10;\" d=\"M 386.777344 207.082031 C 386.777344 212.605469 382.300781 217.082031 376.777344 217.082031 C 371.253906 217.082031 366.777344 212.605469 366.777344 207.082031 C 366.777344 201.558594 371.253906 197.082031 376.777344 197.082031 C 382.300781 197.082031 386.777344 201.558594 386.777344 207.082031 \"/>\n",
       "<path style=\"fill-rule:nonzero;fill:rgb(67.843137%,84.705882%,90.196078%);fill-opacity:1;stroke-width:1;stroke-linecap:butt;stroke-linejoin:miter;stroke:rgb(0%,0%,0%);stroke-opacity:1;stroke-miterlimit:10;\" d=\"M 358.964844 181.488281 C 358.964844 187.011719 354.488281 191.488281 348.964844 191.488281 C 343.441406 191.488281 338.964844 187.011719 338.964844 181.488281 C 338.964844 175.964844 343.441406 171.488281 348.964844 171.488281 C 354.488281 171.488281 358.964844 175.964844 358.964844 181.488281 \"/>\n",
       "<path style=\"fill-rule:nonzero;fill:rgb(67.843137%,84.705882%,90.196078%);fill-opacity:1;stroke-width:1;stroke-linecap:butt;stroke-linejoin:miter;stroke:rgb(0%,0%,0%);stroke-opacity:1;stroke-miterlimit:10;\" d=\"M 371.109375 567.539062 C 371.109375 573.058594 366.632812 577.539062 361.109375 577.539062 C 355.589844 577.539062 351.109375 573.058594 351.109375 567.539062 C 351.109375 562.015625 355.589844 557.539062 361.109375 557.539062 C 366.632812 557.539062 371.109375 562.015625 371.109375 567.539062 \"/>\n",
       "<path style=\"fill-rule:nonzero;fill:rgb(67.843137%,84.705882%,90.196078%);fill-opacity:1;stroke-width:1;stroke-linecap:butt;stroke-linejoin:miter;stroke:rgb(0%,0%,0%);stroke-opacity:1;stroke-miterlimit:10;\" d=\"M 343.757812 158.796875 C 343.757812 164.320312 339.28125 168.796875 333.757812 168.796875 C 328.234375 168.796875 323.757812 164.320312 323.757812 158.796875 C 323.757812 153.277344 328.234375 148.796875 333.757812 148.796875 C 339.28125 148.796875 343.757812 153.277344 343.757812 158.796875 \"/>\n",
       "<path style=\"fill-rule:nonzero;fill:rgb(67.843137%,84.705882%,90.196078%);fill-opacity:1;stroke-width:1;stroke-linecap:butt;stroke-linejoin:miter;stroke:rgb(0%,0%,0%);stroke-opacity:1;stroke-miterlimit:10;\" d=\"M 344.242188 168.183594 C 344.242188 173.707031 339.765625 178.183594 334.242188 178.183594 C 328.71875 178.183594 324.242188 173.707031 324.242188 168.183594 C 324.242188 162.660156 328.71875 158.183594 334.242188 158.183594 C 339.765625 158.183594 344.242188 162.660156 344.242188 168.183594 \"/>\n",
       "<path style=\"fill-rule:nonzero;fill:rgb(67.843137%,84.705882%,90.196078%);fill-opacity:1;stroke-width:1;stroke-linecap:butt;stroke-linejoin:miter;stroke:rgb(0%,0%,0%);stroke-opacity:1;stroke-miterlimit:10;\" d=\"M 347.738281 559.324219 C 347.738281 564.847656 343.257812 569.324219 337.738281 569.324219 C 332.214844 569.324219 327.738281 564.847656 327.738281 559.324219 C 327.738281 553.800781 332.214844 549.324219 337.738281 549.324219 C 343.257812 549.324219 347.738281 553.800781 347.738281 559.324219 \"/>\n",
       "<path style=\"fill-rule:nonzero;fill:rgb(67.843137%,84.705882%,90.196078%);fill-opacity:1;stroke-width:1;stroke-linecap:butt;stroke-linejoin:miter;stroke:rgb(0%,0%,0%);stroke-opacity:1;stroke-miterlimit:10;\" d=\"M 358.855469 165.101562 C 358.855469 170.621094 354.378906 175.101562 348.855469 175.101562 C 343.332031 175.101562 338.855469 170.621094 338.855469 165.101562 C 338.855469 159.578125 343.332031 155.101562 348.855469 155.101562 C 354.378906 155.101562 358.855469 159.578125 358.855469 165.101562 \"/>\n",
       "<path style=\"fill-rule:nonzero;fill:rgb(67.843137%,84.705882%,90.196078%);fill-opacity:1;stroke-width:1;stroke-linecap:butt;stroke-linejoin:miter;stroke:rgb(0%,0%,0%);stroke-opacity:1;stroke-miterlimit:10;\" d=\"M 358.550781 569.785156 C 358.550781 575.304688 354.074219 579.785156 348.550781 579.785156 C 343.027344 579.785156 338.550781 575.304688 338.550781 569.785156 C 338.550781 564.261719 343.027344 559.785156 348.550781 559.785156 C 354.074219 559.785156 358.550781 564.261719 358.550781 569.785156 \"/>\n",
       "<path style=\"fill-rule:nonzero;fill:rgb(67.843137%,84.705882%,90.196078%);fill-opacity:1;stroke-width:1;stroke-linecap:butt;stroke-linejoin:miter;stroke:rgb(0%,0%,0%);stroke-opacity:1;stroke-miterlimit:10;\" d=\"M 349.867188 125.527344 C 349.867188 131.050781 345.390625 135.527344 339.867188 135.527344 C 334.347656 135.527344 329.867188 131.050781 329.867188 125.527344 C 329.867188 120.007812 334.347656 115.527344 339.867188 115.527344 C 345.390625 115.527344 349.867188 120.007812 349.867188 125.527344 \"/>\n",
       "<path style=\"fill-rule:nonzero;fill:rgb(67.843137%,84.705882%,90.196078%);fill-opacity:1;stroke-width:1;stroke-linecap:butt;stroke-linejoin:miter;stroke:rgb(0%,0%,0%);stroke-opacity:1;stroke-miterlimit:10;\" d=\"M 348.800781 540.214844 C 348.800781 545.734375 344.324219 550.214844 338.800781 550.214844 C 333.277344 550.214844 328.800781 545.734375 328.800781 540.214844 C 328.800781 534.691406 333.277344 530.214844 338.800781 530.214844 C 344.324219 530.214844 348.800781 534.691406 348.800781 540.214844 \"/>\n",
       "<path style=\"fill-rule:nonzero;fill:rgb(67.843137%,84.705882%,90.196078%);fill-opacity:1;stroke-width:1;stroke-linecap:butt;stroke-linejoin:miter;stroke:rgb(0%,0%,0%);stroke-opacity:1;stroke-miterlimit:10;\" d=\"M 345.261719 145.480469 C 345.261719 151.003906 340.785156 155.480469 335.261719 155.480469 C 329.738281 155.480469 325.261719 151.003906 325.261719 145.480469 C 325.261719 139.957031 329.738281 135.480469 335.261719 135.480469 C 340.785156 135.480469 345.261719 139.957031 345.261719 145.480469 \"/>\n",
       "<path style=\"fill-rule:nonzero;fill:rgb(67.843137%,84.705882%,90.196078%);fill-opacity:1;stroke-width:1;stroke-linecap:butt;stroke-linejoin:miter;stroke:rgb(0%,0%,0%);stroke-opacity:1;stroke-miterlimit:10;\" d=\"M 337.957031 118.863281 C 337.957031 124.386719 333.480469 128.863281 327.957031 128.863281 C 322.433594 128.863281 317.957031 124.386719 317.957031 118.863281 C 317.957031 113.339844 322.433594 108.863281 327.957031 108.863281 C 333.480469 108.863281 337.957031 113.339844 337.957031 118.863281 \"/>\n",
       "<path style=\"fill-rule:nonzero;fill:rgb(67.843137%,84.705882%,90.196078%);fill-opacity:1;stroke-width:1;stroke-linecap:butt;stroke-linejoin:miter;stroke:rgb(0%,0%,0%);stroke-opacity:1;stroke-miterlimit:10;\" d=\"M 338.667969 562.441406 C 338.667969 567.964844 334.191406 572.441406 328.667969 572.441406 C 323.148438 572.441406 318.667969 567.964844 318.667969 562.441406 C 318.667969 556.917969 323.148438 552.441406 328.667969 552.441406 C 334.191406 552.441406 338.667969 556.917969 338.667969 562.441406 \"/>\n",
       "<path style=\"fill-rule:nonzero;fill:rgb(67.843137%,84.705882%,90.196078%);fill-opacity:1;stroke-width:1;stroke-linecap:butt;stroke-linejoin:miter;stroke:rgb(0%,0%,0%);stroke-opacity:1;stroke-miterlimit:10;\" d=\"M 330.609375 117.945312 C 330.609375 123.464844 326.132812 127.945312 320.609375 127.945312 C 315.089844 127.945312 310.609375 123.464844 310.609375 117.945312 C 310.609375 112.421875 315.089844 107.945312 320.609375 107.945312 C 326.132812 107.945312 330.609375 112.421875 330.609375 117.945312 \"/>\n",
       "<path style=\"fill-rule:nonzero;fill:rgb(67.843137%,84.705882%,90.196078%);fill-opacity:1;stroke-width:1;stroke-linecap:butt;stroke-linejoin:miter;stroke:rgb(0%,0%,0%);stroke-opacity:1;stroke-miterlimit:10;\" d=\"M 339.738281 546.867188 C 339.738281 552.390625 335.261719 556.867188 329.738281 556.867188 C 324.214844 556.867188 319.738281 552.390625 319.738281 546.867188 C 319.738281 541.347656 324.214844 536.867188 329.738281 536.867188 C 335.261719 536.867188 339.738281 541.347656 339.738281 546.867188 \"/>\n",
       "<path style=\"fill-rule:nonzero;fill:rgb(67.843137%,84.705882%,90.196078%);fill-opacity:1;stroke-width:1;stroke-linecap:butt;stroke-linejoin:miter;stroke:rgb(0%,0%,0%);stroke-opacity:1;stroke-miterlimit:10;\" d=\"M 329.5625 109.261719 C 329.5625 114.78125 325.085938 119.261719 319.5625 119.261719 C 314.039062 119.261719 309.5625 114.78125 309.5625 109.261719 C 309.5625 103.738281 314.039062 99.261719 319.5625 99.261719 C 325.085938 99.261719 329.5625 103.738281 329.5625 109.261719 \"/>\n",
       "<path style=\"fill-rule:nonzero;fill:rgb(67.843137%,84.705882%,90.196078%);fill-opacity:1;stroke-width:1;stroke-linecap:butt;stroke-linejoin:miter;stroke:rgb(0%,0%,0%);stroke-opacity:1;stroke-miterlimit:10;\" d=\"M 335.910156 524.171875 C 335.910156 529.695312 331.433594 534.171875 325.910156 534.171875 C 320.386719 534.171875 315.910156 529.695312 315.910156 524.171875 C 315.910156 518.648438 320.386719 514.171875 325.910156 514.171875 C 331.433594 514.171875 335.910156 518.648438 335.910156 524.171875 \"/>\n",
       "<path style=\"fill-rule:nonzero;fill:rgb(67.843137%,84.705882%,90.196078%);fill-opacity:1;stroke-width:1;stroke-linecap:butt;stroke-linejoin:miter;stroke:rgb(0%,0%,0%);stroke-opacity:1;stroke-miterlimit:10;\" d=\"M 312.152344 112.972656 C 312.152344 118.496094 307.675781 122.972656 302.152344 122.972656 C 296.628906 122.972656 292.152344 118.496094 292.152344 112.972656 C 292.152344 107.449219 296.628906 102.972656 302.152344 102.972656 C 307.675781 102.972656 312.152344 107.449219 312.152344 112.972656 \"/>\n",
       "<path style=\"fill-rule:nonzero;fill:rgb(67.843137%,84.705882%,90.196078%);fill-opacity:1;stroke-width:1;stroke-linecap:butt;stroke-linejoin:miter;stroke:rgb(0%,0%,0%);stroke-opacity:1;stroke-miterlimit:10;\" d=\"M 332.136719 527.855469 C 332.136719 533.378906 327.660156 537.855469 322.136719 537.855469 C 316.613281 537.855469 312.136719 533.378906 312.136719 527.855469 C 312.136719 522.332031 316.613281 517.855469 322.136719 517.855469 C 327.660156 517.855469 332.136719 522.332031 332.136719 527.855469 \"/>\n",
       "<path style=\"fill-rule:nonzero;fill:rgb(67.843137%,84.705882%,90.196078%);fill-opacity:1;stroke-width:1;stroke-linecap:butt;stroke-linejoin:miter;stroke:rgb(0%,0%,0%);stroke-opacity:1;stroke-miterlimit:10;\" d=\"M 327.515625 78.261719 C 327.515625 83.785156 323.039062 88.261719 317.515625 88.261719 C 311.992188 88.261719 307.515625 83.785156 307.515625 78.261719 C 307.515625 72.738281 311.992188 68.261719 317.515625 68.261719 C 323.039062 68.261719 327.515625 72.738281 327.515625 78.261719 \"/>\n",
       "<path style=\"fill-rule:nonzero;fill:rgb(67.843137%,84.705882%,90.196078%);fill-opacity:1;stroke-width:1;stroke-linecap:butt;stroke-linejoin:miter;stroke:rgb(0%,0%,0%);stroke-opacity:1;stroke-miterlimit:10;\" d=\"M 306.691406 521.421875 C 306.691406 526.945312 302.214844 531.421875 296.691406 531.421875 C 291.171875 531.421875 286.691406 526.945312 286.691406 521.421875 C 286.691406 515.898438 291.171875 511.421875 296.691406 511.421875 C 302.214844 511.421875 306.691406 515.898438 306.691406 521.421875 \"/>\n",
       "<path style=\"fill-rule:nonzero;fill:rgb(67.843137%,84.705882%,90.196078%);fill-opacity:1;stroke-width:1;stroke-linecap:butt;stroke-linejoin:miter;stroke:rgb(0%,0%,0%);stroke-opacity:1;stroke-miterlimit:10;\" d=\"M 320.808594 97.484375 C 320.808594 103.007812 316.332031 107.484375 310.808594 107.484375 C 305.285156 107.484375 300.808594 103.007812 300.808594 97.484375 C 300.808594 91.960938 305.285156 87.484375 310.808594 87.484375 C 316.332031 87.484375 320.808594 91.960938 320.808594 97.484375 \"/>\n",
       "<path style=\"fill-rule:nonzero;fill:rgb(67.843137%,84.705882%,90.196078%);fill-opacity:1;stroke-width:1;stroke-linecap:butt;stroke-linejoin:miter;stroke:rgb(0%,0%,0%);stroke-opacity:1;stroke-miterlimit:10;\" d=\"M 324.644531 529.113281 C 324.644531 534.636719 320.167969 539.113281 314.644531 539.113281 C 309.121094 539.113281 304.644531 534.636719 304.644531 529.113281 C 304.644531 523.589844 309.121094 519.113281 314.644531 519.113281 C 320.167969 519.113281 324.644531 523.589844 324.644531 529.113281 \"/>\n",
       "<path style=\"fill-rule:nonzero;fill:rgb(67.843137%,84.705882%,90.196078%);fill-opacity:1;stroke-width:1;stroke-linecap:butt;stroke-linejoin:miter;stroke:rgb(0%,0%,0%);stroke-opacity:1;stroke-miterlimit:10;\" d=\"M 311.527344 88.515625 C 311.527344 94.035156 307.046875 98.515625 301.527344 98.515625 C 296.003906 98.515625 291.527344 94.035156 291.527344 88.515625 C 291.527344 82.992188 296.003906 78.515625 301.527344 78.515625 C 307.046875 78.515625 311.527344 82.992188 311.527344 88.515625 \"/>\n",
       "<path style=\"fill-rule:nonzero;fill:rgb(67.843137%,84.705882%,90.196078%);fill-opacity:1;stroke-width:1;stroke-linecap:butt;stroke-linejoin:miter;stroke:rgb(0%,0%,0%);stroke-opacity:1;stroke-miterlimit:10;\" d=\"M 297.347656 502.859375 C 297.347656 508.382812 292.871094 512.859375 287.347656 512.859375 C 281.824219 512.859375 277.347656 508.382812 277.347656 502.859375 C 277.347656 497.335938 281.824219 492.859375 287.347656 492.859375 C 292.871094 492.859375 297.347656 497.335938 297.347656 502.859375 \"/>\n",
       "<path style=\"fill-rule:nonzero;fill:rgb(67.843137%,84.705882%,90.196078%);fill-opacity:1;stroke-width:1;stroke-linecap:butt;stroke-linejoin:miter;stroke:rgb(0%,0%,0%);stroke-opacity:1;stroke-miterlimit:10;\" d=\"M 316.382812 71.945312 C 316.382812 77.464844 311.90625 81.945312 306.382812 81.945312 C 300.859375 81.945312 296.382812 77.464844 296.382812 71.945312 C 296.382812 66.421875 300.859375 61.945312 306.382812 61.945312 C 311.90625 61.945312 316.382812 66.421875 316.382812 71.945312 \"/>\n",
       "<path style=\"fill-rule:nonzero;fill:rgb(67.843137%,84.705882%,90.196078%);fill-opacity:1;stroke-width:1;stroke-linecap:butt;stroke-linejoin:miter;stroke:rgb(0%,0%,0%);stroke-opacity:1;stroke-miterlimit:10;\" d=\"M 314.210938 501.964844 C 314.210938 507.488281 309.734375 511.964844 304.210938 511.964844 C 298.6875 511.964844 294.210938 507.488281 294.210938 501.964844 C 294.210938 496.441406 298.6875 491.964844 304.210938 491.964844 C 309.734375 491.964844 314.210938 496.441406 314.210938 501.964844 \"/>\n",
       "<path style=\"fill-rule:nonzero;fill:rgb(67.843137%,84.705882%,90.196078%);fill-opacity:1;stroke-width:1;stroke-linecap:butt;stroke-linejoin:miter;stroke:rgb(0%,0%,0%);stroke-opacity:1;stroke-miterlimit:10;\" d=\"M 287.683594 91.371094 C 287.683594 96.890625 283.207031 101.371094 277.683594 101.371094 C 272.160156 101.371094 267.683594 96.890625 267.683594 91.371094 C 267.683594 85.847656 272.160156 81.371094 277.683594 81.371094 C 283.207031 81.371094 287.683594 85.847656 287.683594 91.371094 \"/>\n",
       "<path style=\"fill-rule:nonzero;fill:rgb(67.843137%,84.705882%,90.196078%);fill-opacity:1;stroke-width:1;stroke-linecap:butt;stroke-linejoin:miter;stroke:rgb(0%,0%,0%);stroke-opacity:1;stroke-miterlimit:10;\" d=\"M 297.460938 497.917969 C 297.460938 503.441406 292.984375 507.917969 287.460938 507.917969 C 281.9375 507.917969 277.460938 503.441406 277.460938 497.917969 C 277.460938 492.394531 281.9375 487.917969 287.460938 487.917969 C 292.984375 487.917969 297.460938 492.394531 297.460938 497.917969 \"/>\n",
       "<path style=\"fill-rule:nonzero;fill:rgb(67.843137%,84.705882%,90.196078%);fill-opacity:1;stroke-width:1;stroke-linecap:butt;stroke-linejoin:miter;stroke:rgb(0%,0%,0%);stroke-opacity:1;stroke-miterlimit:10;\" d=\"M 316.984375 51.613281 C 316.984375 57.136719 312.507812 61.613281 306.984375 61.613281 C 301.464844 61.613281 296.984375 57.136719 296.984375 51.613281 C 296.984375 46.09375 301.464844 41.613281 306.984375 41.613281 C 312.507812 41.613281 316.984375 46.09375 316.984375 51.613281 \"/>\n",
       "<path style=\"fill-rule:nonzero;fill:rgb(67.843137%,84.705882%,90.196078%);fill-opacity:1;stroke-width:1;stroke-linecap:butt;stroke-linejoin:miter;stroke:rgb(0%,0%,0%);stroke-opacity:1;stroke-miterlimit:10;\" d=\"M 294.347656 481.125 C 294.347656 486.644531 289.871094 491.125 284.347656 491.125 C 278.824219 491.125 274.347656 486.644531 274.347656 481.125 C 274.347656 475.601562 278.824219 471.125 284.347656 471.125 C 289.871094 471.125 294.347656 475.601562 294.347656 481.125 \"/>\n",
       "<path style=\"fill-rule:nonzero;fill:rgb(67.843137%,84.705882%,90.196078%);fill-opacity:1;stroke-width:1;stroke-linecap:butt;stroke-linejoin:miter;stroke:rgb(0%,0%,0%);stroke-opacity:1;stroke-miterlimit:10;\" d=\"M 288.792969 85.871094 C 288.792969 91.390625 284.316406 95.871094 278.792969 95.871094 C 273.269531 95.871094 268.792969 91.390625 268.792969 85.871094 C 268.792969 80.347656 273.269531 75.871094 278.792969 75.871094 C 284.316406 75.871094 288.792969 80.347656 288.792969 85.871094 \"/>\n",
       "<path style=\"fill-rule:nonzero;fill:rgb(67.843137%,84.705882%,90.196078%);fill-opacity:1;stroke-width:1;stroke-linecap:butt;stroke-linejoin:miter;stroke:rgb(0%,0%,0%);stroke-opacity:1;stroke-miterlimit:10;\" d=\"M 303.292969 507.722656 C 303.292969 513.246094 298.816406 517.722656 293.292969 517.722656 C 287.769531 517.722656 283.292969 513.246094 283.292969 507.722656 C 283.292969 502.199219 287.769531 497.722656 293.292969 497.722656 C 298.816406 497.722656 303.292969 502.199219 303.292969 507.722656 \"/>\n",
       "<path style=\"fill-rule:nonzero;fill:rgb(67.843137%,84.705882%,90.196078%);fill-opacity:1;stroke-width:1;stroke-linecap:butt;stroke-linejoin:miter;stroke:rgb(0%,0%,0%);stroke-opacity:1;stroke-miterlimit:10;\" d=\"M 306.1875 109.773438 C 306.1875 115.296875 301.707031 119.773438 296.1875 119.773438 C 290.664062 119.773438 286.1875 115.296875 286.1875 109.773438 C 286.1875 104.25 290.664062 99.773438 296.1875 99.773438 C 301.707031 99.773438 306.1875 104.25 306.1875 109.773438 \"/>\n",
       "<path style=\"fill-rule:nonzero;fill:rgb(67.843137%,84.705882%,90.196078%);fill-opacity:1;stroke-width:1;stroke-linecap:butt;stroke-linejoin:miter;stroke:rgb(0%,0%,0%);stroke-opacity:1;stroke-miterlimit:10;\" d=\"M 294.925781 448.421875 C 294.925781 453.945312 290.449219 458.421875 284.925781 458.421875 C 279.402344 458.421875 274.925781 453.945312 274.925781 448.421875 C 274.925781 442.898438 279.402344 438.421875 284.925781 438.421875 C 290.449219 438.421875 294.925781 442.898438 294.925781 448.421875 \"/>\n",
       "<path style=\"fill-rule:nonzero;fill:rgb(67.843137%,84.705882%,90.196078%);fill-opacity:1;stroke-width:1;stroke-linecap:butt;stroke-linejoin:miter;stroke:rgb(0%,0%,0%);stroke-opacity:1;stroke-miterlimit:10;\" d=\"M 283.15625 27.519531 C 283.15625 33.039062 278.679688 37.519531 273.15625 37.519531 C 267.632812 37.519531 263.15625 33.039062 263.15625 27.519531 C 263.15625 21.996094 267.632812 17.519531 273.15625 17.519531 C 278.679688 17.519531 283.15625 21.996094 283.15625 27.519531 \"/>\n",
       "<path style=\"fill-rule:nonzero;fill:rgb(67.843137%,84.705882%,90.196078%);fill-opacity:1;stroke-width:1;stroke-linecap:butt;stroke-linejoin:miter;stroke:rgb(0%,0%,0%);stroke-opacity:1;stroke-miterlimit:10;\" d=\"M 291.347656 467.105469 C 291.347656 472.628906 286.871094 477.105469 281.347656 477.105469 C 275.824219 477.105469 271.347656 472.628906 271.347656 467.105469 C 271.347656 461.582031 275.824219 457.105469 281.347656 457.105469 C 286.871094 457.105469 291.347656 461.582031 291.347656 467.105469 \"/>\n",
       "<path style=\"fill-rule:nonzero;fill:rgb(67.843137%,84.705882%,90.196078%);fill-opacity:1;stroke-width:1;stroke-linecap:butt;stroke-linejoin:miter;stroke:rgb(0%,0%,0%);stroke-opacity:1;stroke-miterlimit:10;\" d=\"M 279.585938 80.195312 C 279.585938 85.71875 275.109375 90.195312 269.585938 90.195312 C 264.0625 90.195312 259.585938 85.71875 259.585938 80.195312 C 259.585938 74.671875 264.0625 70.195312 269.585938 70.195312 C 275.109375 70.195312 279.585938 74.671875 279.585938 80.195312 \"/>\n",
       "<path style=\"fill-rule:nonzero;fill:rgb(67.843137%,84.705882%,90.196078%);fill-opacity:1;stroke-width:1;stroke-linecap:butt;stroke-linejoin:miter;stroke:rgb(0%,0%,0%);stroke-opacity:1;stroke-miterlimit:10;\" d=\"M 272.585938 500.40625 C 272.585938 505.925781 268.109375 510.40625 262.585938 510.40625 C 257.0625 510.40625 252.585938 505.925781 252.585938 500.40625 C 252.585938 494.882812 257.0625 490.40625 262.585938 490.40625 C 268.109375 490.40625 272.585938 494.882812 272.585938 500.40625 \"/>\n",
       "<path style=\"fill-rule:nonzero;fill:rgb(67.843137%,84.705882%,90.196078%);fill-opacity:1;stroke-width:1;stroke-linecap:butt;stroke-linejoin:miter;stroke:rgb(0%,0%,0%);stroke-opacity:1;stroke-miterlimit:10;\" d=\"M 269.355469 458.585938 C 269.355469 464.109375 264.878906 468.585938 259.355469 468.585938 C 253.832031 468.585938 249.355469 464.109375 249.355469 458.585938 C 249.355469 453.0625 253.832031 448.585938 259.355469 448.585938 C 264.878906 448.585938 269.355469 453.0625 269.355469 458.585938 \"/>\n",
       "<path style=\"fill-rule:nonzero;fill:rgb(67.843137%,84.705882%,90.196078%);fill-opacity:1;stroke-width:1;stroke-linecap:butt;stroke-linejoin:miter;stroke:rgb(0%,0%,0%);stroke-opacity:1;stroke-miterlimit:10;\" d=\"M 258.601562 89.394531 C 258.601562 94.917969 254.125 99.394531 248.601562 99.394531 C 243.078125 99.394531 238.601562 94.917969 238.601562 89.394531 C 238.601562 83.871094 243.078125 79.394531 248.601562 79.394531 C 254.125 79.394531 258.601562 83.871094 258.601562 89.394531 \"/>\n",
       "<path style=\"fill-rule:nonzero;fill:rgb(67.843137%,84.705882%,90.196078%);fill-opacity:1;stroke-width:1;stroke-linecap:butt;stroke-linejoin:miter;stroke:rgb(0%,0%,0%);stroke-opacity:1;stroke-miterlimit:10;\" d=\"M 274.441406 451.492188 C 274.441406 457.015625 269.964844 461.492188 264.441406 461.492188 C 258.917969 461.492188 254.441406 457.015625 254.441406 451.492188 C 254.441406 445.96875 258.917969 441.492188 264.441406 441.492188 C 269.964844 441.492188 274.441406 445.96875 274.441406 451.492188 \"/>\n",
       "<path style=\"fill-rule:nonzero;fill:rgb(67.843137%,84.705882%,90.196078%);fill-opacity:1;stroke-width:1;stroke-linecap:butt;stroke-linejoin:miter;stroke:rgb(0%,0%,0%);stroke-opacity:1;stroke-miterlimit:10;\" d=\"M 265.132812 60.527344 C 265.132812 66.050781 260.65625 70.527344 255.132812 70.527344 C 249.613281 70.527344 245.132812 66.050781 245.132812 60.527344 C 245.132812 55.003906 249.613281 50.527344 255.132812 50.527344 C 260.65625 50.527344 265.132812 55.003906 265.132812 60.527344 \"/>\n",
       "<path style=\"fill-rule:nonzero;fill:rgb(67.843137%,84.705882%,90.196078%);fill-opacity:1;stroke-width:1;stroke-linecap:butt;stroke-linejoin:miter;stroke:rgb(0%,0%,0%);stroke-opacity:1;stroke-miterlimit:10;\" d=\"M 267.160156 471.757812 C 267.160156 477.28125 262.683594 481.757812 257.160156 481.757812 C 251.636719 481.757812 247.160156 477.28125 247.160156 471.757812 C 247.160156 466.238281 251.636719 461.757812 257.160156 461.757812 C 262.683594 461.757812 267.160156 466.238281 267.160156 471.757812 \"/>\n",
       "<path style=\"fill-rule:nonzero;fill:rgb(67.843137%,84.705882%,90.196078%);fill-opacity:1;stroke-width:1;stroke-linecap:butt;stroke-linejoin:miter;stroke:rgb(0%,0%,0%);stroke-opacity:1;stroke-miterlimit:10;\" d=\"M 256.769531 73.328125 C 256.769531 78.851562 252.292969 83.328125 246.769531 83.328125 C 241.246094 83.328125 236.769531 78.851562 236.769531 73.328125 C 236.769531 67.804688 241.246094 63.328125 246.769531 63.328125 C 252.292969 63.328125 256.769531 67.804688 256.769531 73.328125 \"/>\n",
       "<path style=\"fill-rule:nonzero;fill:rgb(67.843137%,84.705882%,90.196078%);fill-opacity:1;stroke-width:1;stroke-linecap:butt;stroke-linejoin:miter;stroke:rgb(0%,0%,0%);stroke-opacity:1;stroke-miterlimit:10;\" d=\"M 267.125 443.425781 C 267.125 448.949219 262.648438 453.425781 257.125 453.425781 C 251.601562 453.425781 247.125 448.949219 247.125 443.425781 C 247.125 437.902344 251.601562 433.425781 257.125 433.425781 C 262.648438 433.425781 267.125 437.902344 267.125 443.425781 \"/>\n",
       "<path style=\"fill-rule:nonzero;fill:rgb(67.843137%,84.705882%,90.196078%);fill-opacity:1;stroke-width:1;stroke-linecap:butt;stroke-linejoin:miter;stroke:rgb(0%,0%,0%);stroke-opacity:1;stroke-miterlimit:10;\" d=\"M 281.800781 396.507812 C 281.800781 402.03125 277.324219 406.507812 271.800781 406.507812 C 266.277344 406.507812 261.800781 402.03125 261.800781 396.507812 C 261.800781 390.988281 266.277344 386.507812 271.800781 386.507812 C 277.324219 386.507812 281.800781 390.988281 281.800781 396.507812 \"/>\n",
       "<path style=\"fill-rule:nonzero;fill:rgb(67.843137%,84.705882%,90.196078%);fill-opacity:1;stroke-width:1;stroke-linecap:butt;stroke-linejoin:miter;stroke:rgb(0%,0%,0%);stroke-opacity:1;stroke-miterlimit:10;\" d=\"M 239.253906 51.078125 C 239.253906 56.601562 234.777344 61.078125 229.253906 61.078125 C 223.730469 61.078125 219.253906 56.601562 219.253906 51.078125 C 219.253906 45.554688 223.730469 41.078125 229.253906 41.078125 C 234.777344 41.078125 239.253906 45.554688 239.253906 51.078125 \"/>\n",
       "<path style=\"fill-rule:nonzero;fill:rgb(67.843137%,84.705882%,90.196078%);fill-opacity:1;stroke-width:1;stroke-linecap:butt;stroke-linejoin:miter;stroke:rgb(0%,0%,0%);stroke-opacity:1;stroke-miterlimit:10;\" d=\"M 257.625 420.898438 C 257.625 426.421875 253.148438 430.898438 247.625 430.898438 C 242.101562 430.898438 237.625 426.421875 237.625 420.898438 C 237.625 415.375 242.101562 410.898438 247.625 410.898438 C 253.148438 410.898438 257.625 415.375 257.625 420.898438 \"/>\n",
       "<path style=\"fill-rule:nonzero;fill:rgb(67.843137%,84.705882%,90.196078%);fill-opacity:1;stroke-width:1;stroke-linecap:butt;stroke-linejoin:miter;stroke:rgb(0%,0%,0%);stroke-opacity:1;stroke-miterlimit:10;\" d=\"M 259.925781 379.097656 C 259.925781 384.621094 255.449219 389.097656 249.925781 389.097656 C 244.40625 389.097656 239.925781 384.621094 239.925781 379.097656 C 239.925781 373.574219 244.40625 369.097656 249.925781 369.097656 C 255.449219 369.097656 259.925781 373.574219 259.925781 379.097656 \"/>\n",
       "<path style=\"fill-rule:nonzero;fill:rgb(67.843137%,84.705882%,90.196078%);fill-opacity:1;stroke-width:1;stroke-linecap:butt;stroke-linejoin:miter;stroke:rgb(0%,0%,0%);stroke-opacity:1;stroke-miterlimit:10;\" d=\"M 252.558594 39.953125 C 252.558594 45.476562 248.082031 49.953125 242.558594 49.953125 C 237.035156 49.953125 232.558594 45.476562 232.558594 39.953125 C 232.558594 34.429688 237.035156 29.953125 242.558594 29.953125 C 248.082031 29.953125 252.558594 34.429688 252.558594 39.953125 \"/>\n",
       "<path style=\"fill-rule:nonzero;fill:rgb(67.843137%,84.705882%,90.196078%);fill-opacity:1;stroke-width:1;stroke-linecap:butt;stroke-linejoin:miter;stroke:rgb(0%,0%,0%);stroke-opacity:1;stroke-miterlimit:10;\" d=\"M 240.503906 402.613281 C 240.503906 408.136719 236.027344 412.613281 230.503906 412.613281 C 224.980469 412.613281 220.503906 408.136719 220.503906 402.613281 C 220.503906 397.089844 224.980469 392.613281 230.503906 392.613281 C 236.027344 392.613281 240.503906 397.089844 240.503906 402.613281 \"/>\n",
       "<path style=\"fill-rule:nonzero;fill:rgb(67.843137%,84.705882%,90.196078%);fill-opacity:1;stroke-width:1;stroke-linecap:butt;stroke-linejoin:miter;stroke:rgb(0%,0%,0%);stroke-opacity:1;stroke-miterlimit:10;\" d=\"M 242.886719 60.136719 C 242.886719 65.660156 238.410156 70.136719 232.886719 70.136719 C 227.367188 70.136719 222.886719 65.660156 222.886719 60.136719 C 222.886719 54.617188 227.367188 50.136719 232.886719 50.136719 C 238.410156 50.136719 242.886719 54.617188 242.886719 60.136719 \"/>\n",
       "<path style=\"fill-rule:nonzero;fill:rgb(67.843137%,84.705882%,90.196078%);fill-opacity:1;stroke-width:1;stroke-linecap:butt;stroke-linejoin:miter;stroke:rgb(0%,0%,0%);stroke-opacity:1;stroke-miterlimit:10;\" d=\"M 243.449219 414.121094 C 243.449219 419.644531 238.96875 424.121094 233.449219 424.121094 C 227.925781 424.121094 223.449219 419.644531 223.449219 414.121094 C 223.449219 408.597656 227.925781 404.121094 233.449219 404.121094 C 238.96875 404.121094 243.449219 408.597656 243.449219 414.121094 \"/>\n",
       "<path style=\"fill-rule:nonzero;fill:rgb(67.843137%,84.705882%,90.196078%);fill-opacity:1;stroke-width:1;stroke-linecap:butt;stroke-linejoin:miter;stroke:rgb(0%,0%,0%);stroke-opacity:1;stroke-miterlimit:10;\" d=\"M 249.324219 375.742188 C 249.324219 381.265625 244.847656 385.742188 239.324219 385.742188 C 233.800781 385.742188 229.324219 381.265625 229.324219 375.742188 C 229.324219 370.21875 233.800781 365.742188 239.324219 365.742188 C 244.847656 365.742188 249.324219 370.21875 249.324219 375.742188 \"/>\n",
       "<path style=\"fill-rule:nonzero;fill:rgb(67.843137%,84.705882%,90.196078%);fill-opacity:1;stroke-width:1;stroke-linecap:butt;stroke-linejoin:miter;stroke:rgb(0%,0%,0%);stroke-opacity:1;stroke-miterlimit:10;\" d=\"M 229.230469 389.539062 C 229.230469 395.0625 224.753906 399.539062 219.230469 399.539062 C 213.707031 399.539062 209.230469 395.0625 209.230469 389.539062 C 209.230469 384.015625 213.707031 379.539062 219.230469 379.539062 C 224.753906 379.539062 229.230469 384.015625 229.230469 389.539062 \"/>\n",
       "<path style=\"fill-rule:nonzero;fill:rgb(67.843137%,84.705882%,90.196078%);fill-opacity:1;stroke-width:1;stroke-linecap:butt;stroke-linejoin:miter;stroke:rgb(0%,0%,0%);stroke-opacity:1;stroke-miterlimit:10;\" d=\"M 221.304688 20 C 221.304688 25.523438 216.828125 30 211.304688 30 C 205.785156 30 201.304688 25.523438 201.304688 20 C 201.304688 14.476562 205.785156 10 211.304688 10 C 216.828125 10 221.304688 14.476562 221.304688 20 \"/>\n",
       "<path style=\"fill-rule:nonzero;fill:rgb(67.843137%,84.705882%,90.196078%);fill-opacity:1;stroke-width:1;stroke-linecap:butt;stroke-linejoin:miter;stroke:rgb(0%,0%,0%);stroke-opacity:1;stroke-miterlimit:10;\" d=\"M 240.292969 373.011719 C 240.292969 378.535156 235.816406 383.011719 230.292969 383.011719 C 224.773438 383.011719 220.292969 378.535156 220.292969 373.011719 C 220.292969 367.488281 224.773438 363.011719 230.292969 363.011719 C 235.816406 363.011719 240.292969 367.488281 240.292969 373.011719 \"/>\n",
       "<path style=\"fill-rule:nonzero;fill:rgb(67.843137%,84.705882%,90.196078%);fill-opacity:1;stroke-width:1;stroke-linecap:butt;stroke-linejoin:miter;stroke:rgb(0%,0%,0%);stroke-opacity:1;stroke-miterlimit:10;\" d=\"M 242.605469 357.628906 C 242.605469 363.152344 238.128906 367.628906 232.605469 367.628906 C 227.082031 367.628906 222.605469 363.152344 222.605469 357.628906 C 222.605469 352.109375 227.082031 347.628906 232.605469 347.628906 C 238.128906 347.628906 242.605469 352.109375 242.605469 357.628906 \"/>\n",
       "<path style=\"fill-rule:nonzero;fill:rgb(67.843137%,84.705882%,90.196078%);fill-opacity:1;stroke-width:1;stroke-linecap:butt;stroke-linejoin:miter;stroke:rgb(0%,0%,0%);stroke-opacity:1;stroke-miterlimit:10;\" d=\"M 232.964844 54.875 C 232.964844 60.398438 228.488281 64.875 222.964844 64.875 C 217.441406 64.875 212.964844 60.398438 212.964844 54.875 C 212.964844 49.351562 217.441406 44.875 222.964844 44.875 C 228.488281 44.875 232.964844 49.351562 232.964844 54.875 \"/>\n",
       "<path style=\"fill-rule:nonzero;fill:rgb(67.843137%,84.705882%,90.196078%);fill-opacity:1;stroke-width:1;stroke-linecap:butt;stroke-linejoin:miter;stroke:rgb(0%,0%,0%);stroke-opacity:1;stroke-miterlimit:10;\" d=\"M 228.730469 348.347656 C 228.730469 353.871094 224.253906 358.347656 218.730469 358.347656 C 213.210938 358.347656 208.730469 353.871094 208.730469 348.347656 C 208.730469 342.828125 213.210938 338.347656 218.730469 338.347656 C 224.253906 338.347656 228.730469 342.828125 228.730469 348.347656 \"/>\n",
       "<path style=\"fill-rule:nonzero;fill:rgb(67.843137%,84.705882%,90.196078%);fill-opacity:1;stroke-width:1;stroke-linecap:butt;stroke-linejoin:miter;stroke:rgb(0%,0%,0%);stroke-opacity:1;stroke-miterlimit:10;\" d=\"M 233.207031 324.976562 C 233.207031 330.496094 228.730469 334.976562 223.207031 334.976562 C 217.683594 334.976562 213.207031 330.496094 213.207031 324.976562 C 213.207031 319.453125 217.683594 314.976562 223.207031 314.976562 C 228.730469 314.976562 233.207031 319.453125 233.207031 324.976562 \"/>\n",
       "<path style=\"fill-rule:nonzero;fill:rgb(67.843137%,84.705882%,90.196078%);fill-opacity:1;stroke-width:1;stroke-linecap:butt;stroke-linejoin:miter;stroke:rgb(0%,0%,0%);stroke-opacity:1;stroke-miterlimit:10;\" d=\"M 246.324219 336.632812 C 246.324219 342.15625 241.847656 346.632812 236.324219 346.632812 C 230.800781 346.632812 226.324219 342.15625 226.324219 336.632812 C 226.324219 331.109375 230.800781 326.632812 236.324219 326.632812 C 241.847656 326.632812 246.324219 331.109375 246.324219 336.632812 \"/>\n",
       "<path style=\"fill-rule:nonzero;fill:rgb(67.843137%,84.705882%,90.196078%);fill-opacity:1;stroke-width:1;stroke-linecap:butt;stroke-linejoin:miter;stroke:rgb(0%,0%,0%);stroke-opacity:1;stroke-miterlimit:10;\" d=\"M 214.714844 36.796875 C 214.714844 42.320312 210.234375 46.796875 204.714844 46.796875 C 199.191406 46.796875 194.714844 42.320312 194.714844 36.796875 C 194.714844 31.277344 199.191406 26.796875 204.714844 26.796875 C 210.234375 26.796875 214.714844 31.277344 214.714844 36.796875 \"/>\n",
       "<path style=\"fill-rule:nonzero;fill:rgb(67.843137%,84.705882%,90.196078%);fill-opacity:1;stroke-width:1;stroke-linecap:butt;stroke-linejoin:miter;stroke:rgb(0%,0%,0%);stroke-opacity:1;stroke-miterlimit:10;\" d=\"M 221.914062 292.101562 C 221.914062 297.621094 217.4375 302.101562 211.914062 302.101562 C 206.390625 302.101562 201.914062 297.621094 201.914062 292.101562 C 201.914062 286.578125 206.390625 282.101562 211.914062 282.101562 C 217.4375 282.101562 221.914062 286.578125 221.914062 292.101562 \"/>\n",
       "<path style=\"fill-rule:nonzero;fill:rgb(67.843137%,84.705882%,90.196078%);fill-opacity:1;stroke-width:1;stroke-linecap:butt;stroke-linejoin:miter;stroke:rgb(0%,0%,0%);stroke-opacity:1;stroke-miterlimit:10;\" d=\"M 232.289062 313.574219 C 232.289062 319.097656 227.8125 323.574219 222.289062 323.574219 C 216.765625 323.574219 212.289062 319.097656 212.289062 313.574219 C 212.289062 308.054688 216.765625 303.574219 222.289062 303.574219 C 227.8125 303.574219 232.289062 308.054688 232.289062 313.574219 \"/>\n",
       "<path style=\"fill-rule:nonzero;fill:rgb(67.843137%,84.705882%,90.196078%);fill-opacity:1;stroke-width:1;stroke-linecap:butt;stroke-linejoin:miter;stroke:rgb(0%,0%,0%);stroke-opacity:1;stroke-miterlimit:10;\" d=\"M 233.027344 273.777344 C 233.027344 279.300781 228.546875 283.777344 223.027344 283.777344 C 217.503906 283.777344 213.027344 279.300781 213.027344 273.777344 C 213.027344 268.253906 217.503906 263.777344 223.027344 263.777344 C 228.546875 263.777344 233.027344 268.253906 233.027344 273.777344 \"/>\n",
       "<path style=\"fill-rule:nonzero;fill:rgb(67.843137%,84.705882%,90.196078%);fill-opacity:1;stroke-width:1;stroke-linecap:butt;stroke-linejoin:miter;stroke:rgb(0%,0%,0%);stroke-opacity:1;stroke-miterlimit:10;\" d=\"M 215.386719 285.640625 C 215.386719 291.164062 210.90625 295.640625 205.386719 295.640625 C 199.863281 295.640625 195.386719 291.164062 195.386719 285.640625 C 195.386719 280.117188 199.863281 275.640625 205.386719 275.640625 C 210.90625 275.640625 215.386719 280.117188 215.386719 285.640625 \"/>\n",
       "<path style=\"fill-rule:nonzero;fill:rgb(67.843137%,84.705882%,90.196078%);fill-opacity:1;stroke-width:1;stroke-linecap:butt;stroke-linejoin:miter;stroke:rgb(0%,0%,0%);stroke-opacity:1;stroke-miterlimit:10;\" d=\"M 215.492188 78.363281 C 215.492188 83.886719 211.015625 88.363281 205.492188 88.363281 C 199.96875 88.363281 195.492188 83.886719 195.492188 78.363281 C 195.492188 72.839844 199.96875 68.363281 205.492188 68.363281 C 211.015625 68.363281 215.492188 72.839844 215.492188 78.363281 \"/>\n",
       "<path style=\"fill-rule:nonzero;fill:rgb(67.843137%,84.705882%,90.196078%);fill-opacity:1;stroke-width:1;stroke-linecap:butt;stroke-linejoin:miter;stroke:rgb(0%,0%,0%);stroke-opacity:1;stroke-miterlimit:10;\" d=\"M 234.796875 225.539062 C 234.796875 231.0625 230.320312 235.539062 224.796875 235.539062 C 219.273438 235.539062 214.796875 231.0625 214.796875 225.539062 C 214.796875 220.015625 219.273438 215.539062 224.796875 215.539062 C 230.320312 215.539062 234.796875 220.015625 234.796875 225.539062 \"/>\n",
       "<path style=\"fill-rule:nonzero;fill:rgb(67.843137%,84.705882%,90.196078%);fill-opacity:1;stroke-width:1;stroke-linecap:butt;stroke-linejoin:miter;stroke:rgb(0%,0%,0%);stroke-opacity:1;stroke-miterlimit:10;\" d=\"M 228.058594 261.015625 C 228.058594 266.535156 223.578125 271.015625 218.058594 271.015625 C 212.535156 271.015625 208.058594 266.535156 208.058594 261.015625 C 208.058594 255.492188 212.535156 251.015625 218.058594 251.015625 C 223.578125 251.015625 228.058594 255.492188 228.058594 261.015625 \"/>\n",
       "<path style=\"fill-rule:nonzero;fill:rgb(67.843137%,84.705882%,90.196078%);fill-opacity:1;stroke-width:1;stroke-linecap:butt;stroke-linejoin:miter;stroke:rgb(0%,0%,0%);stroke-opacity:1;stroke-miterlimit:10;\" d=\"M 212.09375 244.023438 C 212.09375 249.546875 207.617188 254.023438 202.09375 254.023438 C 196.570312 254.023438 192.09375 249.546875 192.09375 244.023438 C 192.09375 238.5 196.570312 234.023438 202.09375 234.023438 C 207.617188 234.023438 212.09375 238.5 212.09375 244.023438 \"/>\n",
       "<path style=\"fill-rule:nonzero;fill:rgb(67.843137%,84.705882%,90.196078%);fill-opacity:1;stroke-width:1;stroke-linecap:butt;stroke-linejoin:miter;stroke:rgb(0%,0%,0%);stroke-opacity:1;stroke-miterlimit:10;\" d=\"M 218.617188 231.820312 C 218.617188 237.34375 214.140625 241.820312 208.617188 241.820312 C 203.09375 241.820312 198.617188 237.34375 198.617188 231.820312 C 198.617188 226.296875 203.09375 221.820312 208.617188 221.820312 C 214.140625 221.820312 218.617188 226.296875 218.617188 231.820312 \"/>\n",
       "<path style=\"fill-rule:nonzero;fill:rgb(67.843137%,84.705882%,90.196078%);fill-opacity:1;stroke-width:1;stroke-linecap:butt;stroke-linejoin:miter;stroke:rgb(0%,0%,0%);stroke-opacity:1;stroke-miterlimit:10;\" d=\"M 207.296875 218.621094 C 207.296875 224.144531 202.816406 228.621094 197.296875 228.621094 C 191.773438 228.621094 187.296875 224.144531 187.296875 218.621094 C 187.296875 213.097656 191.773438 208.621094 197.296875 208.621094 C 202.816406 208.621094 207.296875 213.097656 207.296875 218.621094 \"/>\n",
       "<path style=\"fill-rule:nonzero;fill:rgb(67.843137%,84.705882%,90.196078%);fill-opacity:1;stroke-width:1;stroke-linecap:butt;stroke-linejoin:miter;stroke:rgb(0%,0%,0%);stroke-opacity:1;stroke-miterlimit:10;\" d=\"M 212.75 210.816406 C 212.75 216.339844 208.273438 220.816406 202.75 220.816406 C 197.226562 220.816406 192.75 216.339844 192.75 210.816406 C 192.75 205.292969 197.226562 200.816406 202.75 200.816406 C 208.273438 200.816406 212.75 205.292969 212.75 210.816406 \"/>\n",
       "<path style=\"fill-rule:nonzero;fill:rgb(67.843137%,84.705882%,90.196078%);fill-opacity:1;stroke-width:1;stroke-linecap:butt;stroke-linejoin:miter;stroke:rgb(0%,0%,0%);stroke-opacity:1;stroke-miterlimit:10;\" d=\"M 210.484375 55.257812 C 210.484375 60.78125 206.007812 65.257812 200.484375 65.257812 C 194.960938 65.257812 190.484375 60.78125 190.484375 55.257812 C 190.484375 49.734375 194.960938 45.257812 200.484375 45.257812 C 206.007812 45.257812 210.484375 49.734375 210.484375 55.257812 \"/>\n",
       "<path style=\"fill-rule:nonzero;fill:rgb(67.843137%,84.705882%,90.196078%);fill-opacity:1;stroke-width:1;stroke-linecap:butt;stroke-linejoin:miter;stroke:rgb(0%,0%,0%);stroke-opacity:1;stroke-miterlimit:10;\" d=\"M 214.6875 51.246094 C 214.6875 56.769531 210.210938 61.246094 204.6875 61.246094 C 199.164062 61.246094 194.6875 56.769531 194.6875 51.246094 C 194.6875 45.722656 199.164062 41.246094 204.6875 41.246094 C 210.210938 41.246094 214.6875 45.722656 214.6875 51.246094 \"/>\n",
       "<path style=\"fill-rule:nonzero;fill:rgb(67.843137%,84.705882%,90.196078%);fill-opacity:1;stroke-width:1;stroke-linecap:butt;stroke-linejoin:miter;stroke:rgb(0%,0%,0%);stroke-opacity:1;stroke-miterlimit:10;\" d=\"M 200.371094 20.078125 C 200.371094 25.597656 195.890625 30.078125 190.371094 30.078125 C 184.847656 30.078125 180.371094 25.597656 180.371094 20.078125 C 180.371094 14.554688 184.847656 10.078125 190.371094 10.078125 C 195.890625 10.078125 200.371094 14.554688 200.371094 20.078125 \"/>\n",
       "<path style=\"fill-rule:nonzero;fill:rgb(67.843137%,84.705882%,90.196078%);fill-opacity:1;stroke-width:1;stroke-linecap:butt;stroke-linejoin:miter;stroke:rgb(0%,0%,0%);stroke-opacity:1;stroke-miterlimit:10;\" d=\"M 193.371094 83.257812 C 193.371094 88.78125 188.894531 93.257812 183.371094 93.257812 C 177.847656 93.257812 173.371094 88.78125 173.371094 83.257812 C 173.371094 77.738281 177.847656 73.257812 183.371094 73.257812 C 188.894531 73.257812 193.371094 77.738281 193.371094 83.257812 \"/>\n",
       "<path style=\"fill-rule:nonzero;fill:rgb(67.843137%,84.705882%,90.196078%);fill-opacity:1;stroke-width:1;stroke-linecap:butt;stroke-linejoin:miter;stroke:rgb(0%,0%,0%);stroke-opacity:1;stroke-miterlimit:10;\" d=\"M 188.53125 26.871094 C 188.53125 32.394531 184.054688 36.871094 178.53125 36.871094 C 173.011719 36.871094 168.53125 32.394531 168.53125 26.871094 C 168.53125 21.351562 173.011719 16.871094 178.53125 16.871094 C 184.054688 16.871094 188.53125 21.351562 188.53125 26.871094 \"/>\n",
       "<path style=\"fill-rule:nonzero;fill:rgb(67.843137%,84.705882%,90.196078%);fill-opacity:1;stroke-width:1;stroke-linecap:butt;stroke-linejoin:miter;stroke:rgb(0%,0%,0%);stroke-opacity:1;stroke-miterlimit:10;\" d=\"M 175.035156 38.9375 C 175.035156 44.460938 170.554688 48.9375 165.035156 48.9375 C 159.511719 48.9375 155.035156 44.460938 155.035156 38.9375 C 155.035156 33.417969 159.511719 28.9375 165.035156 28.9375 C 170.554688 28.9375 175.035156 33.417969 175.035156 38.9375 \"/>\n",
       "<path style=\"fill-rule:nonzero;fill:rgb(67.843137%,84.705882%,90.196078%);fill-opacity:1;stroke-width:1;stroke-linecap:butt;stroke-linejoin:miter;stroke:rgb(0%,0%,0%);stroke-opacity:1;stroke-miterlimit:10;\" d=\"M 175.660156 62.441406 C 175.660156 67.964844 171.183594 72.441406 165.660156 72.441406 C 160.136719 72.441406 155.660156 67.964844 155.660156 62.441406 C 155.660156 56.917969 160.136719 52.441406 165.660156 52.441406 C 171.183594 52.441406 175.660156 56.917969 175.660156 62.441406 \"/>\n",
       "<path style=\"fill-rule:nonzero;fill:rgb(67.843137%,84.705882%,90.196078%);fill-opacity:1;stroke-width:1;stroke-linecap:butt;stroke-linejoin:miter;stroke:rgb(0%,0%,0%);stroke-opacity:1;stroke-miterlimit:10;\" d=\"M 181.375 43.539062 C 181.375 49.0625 176.898438 53.539062 171.375 53.539062 C 165.851562 53.539062 161.375 49.0625 161.375 43.539062 C 161.375 38.019531 165.851562 33.539062 171.375 33.539062 C 176.898438 33.539062 181.375 38.019531 181.375 43.539062 \"/>\n",
       "<path style=\"fill-rule:nonzero;fill:rgb(67.843137%,84.705882%,90.196078%);fill-opacity:1;stroke-width:1;stroke-linecap:butt;stroke-linejoin:miter;stroke:rgb(0%,0%,0%);stroke-opacity:1;stroke-miterlimit:10;\" d=\"M 168.75 74.8125 C 168.75 80.335938 164.273438 84.8125 158.75 84.8125 C 153.230469 84.8125 148.75 80.335938 148.75 74.8125 C 148.75 69.292969 153.230469 64.8125 158.75 64.8125 C 164.273438 64.8125 168.75 69.292969 168.75 74.8125 \"/>\n",
       "<path style=\"fill-rule:nonzero;fill:rgb(67.843137%,84.705882%,90.196078%);fill-opacity:1;stroke-width:1;stroke-linecap:butt;stroke-linejoin:miter;stroke:rgb(0%,0%,0%);stroke-opacity:1;stroke-miterlimit:10;\" d=\"M 160.941406 67.375 C 160.941406 72.898438 156.464844 77.375 150.941406 77.375 C 145.417969 77.375 140.941406 72.898438 140.941406 67.375 C 140.941406 61.851562 145.417969 57.375 150.941406 57.375 C 156.464844 57.375 160.941406 61.851562 160.941406 67.375 \"/>\n",
       "<path style=\"fill-rule:nonzero;fill:rgb(67.843137%,84.705882%,90.196078%);fill-opacity:1;stroke-width:1;stroke-linecap:butt;stroke-linejoin:miter;stroke:rgb(0%,0%,0%);stroke-opacity:1;stroke-miterlimit:10;\" d=\"M 165.59375 51.96875 C 165.59375 57.488281 161.117188 61.96875 155.59375 61.96875 C 150.070312 61.96875 145.59375 57.488281 145.59375 51.96875 C 145.59375 46.445312 150.070312 41.96875 155.59375 41.96875 C 161.117188 41.96875 165.59375 46.445312 165.59375 51.96875 \"/>\n",
       "<path style=\"fill-rule:nonzero;fill:rgb(67.843137%,84.705882%,90.196078%);fill-opacity:1;stroke-width:1;stroke-linecap:butt;stroke-linejoin:miter;stroke:rgb(0%,0%,0%);stroke-opacity:1;stroke-miterlimit:10;\" d=\"M 147.019531 61.421875 C 147.019531 66.945312 142.542969 71.421875 137.019531 71.421875 C 131.5 71.421875 127.019531 66.945312 127.019531 61.421875 C 127.019531 55.898438 131.5 51.421875 137.019531 51.421875 C 142.542969 51.421875 147.019531 55.898438 147.019531 61.421875 \"/>\n",
       "<path style=\"fill-rule:nonzero;fill:rgb(67.843137%,84.705882%,90.196078%);fill-opacity:1;stroke-width:1;stroke-linecap:butt;stroke-linejoin:miter;stroke:rgb(0%,0%,0%);stroke-opacity:1;stroke-miterlimit:10;\" d=\"M 150.957031 57.664062 C 150.957031 63.1875 146.480469 67.664062 140.957031 67.664062 C 135.433594 67.664062 130.957031 63.1875 130.957031 57.664062 C 130.957031 52.140625 135.433594 47.664062 140.957031 47.664062 C 146.480469 47.664062 150.957031 52.140625 150.957031 57.664062 \"/>\n",
       "<path style=\"fill-rule:nonzero;fill:rgb(67.843137%,84.705882%,90.196078%);fill-opacity:1;stroke-width:1;stroke-linecap:butt;stroke-linejoin:miter;stroke:rgb(0%,0%,0%);stroke-opacity:1;stroke-miterlimit:10;\" d=\"M 147.167969 51.289062 C 147.167969 56.8125 142.691406 61.289062 137.167969 61.289062 C 131.644531 61.289062 127.167969 56.8125 127.167969 51.289062 C 127.167969 45.765625 131.644531 41.289062 137.167969 41.289062 C 142.691406 41.289062 147.167969 45.765625 147.167969 51.289062 \"/>\n",
       "<path style=\"fill-rule:nonzero;fill:rgb(67.843137%,84.705882%,90.196078%);fill-opacity:1;stroke-width:1;stroke-linecap:butt;stroke-linejoin:miter;stroke:rgb(0%,0%,0%);stroke-opacity:1;stroke-miterlimit:10;\" d=\"M 137.675781 94.558594 C 137.675781 100.082031 133.199219 104.558594 127.675781 104.558594 C 122.152344 104.558594 117.675781 100.082031 117.675781 94.558594 C 117.675781 89.035156 122.152344 84.558594 127.675781 84.558594 C 133.199219 84.558594 137.675781 89.035156 137.675781 94.558594 \"/>\n",
       "<path style=\"fill-rule:nonzero;fill:rgb(67.843137%,84.705882%,90.196078%);fill-opacity:1;stroke-width:1;stroke-linecap:butt;stroke-linejoin:miter;stroke:rgb(0%,0%,0%);stroke-opacity:1;stroke-miterlimit:10;\" d=\"M 135.261719 78.421875 C 135.261719 83.945312 130.785156 88.421875 125.261719 88.421875 C 119.738281 88.421875 115.261719 83.945312 115.261719 78.421875 C 115.261719 72.902344 119.738281 68.421875 125.261719 68.421875 C 130.785156 68.421875 135.261719 72.902344 135.261719 78.421875 \"/>\n",
       "<path style=\"fill-rule:nonzero;fill:rgb(67.843137%,84.705882%,90.196078%);fill-opacity:1;stroke-width:1;stroke-linecap:butt;stroke-linejoin:miter;stroke:rgb(0%,0%,0%);stroke-opacity:1;stroke-miterlimit:10;\" d=\"M 147.410156 98.273438 C 147.410156 103.796875 142.933594 108.273438 137.410156 108.273438 C 131.890625 108.273438 127.410156 103.796875 127.410156 98.273438 C 127.410156 92.75 131.890625 88.273438 137.410156 88.273438 C 142.933594 88.273438 147.410156 92.75 147.410156 98.273438 \"/>\n",
       "<path style=\"fill-rule:nonzero;fill:rgb(67.843137%,84.705882%,90.196078%);fill-opacity:1;stroke-width:1;stroke-linecap:butt;stroke-linejoin:miter;stroke:rgb(0%,0%,0%);stroke-opacity:1;stroke-miterlimit:10;\" d=\"M 136.785156 66.632812 C 136.785156 72.15625 132.308594 76.632812 126.785156 76.632812 C 121.261719 76.632812 116.785156 72.15625 116.785156 66.632812 C 116.785156 61.109375 121.261719 56.632812 126.785156 56.632812 C 132.308594 56.632812 136.785156 61.109375 136.785156 66.632812 \"/>\n",
       "<path style=\"fill-rule:nonzero;fill:rgb(67.843137%,84.705882%,90.196078%);fill-opacity:1;stroke-width:1;stroke-linecap:butt;stroke-linejoin:miter;stroke:rgb(0%,0%,0%);stroke-opacity:1;stroke-miterlimit:10;\" d=\"M 120.339844 101.683594 C 120.339844 107.207031 115.863281 111.683594 110.339844 111.683594 C 104.816406 111.683594 100.339844 107.207031 100.339844 101.683594 C 100.339844 96.164062 104.816406 91.683594 110.339844 91.683594 C 115.863281 91.683594 120.339844 96.164062 120.339844 101.683594 \"/>\n",
       "<path style=\"fill-rule:nonzero;fill:rgb(67.843137%,84.705882%,90.196078%);fill-opacity:1;stroke-width:1;stroke-linecap:butt;stroke-linejoin:miter;stroke:rgb(0%,0%,0%);stroke-opacity:1;stroke-miterlimit:10;\" d=\"M 135.175781 91.855469 C 135.175781 97.378906 130.695312 101.855469 125.175781 101.855469 C 119.652344 101.855469 115.175781 97.378906 115.175781 91.855469 C 115.175781 86.332031 119.652344 81.855469 125.175781 81.855469 C 130.695312 81.855469 135.175781 86.332031 135.175781 91.855469 \"/>\n",
       "<path style=\"fill-rule:nonzero;fill:rgb(67.843137%,84.705882%,90.196078%);fill-opacity:1;stroke-width:1;stroke-linecap:butt;stroke-linejoin:miter;stroke:rgb(0%,0%,0%);stroke-opacity:1;stroke-miterlimit:10;\" d=\"M 108.117188 122.246094 C 108.117188 127.769531 103.640625 132.246094 98.117188 132.246094 C 92.59375 132.246094 88.117188 127.769531 88.117188 122.246094 C 88.117188 116.722656 92.59375 112.246094 98.117188 112.246094 C 103.640625 112.246094 108.117188 116.722656 108.117188 122.246094 \"/>\n",
       "<path style=\"fill-rule:nonzero;fill:rgb(67.843137%,84.705882%,90.196078%);fill-opacity:1;stroke-width:1;stroke-linecap:butt;stroke-linejoin:miter;stroke:rgb(0%,0%,0%);stroke-opacity:1;stroke-miterlimit:10;\" d=\"M 96.929688 111.6875 C 96.929688 117.210938 92.453125 121.6875 86.929688 121.6875 C 81.40625 121.6875 76.929688 117.210938 76.929688 111.6875 C 76.929688 106.164062 81.40625 101.6875 86.929688 101.6875 C 92.453125 101.6875 96.929688 106.164062 96.929688 111.6875 \"/>\n",
       "<path style=\"fill-rule:nonzero;fill:rgb(67.843137%,84.705882%,90.196078%);fill-opacity:1;stroke-width:1;stroke-linecap:butt;stroke-linejoin:miter;stroke:rgb(0%,0%,0%);stroke-opacity:1;stroke-miterlimit:10;\" d=\"M 107.089844 127.457031 C 107.089844 132.980469 102.613281 137.457031 97.089844 137.457031 C 91.566406 137.457031 87.089844 132.980469 87.089844 127.457031 C 87.089844 121.9375 91.566406 117.457031 97.089844 117.457031 C 102.613281 117.457031 107.089844 121.9375 107.089844 127.457031 \"/>\n",
       "<path style=\"fill-rule:nonzero;fill:rgb(67.843137%,84.705882%,90.196078%);fill-opacity:1;stroke-width:1;stroke-linecap:butt;stroke-linejoin:miter;stroke:rgb(0%,0%,0%);stroke-opacity:1;stroke-miterlimit:10;\" d=\"M 110.644531 129.753906 C 110.644531 135.277344 106.167969 139.753906 100.644531 139.753906 C 95.121094 139.753906 90.644531 135.277344 90.644531 129.753906 C 90.644531 124.230469 95.121094 119.753906 100.644531 119.753906 C 106.167969 119.753906 110.644531 124.230469 110.644531 129.753906 \"/>\n",
       "<path style=\"fill-rule:nonzero;fill:rgb(67.843137%,84.705882%,90.196078%);fill-opacity:1;stroke-width:1;stroke-linecap:butt;stroke-linejoin:miter;stroke:rgb(0%,0%,0%);stroke-opacity:1;stroke-miterlimit:10;\" d=\"M 93.6875 128.398438 C 93.6875 133.921875 89.210938 138.398438 83.6875 138.398438 C 78.164062 138.398438 73.6875 133.921875 73.6875 128.398438 C 73.6875 122.875 78.164062 118.398438 83.6875 118.398438 C 89.210938 118.398438 93.6875 122.875 93.6875 128.398438 \"/>\n",
       "<path style=\"fill-rule:nonzero;fill:rgb(67.843137%,84.705882%,90.196078%);fill-opacity:1;stroke-width:1;stroke-linecap:butt;stroke-linejoin:miter;stroke:rgb(0%,0%,0%);stroke-opacity:1;stroke-miterlimit:10;\" d=\"M 88.992188 135.765625 C 88.992188 141.289062 84.515625 145.765625 78.992188 145.765625 C 73.472656 145.765625 68.992188 141.289062 68.992188 135.765625 C 68.992188 130.242188 73.472656 125.765625 78.992188 125.765625 C 84.515625 125.765625 88.992188 130.242188 88.992188 135.765625 \"/>\n",
       "<path style=\"fill-rule:nonzero;fill:rgb(67.843137%,84.705882%,90.196078%);fill-opacity:1;stroke-width:1;stroke-linecap:butt;stroke-linejoin:miter;stroke:rgb(0%,0%,0%);stroke-opacity:1;stroke-miterlimit:10;\" d=\"M 92.71875 153.265625 C 92.71875 158.789062 88.242188 163.265625 82.71875 163.265625 C 77.195312 163.265625 72.71875 158.789062 72.71875 153.265625 C 72.71875 147.742188 77.195312 143.265625 82.71875 143.265625 C 88.242188 143.265625 92.71875 147.742188 92.71875 153.265625 \"/>\n",
       "<path style=\"fill-rule:nonzero;fill:rgb(67.843137%,84.705882%,90.196078%);fill-opacity:1;stroke-width:1;stroke-linecap:butt;stroke-linejoin:miter;stroke:rgb(0%,0%,0%);stroke-opacity:1;stroke-miterlimit:10;\" d=\"M 75.34375 175.414062 C 75.34375 180.9375 70.867188 185.414062 65.34375 185.414062 C 59.820312 185.414062 55.34375 180.9375 55.34375 175.414062 C 55.34375 169.890625 59.820312 165.414062 65.34375 165.414062 C 70.867188 165.414062 75.34375 169.890625 75.34375 175.414062 \"/>\n",
       "<path style=\"fill-rule:nonzero;fill:rgb(67.843137%,84.705882%,90.196078%);fill-opacity:1;stroke-width:1;stroke-linecap:butt;stroke-linejoin:miter;stroke:rgb(0%,0%,0%);stroke-opacity:1;stroke-miterlimit:10;\" d=\"M 79.230469 160.960938 C 79.230469 166.484375 74.753906 170.960938 69.230469 170.960938 C 63.707031 170.960938 59.230469 166.484375 59.230469 160.960938 C 59.230469 155.4375 63.707031 150.960938 69.230469 150.960938 C 74.753906 150.960938 79.230469 155.4375 79.230469 160.960938 \"/>\n",
       "<path style=\"fill-rule:nonzero;fill:rgb(67.843137%,84.705882%,90.196078%);fill-opacity:1;stroke-width:1;stroke-linecap:butt;stroke-linejoin:miter;stroke:rgb(0%,0%,0%);stroke-opacity:1;stroke-miterlimit:10;\" d=\"M 79.921875 187.445312 C 79.921875 192.96875 75.445312 197.445312 69.921875 197.445312 C 64.398438 197.445312 59.921875 192.96875 59.921875 187.445312 C 59.921875 181.921875 64.398438 177.445312 69.921875 177.445312 C 75.445312 177.445312 79.921875 181.921875 79.921875 187.445312 \"/>\n",
       "<path style=\"fill-rule:nonzero;fill:rgb(67.843137%,84.705882%,90.196078%);fill-opacity:1;stroke-width:1;stroke-linecap:butt;stroke-linejoin:miter;stroke:rgb(0%,0%,0%);stroke-opacity:1;stroke-miterlimit:10;\" d=\"M 78.945312 185.402344 C 78.945312 190.925781 74.46875 195.402344 68.945312 195.402344 C 63.425781 195.402344 58.945312 190.925781 58.945312 185.402344 C 58.945312 179.878906 63.425781 175.402344 68.945312 175.402344 C 74.46875 175.402344 78.945312 179.878906 78.945312 185.402344 \"/>\n",
       "<path style=\"fill-rule:nonzero;fill:rgb(67.843137%,84.705882%,90.196078%);fill-opacity:1;stroke-width:1;stroke-linecap:butt;stroke-linejoin:miter;stroke:rgb(0%,0%,0%);stroke-opacity:1;stroke-miterlimit:10;\" d=\"M 69.949219 214.554688 C 69.949219 220.078125 65.46875 224.554688 59.949219 224.554688 C 54.425781 224.554688 49.949219 220.078125 49.949219 214.554688 C 49.949219 209.03125 54.425781 204.554688 59.949219 204.554688 C 65.46875 204.554688 69.949219 209.03125 69.949219 214.554688 \"/>\n",
       "<path style=\"fill-rule:nonzero;fill:rgb(67.843137%,84.705882%,90.196078%);fill-opacity:1;stroke-width:1;stroke-linecap:butt;stroke-linejoin:miter;stroke:rgb(0%,0%,0%);stroke-opacity:1;stroke-miterlimit:10;\" d=\"M 67.199219 232.699219 C 67.199219 238.222656 62.722656 242.699219 57.199219 242.699219 C 51.679688 242.699219 47.199219 238.222656 47.199219 232.699219 C 47.199219 227.175781 51.679688 222.699219 57.199219 222.699219 C 62.722656 222.699219 67.199219 227.175781 67.199219 232.699219 \"/>\n",
       "<path style=\"fill-rule:nonzero;fill:rgb(67.843137%,84.705882%,90.196078%);fill-opacity:1;stroke-width:1;stroke-linecap:butt;stroke-linejoin:miter;stroke:rgb(0%,0%,0%);stroke-opacity:1;stroke-miterlimit:10;\" d=\"M 61.007812 236.902344 C 61.007812 242.425781 56.53125 246.902344 51.007812 246.902344 C 45.484375 246.902344 41.007812 242.425781 41.007812 236.902344 C 41.007812 231.378906 45.484375 226.902344 51.007812 226.902344 C 56.53125 226.902344 61.007812 231.378906 61.007812 236.902344 \"/>\n",
       "<path style=\"fill-rule:nonzero;fill:rgb(67.843137%,84.705882%,90.196078%);fill-opacity:1;stroke-width:1;stroke-linecap:butt;stroke-linejoin:miter;stroke:rgb(0%,0%,0%);stroke-opacity:1;stroke-miterlimit:10;\" d=\"M 69.066406 223.109375 C 69.066406 228.632812 64.589844 233.109375 59.066406 233.109375 C 53.542969 233.109375 49.066406 228.632812 49.066406 223.109375 C 49.066406 217.585938 53.542969 213.109375 59.066406 213.109375 C 64.589844 213.109375 69.066406 217.585938 69.066406 223.109375 \"/>\n",
       "<path style=\"fill-rule:nonzero;fill:rgb(67.843137%,84.705882%,90.196078%);fill-opacity:1;stroke-width:1;stroke-linecap:butt;stroke-linejoin:miter;stroke:rgb(0%,0%,0%);stroke-opacity:1;stroke-miterlimit:10;\" d=\"M 57.523438 245.773438 C 57.523438 251.296875 53.042969 255.773438 47.523438 255.773438 C 42 255.773438 37.523438 251.296875 37.523438 245.773438 C 37.523438 240.25 42 235.773438 47.523438 235.773438 C 53.042969 235.773438 57.523438 240.25 57.523438 245.773438 \"/>\n",
       "<path style=\"fill-rule:nonzero;fill:rgb(67.843137%,84.705882%,90.196078%);fill-opacity:1;stroke-width:1;stroke-linecap:butt;stroke-linejoin:miter;stroke:rgb(0%,0%,0%);stroke-opacity:1;stroke-miterlimit:10;\" d=\"M 45.574219 273.84375 C 45.574219 279.367188 41.097656 283.84375 35.574219 283.84375 C 30.050781 283.84375 25.574219 279.367188 25.574219 273.84375 C 25.574219 268.320312 30.050781 263.84375 35.574219 263.84375 C 41.097656 263.84375 45.574219 268.320312 45.574219 273.84375 \"/>\n",
       "<path style=\"fill-rule:nonzero;fill:rgb(67.843137%,84.705882%,90.196078%);fill-opacity:1;stroke-width:1;stroke-linecap:butt;stroke-linejoin:miter;stroke:rgb(0%,0%,0%);stroke-opacity:1;stroke-miterlimit:10;\" d=\"M 54.316406 261.378906 C 54.316406 266.902344 49.839844 271.378906 44.316406 271.378906 C 38.792969 271.378906 34.316406 266.902344 34.316406 261.378906 C 34.316406 255.855469 38.792969 251.378906 44.316406 251.378906 C 49.839844 251.378906 54.316406 255.855469 54.316406 261.378906 \"/>\n",
       "<path style=\"fill-rule:nonzero;fill:rgb(67.843137%,84.705882%,90.196078%);fill-opacity:1;stroke-width:1;stroke-linecap:butt;stroke-linejoin:miter;stroke:rgb(0%,0%,0%);stroke-opacity:1;stroke-miterlimit:10;\" d=\"M 59.171875 258.261719 C 59.171875 263.785156 54.691406 268.261719 49.171875 268.261719 C 43.648438 268.261719 39.171875 263.785156 39.171875 258.261719 C 39.171875 252.738281 43.648438 248.261719 49.171875 248.261719 C 54.691406 248.261719 59.171875 252.738281 59.171875 258.261719 \"/>\n",
       "<path style=\"fill-rule:nonzero;fill:rgb(67.843137%,84.705882%,90.196078%);fill-opacity:1;stroke-width:1;stroke-linecap:butt;stroke-linejoin:miter;stroke:rgb(0%,0%,0%);stroke-opacity:1;stroke-miterlimit:10;\" d=\"M 43.660156 281.503906 C 43.660156 287.027344 39.179688 291.503906 33.660156 291.503906 C 28.136719 291.503906 23.660156 287.027344 23.660156 281.503906 C 23.660156 275.980469 28.136719 271.503906 33.660156 271.503906 C 39.179688 271.503906 43.660156 275.980469 43.660156 281.503906 \"/>\n",
       "<path style=\"fill-rule:nonzero;fill:rgb(67.843137%,84.705882%,90.196078%);fill-opacity:1;stroke-width:1;stroke-linecap:butt;stroke-linejoin:miter;stroke:rgb(0%,0%,0%);stroke-opacity:1;stroke-miterlimit:10;\" d=\"M 30.96875 299.996094 C 30.96875 305.519531 26.492188 309.996094 20.96875 309.996094 C 15.445312 309.996094 10.96875 305.519531 10.96875 299.996094 C 10.96875 294.472656 15.445312 289.996094 20.96875 289.996094 C 26.492188 289.996094 30.96875 294.472656 30.96875 299.996094 \"/>\n",
       "<path style=\"fill-rule:nonzero;fill:rgb(67.843137%,84.705882%,90.196078%);fill-opacity:1;stroke-width:1;stroke-linecap:butt;stroke-linejoin:miter;stroke:rgb(0%,0%,0%);stroke-opacity:1;stroke-miterlimit:10;\" d=\"M 64.902344 274.578125 C 64.902344 280.101562 60.425781 284.578125 54.902344 284.578125 C 49.382812 284.578125 44.902344 280.101562 44.902344 274.578125 C 44.902344 269.054688 49.382812 264.578125 54.902344 264.578125 C 60.425781 264.578125 64.902344 269.054688 64.902344 274.578125 \"/>\n",
       "<path style=\"fill-rule:nonzero;fill:rgb(67.843137%,84.705882%,90.196078%);fill-opacity:1;stroke-width:1;stroke-linecap:butt;stroke-linejoin:miter;stroke:rgb(0%,0%,0%);stroke-opacity:1;stroke-miterlimit:10;\" d=\"M 59.378906 310.460938 C 59.378906 315.984375 54.902344 320.460938 49.378906 320.460938 C 43.855469 320.460938 39.378906 315.984375 39.378906 310.460938 C 39.378906 304.9375 43.855469 300.460938 49.378906 300.460938 C 54.902344 300.460938 59.378906 304.9375 59.378906 310.460938 \"/>\n",
       "<path style=\"fill-rule:nonzero;fill:rgb(67.843137%,84.705882%,90.196078%);fill-opacity:1;stroke-width:1;stroke-linecap:butt;stroke-linejoin:miter;stroke:rgb(0%,0%,0%);stroke-opacity:1;stroke-miterlimit:10;\" d=\"M 40.285156 318.960938 C 40.285156 324.484375 35.808594 328.960938 30.285156 328.960938 C 24.761719 328.960938 20.285156 324.484375 20.285156 318.960938 C 20.285156 313.441406 24.761719 308.960938 30.285156 308.960938 C 35.808594 308.960938 40.285156 313.441406 40.285156 318.960938 \"/>\n",
       "<path style=\"fill-rule:nonzero;fill:rgb(67.843137%,84.705882%,90.196078%);fill-opacity:1;stroke-width:1;stroke-linecap:butt;stroke-linejoin:miter;stroke:rgb(0%,0%,0%);stroke-opacity:1;stroke-miterlimit:10;\" d=\"M 34.980469 343.792969 C 34.980469 349.316406 30.503906 353.792969 24.980469 353.792969 C 19.457031 353.792969 14.980469 349.316406 14.980469 343.792969 C 14.980469 338.269531 19.457031 333.792969 24.980469 333.792969 C 30.503906 333.792969 34.980469 338.269531 34.980469 343.792969 \"/>\n",
       "<path style=\"fill-rule:nonzero;fill:rgb(67.843137%,84.705882%,90.196078%);fill-opacity:1;stroke-width:1;stroke-linecap:butt;stroke-linejoin:miter;stroke:rgb(0%,0%,0%);stroke-opacity:1;stroke-miterlimit:10;\" d=\"M 55.800781 342.839844 C 55.800781 348.359375 51.324219 352.839844 45.800781 352.839844 C 40.277344 352.839844 35.800781 348.359375 35.800781 342.839844 C 35.800781 337.316406 40.277344 332.839844 45.800781 332.839844 C 51.324219 332.839844 55.800781 337.316406 55.800781 342.839844 \"/>\n",
       "<path style=\"fill-rule:nonzero;fill:rgb(67.843137%,84.705882%,90.196078%);fill-opacity:1;stroke-width:1;stroke-linecap:butt;stroke-linejoin:miter;stroke:rgb(0%,0%,0%);stroke-opacity:1;stroke-miterlimit:10;\" d=\"M 35.183594 355.285156 C 35.183594 360.808594 30.707031 365.285156 25.183594 365.285156 C 19.660156 365.285156 15.183594 360.808594 15.183594 355.285156 C 15.183594 349.761719 19.660156 345.285156 25.183594 345.285156 C 30.707031 345.285156 35.183594 349.761719 35.183594 355.285156 \"/>\n",
       "<path style=\"fill-rule:nonzero;fill:rgb(67.843137%,84.705882%,90.196078%);fill-opacity:1;stroke-width:1;stroke-linecap:butt;stroke-linejoin:miter;stroke:rgb(0%,0%,0%);stroke-opacity:1;stroke-miterlimit:10;\" d=\"M 38.9375 341.449219 C 38.9375 346.972656 34.460938 351.449219 28.9375 351.449219 C 23.414062 351.449219 18.9375 346.972656 18.9375 341.449219 C 18.9375 335.925781 23.414062 331.449219 28.9375 331.449219 C 34.460938 331.449219 38.9375 335.925781 38.9375 341.449219 \"/>\n",
       "<path style=\"fill-rule:nonzero;fill:rgb(67.843137%,84.705882%,90.196078%);fill-opacity:1;stroke-width:1;stroke-linecap:butt;stroke-linejoin:miter;stroke:rgb(0%,0%,0%);stroke-opacity:1;stroke-miterlimit:10;\" d=\"M 30 380.976562 C 30 386.5 25.523438 390.976562 20 390.976562 C 14.476562 390.976562 10 386.5 10 380.976562 C 10 375.453125 14.476562 370.976562 20 370.976562 C 25.523438 370.976562 30 375.453125 30 380.976562 \"/>\n",
       "<path style=\"fill-rule:nonzero;fill:rgb(67.843137%,84.705882%,90.196078%);fill-opacity:1;stroke-width:1;stroke-linecap:butt;stroke-linejoin:miter;stroke:rgb(0%,0%,0%);stroke-opacity:1;stroke-miterlimit:10;\" d=\"M 31.070312 360.265625 C 31.070312 365.789062 26.59375 370.265625 21.070312 370.265625 C 15.546875 370.265625 11.070312 365.789062 11.070312 360.265625 C 11.070312 354.746094 15.546875 350.265625 21.070312 350.265625 C 26.59375 350.265625 31.070312 354.746094 31.070312 360.265625 \"/>\n",
       "</g>\n",
       "</svg>\n"
      ],
      "text/plain": [
       "<igraph.drawing.Plot at 0x7f9ca2e7f450>"
      ]
     },
     "execution_count": 41,
     "metadata": {},
     "output_type": "execute_result"
    }
   ],
   "source": [
    "a= mst_trace_arr[200]\n",
    "np.fill_diagonal(a,0)\n",
    "a= a.round()\n",
    "\n",
    "g = igraph.Graph.Adjacency((a > 0).tolist())\n",
    "g.to_undirected()\n",
    "\n",
    "layout = zip(list(-Y[:,0]), list(Y[:,1])) \n",
    "out =  igraph.plot(g, layout = layout, vertex_color = c_vec)\n",
    "\n",
    "# out.save('2moon_tree1.png')\n",
    "out"
   ]
  }
 ],
 "metadata": {
  "colab": {
   "name": "SamplingGaussianMixture.ipynb",
   "provenance": [],
   "version": "0.3.2"
  },
  "kernelspec": {
   "display_name": "Python 3",
   "language": "python",
   "name": "python3"
  },
  "language_info": {
   "codemirror_mode": {
    "name": "ipython",
    "version": 3
   },
   "file_extension": ".py",
   "mimetype": "text/x-python",
   "name": "python",
   "nbconvert_exporter": "python",
   "pygments_lexer": "ipython3",
   "version": "3.7.9"
  }
 },
 "nbformat": 4,
 "nbformat_minor": 4
}
