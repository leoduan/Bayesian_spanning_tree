{
 "cells": [
  {
   "cell_type": "code",
   "execution_count": 1,
   "metadata": {},
   "outputs": [],
   "source": [
    "from sympy import *"
   ]
  },
  {
   "cell_type": "code",
   "execution_count": 2,
   "metadata": {},
   "outputs": [],
   "source": [
    "init_printing() \n"
   ]
  },
  {
   "cell_type": "code",
   "execution_count": 70,
   "metadata": {},
   "outputs": [],
   "source": [
    "dii = Symbol(\"\\sigma_{ii}\")\n",
    "djj = Symbol(\"\\sigma_{jj}\")\n",
    "dij = Symbol(\"\\sigma_{ij}\")\n",
    "\n",
    "dkm = Symbol(\"\\sigma_{km}\")\n",
    "dkk = Symbol(\"\\sigma_{kk}\")\n",
    "dmm = Symbol(\"\\sigma_{mm}\")\n",
    "\n",
    "dim = Symbol(\"\\sigma_{im}\")\n",
    "djm = Symbol(\"\\sigma_{jm}\")\n",
    "dik = Symbol(\"\\sigma_{ik}\")\n",
    "djk = Symbol(\"\\sigma_{jk}\")\n",
    "\n",
    "\n",
    "n = Symbol(\"n\")"
   ]
  },
  {
   "cell_type": "code",
   "execution_count": 56,
   "metadata": {},
   "outputs": [],
   "source": [
    "v_ij = (dii*djj+ dij**2)/n\n",
    "v_ii = (2*dii**2)/n\n",
    "v_jj = (2*djj**2)/n\n",
    "\n",
    "\n",
    "c_iijj = (2*dij**2)/n\n",
    "\n",
    "c_ijii = (2*dii*dij)/n\n",
    "c_ijjj = (2*djj*dij)/n\n",
    "\n",
    "\n"
   ]
  },
  {
   "cell_type": "code",
   "execution_count": 68,
   "metadata": {},
   "outputs": [
    {
     "data": {
      "image/png": "[encoded data removed]",
      "text/latex": [
       "$\\displaystyle \\left( \\frac{\\sigma_{ii} \\sigma_{jj} + \\sigma_{ij}^{2}}{n}, \\  \\frac{2 \\sigma_{ii}^{2}}{n}, \\  \\frac{2 \\sigma_{jj}^{2}}{n}, \\  \\frac{2 \\sigma_{ij}^{2}}{n}, \\  \\frac{2 \\sigma_{ii} \\sigma_{ij}}{n}, \\  \\frac{2 \\sigma_{ij} \\sigma_{jj}}{n}\\right)$"
      ],
      "text/plain": [
       "⎛                                     2               2               2       \n",
       "⎜\\sigma_{ii}⋅\\sigma_{jj} + \\sigma_{ij}   2⋅\\sigma_{ii}   2⋅\\sigma_{jj}   2⋅\\si\n",
       "⎜──────────────────────────────────────, ──────────────, ──────────────, ─────\n",
       "⎝                  n                           n               n              \n",
       "\n",
       "        2                                                      ⎞\n",
       "gma_{ij}   2⋅\\sigma_{ii}⋅\\sigma_{ij}  2⋅\\sigma_{ij}⋅\\sigma_{jj}⎟\n",
       "─────────, ─────────────────────────, ─────────────────────────⎟\n",
       " n                     n                          n            ⎠"
      ]
     },
     "execution_count": 68,
     "metadata": {},
     "output_type": "execute_result"
    }
   ],
   "source": [
    "(v_ij, v_ii, v_jj, c_iijj, c_ijii, c_ijjj)"
   ]
  },
  {
   "cell_type": "code",
   "execution_count": 88,
   "metadata": {},
   "outputs": [
    {
     "data": {
      "image/png": "[encoded data removed]",
      "text/latex": [
       "$\\displaystyle \\frac{2 \\left(\\sigma_{ii} - 2 \\sigma_{ij} + \\sigma_{jj}\\right)^{2}}{n}$"
      ],
      "text/plain": [
       "                                             2\n",
       "2⋅(\\sigma_{ii} - 2⋅\\sigma_{ij} + \\sigma_{jj}) \n",
       "──────────────────────────────────────────────\n",
       "                      n                       "
      ]
     },
     "execution_count": 88,
     "metadata": {},
     "output_type": "execute_result"
    }
   ],
   "source": [
    "f1 = v_ij*4 + v_ii+ v_jj + 2 *c_iijj - 4 * (c_ijii +  c_ijjj)\n",
    "\n",
    "factor(f1)"
   ]
  },
  {
   "cell_type": "code",
   "execution_count": 79,
   "metadata": {},
   "outputs": [],
   "source": [
    "c_ijkm = (dim* djk+dik*djm )/n\n",
    "\n",
    "c_iikk =  (2*dik**2)/n\n",
    "c_iimm =   (2*dim**2)/n\n",
    "c_jjkk =  (2*djk**2)/n\n",
    "c_jjmm =   (2*djm**2)/n\n",
    "\n",
    "\n",
    "c_ijkk = (2*dik* djk)/n\n",
    "c_ijmm =  (2*dim* djm)/n\n",
    "c_kmii =   (2*dik* dim)/n\n",
    "c_kmjj =   (2*djm* djk)/n"
   ]
  },
  {
   "cell_type": "code",
   "execution_count": 89,
   "metadata": {},
   "outputs": [
    {
     "data": {
      "image/png": "[encoded data removed]",
      "text/latex": [
       "$\\displaystyle \\frac{2 \\left(\\sigma_{ik} - \\sigma_{im} - \\sigma_{jk} + \\sigma_{jm}\\right)^{2}}{n}$"
      ],
      "text/plain": [
       "                                                         2\n",
       "2⋅(\\sigma_{ik} - \\sigma_{im} - \\sigma_{jk} + \\sigma_{jm}) \n",
       "──────────────────────────────────────────────────────────\n",
       "                            n                             "
      ]
     },
     "execution_count": 89,
     "metadata": {},
     "output_type": "execute_result"
    }
   ],
   "source": [
    "factor(4* c_ijkm + ( c_iikk+  c_iimm+ c_jjkk+ c_jjmm) - 2*( c_ijkk+ c_ijmm + c_kmii+ c_kmjj))"
   ]
  }
 ],
 "metadata": {
  "kernelspec": {
   "display_name": "Python 3",
   "language": "python",
   "name": "python3"
  },
  "language_info": {
   "codemirror_mode": {
    "name": "ipython",
    "version": 3
   },
   "file_extension": ".py",
   "mimetype": "text/x-python",
   "name": "python",
   "nbconvert_exporter": "python",
   "pygments_lexer": "ipython3",
   "version": "3.7.7"
  }
 },
 "nbformat": 4,
 "nbformat_minor": 4
}
