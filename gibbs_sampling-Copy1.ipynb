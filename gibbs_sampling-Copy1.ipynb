{
 "cells": [
  {
   "cell_type": "code",
   "execution_count": 39,
   "metadata": {
    "colab": {},
    "colab_type": "code",
    "id": "9_Z5moYIXkn5"
   },
   "outputs": [],
   "source": [
    "import numpy as np\n",
    "import matplotlib.pyplot as plt\n",
    "%matplotlib inline\n",
    "\n",
    "# from pylab import rcParams\n",
    "# rcParams['figure.figsize'] = 10, 8\n",
    "# rcParams['figure.dpi'] = 300\n",
    "\n",
    "\n",
    "from sklearn import cluster, datasets, mixture\n",
    "from sklearn.preprocessing import StandardScaler"
   ]
  },
  {
   "cell_type": "code",
   "execution_count": null,
   "metadata": {},
   "outputs": [],
   "source": []
  },
  {
   "cell_type": "code",
   "execution_count": 40,
   "metadata": {},
   "outputs": [],
   "source": [
    "import numba\n",
    "from numba import jit"
   ]
  },
  {
   "cell_type": "code",
   "execution_count": null,
   "metadata": {},
   "outputs": [],
   "source": []
  },
  {
   "cell_type": "code",
   "execution_count": 41,
   "metadata": {},
   "outputs": [],
   "source": [
    "import sklearn\n",
    "Y = sklearn.datasets.make_moons(n_samples=100, shuffle=True, noise=None, random_state=None)[0]\n",
    "Y = Y[np.argsort(Y[:,0]),]\n",
    "Y += np.random.normal(0,0.05, Y.shape)"
   ]
  },
  {
   "cell_type": "code",
   "execution_count": null,
   "metadata": {},
   "outputs": [],
   "source": []
  },
  {
   "cell_type": "code",
   "execution_count": 42,
   "metadata": {},
   "outputs": [],
   "source": [
    "p = Y.shape[0]\n",
    "n = Y.shape[1]"
   ]
  },
  {
   "cell_type": "code",
   "execution_count": 43,
   "metadata": {},
   "outputs": [
    {
     "data": {
      "text/plain": [
       "<matplotlib.collections.PathCollection at 0x7fceab78ef10>"
      ]
     },
     "execution_count": 43,
     "metadata": {},
     "output_type": "execute_result"
    },
    {
     "data": {
      "image/png": "[encoded data removed]",
      "text/plain": [
       "<Figure size 432x288 with 1 Axes>"
      ]
     },
     "metadata": {
      "needs_background": "light"
     },
     "output_type": "display_data"
    }
   ],
   "source": [
    "plt.scatter(Y[:,0],Y[:,1])"
   ]
  },
  {
   "cell_type": "code",
   "execution_count": null,
   "metadata": {},
   "outputs": [],
   "source": []
  },
  {
   "cell_type": "code",
   "execution_count": 44,
   "metadata": {},
   "outputs": [],
   "source": [
    "D = np.zeros([p,p])"
   ]
  },
  {
   "cell_type": "code",
   "execution_count": 45,
   "metadata": {},
   "outputs": [
    {
     "data": {
      "text/plain": [
       "array([[0., 0., 0., ..., 0., 0., 0.],\n",
       "       [0., 0., 0., ..., 0., 0., 0.],\n",
       "       [0., 0., 0., ..., 0., 0., 0.],\n",
       "       ...,\n",
       "       [0., 0., 0., ..., 0., 0., 0.],\n",
       "       [0., 0., 0., ..., 0., 0., 0.],\n",
       "       [0., 0., 0., ..., 0., 0., 0.]])"
      ]
     },
     "execution_count": 45,
     "metadata": {},
     "output_type": "execute_result"
    }
   ],
   "source": [
    "D"
   ]
  },
  {
   "cell_type": "code",
   "execution_count": null,
   "metadata": {},
   "outputs": [],
   "source": []
  },
  {
   "cell_type": "code",
   "execution_count": 46,
   "metadata": {},
   "outputs": [],
   "source": [
    "for i in range(p):\n",
    "    for j in range(i):\n",
    "        D[i,j] = np.sqrt(np.sum((Y[i]-Y[j])**2))\n",
    "        D[j,i] = D[i,j]"
   ]
  },
  {
   "cell_type": "code",
   "execution_count": null,
   "metadata": {},
   "outputs": [],
   "source": []
  },
  {
   "cell_type": "code",
   "execution_count": 47,
   "metadata": {},
   "outputs": [],
   "source": [
    "@jit(nopython=True)\n",
    "def find_min_idx(x):\n",
    "    k = x.argmin()\n",
    "    ncol = x.shape[1]\n",
    "    return int(k/ncol), k%ncol"
   ]
  },
  {
   "cell_type": "code",
   "execution_count": 48,
   "metadata": {},
   "outputs": [],
   "source": [
    "# @jit(nopython=True)\n",
    "def FindMST(A):\n",
    "    \n",
    "\n",
    "    p = A.shape[0]\n",
    "    MST = np.zeros((p,p))\n",
    "\n",
    "    Xl = list()\n",
    "    Vl = list(range(p))\n",
    "    Xl.append(0)\n",
    "    Vl.remove(0)\n",
    "\n",
    "    i = 0\n",
    "    while len(Vl)>0:\n",
    "        idx0, idx1 = find_min_idx(A[Xl][:,Vl])\n",
    "\n",
    "        MST[Xl[idx0],Vl[idx1]]=1\n",
    "\n",
    "        Xl.append(Vl[idx1])\n",
    "        Vl.remove(Vl[idx1])\n",
    "\n",
    "        i+=1\n",
    "    \n",
    "    return MST + MST.T"
   ]
  },
  {
   "cell_type": "code",
   "execution_count": 49,
   "metadata": {},
   "outputs": [
    {
     "data": {
      "text/plain": [
       "(0, 1)"
      ]
     },
     "execution_count": 49,
     "metadata": {},
     "output_type": "execute_result"
    }
   ],
   "source": [
    "find_min_idx(D[1:])"
   ]
  },
  {
   "cell_type": "code",
   "execution_count": 50,
   "metadata": {},
   "outputs": [],
   "source": [
    "MST = FindMST(D)\n",
    "mst0 = MST.copy()"
   ]
  },
  {
   "cell_type": "code",
   "execution_count": 51,
   "metadata": {},
   "outputs": [],
   "source": [
    "def getB(A):\n",
    "    p = A.shape[0]\n",
    "\n",
    "    B = np.zeros([p,p-1])\n",
    "\n",
    "    idx = 0\n",
    "    for i in range(p):\n",
    "        for j in range(i):\n",
    "            if A[i,j]==1:\n",
    "                B[i,idx]=1\n",
    "                B[j,idx]=-1\n",
    "                idx+=1\n",
    "    return B"
   ]
  },
  {
   "cell_type": "code",
   "execution_count": 52,
   "metadata": {},
   "outputs": [],
   "source": [
    "@jit(nopython=True)\n",
    "\n",
    "\n",
    "def getA(B):\n",
    "    A = - B@B.T\n",
    "    np.fill_diagonal(A,0)\n",
    "    return A"
   ]
  },
  {
   "cell_type": "code",
   "execution_count": 53,
   "metadata": {},
   "outputs": [],
   "source": [
    "A = MST\n",
    "B = getB(A)"
   ]
  },
  {
   "cell_type": "code",
   "execution_count": null,
   "metadata": {},
   "outputs": [],
   "source": []
  },
  {
   "cell_type": "code",
   "execution_count": 54,
   "metadata": {},
   "outputs": [],
   "source": [
    "B2Inv = np.linalg.inv(B.T@B)"
   ]
  },
  {
   "cell_type": "code",
   "execution_count": 55,
   "metadata": {},
   "outputs": [
    {
     "data": {
      "text/plain": [
       "array([[ 0.99, -0.98, -0.97, ..., -0.01, -0.02, -0.01],\n",
       "       [-0.98,  1.96,  1.94, ...,  0.02,  0.04,  0.02],\n",
       "       [-0.97,  1.94,  2.91, ...,  0.03,  0.06,  0.03],\n",
       "       ...,\n",
       "       [-0.01,  0.02,  0.03, ...,  0.99, -0.02, -0.01],\n",
       "       [-0.02,  0.04,  0.06, ..., -0.02,  1.96,  0.98],\n",
       "       [-0.01,  0.02,  0.03, ..., -0.01,  0.98,  0.99]])"
      ]
     },
     "execution_count": 55,
     "metadata": {},
     "output_type": "execute_result"
    }
   ],
   "source": [
    "B2Inv"
   ]
  },
  {
   "cell_type": "code",
   "execution_count": 56,
   "metadata": {},
   "outputs": [],
   "source": [
    "\n",
    "full_edge_idx = np.arange(p-1)\n",
    "full_node_idx = np.arange(p)\n",
    "\n",
    "k = 1\n",
    "\n",
    "sel = full_edge_idx==k\n",
    "sel_not = full_edge_idx!=k"
   ]
  },
  {
   "cell_type": "code",
   "execution_count": null,
   "metadata": {},
   "outputs": [],
   "source": []
  },
  {
   "cell_type": "code",
   "execution_count": 57,
   "metadata": {},
   "outputs": [],
   "source": [
    "# def getSubInverse2(B2Inv, k):\n",
    "    \n",
    "#     full_edge_idx = np.arange(p-1)\n",
    "#     full_node_idx = np.arange(p)\n",
    "    \n",
    "#     sel = full_edge_idx==k\n",
    "#     sel_not = full_edge_idx!=k\n",
    "    \n",
    "#     B1 = B[:,sel_not]\n",
    "\n",
    "\n",
    "#     return np.linalg.inv(B1.T@B1)\n",
    "    "
   ]
  },
  {
   "cell_type": "code",
   "execution_count": 58,
   "metadata": {},
   "outputs": [],
   "source": [
    "full_edge_idx = np.arange(p-1)\n",
    "full_node_idx = np.arange(p)"
   ]
  },
  {
   "cell_type": "code",
   "execution_count": 59,
   "metadata": {},
   "outputs": [],
   "source": [
    "@jit(nopython=True)\n",
    "def getSubInverse(B2Inv, k):\n",
    "        \n",
    "    sel = full_edge_idx==k\n",
    "    sel_not = full_edge_idx!=k\n",
    "    \n",
    "    M11 = B2Inv[sel_not,][:,sel_not]\n",
    "    M12 = B2Inv[sel_not,][:,sel]\n",
    "    M22 = B2Inv[sel,][:,sel]\n",
    "\n",
    "    return M11 - M12@M12.T/M22[0,0]    "
   ]
  },
  {
   "cell_type": "code",
   "execution_count": 60,
   "metadata": {},
   "outputs": [],
   "source": [
    "# np.sum((getSubInverse(B2Inv,10) - getSubInverse2(B2Inv,10)  )**2)"
   ]
  },
  {
   "cell_type": "code",
   "execution_count": null,
   "metadata": {},
   "outputs": [],
   "source": []
  },
  {
   "cell_type": "code",
   "execution_count": 61,
   "metadata": {},
   "outputs": [],
   "source": [
    "B2Inv = np.linalg.inv(B.T@B)"
   ]
  },
  {
   "cell_type": "code",
   "execution_count": 62,
   "metadata": {},
   "outputs": [],
   "source": [
    "B_s_star = np.random.normal(0,1,[p,1])"
   ]
  },
  {
   "cell_type": "code",
   "execution_count": null,
   "metadata": {},
   "outputs": [],
   "source": []
  },
  {
   "cell_type": "code",
   "execution_count": null,
   "metadata": {},
   "outputs": [],
   "source": []
  },
  {
   "cell_type": "code",
   "execution_count": 63,
   "metadata": {},
   "outputs": [],
   "source": [
    "s0 = 0.1\n",
    "s1 = 0.5"
   ]
  },
  {
   "cell_type": "code",
   "execution_count": 64,
   "metadata": {},
   "outputs": [],
   "source": [
    "sigma = np.ones(p) * s0\n",
    "\n",
    "slab_indicator = np.random.uniform(0,1,p)<0.1\n",
    "\n",
    "sigma[slab_indicator]= s1\n",
    "\n",
    "w = 0.01"
   ]
  },
  {
   "cell_type": "code",
   "execution_count": 65,
   "metadata": {},
   "outputs": [],
   "source": [
    "@jit(nopython=True)\n",
    "def updateSlab(A,s0,s1, w):\n",
    "\n",
    "    D2A= D**2*A\n",
    "    \n",
    "    slab_indicator = np.zeros(p)\n",
    "    sigma = np.zeros(p)\n",
    "\n",
    "    for i in range(p):\n",
    "        choice0 = -np.sum(D2A[i]/2/s0) - np.sum(A[i])*np.log(s0) + np.log(1-w)\n",
    "        choice1 = -np.sum(D2A[i]/2/s1) - np.sum(A[i])*np.log(s1) + np.log(w)\n",
    "        slab_indicator[i] = np.argmax(np.array([choice0,choice1])+np.random.gumbel(0,1,2))==1\n",
    "        if(slab_indicator[i]):\n",
    "            sigma[i]=s1\n",
    "        else:\n",
    "            sigma[i]=s0\n",
    "\n",
    "    return slab_indicator, sigma"
   ]
  },
  {
   "cell_type": "code",
   "execution_count": 66,
   "metadata": {},
   "outputs": [],
   "source": [
    "@jit(nopython=True)\n",
    "def compLogP(D, sigma):\n",
    "    logP =-(D**2/sigma).T/sigma\n",
    "    logP = (logP - np.log(sigma)).T- np.log(sigma)\n",
    "    return logP"
   ]
  },
  {
   "cell_type": "code",
   "execution_count": null,
   "metadata": {},
   "outputs": [],
   "source": []
  },
  {
   "cell_type": "code",
   "execution_count": 67,
   "metadata": {},
   "outputs": [],
   "source": [
    "@jit(nopython=True)\n",
    "\n",
    "def findRowColIdx(idx,m1,m2):\n",
    "    r = int(idx / m2)\n",
    "    return (r,     idx - r*m2)"
   ]
  },
  {
   "cell_type": "code",
   "execution_count": null,
   "metadata": {},
   "outputs": [],
   "source": []
  },
  {
   "cell_type": "code",
   "execution_count": 68,
   "metadata": {},
   "outputs": [],
   "source": [
    "@jit(nopython=True)\n",
    "\n",
    "def NulSpaceB(B,k):\n",
    "    \n",
    "    full_edge_idx = np.arange(p-1)\n",
    "    full_node_idx = np.arange(p)\n",
    "    \n",
    "    sel = full_edge_idx==k\n",
    "    sel_not = full_edge_idx!=k\n",
    "    B_not_k = B[:,sel_not]\n",
    "    B_k = B[:, sel]\n",
    "\n",
    "    beta_k = (np.eye(p) - B_not_k@np.linalg.inv(B_not_k.T@B_not_k)@B_not_k.T)@B_k\n",
    "    \n",
    "    return beta_k"
   ]
  },
  {
   "cell_type": "code",
   "execution_count": 69,
   "metadata": {},
   "outputs": [],
   "source": [
    "# @jit(nopython=True)\n",
    "\n",
    "def updateB(B, logP):\n",
    "\n",
    "    full_edge_idx = np.arange(p-1)\n",
    "    full_node_idx = np.arange(p)\n",
    "\n",
    "    for k in range(p-1):\n",
    "\n",
    "#         sel = full_edge_idx==k\n",
    "#         sel_not = full_edge_idx!=k\n",
    "#         B_not_k = B[:,sel_not]\n",
    "#         B_k = B[:, sel]\n",
    "\n",
    "#         beta_k = (np.eye(p) - B_not_k@np.linalg.inv(B_not_k.T@B_not_k)@B_not_k.T)@B_k\n",
    "#         beta_k = np.round(beta_k.flatten(),10)\n",
    "# #         beta_k = (beta_k.flatten()*1E8).astype('int')\n",
    "\n",
    "        beta_k = NulSpaceB(B,k)\n",
    "        beta_k = np.round(beta_k.flatten(),10)\n",
    "\n",
    "        unique_values = np.unique(beta_k) #list(set(beta_k))\n",
    "\n",
    "        if len(unique_values)!=2:\n",
    "            print(\"error\")\n",
    "\n",
    "        subgraph0 = beta_k==unique_values[0]\n",
    "        subgraph1 = beta_k==unique_values[1]\n",
    "\n",
    "        subgraph0_node_idx = full_node_idx[subgraph0]\n",
    "        subgraph1_node_idx = full_node_idx[subgraph1]\n",
    "\n",
    "        logp_choices =  logP[subgraph0_node_idx,:][:,subgraph1_node_idx]\n",
    "\n",
    "        m1,m2 = logp_choices.shape\n",
    "        logp_gumbel = logp_choices + np.random.gumbel(0,1, logp_choices.shape)\n",
    "        idx = np.argmax(logp_gumbel)\n",
    "\n",
    "        r_idx, c_idx = findRowColIdx(idx,m1,m2)\n",
    "\n",
    "\n",
    "        new_idx0= subgraph0_node_idx[r_idx]\n",
    "        new_idx1= subgraph1_node_idx[c_idx]\n",
    "\n",
    "        B[:,k] = 0\n",
    "        B[new_idx0,k]=1\n",
    "        B[new_idx1,k]= - 1\n",
    "\n",
    "    return B"
   ]
  },
  {
   "cell_type": "code",
   "execution_count": 70,
   "metadata": {},
   "outputs": [],
   "source": [
    "import copy"
   ]
  },
  {
   "cell_type": "code",
   "execution_count": 71,
   "metadata": {},
   "outputs": [],
   "source": [
    "A_trace = list()"
   ]
  },
  {
   "cell_type": "code",
   "execution_count": 73,
   "metadata": {},
   "outputs": [
    {
     "name": "stdout",
     "output_type": "stream",
     "text": [
      "99\n",
      "199\n",
      "299\n",
      "399\n",
      "499\n",
      "599\n",
      "699\n",
      "799\n",
      "899\n",
      "999\n",
      "Elapsed (with compilation) = 46.33880281448364\n"
     ]
    }
   ],
   "source": [
    "import time\n",
    "start = time.time()\n",
    "\n",
    "\n",
    "\n",
    "\n",
    "for k in range(1000):\n",
    "    \n",
    "    logP =  compLogP(D,sigma)\n",
    "    \n",
    "    slab_indicator, sigma = updateSlab(A,s0,s1,w)\n",
    "    \n",
    "    B = updateB(B,logP)\n",
    "    A = getA(B)\n",
    "\n",
    "    A_trace.append(A.copy())\n",
    "    \n",
    "    if (k+1) % 100==0:\n",
    "        print(k)\n",
    "    \n",
    "#     print(np.abs(A-mst0).sum())\n",
    "\n",
    "\n",
    "end = time.time()\n",
    "print(\"Elapsed (with compilation) = %s\" % (end - start))"
   ]
  },
  {
   "cell_type": "code",
   "execution_count": 74,
   "metadata": {},
   "outputs": [
    {
     "name": "stdout",
     "output_type": "stream",
     "text": [
      "160.0\n"
     ]
    }
   ],
   "source": [
    "print(np.abs(A-mst0).sum())"
   ]
  },
  {
   "cell_type": "code",
   "execution_count": 75,
   "metadata": {},
   "outputs": [],
   "source": [
    "mst_trace_arr = np.array(A_trace)"
   ]
  },
  {
   "cell_type": "code",
   "execution_count": null,
   "metadata": {},
   "outputs": [],
   "source": []
  },
  {
   "cell_type": "code",
   "execution_count": 76,
   "metadata": {},
   "outputs": [],
   "source": [
    "mean_mst = mst_trace_arr.mean(0)"
   ]
  },
  {
   "cell_type": "code",
   "execution_count": null,
   "metadata": {},
   "outputs": [],
   "source": [
    "# plt.plot(mst_trace_arr[:100,96,97])"
   ]
  },
  {
   "cell_type": "code",
   "execution_count": 77,
   "metadata": {},
   "outputs": [
    {
     "data": {
      "text/plain": [
       "<matplotlib.colorbar.Colorbar at 0x7fce8fa19350>"
      ]
     },
     "execution_count": 77,
     "metadata": {},
     "output_type": "execute_result"
    },
    {
     "data": {
      "image/png": "[encoded data removed]",
      "text/plain": [
       "<Figure size 432x288 with 2 Axes>"
      ]
     },
     "metadata": {
      "needs_background": "light"
     },
     "output_type": "display_data"
    }
   ],
   "source": [
    "plt.imshow(mean_mst, vmin=0,cmap='jet')\n",
    "plt.colorbar()"
   ]
  },
  {
   "cell_type": "code",
   "execution_count": null,
   "metadata": {
    "scrolled": true
   },
   "outputs": [],
   "source": [
    "import igraph"
   ]
  },
  {
   "cell_type": "code",
   "execution_count": null,
   "metadata": {},
   "outputs": [],
   "source": [
    "from pylab import rcParams\n",
    "rcParams['figure.figsize'] = 10, 8\n",
    "rcParams['figure.dpi'] = 300"
   ]
  },
  {
   "cell_type": "code",
   "execution_count": null,
   "metadata": {},
   "outputs": [],
   "source": [
    "c_vec = ['lightblue']*50\n",
    "# c_vec[3] = 'red'\n",
    "# c_vec[2] = 'yellow'\n",
    "# c_vec[4] = 'purple'\n"
   ]
  },
  {
   "cell_type": "code",
   "execution_count": null,
   "metadata": {},
   "outputs": [],
   "source": [
    "a= mst_trace_arr[200]\n",
    "np.fill_diagonal(a,0)\n",
    "a= a.round()\n",
    "\n",
    "g = igraph.Graph.Adjacency((a > 0).tolist())\n",
    "g.to_undirected()\n",
    "\n",
    "layout = zip(list(-Y[:,0]), list(Y[:,1])) \n",
    "out =  igraph.plot(g, layout = layout, vertex_color = c_vec)\n",
    "\n",
    "# out.save('2moon_tree1.png')\n"
   ]
  },
  {
   "cell_type": "code",
   "execution_count": null,
   "metadata": {},
   "outputs": [],
   "source": [
    "# a= mst0\n",
    "# np.fill_diagonal(a,0)\n",
    "# a= a.round()\n",
    "\n",
    "# g = igraph.Graph.Adjacency((a > 0).tolist())\n",
    "# g.to_undirected()\n",
    "\n",
    "# layout = zip(list(Y[:,0]), list(Y[:,1])) \n",
    "# igraph.plot(g, layout = layout)"
   ]
  },
  {
   "cell_type": "code",
   "execution_count": null,
   "metadata": {},
   "outputs": [],
   "source": [
    "D= (np.sum(A,0))"
   ]
  },
  {
   "cell_type": "code",
   "execution_count": null,
   "metadata": {},
   "outputs": [],
   "source": [
    "B.shape"
   ]
  },
  {
   "cell_type": "code",
   "execution_count": null,
   "metadata": {},
   "outputs": [],
   "source": [
    "p"
   ]
  },
  {
   "cell_type": "code",
   "execution_count": null,
   "metadata": {},
   "outputs": [],
   "source": [
    "s = np.arange(p)+1."
   ]
  },
  {
   "cell_type": "code",
   "execution_count": null,
   "metadata": {},
   "outputs": [],
   "source": [
    "(np.abs(B.T)@ (np.log(s))) "
   ]
  },
  {
   "cell_type": "code",
   "execution_count": null,
   "metadata": {},
   "outputs": [],
   "source": [
    "B1 = B.copy()"
   ]
  },
  {
   "cell_type": "code",
   "execution_count": null,
   "metadata": {},
   "outputs": [],
   "source": [
    "full_edge_idx = np.arange(p-1)\n",
    "full_node_idx = np.arange(p)\n",
    "k=2    \n",
    "beta_k = NulSpaceB(B,k)\n",
    "beta_k = np.round(beta_k.flatten(),10)\n",
    "\n",
    "unique_values = np.unique(beta_k) #list(set(beta_k))\n",
    "\n",
    "# if len(unique_values)!=2:\n",
    "# print(\"error\")\n",
    "\n",
    "subgraph0 = beta_k==unique_values[0]\n",
    "subgraph1 = beta_k==unique_values[1]\n",
    "\n",
    "subgraph0_node_idx = full_node_idx[subgraph0]\n",
    "subgraph1_node_idx = full_node_idx[subgraph1]\n",
    "\n",
    "logp_choices =  logP[subgraph0_node_idx,:][:,subgraph1_node_idx]\n",
    "\n",
    "m1,m2 = logp_choices.shape\n",
    "logp_gumbel = logp_choices + np.random.gumbel(0,1, logp_choices.shape)\n",
    "idx = np.argmax(logp_gumbel)\n",
    "\n",
    "r_idx, c_idx = findRowColIdx(idx,m1,m2)\n",
    "\n",
    "\n",
    "new_idx0= subgraph0_node_idx[r_idx]\n",
    "new_idx1= subgraph1_node_idx[c_idx]\n",
    "\n",
    "B[:,k] = 0\n",
    "B[new_idx0,k]=1\n",
    "B[new_idx1,k]= - 1"
   ]
  },
  {
   "cell_type": "code",
   "execution_count": null,
   "metadata": {},
   "outputs": [],
   "source": [
    "full_inv = np.linalg.inv(B.T@B)"
   ]
  },
  {
   "cell_type": "code",
   "execution_count": null,
   "metadata": {},
   "outputs": [],
   "source": [
    "full_edge_idx = np.arange(p-1)\n",
    "full_node_idx = np.arange(p)\n",
    "\n",
    "sel = full_edge_idx==k\n",
    "sel_not = full_edge_idx!=k\n",
    "B_not_k = B[:,sel_not]\n",
    "B_k = B[:, sel]\n"
   ]
  },
  {
   "cell_type": "code",
   "execution_count": null,
   "metadata": {},
   "outputs": [],
   "source": []
  },
  {
   "cell_type": "code",
   "execution_count": null,
   "metadata": {},
   "outputs": [],
   "source": [
    "a_star =full_inv[sel_not,:][:,sel_not]\n",
    "b_star =full_inv[sel_not,][:,sel]\n",
    "d_star =full_inv[sel,sel]"
   ]
  },
  {
   "cell_type": "code",
   "execution_count": null,
   "metadata": {},
   "outputs": [],
   "source": [
    "a_partial_inv = a_star - b_star/d_star @b_star.T"
   ]
  },
  {
   "cell_type": "code",
   "execution_count": null,
   "metadata": {},
   "outputs": [],
   "source": [
    "# np.linalg.inv(B_not_k.T@B_not_k) - a_partial_inv"
   ]
  },
  {
   "cell_type": "code",
   "execution_count": null,
   "metadata": {},
   "outputs": [],
   "source": [
    "d = B-B1\n",
    "delta = (B1.T@d + d.T@B1 + d.T@d)"
   ]
  },
  {
   "cell_type": "code",
   "execution_count": null,
   "metadata": {},
   "outputs": [],
   "source": [
    "M_inv_exact = np.linalg.inv(B.T@B)"
   ]
  },
  {
   "cell_type": "code",
   "execution_count": null,
   "metadata": {},
   "outputs": [],
   "source": [
    "M_inv = np.linalg.inv(B1.T@B1)"
   ]
  },
  {
   "cell_type": "code",
   "execution_count": null,
   "metadata": {},
   "outputs": [],
   "source": [
    "approx_res = M_inv - M_inv@delta@M_inv"
   ]
  },
  {
   "cell_type": "code",
   "execution_count": null,
   "metadata": {},
   "outputs": [],
   "source": [
    "np.linalg.eig(M_inv@delta)"
   ]
  },
  {
   "cell_type": "code",
   "execution_count": null,
   "metadata": {},
   "outputs": [],
   "source": [
    "d[:,2]"
   ]
  },
  {
   "cell_type": "code",
   "execution_count": null,
   "metadata": {},
   "outputs": [],
   "source": [
    "(M_inv_exact - M_inv)[3]"
   ]
  },
  {
   "cell_type": "code",
   "execution_count": null,
   "metadata": {},
   "outputs": [],
   "source": [
    "M_inv_exact"
   ]
  },
  {
   "cell_type": "code",
   "execution_count": null,
   "metadata": {},
   "outputs": [],
   "source": [
    "M_inv"
   ]
  }
 ],
 "metadata": {
  "colab": {
   "name": "SamplingGaussianMixture.ipynb",
   "provenance": [],
   "version": "0.3.2"
  },
  "kernelspec": {
   "display_name": "Python 3",
   "language": "python",
   "name": "python3"
  },
  "language_info": {
   "codemirror_mode": {
    "name": "ipython",
    "version": 3
   },
   "file_extension": ".py",
   "mimetype": "text/x-python",
   "name": "python",
   "nbconvert_exporter": "python",
   "pygments_lexer": "ipython3",
   "version": "3.7.9"
  }
 },
 "nbformat": 4,
 "nbformat_minor": 4
}
