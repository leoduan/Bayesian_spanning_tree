{
 "cells": [
  {
   "cell_type": "code",
   "execution_count": 357,
   "metadata": {
    "colab": {},
    "colab_type": "code",
    "id": "9_Z5moYIXkn5"
   },
   "outputs": [],
   "source": [
    "import numpy as np\n",
    "import matplotlib.pyplot as plt\n",
    "%matplotlib inline\n",
    "\n",
    "# from pylab import rcParams\n",
    "# rcParams['figure.figsize'] = 10, 8\n",
    "# rcParams['figure.dpi'] = 300\n",
    "\n",
    "\n",
    "from sklearn import cluster, datasets, mixture\n",
    "from sklearn.preprocessing import StandardScaler"
   ]
  },
  {
   "cell_type": "code",
   "execution_count": null,
   "metadata": {},
   "outputs": [],
   "source": []
  },
  {
   "cell_type": "code",
   "execution_count": null,
   "metadata": {},
   "outputs": [],
   "source": []
  },
  {
   "cell_type": "code",
   "execution_count": null,
   "metadata": {},
   "outputs": [],
   "source": []
  },
  {
   "cell_type": "code",
   "execution_count": 358,
   "metadata": {},
   "outputs": [],
   "source": [
    "import sklearn\n",
    "Y = sklearn.datasets.make_moons(n_samples=50, shuffle=True, noise=None, random_state=None)[0]\n",
    "Y = Y[np.argsort(Y[:,0]),]\n",
    "Y += np.random.normal(0,0.05, Y.shape)"
   ]
  },
  {
   "cell_type": "code",
   "execution_count": null,
   "metadata": {},
   "outputs": [],
   "source": []
  },
  {
   "cell_type": "code",
   "execution_count": 359,
   "metadata": {},
   "outputs": [],
   "source": [
    "p = Y.shape[0]\n",
    "n = Y.shape[1]"
   ]
  },
  {
   "cell_type": "code",
   "execution_count": null,
   "metadata": {},
   "outputs": [],
   "source": []
  },
  {
   "cell_type": "code",
   "execution_count": null,
   "metadata": {},
   "outputs": [],
   "source": []
  },
  {
   "cell_type": "code",
   "execution_count": 360,
   "metadata": {},
   "outputs": [],
   "source": [
    "def find_min_idx(x):\n",
    "    k = x.argmin()\n",
    "    ncol = x.shape[1]\n",
    "    return int(k/ncol), k%ncol"
   ]
  },
  {
   "cell_type": "code",
   "execution_count": 361,
   "metadata": {},
   "outputs": [],
   "source": [
    "def FindMST(A):\n",
    "\n",
    "    p = A.shape[0]\n",
    "    MST = np.zeros([p,p])\n",
    "\n",
    "    Xl = list()\n",
    "    Vl = list(range(p))\n",
    "    Xl.append(0)\n",
    "    Vl.remove(0)\n",
    "\n",
    "    i = 0\n",
    "    while len(Vl)>0:\n",
    "        idx0, idx1 = find_min_idx(A[Xl][:,Vl])\n",
    "\n",
    "        MST[Xl[idx0],Vl[idx1]]=1\n",
    "\n",
    "        Xl.append(Vl[idx1])\n",
    "        Vl.remove(Vl[idx1])\n",
    "\n",
    "        i+=1\n",
    "    \n",
    "    return MST + MST.T"
   ]
  },
  {
   "cell_type": "code",
   "execution_count": null,
   "metadata": {},
   "outputs": [],
   "source": []
  },
  {
   "cell_type": "code",
   "execution_count": 362,
   "metadata": {},
   "outputs": [],
   "source": [
    "D = np.zeros([p,p])\n",
    "for i in range(p):\n",
    "    for j in range(i):\n",
    "        D[i,j] = np.sqrt(np.sum((Y[i]-Y[j])**2))\n",
    "        D[j,i] = D[i,j]"
   ]
  },
  {
   "cell_type": "code",
   "execution_count": null,
   "metadata": {},
   "outputs": [],
   "source": []
  },
  {
   "cell_type": "code",
   "execution_count": 363,
   "metadata": {},
   "outputs": [],
   "source": [
    "MST = FindMST(D)\n",
    "mst0 = MST.copy()"
   ]
  },
  {
   "cell_type": "code",
   "execution_count": null,
   "metadata": {},
   "outputs": [],
   "source": []
  },
  {
   "cell_type": "code",
   "execution_count": 364,
   "metadata": {},
   "outputs": [],
   "source": [
    "def getB(A):\n",
    "    p = A.shape[0]\n",
    "\n",
    "    B = np.zeros([p,p-1])\n",
    "\n",
    "    idx = 0\n",
    "    for i in range(p):\n",
    "        for j in range(i):\n",
    "            if A[i,j]==1:\n",
    "                B[i,idx]=1\n",
    "                B[j,idx]=-1\n",
    "                idx+=1\n",
    "    return B"
   ]
  },
  {
   "cell_type": "code",
   "execution_count": 365,
   "metadata": {},
   "outputs": [],
   "source": [
    "def getA(B):\n",
    "    A = - B@B.T\n",
    "    np.fill_diagonal(A,0)\n",
    "    return A"
   ]
  },
  {
   "cell_type": "code",
   "execution_count": 366,
   "metadata": {},
   "outputs": [],
   "source": [
    "A = MST\n",
    "B = getB(A)"
   ]
  },
  {
   "cell_type": "code",
   "execution_count": null,
   "metadata": {},
   "outputs": [],
   "source": []
  },
  {
   "cell_type": "code",
   "execution_count": 434,
   "metadata": {},
   "outputs": [],
   "source": [
    "Y =  np.random.normal(0,0.01, [p,2])"
   ]
  },
  {
   "cell_type": "code",
   "execution_count": 435,
   "metadata": {},
   "outputs": [],
   "source": [
    "dist = np.zeros([p,p])\n",
    "for i in range(p):\n",
    "    for j in range(i):\n",
    "        dist[i,j]=dist[j,i] = np.sqrt(np.sum((Y[i]-Y[j])**2))"
   ]
  },
  {
   "cell_type": "code",
   "execution_count": 436,
   "metadata": {},
   "outputs": [],
   "source": [
    "alpha= np.ones(p)"
   ]
  },
  {
   "cell_type": "code",
   "execution_count": 437,
   "metadata": {},
   "outputs": [],
   "source": [
    "alpha = 0.9"
   ]
  },
  {
   "cell_type": "code",
   "execution_count": null,
   "metadata": {},
   "outputs": [],
   "source": []
  },
  {
   "cell_type": "code",
   "execution_count": 411,
   "metadata": {},
   "outputs": [],
   "source": [
    "visual_style = {}\n",
    "visual_style[\"vertex_size\"] = 20\n",
    "# visual_style[\"vertex_color\"] = [color_dict[gender] for gender in g.vs[\"gender\"]]\n",
    "# visual_style[\"vertex_label\"] = g.vs[\"name\"]\n",
    "# visual_style[\"edge_width\"] = [1 + 2 * int(is_formal) for is_formal in g.es[\"is_formal\"]]\n",
    "# >>> visual_style[\"layout\"] = layout\n",
    "visual_style[\"bbox\"] = (300, 300)\n",
    "visual_style[\"margin\"] = 20"
   ]
  },
  {
   "cell_type": "code",
   "execution_count": 412,
   "metadata": {},
   "outputs": [],
   "source": [
    "subset = np.arange(p)"
   ]
  },
  {
   "cell_type": "code",
   "execution_count": 460,
   "metadata": {},
   "outputs": [],
   "source": [
    "D = np.ones(p)\n",
    "\n",
    "alpha = 0.9999\n",
    "\n",
    "for k in range(1000):\n",
    "    phi = np.random.gamma(1-alpha,1/D,p)\n",
    "    phi = np.expand_dims(phi,0)\n",
    "\n",
    "    Adj0 = phi.T+ phi\n",
    "    Adj0 += dist\n",
    "    \n",
    "    np.fill_diagonal(Adj0,0)\n",
    "\n",
    "    A = FindMST(Adj0)\n",
    "    D = A.sum(0)\n",
    "\n",
    "D\n",
    "\n",
    "\n",
    "\n",
    "import igraph\n",
    "\n",
    "from pylab import rcParams\n",
    "rcParams['figure.figsize'] = 10, 8\n",
    "rcParams['figure.dpi'] = 300\n",
    "# A= A[subset][:,subset]\n",
    "\n",
    "a =  A\n",
    "np.fill_diagonal(a,0)\n",
    "a= a.round()\n",
    "\n",
    "g = igraph.Graph.Adjacency((a > 0).tolist())\n",
    "g.to_undirected()\n",
    "\n",
    "layout = zip(list(-Y[subset,0]), list(Y[subset,1])) \n",
    "out =  igraph.plot(g, layout = layout, vertex_color = \"skyblue\",edge_color =\"darkgrey\",vertex_size=35,edge_width=8)\n",
    "\n",
    "out\n",
    "out.save('tree_prior_alpha1.png')\n"
   ]
  },
  {
   "cell_type": "code",
   "execution_count": null,
   "metadata": {},
   "outputs": [],
   "source": []
  },
  {
   "cell_type": "code",
   "execution_count": 459,
   "metadata": {},
   "outputs": [],
   "source": [
    "D = np.ones(p)\n",
    "\n",
    "alpha = 0.1\n",
    "\n",
    "for k in range(1000):\n",
    "    phi = np.random.gamma(1-alpha,1/D,p)\n",
    "    phi = np.expand_dims(phi,0)\n",
    "\n",
    "    Adj0 = phi.T+ phi\n",
    "    Adj0 += dist\n",
    "    \n",
    "    np.fill_diagonal(Adj0,0)\n",
    "\n",
    "    A = FindMST(Adj0)\n",
    "    D = A.sum(0)\n",
    "\n",
    "D\n",
    "\n",
    "\n",
    "\n",
    "\n",
    "\n",
    "import igraph\n",
    "\n",
    "from pylab import rcParams\n",
    "rcParams['figure.figsize'] = 10, 8\n",
    "rcParams['figure.dpi'] = 300\n",
    "\n",
    "A= A[subset][:,subset]\n",
    "\n",
    "a =  A\n",
    "np.fill_diagonal(a,0)\n",
    "a= a.round()\n",
    "\n",
    "g = igraph.Graph.Adjacency((a > 0).tolist())\n",
    "g.to_undirected()\n",
    "\n",
    "layout = zip(list(-Y[subset,0]), list(Y[subset,1])) \n",
    "out =  igraph.plot(g, layout = layout, vertex_color = \"skyblue\",edge_color =\"darkgrey\",vertex_size=35,edge_width=8)\n",
    "\n",
    "out\n",
    "out.save('tree_prior_alpha2.png')\n",
    "# out"
   ]
  },
  {
   "cell_type": "code",
   "execution_count": null,
   "metadata": {},
   "outputs": [],
   "source": []
  },
  {
   "cell_type": "code",
   "execution_count": 457,
   "metadata": {},
   "outputs": [],
   "source": [
    "# Y =  np.random.normal(0,0.01, [p,2])\n",
    "dist = np.zeros([p,p])\n",
    "for i in range(p):\n",
    "    for j in range(i):\n",
    "        dist[i,j]=dist[j,i] = np.sqrt(np.sum((Y[i]-Y[j])**2))\n",
    "        \n",
    "D = np.ones(p)\n",
    "\n",
    "for i in range(p):\n",
    "    for j in range(p):\n",
    "        Adj0[i,j] = np.exp( np.abs(i-j)/p)\n",
    "\n",
    "A = FindMST(Adj0)\n",
    "\n",
    "\n",
    "\n",
    "Adj0= dist\n",
    "np.fill_diagonal(Adj0, 1000)\n",
    "\n",
    "Y[:,0].argmin()\n",
    "\n",
    "idx= np.arange(p)\n",
    "\n",
    "# subset = idx[idx!=12]\n",
    "\n",
    "i=2\n",
    "\n",
    "A = np.zeros([p,p])\n",
    "v_taken=list([i])\n",
    "\n",
    "while len(v_taken)<p:\n",
    "    j_choice = np.argsort(Adj0[i])\n",
    "    for j in j_choice:\n",
    "        if not j in v_taken:\n",
    "            v_taken.append(j)\n",
    "            A[i,j]=A[j,i]=1\n",
    "            break\n",
    "    i=j\n",
    "\n",
    "A.sum(0)\n",
    "A= A[subset][:,subset]\n",
    "\n",
    "\n",
    "a =  A\n",
    "np.fill_diagonal(a,0)\n",
    "a= a.round()\n",
    "\n",
    "g = igraph.Graph.Adjacency((a > 0).tolist())\n",
    "g.to_undirected()\n",
    "\n",
    "layout = zip(list(-Y[subset,0]), list(Y[subset,1])) \n",
    "out =  igraph.plot(g, layout = layout, vertex_color = \"skyblue\",edge_color =\"darkgrey\",vertex_size=30,edge_width=8)\n",
    "\n",
    "out\n",
    "out.save('tree_prior_alpha3.png')\n"
   ]
  },
  {
   "cell_type": "code",
   "execution_count": 376,
   "metadata": {},
   "outputs": [],
   "source": [
    "subset = idx[idx!=31]"
   ]
  },
  {
   "cell_type": "code",
   "execution_count": 377,
   "metadata": {},
   "outputs": [
    {
     "ename": "IndexError",
     "evalue": "index 49 is out of bounds for axis 0 with size 49",
     "output_type": "error",
     "traceback": [
      "\u001b[0;31m---------------------------------------------------------------------------\u001b[0m",
      "\u001b[0;31mIndexError\u001b[0m                                Traceback (most recent call last)",
      "\u001b[0;32m<ipython-input-377-e7cadfc1111f>\u001b[0m in \u001b[0;36m<module>\u001b[0;34m\u001b[0m\n\u001b[0;32m----> 1\u001b[0;31m \u001b[0mA\u001b[0m\u001b[0;34m[\u001b[0m\u001b[0msubset\u001b[0m\u001b[0;34m]\u001b[0m\u001b[0;34m\u001b[0m\u001b[0;34m\u001b[0m\u001b[0m\n\u001b[0m",
      "\u001b[0;31mIndexError\u001b[0m: index 49 is out of bounds for axis 0 with size 49"
     ]
    }
   ],
   "source": [
    "A[subset]"
   ]
  }
 ],
 "metadata": {
  "colab": {
   "name": "SamplingGaussianMixture.ipynb",
   "provenance": [],
   "version": "0.3.2"
  },
  "kernelspec": {
   "display_name": "Python 3",
   "language": "python",
   "name": "python3"
  },
  "language_info": {
   "codemirror_mode": {
    "name": "ipython",
    "version": 3
   },
   "file_extension": ".py",
   "mimetype": "text/x-python",
   "name": "python",
   "nbconvert_exporter": "python",
   "pygments_lexer": "ipython3",
   "version": "3.7.7"
  }
 },
 "nbformat": 4,
 "nbformat_minor": 4
}
